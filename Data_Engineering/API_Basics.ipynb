{
 "cells": [
  {
   "cell_type": "markdown",
   "id": "ca9eb48c",
   "metadata": {},
   "source": [
    "# API Basics"
   ]
  },
  {
   "cell_type": "markdown",
   "id": "e3d3d55f",
   "metadata": {},
   "source": [
    "Types of API include:\n",
    " * SOAP API's\n",
    " * RPC API's\n",
    " * Websocket API's\n",
    " * REST API's"
   ]
  },
  {
   "cell_type": "markdown",
   "id": "6b4adfd5",
   "metadata": {},
   "source": [
    "## What is a Restful API"
   ]
  },
  {
   "cell_type": "markdown",
   "id": "e90cf923",
   "metadata": {},
   "source": [
    "* Representation and data flow\n",
    "-- How exactly is the data stored (JSON, XML)\n",
    "* Messages\n",
    "* Statelessness\n",
    "* Support Caching"
   ]
  },
  {
   "cell_type": "code",
   "execution_count": 16,
   "id": "f6b8f8e6",
   "metadata": {},
   "outputs": [
    {
     "name": "stdout",
     "output_type": "stream",
     "text": [
      "{'status': 200, 'result': {'postcode': 'BB10 2DE', 'quality': 1, 'eastings': 385703, 'northings': 434924, 'country': 'England', 'nhs_ha': 'North West', 'longitude': -2.2186, 'latitude': 53.810405, 'european_electoral_region': 'North West', 'primary_care_trust': 'East Lancashire Teaching', 'region': 'North West', 'lsoa': 'Burnley 001E', 'msoa': 'Burnley 001', 'incode': '2DE', 'outcode': 'BB10', 'parliamentary_constituency': 'Burnley', 'admin_district': 'Burnley', 'parish': 'Burnley, unparished area', 'admin_county': 'Lancashire', 'date_of_introduction': '198001', 'admin_ward': 'Lanehead', 'ced': 'Burnley North East', 'ccg': 'NHS Lancashire and South Cumbria', 'nuts': 'East Lancashire', 'pfa': 'Lancashire', 'codes': {'admin_district': 'E07000117', 'admin_county': 'E10000017', 'admin_ward': 'E05005159', 'parish': 'E43000093', 'parliamentary_constituency': 'E14000609', 'ccg': 'E38000050', 'ccg_id': '01A', 'ced': 'E58000757', 'nuts': 'TLD46', 'lsoa': 'E01024892', 'msoa': 'E02005176', 'lau2': 'E07000117', 'pfa': 'E23000003'}}}\n"
     ]
    }
   ],
   "source": [
    "import requests\n",
    "\n",
    "post_codes_req = requests.get(\"https://api.postcodes.io/postcodes/bb102de\")\n",
    "\n",
    "# print(post_codes_req.headers)\n",
    "\n",
    "print(post_codes_req.content) # Returns byte-stream, which needs to be decoded in some way\n",
    "\n",
    "print(post_codes_req.decode('utf-8')) # This decodes the byte-stream to a unicode string\n",
    "print(post_codes_req.json()) # This decodes the byte steam in a json format dictionary"
   ]
  },
  {
   "cell_type": "code",
   "execution_count": 17,
   "id": "269d9b27",
   "metadata": {},
   "outputs": [
    {
     "name": "stdout",
     "output_type": "stream",
     "text": [
      "{'status': 200, 'result': [{'query': 'PR3 0SG', 'result': {'postcode': 'PR3 0SG', 'quality': 1, 'eastings': 351012, 'northings': 440302, 'country': 'England', 'nhs_ha': 'North West', 'longitude': -2.746251, 'latitude': 53.856635, 'european_electoral_region': 'North West', 'primary_care_trust': 'North Lancashire Teaching', 'region': 'North West', 'lsoa': 'Wyre 006A', 'msoa': 'Wyre 006', 'incode': '0SG', 'outcode': 'PR3', 'parliamentary_constituency': 'Wyre and Preston North', 'admin_district': 'Wyre', 'parish': 'Myerscough and Bilsborrow', 'admin_county': 'Lancashire', 'date_of_introduction': '200705', 'admin_ward': 'Brock with Catterall', 'ced': 'Wyre Rural East', 'ccg': 'NHS Lancashire and South Cumbria', 'nuts': 'Lancaster and Wyre', 'pfa': 'Lancashire', 'codes': {'admin_district': 'E07000128', 'admin_county': 'E10000017', 'admin_ward': 'E05009934', 'parish': 'E04005340', 'parliamentary_constituency': 'E14001057', 'ccg': 'E38000226', 'ccg_id': '02M', 'ced': 'E58000832', 'nuts': 'TLD44', 'lsoa': 'E01025547', 'msoa': 'E02005324', 'lau2': 'E07000128', 'pfa': 'E23000003'}}}, {'query': 'M45 6GN', 'result': {'postcode': 'M45 6GN', 'quality': 1, 'eastings': 380402, 'northings': 406021, 'country': 'England', 'nhs_ha': 'North West', 'longitude': -2.297262, 'latitude': 53.550467, 'european_electoral_region': 'North West', 'primary_care_trust': 'Bury', 'region': 'North West', 'lsoa': 'Bury 019C', 'msoa': 'Bury 019', 'incode': '6GN', 'outcode': 'M45', 'parliamentary_constituency': 'Bury South', 'admin_district': 'Bury', 'parish': 'Bury, unparished area', 'admin_county': None, 'date_of_introduction': '199405', 'admin_ward': 'Pilkington Park', 'ced': None, 'ccg': 'NHS Greater Manchester', 'nuts': 'Greater Manchester North East', 'pfa': 'Greater Manchester', 'codes': {'admin_district': 'E08000002', 'admin_county': 'E99999999', 'admin_ward': 'E05014159', 'parish': 'E43000156', 'parliamentary_constituency': 'E14000612', 'ccg': 'E38000024', 'ccg_id': '00V', 'ced': 'E99999999', 'nuts': 'TLD37', 'lsoa': 'E01004989', 'msoa': 'E02001037', 'lau2': 'E08000002', 'pfa': 'E23000005'}}}, {'query': 'BB10 2DE', 'result': {'postcode': 'BB10 2DE', 'quality': 1, 'eastings': 385703, 'northings': 434924, 'country': 'England', 'nhs_ha': 'North West', 'longitude': -2.2186, 'latitude': 53.810405, 'european_electoral_region': 'North West', 'primary_care_trust': 'East Lancashire Teaching', 'region': 'North West', 'lsoa': 'Burnley 001E', 'msoa': 'Burnley 001', 'incode': '2DE', 'outcode': 'BB10', 'parliamentary_constituency': 'Burnley', 'admin_district': 'Burnley', 'parish': 'Burnley, unparished area', 'admin_county': 'Lancashire', 'date_of_introduction': '198001', 'admin_ward': 'Lanehead', 'ced': 'Burnley North East', 'ccg': 'NHS Lancashire and South Cumbria', 'nuts': 'East Lancashire', 'pfa': 'Lancashire', 'codes': {'admin_district': 'E07000117', 'admin_county': 'E10000017', 'admin_ward': 'E05005159', 'parish': 'E43000093', 'parliamentary_constituency': 'E14000609', 'ccg': 'E38000050', 'ccg_id': '01A', 'ced': 'E58000757', 'nuts': 'TLD46', 'lsoa': 'E01024892', 'msoa': 'E02005176', 'lau2': 'E07000117', 'pfa': 'E23000003'}}}]}\n"
     ]
    }
   ],
   "source": [
    "import json\n",
    "\n",
    "json_body = json.dumps({\"postcodes\": [\"PR3 0SG\", \"M45 6GN\", \"BB10 2DE\"]})\n",
    "headers = {\"Content-Type\": \"application/json\"} # Used so that it knows what to send.\n",
    "post_multi_req = requests.post(\"https://api.postcodes.io/postcodes\",\n",
    "                               headers=headers,data=json_body)\n",
    "print(post_multi_req.json())"
   ]
  },
  {
   "cell_type": "markdown",
   "id": "1151010d",
   "metadata": {},
   "source": [
    "# Pokemon API"
   ]
  },
  {
   "cell_type": "code",
   "execution_count": 19,
   "id": "768a3b5b",
   "metadata": {
    "scrolled": true
   },
   "outputs": [
    {
     "name": "stdout",
     "output_type": "stream",
     "text": [
      "200\n"
     ]
    }
   ],
   "source": [
    "pokemon_req = requests.get('https://pokeapi.co/api/v2/pokemon/ditto')\n",
    "\n",
    "print(pokemon_req.status_code)"
   ]
  },
  {
   "cell_type": "code",
   "execution_count": 21,
   "id": "9049a3a9",
   "metadata": {},
   "outputs": [
    {
     "name": "stdout",
     "output_type": "stream",
     "text": [
      "vibrava\n"
     ]
    }
   ],
   "source": [
    "import random\n",
    "\n",
    "response = requests.get('https://pokeapi.co/api/v2/pokemon/?limit=1118')\n",
    "data = response.json()\n",
    "\n",
    "random_pokemon = random.choice(data[\"results\"])\n",
    "\n",
    "response = requests.get(random_pokemon[\"url\"])\n",
    "data = response.json()\n",
    "\n",
    "name = data['name']\n",
    "print(name)\n",
    "\n",
    "\n"
   ]
  },
  {
   "cell_type": "code",
   "execution_count": null,
   "id": "463ef0ac",
   "metadata": {},
   "outputs": [],
   "source": [
    "One player mode\n",
    "\n",
    "- User get a pokemon (Pick one i.e type one in)\n",
    "- that pokemon \"fights\" a random pokemon selected by your program\n",
    "\n",
    "Two player mode\n",
    "\n",
    "- Two users get a pokemon each\n",
    "- both pokemon \"fight\" each other"
   ]
  },
  {
   "cell_type": "code",
   "execution_count": null,
   "id": "4ebbe440",
   "metadata": {},
   "outputs": [],
   "source": []
  }
 ],
 "metadata": {
  "kernelspec": {
   "display_name": "Python 3 (ipykernel)",
   "language": "python",
   "name": "python3"
  },
  "language_info": {
   "codemirror_mode": {
    "name": "ipython",
    "version": 3
   },
   "file_extension": ".py",
   "mimetype": "text/x-python",
   "name": "python",
   "nbconvert_exporter": "python",
   "pygments_lexer": "ipython3",
   "version": "3.9.6"
  }
 },
 "nbformat": 4,
 "nbformat_minor": 5
}
