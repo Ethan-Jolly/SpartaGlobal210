{
 "cells": [
  {
   "attachments": {},
   "cell_type": "markdown",
   "metadata": {},
   "source": [
    "# Reading from a file"
   ]
  },
  {
   "cell_type": "code",
   "execution_count": 3,
   "metadata": {},
   "outputs": [],
   "source": [
    "filename = 'sample.txt'\n",
    "file = open(filename)\n",
    "text = file.read()\n",
    "\n",
    "# This is not the best practice\n",
    "file.close()"
   ]
  },
  {
   "cell_type": "code",
   "execution_count": 4,
   "metadata": {},
   "outputs": [
    {
     "name": "stdout",
     "output_type": "stream",
     "text": [
      "\"The two most important days in your life are the day you are born and the day you find out why.\" â€“ Mark Twain.\n",
      "\n",
      "To the mind that is still, the whole universe surrenders. - Lao Tzu\n",
      "\n",
      "Be curious, not judgmental.   Walt Whitman\n"
     ]
    }
   ],
   "source": [
    "print(text)"
   ]
  },
  {
   "cell_type": "code",
   "execution_count": 9,
   "metadata": {},
   "outputs": [
    {
     "name": "stdout",
     "output_type": "stream",
     "text": [
      "\"The two most important days in your life are the day you are born and the day you find out why.\" â€“ Mark Twain.\n",
      "\n",
      "To the mind that is still, the whole universe surrenders. - Lao Tzu\n",
      "\n",
      "Be curious, not judgmental.   Walt Whitman\n"
     ]
    }
   ],
   "source": [
    "with open(filename) as f:\n",
    "    txt = f.read()\n",
    "print(txt)\n",
    "# This is better practice as it automatically closes the file after using it."
   ]
  },
  {
   "attachments": {},
   "cell_type": "markdown",
   "metadata": {},
   "source": [
    "# Try / Exception Block"
   ]
  },
  {
   "cell_type": "code",
   "execution_count": 11,
   "metadata": {},
   "outputs": [
    {
     "name": "stdout",
     "output_type": "stream",
     "text": [
      "[Errno 2] No such file or directory: 'sample1.txt'\n"
     ]
    }
   ],
   "source": [
    "filename = 'sample1.txt'\n",
    "try:\n",
    "    with open(filename) as f:\n",
    "        txt = f.read()\n",
    "except FileNotFoundError as e:\n",
    "    # You can save this information to log files\n",
    "    print(f'{e}')\n",
    "except TypeError as e2:\n",
    "    print(f'e2')\n",
    "except:\n",
    "    print(f'An error occured.')"
   ]
  }
 ],
 "metadata": {
  "kernelspec": {
   "display_name": "Python 3",
   "language": "python",
   "name": "python3"
  },
  "language_info": {
   "codemirror_mode": {
    "name": "ipython",
    "version": 3
   },
   "file_extension": ".py",
   "mimetype": "text/x-python",
   "name": "python",
   "nbconvert_exporter": "python",
   "pygments_lexer": "ipython3",
   "version": "3.9.6"
  },
  "orig_nbformat": 4
 },
 "nbformat": 4,
 "nbformat_minor": 2
}
