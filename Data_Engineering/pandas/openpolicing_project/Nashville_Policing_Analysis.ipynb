{
 "cells": [
  {
   "cell_type": "code",
   "execution_count": 2,
   "metadata": {
    "collapsed": true
   },
   "outputs": [],
   "source": [
    "import pandas as pd\n",
    "import numpy as np\n",
    "import matplotlib.pyplot as plt\n",
    "import seaborn as sns\n",
    "COLORS = sns.color_palette('hls',6)"
   ]
  },
  {
   "cell_type": "markdown",
   "source": [
    "# Analysing Nashville Policing Activity with Pandas\n",
    "\n",
    "Using data from **https://openpolicing.stanford.edu/data/** I will be exploring, cleaning and then analysing it to answer interesting questions about it.\n",
    "\n",
    "The steps and questions are:\n",
    "\n",
    "* Prepare the data for analysis\n",
    "  * EDA\n",
    "  * Drop columns & rows\n",
    "  * Fix data\n",
    "  * Creating a Datetime index\n",
    "\n",
    "* Questions that you will try to answer:\n",
    "  * Do men or women speed more often?\n",
    "  * Does gender affect who gets searched during a stop?\n",
    "  * Does gender affect whose vehicle is searched?\n",
    "  * During a search, how often is the driver frisked?\n",
    "  * Which year had the least number of stops?\n",
    "  * Does time of the day affect arrest rate?\n",
    "  * How does drug activity change by time of day?\n",
    "  * Do most stops occur at night?\n",
    "  * Analyse the effect of weather"
   ],
   "metadata": {
    "collapsed": false,
    "pycharm": {
     "name": "#%% md\n"
    }
   }
  },
  {
   "cell_type": "markdown",
   "source": [
    "# Loading in the Nashville Dataset"
   ],
   "metadata": {
    "collapsed": false,
    "pycharm": {
     "name": "#%% md\n"
    }
   }
  },
  {
   "cell_type": "code",
   "execution_count": 3,
   "outputs": [
    {
     "name": "stderr",
     "output_type": "stream",
     "text": [
      "C:\\Users\\Coach\\AppData\\Local\\Temp\\ipykernel_17596\\1498399592.py:1: DtypeWarning: Columns (6,8,15,16,17,22,23,24,25,29,30,31,32,33,35,36,37,38,40,41) have mixed types. Specify dtype option on import or set low_memory=False.\n",
      "  df = pd.read_csv('tn_nashville_2020_04_01.csv')\n"
     ]
    }
   ],
   "source": [
    "df = pd.read_csv('tn_nashville_2020_04_01.csv')"
   ],
   "metadata": {
    "collapsed": false,
    "pycharm": {
     "name": "#%%\n"
    }
   }
  },
  {
   "cell_type": "code",
   "execution_count": 4,
   "outputs": [
    {
     "data": {
      "text/plain": "  raw_row_number        date      time  \\\n0         232947  2010-10-10       NaN   \n1         237161  2010-10-10  10:00:00   \n2         232902  2010-10-10  10:00:00   \n3         233219  2010-10-10  22:00:00   \n4         232780  2010-10-10  01:00:00   \n\n                                            location        lat        lng  \\\n0  DOMINICAN DR & ROSA L PARKS BLVD, NASHVILLE, T...  36.187925 -86.798519   \n1            1122 LEBANON PIKE, NASHVILLE, TN, 37210  36.155521 -86.735902   \n2                       898 DAVIDSON DR, , TN, 37205  36.117420 -86.895593   \n3  MURFREESBORO PIKE & NASHBORO BLVD, ANTIOCH, TN...  36.086799 -86.648581   \n4                      BUCHANAN ST, NORTH, TN, 37208  36.180038 -86.809109   \n\n  precinct  reporting_area   zone  subject_age  ...  \\\n0      6.0          4403.0  611.0         27.0  ...   \n1      5.0          9035.0  513.0         18.0  ...   \n2      1.0          5005.0  121.0         52.0  ...   \n3      3.0          8891.0  325.0         25.0  ...   \n4      NaN             NaN    NaN         21.0  ...   \n\n  raw_traffic_citation_issued raw_misd_state_citation_issued  \\\n0                       False                            NaN   \n1                        True                            NaN   \n2                       False                            NaN   \n3                       False                            NaN   \n4                       False                            NaN   \n\n  raw_suspect_ethnicity raw_driver_searched raw_passenger_searched  \\\n0                     N               False                  False   \n1                     N               False                  False   \n2                     N               False                  False   \n3                     N               False                  False   \n4                     N                True                   True   \n\n  raw_search_consent raw_search_arrest raw_search_warrant  \\\n0              False             False              False   \n1              False             False              False   \n2              False             False              False   \n3              False             False              False   \n4              False             False              False   \n\n  raw_search_inventory raw_search_plain_view  \n0                False                 False  \n1                False                 False  \n2                False                 False  \n3                False                 False  \n4                False                 False  \n\n[5 rows x 42 columns]",
      "text/html": "<div>\n<style scoped>\n    .dataframe tbody tr th:only-of-type {\n        vertical-align: middle;\n    }\n\n    .dataframe tbody tr th {\n        vertical-align: top;\n    }\n\n    .dataframe thead th {\n        text-align: right;\n    }\n</style>\n<table border=\"1\" class=\"dataframe\">\n  <thead>\n    <tr style=\"text-align: right;\">\n      <th></th>\n      <th>raw_row_number</th>\n      <th>date</th>\n      <th>time</th>\n      <th>location</th>\n      <th>lat</th>\n      <th>lng</th>\n      <th>precinct</th>\n      <th>reporting_area</th>\n      <th>zone</th>\n      <th>subject_age</th>\n      <th>...</th>\n      <th>raw_traffic_citation_issued</th>\n      <th>raw_misd_state_citation_issued</th>\n      <th>raw_suspect_ethnicity</th>\n      <th>raw_driver_searched</th>\n      <th>raw_passenger_searched</th>\n      <th>raw_search_consent</th>\n      <th>raw_search_arrest</th>\n      <th>raw_search_warrant</th>\n      <th>raw_search_inventory</th>\n      <th>raw_search_plain_view</th>\n    </tr>\n  </thead>\n  <tbody>\n    <tr>\n      <th>0</th>\n      <td>232947</td>\n      <td>2010-10-10</td>\n      <td>NaN</td>\n      <td>DOMINICAN DR &amp; ROSA L PARKS BLVD, NASHVILLE, T...</td>\n      <td>36.187925</td>\n      <td>-86.798519</td>\n      <td>6.0</td>\n      <td>4403.0</td>\n      <td>611.0</td>\n      <td>27.0</td>\n      <td>...</td>\n      <td>False</td>\n      <td>NaN</td>\n      <td>N</td>\n      <td>False</td>\n      <td>False</td>\n      <td>False</td>\n      <td>False</td>\n      <td>False</td>\n      <td>False</td>\n      <td>False</td>\n    </tr>\n    <tr>\n      <th>1</th>\n      <td>237161</td>\n      <td>2010-10-10</td>\n      <td>10:00:00</td>\n      <td>1122 LEBANON PIKE, NASHVILLE, TN, 37210</td>\n      <td>36.155521</td>\n      <td>-86.735902</td>\n      <td>5.0</td>\n      <td>9035.0</td>\n      <td>513.0</td>\n      <td>18.0</td>\n      <td>...</td>\n      <td>True</td>\n      <td>NaN</td>\n      <td>N</td>\n      <td>False</td>\n      <td>False</td>\n      <td>False</td>\n      <td>False</td>\n      <td>False</td>\n      <td>False</td>\n      <td>False</td>\n    </tr>\n    <tr>\n      <th>2</th>\n      <td>232902</td>\n      <td>2010-10-10</td>\n      <td>10:00:00</td>\n      <td>898 DAVIDSON DR, , TN, 37205</td>\n      <td>36.117420</td>\n      <td>-86.895593</td>\n      <td>1.0</td>\n      <td>5005.0</td>\n      <td>121.0</td>\n      <td>52.0</td>\n      <td>...</td>\n      <td>False</td>\n      <td>NaN</td>\n      <td>N</td>\n      <td>False</td>\n      <td>False</td>\n      <td>False</td>\n      <td>False</td>\n      <td>False</td>\n      <td>False</td>\n      <td>False</td>\n    </tr>\n    <tr>\n      <th>3</th>\n      <td>233219</td>\n      <td>2010-10-10</td>\n      <td>22:00:00</td>\n      <td>MURFREESBORO PIKE &amp; NASHBORO BLVD, ANTIOCH, TN...</td>\n      <td>36.086799</td>\n      <td>-86.648581</td>\n      <td>3.0</td>\n      <td>8891.0</td>\n      <td>325.0</td>\n      <td>25.0</td>\n      <td>...</td>\n      <td>False</td>\n      <td>NaN</td>\n      <td>N</td>\n      <td>False</td>\n      <td>False</td>\n      <td>False</td>\n      <td>False</td>\n      <td>False</td>\n      <td>False</td>\n      <td>False</td>\n    </tr>\n    <tr>\n      <th>4</th>\n      <td>232780</td>\n      <td>2010-10-10</td>\n      <td>01:00:00</td>\n      <td>BUCHANAN ST, NORTH, TN, 37208</td>\n      <td>36.180038</td>\n      <td>-86.809109</td>\n      <td>NaN</td>\n      <td>NaN</td>\n      <td>NaN</td>\n      <td>21.0</td>\n      <td>...</td>\n      <td>False</td>\n      <td>NaN</td>\n      <td>N</td>\n      <td>True</td>\n      <td>True</td>\n      <td>False</td>\n      <td>False</td>\n      <td>False</td>\n      <td>False</td>\n      <td>False</td>\n    </tr>\n  </tbody>\n</table>\n<p>5 rows × 42 columns</p>\n</div>"
     },
     "execution_count": 4,
     "metadata": {},
     "output_type": "execute_result"
    }
   ],
   "source": [
    "df.head()"
   ],
   "metadata": {
    "collapsed": false,
    "pycharm": {
     "name": "#%%\n"
    }
   }
  },
  {
   "cell_type": "code",
   "execution_count": 5,
   "outputs": [
    {
     "name": "stdout",
     "output_type": "stream",
     "text": [
      "<class 'pandas.core.frame.DataFrame'>\n",
      "RangeIndex: 3092351 entries, 0 to 3092350\n",
      "Data columns (total 42 columns):\n",
      " #   Column                          Dtype  \n",
      "---  ------                          -----  \n",
      " 0   raw_row_number                  object \n",
      " 1   date                            object \n",
      " 2   time                            object \n",
      " 3   location                        object \n",
      " 4   lat                             float64\n",
      " 5   lng                             float64\n",
      " 6   precinct                        object \n",
      " 7   reporting_area                  float64\n",
      " 8   zone                            object \n",
      " 9   subject_age                     float64\n",
      " 10  subject_race                    object \n",
      " 11  subject_sex                     object \n",
      " 12  officer_id_hash                 object \n",
      " 13  type                            object \n",
      " 14  violation                       object \n",
      " 15  arrest_made                     object \n",
      " 16  citation_issued                 object \n",
      " 17  warning_issued                  object \n",
      " 18  outcome                         object \n",
      " 19  contraband_found                object \n",
      " 20  contraband_drugs                object \n",
      " 21  contraband_weapons              object \n",
      " 22  frisk_performed                 object \n",
      " 23  search_conducted                object \n",
      " 24  search_person                   object \n",
      " 25  search_vehicle                  object \n",
      " 26  search_basis                    object \n",
      " 27  reason_for_stop                 object \n",
      " 28  vehicle_registration_state      object \n",
      " 29  notes                           object \n",
      " 30  raw_verbal_warning_issued       object \n",
      " 31  raw_written_warning_issued      object \n",
      " 32  raw_traffic_citation_issued     object \n",
      " 33  raw_misd_state_citation_issued  object \n",
      " 34  raw_suspect_ethnicity           object \n",
      " 35  raw_driver_searched             object \n",
      " 36  raw_passenger_searched          object \n",
      " 37  raw_search_consent              object \n",
      " 38  raw_search_arrest               object \n",
      " 39  raw_search_warrant              bool   \n",
      " 40  raw_search_inventory            object \n",
      " 41  raw_search_plain_view           object \n",
      "dtypes: bool(1), float64(4), object(37)\n",
      "memory usage: 970.3+ MB\n"
     ]
    }
   ],
   "source": [
    "df.info()"
   ],
   "metadata": {
    "collapsed": false,
    "pycharm": {
     "name": "#%%\n"
    }
   }
  },
  {
   "cell_type": "markdown",
   "source": [
    "# Checking Missing Values"
   ],
   "metadata": {
    "collapsed": false,
    "pycharm": {
     "name": "#%% md\n"
    }
   }
  },
  {
   "cell_type": "code",
   "execution_count": 6,
   "outputs": [
    {
     "data": {
      "text/plain": "contraband_weapons                9.587029e-01\nsearch_basis                      9.587029e-01\ncontraband_found                  9.587029e-01\ncontraband_drugs                  9.587029e-01\nnotes                             8.342184e-01\nraw_misd_state_citation_issued    2.243646e-01\nraw_written_warning_issued        1.594551e-01\nprecinct                          1.261894e-01\nzone                              1.261894e-01\nreporting_area                    1.074888e-01\nlng                               6.050607e-02\nlat                               6.050607e-02\nvehicle_registration_state        1.028053e-02\nsubject_sex                       4.146360e-03\nviolation                         2.593496e-03\nreason_for_stop                   2.593496e-03\ntime                              1.767911e-03\noutcome                           6.257375e-04\nsubject_race                      5.982503e-04\nsubject_age                       2.713146e-04\nraw_verbal_warning_issued         1.089786e-04\nwarning_issued                    1.089786e-04\nraw_traffic_citation_issued       1.038045e-04\ncitation_issued                   1.034811e-04\nraw_suspect_ethnicity             2.490015e-05\nsearch_person                     1.390528e-05\nsearch_vehicle                    1.325852e-05\nsearch_conducted                  1.261176e-05\nraw_driver_searched               9.701357e-06\narrest_made                       9.054600e-06\nfrisk_performed                   7.114328e-06\nraw_search_consent                6.790950e-06\nraw_search_arrest                 4.203921e-06\nofficer_id_hash                   3.557164e-06\nraw_passenger_searched            2.910407e-06\nraw_search_plain_view             2.263650e-06\nraw_search_inventory              6.467571e-07\ndate                              0.000000e+00\ntype                              0.000000e+00\nlocation                          0.000000e+00\nraw_search_warrant                0.000000e+00\nraw_row_number                    0.000000e+00\ndtype: float64"
     },
     "execution_count": 6,
     "metadata": {},
     "output_type": "execute_result"
    }
   ],
   "source": [
    "df[df.columns].isnull().sum().sort_values(ascending=False)/len(df)"
   ],
   "metadata": {
    "collapsed": false,
    "pycharm": {
     "name": "#%%\n"
    }
   }
  },
  {
   "cell_type": "markdown",
   "source": [
    "### Contraband Columns\n",
    "\n",
    "* Contraband is only recorded as found or not if the search has been conducted\n",
    "* Replace NaNs with string \"Not Searched\""
   ],
   "metadata": {
    "collapsed": false,
    "pycharm": {
     "name": "#%% md\n"
    }
   }
  },
  {
   "cell_type": "code",
   "execution_count": 7,
   "outputs": [],
   "source": [
    "lst = ['contraband_weapons','search_basis','contraband_found','contraband_drugs']\n",
    "df[lst] = df[lst].fillna(\"Not Searched\")"
   ],
   "metadata": {
    "collapsed": false,
    "pycharm": {
     "name": "#%%\n"
    }
   }
  },
  {
   "cell_type": "markdown",
   "source": [
    "### Notes Column\n",
    "\n",
    "* Can fill NaNs with a string saying \"No Notes Taken.\""
   ],
   "metadata": {
    "collapsed": false,
    "pycharm": {
     "name": "#%% md\n"
    }
   }
  },
  {
   "cell_type": "code",
   "execution_count": 8,
   "outputs": [],
   "source": [
    "df['notes'] = df['notes'].fillna(\"No Notes Taken\")"
   ],
   "metadata": {
    "collapsed": false,
    "pycharm": {
     "name": "#%%\n"
    }
   }
  },
  {
   "cell_type": "markdown",
   "source": [
    "### Warning and Citation Columns\n",
    "\n",
    "* The Stanford README notes state that they assume NaN to be False in these columns so I will do the same"
   ],
   "metadata": {
    "collapsed": false,
    "pycharm": {
     "name": "#%% md\n"
    }
   }
  },
  {
   "cell_type": "code",
   "execution_count": 9,
   "outputs": [],
   "source": [
    "lst = [\"raw_misd_state_citation_issued\", \"raw_written_warning_issued\", \"raw_verbal_warning_issued\",\n",
    "         \"warning_issued\", \"raw_traffic_citation_issued\",\"citation_issued\"]\n",
    "df[lst] = df[lst].fillna(False)"
   ],
   "metadata": {
    "collapsed": false,
    "pycharm": {
     "name": "#%%\n"
    }
   }
  },
  {
   "cell_type": "markdown",
   "source": [
    "### Precinct, Zone and Reporting Area Columns\n",
    "\n",
    "* All these columns already have an unknown string being used, so we can replace NaNs with that."
   ],
   "metadata": {
    "collapsed": false,
    "pycharm": {
     "name": "#%% md\n"
    }
   }
  },
  {
   "cell_type": "code",
   "execution_count": 10,
   "outputs": [],
   "source": [
    "df[\"precinct\"] = df[\"precinct\"].fillna(\"U\")\n",
    "df[\"zone\"] = df[\"zone\"].fillna(\"UNK\")\n",
    "df[\"reporting_area\"] = df[\"reporting_area\"].fillna(\"UNK\")"
   ],
   "metadata": {
    "collapsed": false,
    "pycharm": {
     "name": "#%%\n"
    }
   }
  },
  {
   "cell_type": "markdown",
   "source": [
    "### Longitude and Latitude\n",
    "\n",
    "* We will interpolate the coordinates to replace the missing values."
   ],
   "metadata": {
    "collapsed": false,
    "pycharm": {
     "name": "#%% md\n"
    }
   }
  },
  {
   "cell_type": "code",
   "execution_count": 11,
   "outputs": [],
   "source": [
    "df[\"lng\"] = df[\"lng\"].interpolate(method='linear')\n",
    "df[\"lat\"] = df[\"lat\"].interpolate(method='linear')"
   ],
   "metadata": {
    "collapsed": false,
    "pycharm": {
     "name": "#%%\n"
    }
   }
  },
  {
   "cell_type": "markdown",
   "source": [
    "### Vehicle Registration State, Subject Sex, Violation, Reason for Stop, Subject Race\n",
    "\n",
    "* For these we can simply replace NaN with an unknown value string"
   ],
   "metadata": {
    "collapsed": false,
    "pycharm": {
     "name": "#%% md\n"
    }
   }
  },
  {
   "cell_type": "code",
   "execution_count": 12,
   "outputs": [],
   "source": [
    "lst = [\"vehicle_registration_state\",\"subject_sex\",\"violation\",\"reason_for_stop\",\"subject_race\",\"outcome\"]\n",
    "df[lst] = df[lst].fillna(\"UNKNOWN\")"
   ],
   "metadata": {
    "collapsed": false,
    "pycharm": {
     "name": "#%%\n"
    }
   }
  },
  {
   "cell_type": "markdown",
   "source": [
    "### Subject Age\n",
    "\n",
    "* For this column I will replace NaNs with the average age"
   ],
   "metadata": {
    "collapsed": false,
    "pycharm": {
     "name": "#%% md\n"
    }
   }
  },
  {
   "cell_type": "code",
   "execution_count": 13,
   "outputs": [],
   "source": [
    "df[\"subject_age\"] = df[\"subject_age\"].fillna(df[\"subject_age\"].mean())"
   ],
   "metadata": {
    "collapsed": false,
    "pycharm": {
     "name": "#%%\n"
    }
   }
  },
  {
   "cell_type": "markdown",
   "source": [
    "### Raw suspect ethnicity\n",
    "\n",
    "* Drop this column as the raw information of ethnicity in this column we will not be using"
   ],
   "metadata": {
    "collapsed": false,
    "pycharm": {
     "name": "#%% md\n"
    }
   }
  },
  {
   "cell_type": "code",
   "execution_count": 14,
   "outputs": [],
   "source": [
    "df.drop([\"raw_suspect_ethnicity\"],axis=1,inplace=True)"
   ],
   "metadata": {
    "collapsed": false,
    "pycharm": {
     "name": "#%%\n"
    }
   }
  },
  {
   "cell_type": "markdown",
   "source": [
    "### Rest of the columns with missing data\n",
    "\n",
    "* Drop the rows which contain missing values\n",
    "* Individually the each variable has about 10 - 40 rows of missing data, and many of these overlap, so out of ~3,000,000, not much is being lost"
   ],
   "metadata": {
    "collapsed": false,
    "pycharm": {
     "name": "#%% md\n"
    }
   }
  },
  {
   "cell_type": "code",
   "execution_count": 15,
   "outputs": [],
   "source": [
    "lst = [\"search_vehicle\",\"search_person\",\"search_conducted\",\"raw_driver_searched\",\"arrest_made\",\n",
    "         \"frisk_performed\",\"raw_search_consent\",\"raw_search_arrest\",\"officer_id_hash\",\"raw_passenger_searched\",\n",
    "         \"raw_search_plain_view\",\"raw_search_inventory\"]\n",
    "df.dropna(subset=lst,inplace=True)"
   ],
   "metadata": {
    "collapsed": false,
    "pycharm": {
     "name": "#%%\n"
    }
   }
  },
  {
   "cell_type": "markdown",
   "source": [
    "# Fixing datatypes"
   ],
   "metadata": {
    "collapsed": false,
    "pycharm": {
     "name": "#%% md\n"
    }
   }
  },
  {
   "cell_type": "code",
   "execution_count": 16,
   "outputs": [
    {
     "name": "stdout",
     "output_type": "stream",
     "text": [
      "<class 'pandas.core.frame.DataFrame'>\n",
      "Int64Index: 3092271 entries, 0 to 3092350\n",
      "Data columns (total 41 columns):\n",
      " #   Column                          Dtype  \n",
      "---  ------                          -----  \n",
      " 0   raw_row_number                  object \n",
      " 1   date                            object \n",
      " 2   time                            object \n",
      " 3   location                        object \n",
      " 4   lat                             float64\n",
      " 5   lng                             float64\n",
      " 6   precinct                        object \n",
      " 7   reporting_area                  object \n",
      " 8   zone                            object \n",
      " 9   subject_age                     float64\n",
      " 10  subject_race                    object \n",
      " 11  subject_sex                     object \n",
      " 12  officer_id_hash                 object \n",
      " 13  type                            object \n",
      " 14  violation                       object \n",
      " 15  arrest_made                     object \n",
      " 16  citation_issued                 bool   \n",
      " 17  warning_issued                  bool   \n",
      " 18  outcome                         object \n",
      " 19  contraband_found                object \n",
      " 20  contraband_drugs                object \n",
      " 21  contraband_weapons              object \n",
      " 22  frisk_performed                 object \n",
      " 23  search_conducted                object \n",
      " 24  search_person                   object \n",
      " 25  search_vehicle                  object \n",
      " 26  search_basis                    object \n",
      " 27  reason_for_stop                 object \n",
      " 28  vehicle_registration_state      object \n",
      " 29  notes                           object \n",
      " 30  raw_verbal_warning_issued       bool   \n",
      " 31  raw_written_warning_issued      bool   \n",
      " 32  raw_traffic_citation_issued     bool   \n",
      " 33  raw_misd_state_citation_issued  bool   \n",
      " 34  raw_driver_searched             object \n",
      " 35  raw_passenger_searched          object \n",
      " 36  raw_search_consent              object \n",
      " 37  raw_search_arrest               object \n",
      " 38  raw_search_warrant              bool   \n",
      " 39  raw_search_inventory            object \n",
      " 40  raw_search_plain_view           object \n",
      "dtypes: bool(7), float64(3), object(31)\n",
      "memory usage: 846.4+ MB\n"
     ]
    }
   ],
   "source": [
    "df.info()"
   ],
   "metadata": {
    "collapsed": false,
    "pycharm": {
     "name": "#%%\n"
    }
   }
  },
  {
   "cell_type": "code",
   "execution_count": 17,
   "outputs": [
    {
     "name": "stderr",
     "output_type": "stream",
     "text": [
      "C:\\Users\\Coach\\Desktop\\Sparta\\SpartaGlobal210\\Data_Engineering\\venv\\lib\\site-packages\\IPython\\lib\\pretty.py:778: FutureWarning: In a future version, object-dtype columns with all-bool values will not be included in reductions with bool_only=True. Explicitly cast to bool dtype instead.\n",
      "  output = repr(obj)\n",
      "C:\\Users\\Coach\\Desktop\\Sparta\\SpartaGlobal210\\Data_Engineering\\venv\\lib\\site-packages\\IPython\\core\\formatters.py:342: FutureWarning: In a future version, object-dtype columns with all-bool values will not be included in reductions with bool_only=True. Explicitly cast to bool dtype instead.\n",
      "  return method()\n"
     ]
    },
    {
     "data": {
      "text/plain": "  raw_row_number        date      time  \\\n0         232947  2010-10-10       NaN   \n1         237161  2010-10-10  10:00:00   \n2         232902  2010-10-10  10:00:00   \n3         233219  2010-10-10  22:00:00   \n4         232780  2010-10-10  01:00:00   \n\n                                            location        lat        lng  \\\n0  DOMINICAN DR & ROSA L PARKS BLVD, NASHVILLE, T...  36.187925 -86.798519   \n1            1122 LEBANON PIKE, NASHVILLE, TN, 37210  36.155521 -86.735902   \n2                       898 DAVIDSON DR, , TN, 37205  36.117420 -86.895593   \n3  MURFREESBORO PIKE & NASHBORO BLVD, ANTIOCH, TN...  36.086799 -86.648581   \n4                      BUCHANAN ST, NORTH, TN, 37208  36.180038 -86.809109   \n\n  precinct reporting_area   zone  subject_age  ... raw_written_warning_issued  \\\n0      6.0         4403.0  611.0         27.0  ...                      False   \n1      5.0         9035.0  513.0         18.0  ...                      False   \n2      1.0         5005.0  121.0         52.0  ...                      False   \n3      3.0         8891.0  325.0         25.0  ...                      False   \n4        U            UNK    UNK         21.0  ...                      False   \n\n  raw_traffic_citation_issued raw_misd_state_citation_issued  \\\n0                       False                          False   \n1                        True                          False   \n2                       False                          False   \n3                       False                          False   \n4                       False                          False   \n\n  raw_driver_searched raw_passenger_searched raw_search_consent  \\\n0               False                  False              False   \n1               False                  False              False   \n2               False                  False              False   \n3               False                  False              False   \n4                True                   True              False   \n\n   raw_search_arrest  raw_search_warrant raw_search_inventory  \\\n0              False               False                False   \n1              False               False                False   \n2              False               False                False   \n3              False               False                False   \n4              False               False                False   \n\n  raw_search_plain_view  \n0                 False  \n1                 False  \n2                 False  \n3                 False  \n4                 False  \n\n[5 rows x 41 columns]",
      "text/html": "<div>\n<style scoped>\n    .dataframe tbody tr th:only-of-type {\n        vertical-align: middle;\n    }\n\n    .dataframe tbody tr th {\n        vertical-align: top;\n    }\n\n    .dataframe thead th {\n        text-align: right;\n    }\n</style>\n<table border=\"1\" class=\"dataframe\">\n  <thead>\n    <tr style=\"text-align: right;\">\n      <th></th>\n      <th>raw_row_number</th>\n      <th>date</th>\n      <th>time</th>\n      <th>location</th>\n      <th>lat</th>\n      <th>lng</th>\n      <th>precinct</th>\n      <th>reporting_area</th>\n      <th>zone</th>\n      <th>subject_age</th>\n      <th>...</th>\n      <th>raw_written_warning_issued</th>\n      <th>raw_traffic_citation_issued</th>\n      <th>raw_misd_state_citation_issued</th>\n      <th>raw_driver_searched</th>\n      <th>raw_passenger_searched</th>\n      <th>raw_search_consent</th>\n      <th>raw_search_arrest</th>\n      <th>raw_search_warrant</th>\n      <th>raw_search_inventory</th>\n      <th>raw_search_plain_view</th>\n    </tr>\n  </thead>\n  <tbody>\n    <tr>\n      <th>0</th>\n      <td>232947</td>\n      <td>2010-10-10</td>\n      <td>NaN</td>\n      <td>DOMINICAN DR &amp; ROSA L PARKS BLVD, NASHVILLE, T...</td>\n      <td>36.187925</td>\n      <td>-86.798519</td>\n      <td>6.0</td>\n      <td>4403.0</td>\n      <td>611.0</td>\n      <td>27.0</td>\n      <td>...</td>\n      <td>False</td>\n      <td>False</td>\n      <td>False</td>\n      <td>False</td>\n      <td>False</td>\n      <td>False</td>\n      <td>False</td>\n      <td>False</td>\n      <td>False</td>\n      <td>False</td>\n    </tr>\n    <tr>\n      <th>1</th>\n      <td>237161</td>\n      <td>2010-10-10</td>\n      <td>10:00:00</td>\n      <td>1122 LEBANON PIKE, NASHVILLE, TN, 37210</td>\n      <td>36.155521</td>\n      <td>-86.735902</td>\n      <td>5.0</td>\n      <td>9035.0</td>\n      <td>513.0</td>\n      <td>18.0</td>\n      <td>...</td>\n      <td>False</td>\n      <td>True</td>\n      <td>False</td>\n      <td>False</td>\n      <td>False</td>\n      <td>False</td>\n      <td>False</td>\n      <td>False</td>\n      <td>False</td>\n      <td>False</td>\n    </tr>\n    <tr>\n      <th>2</th>\n      <td>232902</td>\n      <td>2010-10-10</td>\n      <td>10:00:00</td>\n      <td>898 DAVIDSON DR, , TN, 37205</td>\n      <td>36.117420</td>\n      <td>-86.895593</td>\n      <td>1.0</td>\n      <td>5005.0</td>\n      <td>121.0</td>\n      <td>52.0</td>\n      <td>...</td>\n      <td>False</td>\n      <td>False</td>\n      <td>False</td>\n      <td>False</td>\n      <td>False</td>\n      <td>False</td>\n      <td>False</td>\n      <td>False</td>\n      <td>False</td>\n      <td>False</td>\n    </tr>\n    <tr>\n      <th>3</th>\n      <td>233219</td>\n      <td>2010-10-10</td>\n      <td>22:00:00</td>\n      <td>MURFREESBORO PIKE &amp; NASHBORO BLVD, ANTIOCH, TN...</td>\n      <td>36.086799</td>\n      <td>-86.648581</td>\n      <td>3.0</td>\n      <td>8891.0</td>\n      <td>325.0</td>\n      <td>25.0</td>\n      <td>...</td>\n      <td>False</td>\n      <td>False</td>\n      <td>False</td>\n      <td>False</td>\n      <td>False</td>\n      <td>False</td>\n      <td>False</td>\n      <td>False</td>\n      <td>False</td>\n      <td>False</td>\n    </tr>\n    <tr>\n      <th>4</th>\n      <td>232780</td>\n      <td>2010-10-10</td>\n      <td>01:00:00</td>\n      <td>BUCHANAN ST, NORTH, TN, 37208</td>\n      <td>36.180038</td>\n      <td>-86.809109</td>\n      <td>U</td>\n      <td>UNK</td>\n      <td>UNK</td>\n      <td>21.0</td>\n      <td>...</td>\n      <td>False</td>\n      <td>False</td>\n      <td>False</td>\n      <td>True</td>\n      <td>True</td>\n      <td>False</td>\n      <td>False</td>\n      <td>False</td>\n      <td>False</td>\n      <td>False</td>\n    </tr>\n  </tbody>\n</table>\n<p>5 rows × 41 columns</p>\n</div>"
     },
     "execution_count": 17,
     "metadata": {},
     "output_type": "execute_result"
    }
   ],
   "source": [
    "df.head()"
   ],
   "metadata": {
    "collapsed": false,
    "pycharm": {
     "name": "#%%\n"
    }
   }
  },
  {
   "cell_type": "markdown",
   "source": [
    "### Fixing Date column to make if datetime"
   ],
   "metadata": {
    "collapsed": false
   }
  },
  {
   "cell_type": "code",
   "execution_count": 18,
   "outputs": [],
   "source": [
    "df['date'] = pd.to_datetime(df['date'])"
   ],
   "metadata": {
    "collapsed": false,
    "pycharm": {
     "name": "#%%\n"
    }
   }
  },
  {
   "cell_type": "markdown",
   "source": [
    "### Fixing many boolean columns which were not set as boolean before"
   ],
   "metadata": {
    "collapsed": false,
    "pycharm": {
     "name": "#%% md\n"
    }
   }
  },
  {
   "cell_type": "code",
   "execution_count": 19,
   "outputs": [],
   "source": [
    "lst = ['arrest_made','frisk_performed','search_conducted','search_person','search_vehicle','raw_verbal_warning_issued',\n",
    "         'raw_written_warning_issued','raw_traffic_citation_issued','raw_misd_state_citation_issued','raw_driver_searched',\n",
    "         'raw_passenger_searched','raw_search_consent','raw_search_arrest','raw_search_warrant','raw_search_inventory','raw_search_plain_view']\n",
    "df[lst] = df[lst].astype('bool')"
   ],
   "metadata": {
    "collapsed": false,
    "pycharm": {
     "name": "#%%\n"
    }
   }
  },
  {
   "cell_type": "markdown",
   "source": [
    "# Setting Date as Index"
   ],
   "metadata": {
    "collapsed": false,
    "pycharm": {
     "name": "#%% md\n"
    }
   }
  },
  {
   "cell_type": "code",
   "execution_count": 20,
   "outputs": [],
   "source": [
    "df.set_index('date', inplace=True)"
   ],
   "metadata": {
    "collapsed": false,
    "pycharm": {
     "name": "#%%\n"
    }
   }
  },
  {
   "cell_type": "code",
   "execution_count": 21,
   "outputs": [
    {
     "data": {
      "text/plain": "           raw_row_number      time  \\\ndate                                  \n2010-10-10         232947       NaN   \n2010-10-10         237161  10:00:00   \n2010-10-10         232902  10:00:00   \n2010-10-10         233219  22:00:00   \n2010-10-10         232780  01:00:00   \n\n                                                     location        lat  \\\ndate                                                                       \n2010-10-10  DOMINICAN DR & ROSA L PARKS BLVD, NASHVILLE, T...  36.187925   \n2010-10-10            1122 LEBANON PIKE, NASHVILLE, TN, 37210  36.155521   \n2010-10-10                       898 DAVIDSON DR, , TN, 37205  36.117420   \n2010-10-10  MURFREESBORO PIKE & NASHBORO BLVD, ANTIOCH, TN...  36.086799   \n2010-10-10                      BUCHANAN ST, NORTH, TN, 37208  36.180038   \n\n                  lng precinct reporting_area   zone  subject_age  \\\ndate                                                                \n2010-10-10 -86.798519      6.0         4403.0  611.0         27.0   \n2010-10-10 -86.735902      5.0         9035.0  513.0         18.0   \n2010-10-10 -86.895593      1.0         5005.0  121.0         52.0   \n2010-10-10 -86.648581      3.0         8891.0  325.0         25.0   \n2010-10-10 -86.809109        U            UNK    UNK         21.0   \n\n           subject_race  ... raw_written_warning_issued  \\\ndate                     ...                              \n2010-10-10        black  ...                      False   \n2010-10-10        white  ...                      False   \n2010-10-10        white  ...                      False   \n2010-10-10        white  ...                      False   \n2010-10-10        black  ...                      False   \n\n           raw_traffic_citation_issued raw_misd_state_citation_issued  \\\ndate                                                                    \n2010-10-10                       False                          False   \n2010-10-10                        True                          False   \n2010-10-10                       False                          False   \n2010-10-10                       False                          False   \n2010-10-10                       False                          False   \n\n           raw_driver_searched  raw_passenger_searched  raw_search_consent  \\\ndate                                                                         \n2010-10-10               False                   False               False   \n2010-10-10               False                   False               False   \n2010-10-10               False                   False               False   \n2010-10-10               False                   False               False   \n2010-10-10                True                    True               False   \n\n            raw_search_arrest raw_search_warrant raw_search_inventory  \\\ndate                                                                    \n2010-10-10              False              False                False   \n2010-10-10              False              False                False   \n2010-10-10              False              False                False   \n2010-10-10              False              False                False   \n2010-10-10              False              False                False   \n\n           raw_search_plain_view  \ndate                              \n2010-10-10                 False  \n2010-10-10                 False  \n2010-10-10                 False  \n2010-10-10                 False  \n2010-10-10                 False  \n\n[5 rows x 40 columns]",
      "text/html": "<div>\n<style scoped>\n    .dataframe tbody tr th:only-of-type {\n        vertical-align: middle;\n    }\n\n    .dataframe tbody tr th {\n        vertical-align: top;\n    }\n\n    .dataframe thead th {\n        text-align: right;\n    }\n</style>\n<table border=\"1\" class=\"dataframe\">\n  <thead>\n    <tr style=\"text-align: right;\">\n      <th></th>\n      <th>raw_row_number</th>\n      <th>time</th>\n      <th>location</th>\n      <th>lat</th>\n      <th>lng</th>\n      <th>precinct</th>\n      <th>reporting_area</th>\n      <th>zone</th>\n      <th>subject_age</th>\n      <th>subject_race</th>\n      <th>...</th>\n      <th>raw_written_warning_issued</th>\n      <th>raw_traffic_citation_issued</th>\n      <th>raw_misd_state_citation_issued</th>\n      <th>raw_driver_searched</th>\n      <th>raw_passenger_searched</th>\n      <th>raw_search_consent</th>\n      <th>raw_search_arrest</th>\n      <th>raw_search_warrant</th>\n      <th>raw_search_inventory</th>\n      <th>raw_search_plain_view</th>\n    </tr>\n    <tr>\n      <th>date</th>\n      <th></th>\n      <th></th>\n      <th></th>\n      <th></th>\n      <th></th>\n      <th></th>\n      <th></th>\n      <th></th>\n      <th></th>\n      <th></th>\n      <th></th>\n      <th></th>\n      <th></th>\n      <th></th>\n      <th></th>\n      <th></th>\n      <th></th>\n      <th></th>\n      <th></th>\n      <th></th>\n      <th></th>\n    </tr>\n  </thead>\n  <tbody>\n    <tr>\n      <th>2010-10-10</th>\n      <td>232947</td>\n      <td>NaN</td>\n      <td>DOMINICAN DR &amp; ROSA L PARKS BLVD, NASHVILLE, T...</td>\n      <td>36.187925</td>\n      <td>-86.798519</td>\n      <td>6.0</td>\n      <td>4403.0</td>\n      <td>611.0</td>\n      <td>27.0</td>\n      <td>black</td>\n      <td>...</td>\n      <td>False</td>\n      <td>False</td>\n      <td>False</td>\n      <td>False</td>\n      <td>False</td>\n      <td>False</td>\n      <td>False</td>\n      <td>False</td>\n      <td>False</td>\n      <td>False</td>\n    </tr>\n    <tr>\n      <th>2010-10-10</th>\n      <td>237161</td>\n      <td>10:00:00</td>\n      <td>1122 LEBANON PIKE, NASHVILLE, TN, 37210</td>\n      <td>36.155521</td>\n      <td>-86.735902</td>\n      <td>5.0</td>\n      <td>9035.0</td>\n      <td>513.0</td>\n      <td>18.0</td>\n      <td>white</td>\n      <td>...</td>\n      <td>False</td>\n      <td>True</td>\n      <td>False</td>\n      <td>False</td>\n      <td>False</td>\n      <td>False</td>\n      <td>False</td>\n      <td>False</td>\n      <td>False</td>\n      <td>False</td>\n    </tr>\n    <tr>\n      <th>2010-10-10</th>\n      <td>232902</td>\n      <td>10:00:00</td>\n      <td>898 DAVIDSON DR, , TN, 37205</td>\n      <td>36.117420</td>\n      <td>-86.895593</td>\n      <td>1.0</td>\n      <td>5005.0</td>\n      <td>121.0</td>\n      <td>52.0</td>\n      <td>white</td>\n      <td>...</td>\n      <td>False</td>\n      <td>False</td>\n      <td>False</td>\n      <td>False</td>\n      <td>False</td>\n      <td>False</td>\n      <td>False</td>\n      <td>False</td>\n      <td>False</td>\n      <td>False</td>\n    </tr>\n    <tr>\n      <th>2010-10-10</th>\n      <td>233219</td>\n      <td>22:00:00</td>\n      <td>MURFREESBORO PIKE &amp; NASHBORO BLVD, ANTIOCH, TN...</td>\n      <td>36.086799</td>\n      <td>-86.648581</td>\n      <td>3.0</td>\n      <td>8891.0</td>\n      <td>325.0</td>\n      <td>25.0</td>\n      <td>white</td>\n      <td>...</td>\n      <td>False</td>\n      <td>False</td>\n      <td>False</td>\n      <td>False</td>\n      <td>False</td>\n      <td>False</td>\n      <td>False</td>\n      <td>False</td>\n      <td>False</td>\n      <td>False</td>\n    </tr>\n    <tr>\n      <th>2010-10-10</th>\n      <td>232780</td>\n      <td>01:00:00</td>\n      <td>BUCHANAN ST, NORTH, TN, 37208</td>\n      <td>36.180038</td>\n      <td>-86.809109</td>\n      <td>U</td>\n      <td>UNK</td>\n      <td>UNK</td>\n      <td>21.0</td>\n      <td>black</td>\n      <td>...</td>\n      <td>False</td>\n      <td>False</td>\n      <td>False</td>\n      <td>True</td>\n      <td>True</td>\n      <td>False</td>\n      <td>False</td>\n      <td>False</td>\n      <td>False</td>\n      <td>False</td>\n    </tr>\n  </tbody>\n</table>\n<p>5 rows × 40 columns</p>\n</div>"
     },
     "execution_count": 21,
     "metadata": {},
     "output_type": "execute_result"
    }
   ],
   "source": [
    "df.head()"
   ],
   "metadata": {
    "collapsed": false,
    "pycharm": {
     "name": "#%%\n"
    }
   }
  },
  {
   "cell_type": "markdown",
   "source": [
    "# Analysis Questions"
   ],
   "metadata": {
    "collapsed": false,
    "pycharm": {
     "name": "#%% md\n"
    }
   }
  },
  {
   "cell_type": "markdown",
   "source": [
    "## Do Men or Women speed more often?\n",
    "\n",
    "* There is no specific speeding violation variable which we can use. The closest we can get it 'Moving Traffic Violation', which is what speeding should be categorised as. However other violations can also be categorised as this.\n",
    "\n",
    "* We will create two plots one based of this moving traffic violation, and another where speeding or mph is specifically mentioned in the officer notes, that way we can be more sure that we are analysing speeding in particular."
   ],
   "metadata": {
    "collapsed": false,
    "pycharm": {
     "name": "#%% md\n"
    }
   }
  },
  {
   "cell_type": "code",
   "execution_count": 36,
   "outputs": [
    {
     "data": {
      "text/plain": "subject_sex  female    male\nviolation    632998  907863",
      "text/html": "<div>\n<style scoped>\n    .dataframe tbody tr th:only-of-type {\n        vertical-align: middle;\n    }\n\n    .dataframe tbody tr th {\n        vertical-align: top;\n    }\n\n    .dataframe thead th {\n        text-align: right;\n    }\n</style>\n<table border=\"1\" class=\"dataframe\">\n  <thead>\n    <tr style=\"text-align: right;\">\n      <th>subject_sex</th>\n      <th>female</th>\n      <th>male</th>\n    </tr>\n  </thead>\n  <tbody>\n    <tr>\n      <th>violation</th>\n      <td>632998</td>\n      <td>907863</td>\n    </tr>\n  </tbody>\n</table>\n</div>"
     },
     "execution_count": 36,
     "metadata": {},
     "output_type": "execute_result"
    }
   ],
   "source": [
    "pivot = pd.pivot_table(df, columns='subject_sex',values='violation',aggfunc= lambda x: (x == 'moving traffic violation').sum()).drop(columns='UNKNOWN')\n",
    "pivot"
   ],
   "metadata": {
    "collapsed": false,
    "pycharm": {
     "name": "#%%\n"
    }
   }
  },
  {
   "cell_type": "code",
   "execution_count": 37,
   "outputs": [
    {
     "data": {
      "text/plain": "<Axes: >"
     },
     "execution_count": 37,
     "metadata": {},
     "output_type": "execute_result"
    },
    {
     "data": {
      "text/plain": "<Figure size 640x480 with 1 Axes>",
      "image/png": "[encoded data removed]"
     },
     "metadata": {},
     "output_type": "display_data"
    }
   ],
   "source": [
    "pivot.plot(kind='bar',rot=0,color=COLORS)"
   ],
   "metadata": {
    "collapsed": false,
    "pycharm": {
     "name": "#%%\n"
    }
   }
  },
  {
   "cell_type": "markdown",
   "source": [
    "Checking notes for speed and mph"
   ],
   "metadata": {
    "collapsed": false
   }
  },
  {
   "cell_type": "code",
   "execution_count": 38,
   "outputs": [
    {
     "data": {
      "text/plain": "subject_sex  female   male\nviolation     26993  37954",
      "text/html": "<div>\n<style scoped>\n    .dataframe tbody tr th:only-of-type {\n        vertical-align: middle;\n    }\n\n    .dataframe tbody tr th {\n        vertical-align: top;\n    }\n\n    .dataframe thead th {\n        text-align: right;\n    }\n</style>\n<table border=\"1\" class=\"dataframe\">\n  <thead>\n    <tr style=\"text-align: right;\">\n      <th>subject_sex</th>\n      <th>female</th>\n      <th>male</th>\n    </tr>\n  </thead>\n  <tbody>\n    <tr>\n      <th>violation</th>\n      <td>26993</td>\n      <td>37954</td>\n    </tr>\n  </tbody>\n</table>\n</div>"
     },
     "execution_count": 38,
     "metadata": {},
     "output_type": "execute_result"
    }
   ],
   "source": [
    "speeding_table = df[df['notes'].str.contains(\"SPEED|-- MPH|-- mph|--mph|--MPH\")]\n",
    "pivot = pd.pivot_table(speeding_table, columns='subject_sex',values='violation',aggfunc= lambda x: (x == 'moving traffic violation').sum()).drop(columns='UNKNOWN')\n",
    "pivot"
   ],
   "metadata": {
    "collapsed": false,
    "pycharm": {
     "name": "#%%\n"
    }
   }
  },
  {
   "cell_type": "code",
   "execution_count": 39,
   "outputs": [
    {
     "data": {
      "text/plain": "<Axes: >"
     },
     "execution_count": 39,
     "metadata": {},
     "output_type": "execute_result"
    },
    {
     "data": {
      "text/plain": "<Figure size 640x480 with 1 Axes>",
      "image/png": "[encoded data removed]"
     },
     "metadata": {},
     "output_type": "display_data"
    }
   ],
   "source": [
    "pivot.plot(kind='bar',rot=0,color=COLORS)"
   ],
   "metadata": {
    "collapsed": false,
    "pycharm": {
     "name": "#%%\n"
    }
   }
  },
  {
   "cell_type": "markdown",
   "source": [
    "## Does gender affect the likelihood of getting searched when stopped?"
   ],
   "metadata": {
    "collapsed": false,
    "pycharm": {
     "name": "#%% md\n"
    }
   }
  },
  {
   "cell_type": "markdown",
   "source": [
    "### Checking Gender against if their person was searched"
   ],
   "metadata": {
    "collapsed": false,
    "pycharm": {
     "name": "#%% md\n"
    }
   }
  },
  {
   "cell_type": "code",
   "execution_count": 34,
   "outputs": [
    {
     "name": "stdout",
     "output_type": "stream",
     "text": [
      "subject_sex    female   male\n",
      "search_person   19847  81218\n"
     ]
    },
    {
     "data": {
      "text/plain": "<Axes: >"
     },
     "execution_count": 34,
     "metadata": {},
     "output_type": "execute_result"
    },
    {
     "data": {
      "text/plain": "<Figure size 640x480 with 1 Axes>",
      "image/png": "[encoded data removed]"
     },
     "metadata": {},
     "output_type": "display_data"
    }
   ],
   "source": [
    "pivot = pd.pivot_table(df, columns='subject_sex',values='search_person',aggfunc= lambda x: (x == True).sum()).drop(columns='UNKNOWN')\n",
    "print(pivot)\n",
    "pivot.plot(kind='bar',rot=0,color=COLORS)"
   ],
   "metadata": {
    "collapsed": false,
    "pycharm": {
     "name": "#%%\n"
    }
   }
  },
  {
   "cell_type": "markdown",
   "source": [
    "### Checking Gender against if their vehicle was searched"
   ],
   "metadata": {
    "collapsed": false,
    "pycharm": {
     "name": "#%% md\n"
    }
   }
  },
  {
   "cell_type": "code",
   "execution_count": 33,
   "outputs": [
    {
     "name": "stdout",
     "output_type": "stream",
     "text": [
      "subject_sex     female   male\n",
      "search_vehicle   23472  76649\n"
     ]
    },
    {
     "data": {
      "text/plain": "<Axes: >"
     },
     "execution_count": 33,
     "metadata": {},
     "output_type": "execute_result"
    },
    {
     "data": {
      "text/plain": "<Figure size 640x480 with 1 Axes>",
      "image/png": "[encoded data removed]"
     },
     "metadata": {},
     "output_type": "display_data"
    }
   ],
   "source": [
    "pivot = pd.pivot_table(df, columns='subject_sex',values='search_vehicle',aggfunc= lambda x: (x == True).sum()).drop(columns='UNKNOWN')\n",
    "print(pivot)\n",
    "pivot.plot(kind='bar',rot=0,color=COLORS)"
   ],
   "metadata": {
    "collapsed": false,
    "pycharm": {
     "name": "#%%\n"
    }
   }
  },
  {
   "cell_type": "markdown",
   "source": [
    "# During a search, how likely is the driver to be frisked?"
   ],
   "metadata": {
    "collapsed": false,
    "pycharm": {
     "name": "#%% md\n"
    }
   }
  },
  {
   "cell_type": "code",
   "execution_count": 28,
   "outputs": [
    {
     "data": {
      "text/plain": "           raw_row_number      time  \\\ndate                                  \n2010-10-10         232947       NaN   \n2010-10-10         237161  10:00:00   \n2010-10-10         232902  10:00:00   \n2010-10-10         233219  22:00:00   \n2010-10-10         232780  01:00:00   \n\n                                                     location        lat  \\\ndate                                                                       \n2010-10-10  DOMINICAN DR & ROSA L PARKS BLVD, NASHVILLE, T...  36.187925   \n2010-10-10            1122 LEBANON PIKE, NASHVILLE, TN, 37210  36.155521   \n2010-10-10                       898 DAVIDSON DR, , TN, 37205  36.117420   \n2010-10-10  MURFREESBORO PIKE & NASHBORO BLVD, ANTIOCH, TN...  36.086799   \n2010-10-10                      BUCHANAN ST, NORTH, TN, 37208  36.180038   \n\n                  lng precinct reporting_area   zone  subject_age  \\\ndate                                                                \n2010-10-10 -86.798519      6.0         4403.0  611.0         27.0   \n2010-10-10 -86.735902      5.0         9035.0  513.0         18.0   \n2010-10-10 -86.895593      1.0         5005.0  121.0         52.0   \n2010-10-10 -86.648581      3.0         8891.0  325.0         25.0   \n2010-10-10 -86.809109        U            UNK    UNK         21.0   \n\n           subject_race  ... raw_written_warning_issued  \\\ndate                     ...                              \n2010-10-10        black  ...                      False   \n2010-10-10        white  ...                      False   \n2010-10-10        white  ...                      False   \n2010-10-10        white  ...                      False   \n2010-10-10        black  ...                      False   \n\n           raw_traffic_citation_issued raw_misd_state_citation_issued  \\\ndate                                                                    \n2010-10-10                       False                          False   \n2010-10-10                        True                          False   \n2010-10-10                       False                          False   \n2010-10-10                       False                          False   \n2010-10-10                       False                          False   \n\n           raw_driver_searched  raw_passenger_searched  raw_search_consent  \\\ndate                                                                         \n2010-10-10               False                   False               False   \n2010-10-10               False                   False               False   \n2010-10-10               False                   False               False   \n2010-10-10               False                   False               False   \n2010-10-10                True                    True               False   \n\n            raw_search_arrest raw_search_warrant raw_search_inventory  \\\ndate                                                                    \n2010-10-10              False              False                False   \n2010-10-10              False              False                False   \n2010-10-10              False              False                False   \n2010-10-10              False              False                False   \n2010-10-10              False              False                False   \n\n           raw_search_plain_view  \ndate                              \n2010-10-10                 False  \n2010-10-10                 False  \n2010-10-10                 False  \n2010-10-10                 False  \n2010-10-10                 False  \n\n[5 rows x 40 columns]",
      "text/html": "<div>\n<style scoped>\n    .dataframe tbody tr th:only-of-type {\n        vertical-align: middle;\n    }\n\n    .dataframe tbody tr th {\n        vertical-align: top;\n    }\n\n    .dataframe thead th {\n        text-align: right;\n    }\n</style>\n<table border=\"1\" class=\"dataframe\">\n  <thead>\n    <tr style=\"text-align: right;\">\n      <th></th>\n      <th>raw_row_number</th>\n      <th>time</th>\n      <th>location</th>\n      <th>lat</th>\n      <th>lng</th>\n      <th>precinct</th>\n      <th>reporting_area</th>\n      <th>zone</th>\n      <th>subject_age</th>\n      <th>subject_race</th>\n      <th>...</th>\n      <th>raw_written_warning_issued</th>\n      <th>raw_traffic_citation_issued</th>\n      <th>raw_misd_state_citation_issued</th>\n      <th>raw_driver_searched</th>\n      <th>raw_passenger_searched</th>\n      <th>raw_search_consent</th>\n      <th>raw_search_arrest</th>\n      <th>raw_search_warrant</th>\n      <th>raw_search_inventory</th>\n      <th>raw_search_plain_view</th>\n    </tr>\n    <tr>\n      <th>date</th>\n      <th></th>\n      <th></th>\n      <th></th>\n      <th></th>\n      <th></th>\n      <th></th>\n      <th></th>\n      <th></th>\n      <th></th>\n      <th></th>\n      <th></th>\n      <th></th>\n      <th></th>\n      <th></th>\n      <th></th>\n      <th></th>\n      <th></th>\n      <th></th>\n      <th></th>\n      <th></th>\n      <th></th>\n    </tr>\n  </thead>\n  <tbody>\n    <tr>\n      <th>2010-10-10</th>\n      <td>232947</td>\n      <td>NaN</td>\n      <td>DOMINICAN DR &amp; ROSA L PARKS BLVD, NASHVILLE, T...</td>\n      <td>36.187925</td>\n      <td>-86.798519</td>\n      <td>6.0</td>\n      <td>4403.0</td>\n      <td>611.0</td>\n      <td>27.0</td>\n      <td>black</td>\n      <td>...</td>\n      <td>False</td>\n      <td>False</td>\n      <td>False</td>\n      <td>False</td>\n      <td>False</td>\n      <td>False</td>\n      <td>False</td>\n      <td>False</td>\n      <td>False</td>\n      <td>False</td>\n    </tr>\n    <tr>\n      <th>2010-10-10</th>\n      <td>237161</td>\n      <td>10:00:00</td>\n      <td>1122 LEBANON PIKE, NASHVILLE, TN, 37210</td>\n      <td>36.155521</td>\n      <td>-86.735902</td>\n      <td>5.0</td>\n      <td>9035.0</td>\n      <td>513.0</td>\n      <td>18.0</td>\n      <td>white</td>\n      <td>...</td>\n      <td>False</td>\n      <td>True</td>\n      <td>False</td>\n      <td>False</td>\n      <td>False</td>\n      <td>False</td>\n      <td>False</td>\n      <td>False</td>\n      <td>False</td>\n      <td>False</td>\n    </tr>\n    <tr>\n      <th>2010-10-10</th>\n      <td>232902</td>\n      <td>10:00:00</td>\n      <td>898 DAVIDSON DR, , TN, 37205</td>\n      <td>36.117420</td>\n      <td>-86.895593</td>\n      <td>1.0</td>\n      <td>5005.0</td>\n      <td>121.0</td>\n      <td>52.0</td>\n      <td>white</td>\n      <td>...</td>\n      <td>False</td>\n      <td>False</td>\n      <td>False</td>\n      <td>False</td>\n      <td>False</td>\n      <td>False</td>\n      <td>False</td>\n      <td>False</td>\n      <td>False</td>\n      <td>False</td>\n    </tr>\n    <tr>\n      <th>2010-10-10</th>\n      <td>233219</td>\n      <td>22:00:00</td>\n      <td>MURFREESBORO PIKE &amp; NASHBORO BLVD, ANTIOCH, TN...</td>\n      <td>36.086799</td>\n      <td>-86.648581</td>\n      <td>3.0</td>\n      <td>8891.0</td>\n      <td>325.0</td>\n      <td>25.0</td>\n      <td>white</td>\n      <td>...</td>\n      <td>False</td>\n      <td>False</td>\n      <td>False</td>\n      <td>False</td>\n      <td>False</td>\n      <td>False</td>\n      <td>False</td>\n      <td>False</td>\n      <td>False</td>\n      <td>False</td>\n    </tr>\n    <tr>\n      <th>2010-10-10</th>\n      <td>232780</td>\n      <td>01:00:00</td>\n      <td>BUCHANAN ST, NORTH, TN, 37208</td>\n      <td>36.180038</td>\n      <td>-86.809109</td>\n      <td>U</td>\n      <td>UNK</td>\n      <td>UNK</td>\n      <td>21.0</td>\n      <td>black</td>\n      <td>...</td>\n      <td>False</td>\n      <td>False</td>\n      <td>False</td>\n      <td>True</td>\n      <td>True</td>\n      <td>False</td>\n      <td>False</td>\n      <td>False</td>\n      <td>False</td>\n      <td>False</td>\n    </tr>\n  </tbody>\n</table>\n<p>5 rows × 40 columns</p>\n</div>"
     },
     "execution_count": 28,
     "metadata": {},
     "output_type": "execute_result"
    }
   ],
   "source": [
    "df.head()"
   ],
   "metadata": {
    "collapsed": false,
    "pycharm": {
     "name": "#%%\n"
    }
   }
  },
  {
   "cell_type": "code",
   "execution_count": 30,
   "outputs": [
    {
     "data": {
      "text/plain": "<Figure size 640x480 with 1 Axes>",
      "image/png": "[encoded data removed]"
     },
     "metadata": {},
     "output_type": "display_data"
    }
   ],
   "source": [
    "frisked = len(df[(df['search_conducted'] == True) & (df['frisk_performed'] == True)])\n",
    "not_frisked = len(df[(df['search_conducted'] == True) & (df['frisk_performed'] == False)])\n",
    "labels = ['Frisked', 'Not Frisked']\n",
    "sizes = [frisked, not_frisked]\n",
    "plt.pie(sizes, labels=labels,\n",
    "        autopct='%1.1f%%', startangle=140, colors=COLORS)\n",
    "plt.axis('equal')\n",
    "plt.title('When stopped, how often is the person frisked?')\n",
    "plt.show()"
   ],
   "metadata": {
    "collapsed": false,
    "pycharm": {
     "name": "#%%\n"
    }
   }
  },
  {
   "cell_type": "markdown",
   "source": [
    "## Which Year had the least number of stops\n",
    "\n",
    "* Grouping by Year, then counting rows per year\n",
    "* Dataset goes from 2010-01-01 to 2019-03-24, so removing 2019 data as it is not representative of the full year"
   ],
   "metadata": {
    "collapsed": false,
    "pycharm": {
     "name": "#%% md\n"
    }
   }
  },
  {
   "cell_type": "code",
   "execution_count": 55,
   "outputs": [
    {
     "name": "stdout",
     "output_type": "stream",
     "text": [
      "date\n",
      "2010-12-31    310608\n",
      "2011-12-31    393245\n",
      "2012-12-31    444134\n",
      "2013-12-31    412689\n",
      "2014-12-31    413100\n",
      "2015-12-31    357257\n",
      "2016-12-31    297243\n",
      "2017-12-31    245551\n",
      "2018-12-31    204209\n",
      "Freq: A-DEC, Name: raw_row_number, dtype: int64\n"
     ]
    },
    {
     "data": {
      "text/plain": "<Axes: xlabel='date'>"
     },
     "execution_count": 55,
     "metadata": {},
     "output_type": "execute_result"
    },
    {
     "data": {
      "text/plain": "<Figure size 640x480 with 1 Axes>",
      "image/png": "[encoded data removed]"
     },
     "metadata": {},
     "output_type": "display_data"
    }
   ],
   "source": [
    "group = df['raw_row_number'].groupby(pd.Grouper(freq='Y')).agg('count').drop(index='2019-12-31')\n",
    "print(group)\n",
    "group.plot(y='raw_row_number',use_index=True)"
   ],
   "metadata": {
    "collapsed": false,
    "pycharm": {
     "name": "#%%\n"
    }
   }
  },
  {
   "cell_type": "markdown",
   "source": [
    "## Does time of day affect arrest rate?"
   ],
   "metadata": {
    "collapsed": false,
    "pycharm": {
     "name": "#%% md\n"
    }
   }
  },
  {
   "cell_type": "code",
   "execution_count": null,
   "outputs": [],
   "source": [
    "## Need to create time data subset with time NaN rows removed"
   ],
   "metadata": {
    "collapsed": false,
    "pycharm": {
     "name": "#%%\n"
    }
   }
  },
  {
   "cell_type": "markdown",
   "source": [
    "## How does drug activity change by time of day?"
   ],
   "metadata": {
    "collapsed": false,
    "pycharm": {
     "name": "#%% md\n"
    }
   }
  },
  {
   "cell_type": "markdown",
   "source": [
    "## Do most stops occur at night?"
   ],
   "metadata": {
    "collapsed": false,
    "pycharm": {
     "name": "#%% md\n"
    }
   }
  },
  {
   "cell_type": "markdown",
   "source": [
    "## Analyse the effect of weather?"
   ],
   "metadata": {
    "collapsed": false,
    "pycharm": {
     "name": "#%% md\n"
    }
   }
  },
  {
   "cell_type": "code",
   "execution_count": null,
   "outputs": [],
   "source": [],
   "metadata": {
    "collapsed": false,
    "pycharm": {
     "name": "#%%\n"
    }
   }
  }
 ],
 "metadata": {
  "kernelspec": {
   "display_name": "Python 3",
   "language": "python",
   "name": "python3"
  },
  "language_info": {
   "codemirror_mode": {
    "name": "ipython",
    "version": 2
   },
   "file_extension": ".py",
   "mimetype": "text/x-python",
   "name": "python",
   "nbconvert_exporter": "python",
   "pygments_lexer": "ipython2",
   "version": "2.7.6"
  }
 },
 "nbformat": 4,
 "nbformat_minor": 0
}