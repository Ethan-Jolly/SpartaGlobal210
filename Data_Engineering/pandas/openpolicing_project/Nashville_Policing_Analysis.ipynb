{
 "cells": [
  {
   "cell_type": "code",
   "execution_count": 2,
   "metadata": {},
   "outputs": [],
   "source": [
    "import pandas as pd\n",
    "import numpy as np\n",
    "import matplotlib.pyplot as plt\n",
    "import seaborn as sns\n",
    "import plotly.express as px\n",
    "COLORS = sns.color_palette('hls',6)"
   ]
  },
  {
   "cell_type": "markdown",
   "metadata": {
    "pycharm": {
     "name": "#%% md\n"
    }
   },
   "source": [
    "# Analysing Nashville Policing Activity with Pandas\n",
    "\n",
    "Using data from **https://openpolicing.stanford.edu/data/** I will be exploring, cleaning and then analysing it to answer interesting questions about it.\n",
    "\n",
    "The steps and questions are:\n",
    "\n",
    "* Prepare the data for analysis\n",
    "  * EDA\n",
    "  * Drop columns & rows\n",
    "  * Fix data\n",
    "  * Creating a Datetime index\n",
    "\n",
    "* Questions that you will try to answer:\n",
    "  * Do men or women speed more often?\n",
    "  * Does gender affect who gets searched during a stop?\n",
    "  * Does gender affect whose vehicle is searched?\n",
    "  * During a search, how often is the driver frisked?\n",
    "  * Which year had the least number of stops?\n",
    "  * Does time of the day affect arrest rate?\n",
    "  * How does drug activity change by time of day?\n",
    "  * Do most stops occur at night?\n",
    "  * Analyse the effect of weather"
   ]
  },
  {
   "cell_type": "markdown",
   "metadata": {
    "pycharm": {
     "name": "#%% md\n"
    }
   },
   "source": [
    "# Loading in the Nashville Dataset"
   ]
  },
  {
   "cell_type": "code",
   "execution_count": 3,
   "metadata": {
    "pycharm": {
     "name": "#%%\n"
    }
   },
   "outputs": [
    {
     "name": "stderr",
     "output_type": "stream",
     "text": [
      "C:\\Users\\Coach\\AppData\\Local\\Temp\\ipykernel_6424\\4182936927.py:1: DtypeWarning: Columns (6,8,15,16,17,22,23,24,25,29,30,31,32,33,35,36,37,38,40,41) have mixed types. Specify dtype option on import or set low_memory=False.\n",
      "  df = pd.read_csv('tn_nashville_2020_04_01.csv')\n"
     ]
    }
   ],
   "source": [
    "df = pd.read_csv('tn_nashville_2020_04_01.csv')"
   ]
  },
  {
   "cell_type": "code",
   "execution_count": 4,
   "metadata": {
    "pycharm": {
     "name": "#%%\n"
    }
   },
   "outputs": [
    {
     "data": {
      "text/html": [
       "<div>\n",
       "<style scoped>\n",
       "    .dataframe tbody tr th:only-of-type {\n",
       "        vertical-align: middle;\n",
       "    }\n",
       "\n",
       "    .dataframe tbody tr th {\n",
       "        vertical-align: top;\n",
       "    }\n",
       "\n",
       "    .dataframe thead th {\n",
       "        text-align: right;\n",
       "    }\n",
       "</style>\n",
       "<table border=\"1\" class=\"dataframe\">\n",
       "  <thead>\n",
       "    <tr style=\"text-align: right;\">\n",
       "      <th></th>\n",
       "      <th>raw_row_number</th>\n",
       "      <th>date</th>\n",
       "      <th>time</th>\n",
       "      <th>location</th>\n",
       "      <th>lat</th>\n",
       "      <th>lng</th>\n",
       "      <th>precinct</th>\n",
       "      <th>reporting_area</th>\n",
       "      <th>zone</th>\n",
       "      <th>subject_age</th>\n",
       "      <th>...</th>\n",
       "      <th>raw_traffic_citation_issued</th>\n",
       "      <th>raw_misd_state_citation_issued</th>\n",
       "      <th>raw_suspect_ethnicity</th>\n",
       "      <th>raw_driver_searched</th>\n",
       "      <th>raw_passenger_searched</th>\n",
       "      <th>raw_search_consent</th>\n",
       "      <th>raw_search_arrest</th>\n",
       "      <th>raw_search_warrant</th>\n",
       "      <th>raw_search_inventory</th>\n",
       "      <th>raw_search_plain_view</th>\n",
       "    </tr>\n",
       "  </thead>\n",
       "  <tbody>\n",
       "    <tr>\n",
       "      <th>0</th>\n",
       "      <td>232947</td>\n",
       "      <td>2010-10-10</td>\n",
       "      <td>NaN</td>\n",
       "      <td>DOMINICAN DR &amp; ROSA L PARKS BLVD, NASHVILLE, T...</td>\n",
       "      <td>36.187925</td>\n",
       "      <td>-86.798519</td>\n",
       "      <td>6.0</td>\n",
       "      <td>4403.0</td>\n",
       "      <td>611.0</td>\n",
       "      <td>27.0</td>\n",
       "      <td>...</td>\n",
       "      <td>False</td>\n",
       "      <td>NaN</td>\n",
       "      <td>N</td>\n",
       "      <td>False</td>\n",
       "      <td>False</td>\n",
       "      <td>False</td>\n",
       "      <td>False</td>\n",
       "      <td>False</td>\n",
       "      <td>False</td>\n",
       "      <td>False</td>\n",
       "    </tr>\n",
       "    <tr>\n",
       "      <th>1</th>\n",
       "      <td>237161</td>\n",
       "      <td>2010-10-10</td>\n",
       "      <td>10:00:00</td>\n",
       "      <td>1122 LEBANON PIKE, NASHVILLE, TN, 37210</td>\n",
       "      <td>36.155521</td>\n",
       "      <td>-86.735902</td>\n",
       "      <td>5.0</td>\n",
       "      <td>9035.0</td>\n",
       "      <td>513.0</td>\n",
       "      <td>18.0</td>\n",
       "      <td>...</td>\n",
       "      <td>True</td>\n",
       "      <td>NaN</td>\n",
       "      <td>N</td>\n",
       "      <td>False</td>\n",
       "      <td>False</td>\n",
       "      <td>False</td>\n",
       "      <td>False</td>\n",
       "      <td>False</td>\n",
       "      <td>False</td>\n",
       "      <td>False</td>\n",
       "    </tr>\n",
       "    <tr>\n",
       "      <th>2</th>\n",
       "      <td>232902</td>\n",
       "      <td>2010-10-10</td>\n",
       "      <td>10:00:00</td>\n",
       "      <td>898 DAVIDSON DR, , TN, 37205</td>\n",
       "      <td>36.117420</td>\n",
       "      <td>-86.895593</td>\n",
       "      <td>1.0</td>\n",
       "      <td>5005.0</td>\n",
       "      <td>121.0</td>\n",
       "      <td>52.0</td>\n",
       "      <td>...</td>\n",
       "      <td>False</td>\n",
       "      <td>NaN</td>\n",
       "      <td>N</td>\n",
       "      <td>False</td>\n",
       "      <td>False</td>\n",
       "      <td>False</td>\n",
       "      <td>False</td>\n",
       "      <td>False</td>\n",
       "      <td>False</td>\n",
       "      <td>False</td>\n",
       "    </tr>\n",
       "    <tr>\n",
       "      <th>3</th>\n",
       "      <td>233219</td>\n",
       "      <td>2010-10-10</td>\n",
       "      <td>22:00:00</td>\n",
       "      <td>MURFREESBORO PIKE &amp; NASHBORO BLVD, ANTIOCH, TN...</td>\n",
       "      <td>36.086799</td>\n",
       "      <td>-86.648581</td>\n",
       "      <td>3.0</td>\n",
       "      <td>8891.0</td>\n",
       "      <td>325.0</td>\n",
       "      <td>25.0</td>\n",
       "      <td>...</td>\n",
       "      <td>False</td>\n",
       "      <td>NaN</td>\n",
       "      <td>N</td>\n",
       "      <td>False</td>\n",
       "      <td>False</td>\n",
       "      <td>False</td>\n",
       "      <td>False</td>\n",
       "      <td>False</td>\n",
       "      <td>False</td>\n",
       "      <td>False</td>\n",
       "    </tr>\n",
       "    <tr>\n",
       "      <th>4</th>\n",
       "      <td>232780</td>\n",
       "      <td>2010-10-10</td>\n",
       "      <td>01:00:00</td>\n",
       "      <td>BUCHANAN ST, NORTH, TN, 37208</td>\n",
       "      <td>36.180038</td>\n",
       "      <td>-86.809109</td>\n",
       "      <td>NaN</td>\n",
       "      <td>NaN</td>\n",
       "      <td>NaN</td>\n",
       "      <td>21.0</td>\n",
       "      <td>...</td>\n",
       "      <td>False</td>\n",
       "      <td>NaN</td>\n",
       "      <td>N</td>\n",
       "      <td>True</td>\n",
       "      <td>True</td>\n",
       "      <td>False</td>\n",
       "      <td>False</td>\n",
       "      <td>False</td>\n",
       "      <td>False</td>\n",
       "      <td>False</td>\n",
       "    </tr>\n",
       "  </tbody>\n",
       "</table>\n",
       "<p>5 rows × 42 columns</p>\n",
       "</div>"
      ],
      "text/plain": [
       "  raw_row_number        date      time  \\\n",
       "0         232947  2010-10-10       NaN   \n",
       "1         237161  2010-10-10  10:00:00   \n",
       "2         232902  2010-10-10  10:00:00   \n",
       "3         233219  2010-10-10  22:00:00   \n",
       "4         232780  2010-10-10  01:00:00   \n",
       "\n",
       "                                            location        lat        lng  \\\n",
       "0  DOMINICAN DR & ROSA L PARKS BLVD, NASHVILLE, T...  36.187925 -86.798519   \n",
       "1            1122 LEBANON PIKE, NASHVILLE, TN, 37210  36.155521 -86.735902   \n",
       "2                       898 DAVIDSON DR, , TN, 37205  36.117420 -86.895593   \n",
       "3  MURFREESBORO PIKE & NASHBORO BLVD, ANTIOCH, TN...  36.086799 -86.648581   \n",
       "4                      BUCHANAN ST, NORTH, TN, 37208  36.180038 -86.809109   \n",
       "\n",
       "  precinct  reporting_area   zone  subject_age  ...  \\\n",
       "0      6.0          4403.0  611.0         27.0  ...   \n",
       "1      5.0          9035.0  513.0         18.0  ...   \n",
       "2      1.0          5005.0  121.0         52.0  ...   \n",
       "3      3.0          8891.0  325.0         25.0  ...   \n",
       "4      NaN             NaN    NaN         21.0  ...   \n",
       "\n",
       "  raw_traffic_citation_issued raw_misd_state_citation_issued  \\\n",
       "0                       False                            NaN   \n",
       "1                        True                            NaN   \n",
       "2                       False                            NaN   \n",
       "3                       False                            NaN   \n",
       "4                       False                            NaN   \n",
       "\n",
       "  raw_suspect_ethnicity raw_driver_searched raw_passenger_searched  \\\n",
       "0                     N               False                  False   \n",
       "1                     N               False                  False   \n",
       "2                     N               False                  False   \n",
       "3                     N               False                  False   \n",
       "4                     N                True                   True   \n",
       "\n",
       "  raw_search_consent raw_search_arrest raw_search_warrant  \\\n",
       "0              False             False              False   \n",
       "1              False             False              False   \n",
       "2              False             False              False   \n",
       "3              False             False              False   \n",
       "4              False             False              False   \n",
       "\n",
       "  raw_search_inventory raw_search_plain_view  \n",
       "0                False                 False  \n",
       "1                False                 False  \n",
       "2                False                 False  \n",
       "3                False                 False  \n",
       "4                False                 False  \n",
       "\n",
       "[5 rows x 42 columns]"
      ]
     },
     "execution_count": 4,
     "metadata": {},
     "output_type": "execute_result"
    }
   ],
   "source": [
    "df.head()"
   ]
  },
  {
   "cell_type": "code",
   "execution_count": 5,
   "metadata": {
    "pycharm": {
     "name": "#%%\n"
    }
   },
   "outputs": [
    {
     "name": "stdout",
     "output_type": "stream",
     "text": [
      "<class 'pandas.core.frame.DataFrame'>\n",
      "RangeIndex: 3092351 entries, 0 to 3092350\n",
      "Data columns (total 42 columns):\n",
      " #   Column                          Dtype  \n",
      "---  ------                          -----  \n",
      " 0   raw_row_number                  object \n",
      " 1   date                            object \n",
      " 2   time                            object \n",
      " 3   location                        object \n",
      " 4   lat                             float64\n",
      " 5   lng                             float64\n",
      " 6   precinct                        object \n",
      " 7   reporting_area                  float64\n",
      " 8   zone                            object \n",
      " 9   subject_age                     float64\n",
      " 10  subject_race                    object \n",
      " 11  subject_sex                     object \n",
      " 12  officer_id_hash                 object \n",
      " 13  type                            object \n",
      " 14  violation                       object \n",
      " 15  arrest_made                     object \n",
      " 16  citation_issued                 object \n",
      " 17  warning_issued                  object \n",
      " 18  outcome                         object \n",
      " 19  contraband_found                object \n",
      " 20  contraband_drugs                object \n",
      " 21  contraband_weapons              object \n",
      " 22  frisk_performed                 object \n",
      " 23  search_conducted                object \n",
      " 24  search_person                   object \n",
      " 25  search_vehicle                  object \n",
      " 26  search_basis                    object \n",
      " 27  reason_for_stop                 object \n",
      " 28  vehicle_registration_state      object \n",
      " 29  notes                           object \n",
      " 30  raw_verbal_warning_issued       object \n",
      " 31  raw_written_warning_issued      object \n",
      " 32  raw_traffic_citation_issued     object \n",
      " 33  raw_misd_state_citation_issued  object \n",
      " 34  raw_suspect_ethnicity           object \n",
      " 35  raw_driver_searched             object \n",
      " 36  raw_passenger_searched          object \n",
      " 37  raw_search_consent              object \n",
      " 38  raw_search_arrest               object \n",
      " 39  raw_search_warrant              bool   \n",
      " 40  raw_search_inventory            object \n",
      " 41  raw_search_plain_view           object \n",
      "dtypes: bool(1), float64(4), object(37)\n",
      "memory usage: 970.3+ MB\n"
     ]
    }
   ],
   "source": [
    "df.info()"
   ]
  },
  {
   "cell_type": "markdown",
   "metadata": {
    "pycharm": {
     "name": "#%% md\n"
    }
   },
   "source": [
    "# Checking Missing Values"
   ]
  },
  {
   "cell_type": "code",
   "execution_count": 6,
   "metadata": {
    "pycharm": {
     "name": "#%%\n"
    }
   },
   "outputs": [
    {
     "data": {
      "text/plain": [
       "contraband_weapons                9.587029e-01\n",
       "search_basis                      9.587029e-01\n",
       "contraband_found                  9.587029e-01\n",
       "contraband_drugs                  9.587029e-01\n",
       "notes                             8.342184e-01\n",
       "raw_misd_state_citation_issued    2.243646e-01\n",
       "raw_written_warning_issued        1.594551e-01\n",
       "precinct                          1.261894e-01\n",
       "zone                              1.261894e-01\n",
       "reporting_area                    1.074888e-01\n",
       "lng                               6.050607e-02\n",
       "lat                               6.050607e-02\n",
       "vehicle_registration_state        1.028053e-02\n",
       "subject_sex                       4.146360e-03\n",
       "violation                         2.593496e-03\n",
       "reason_for_stop                   2.593496e-03\n",
       "time                              1.767911e-03\n",
       "outcome                           6.257375e-04\n",
       "subject_race                      5.982503e-04\n",
       "subject_age                       2.713146e-04\n",
       "raw_verbal_warning_issued         1.089786e-04\n",
       "warning_issued                    1.089786e-04\n",
       "raw_traffic_citation_issued       1.038045e-04\n",
       "citation_issued                   1.034811e-04\n",
       "raw_suspect_ethnicity             2.490015e-05\n",
       "search_person                     1.390528e-05\n",
       "search_vehicle                    1.325852e-05\n",
       "search_conducted                  1.261176e-05\n",
       "raw_driver_searched               9.701357e-06\n",
       "arrest_made                       9.054600e-06\n",
       "frisk_performed                   7.114328e-06\n",
       "raw_search_consent                6.790950e-06\n",
       "raw_search_arrest                 4.203921e-06\n",
       "officer_id_hash                   3.557164e-06\n",
       "raw_passenger_searched            2.910407e-06\n",
       "raw_search_plain_view             2.263650e-06\n",
       "raw_search_inventory              6.467571e-07\n",
       "date                              0.000000e+00\n",
       "type                              0.000000e+00\n",
       "location                          0.000000e+00\n",
       "raw_search_warrant                0.000000e+00\n",
       "raw_row_number                    0.000000e+00\n",
       "dtype: float64"
      ]
     },
     "execution_count": 6,
     "metadata": {},
     "output_type": "execute_result"
    }
   ],
   "source": [
    "df[df.columns].isnull().sum().sort_values(ascending=False)/len(df)"
   ]
  },
  {
   "cell_type": "markdown",
   "metadata": {
    "pycharm": {
     "name": "#%% md\n"
    }
   },
   "source": [
    "### Contraband Columns\n",
    "\n",
    "* Contraband is only recorded as found or not if the search has been conducted\n",
    "* Replace NaNs with string \"Not Searched\""
   ]
  },
  {
   "cell_type": "code",
   "execution_count": 7,
   "metadata": {
    "pycharm": {
     "name": "#%%\n"
    }
   },
   "outputs": [],
   "source": [
    "lst = ['contraband_weapons','search_basis','contraband_found','contraband_drugs']\n",
    "df[lst] = df[lst].fillna(\"Not Searched\")"
   ]
  },
  {
   "cell_type": "markdown",
   "metadata": {
    "pycharm": {
     "name": "#%% md\n"
    }
   },
   "source": [
    "### Notes Column\n",
    "\n",
    "* Can fill NaNs with a string saying \"No Notes Taken.\""
   ]
  },
  {
   "cell_type": "code",
   "execution_count": 8,
   "metadata": {
    "pycharm": {
     "name": "#%%\n"
    }
   },
   "outputs": [],
   "source": [
    "df['notes'] = df['notes'].fillna(\"No Notes Taken\")"
   ]
  },
  {
   "cell_type": "markdown",
   "metadata": {
    "pycharm": {
     "name": "#%% md\n"
    }
   },
   "source": [
    "### Warning and Citation Columns\n",
    "\n",
    "* The Stanford README notes state that they assume NaN to be False in these columns so I will do the same"
   ]
  },
  {
   "cell_type": "code",
   "execution_count": 9,
   "metadata": {
    "pycharm": {
     "name": "#%%\n"
    }
   },
   "outputs": [],
   "source": [
    "lst = [\"raw_misd_state_citation_issued\", \"raw_written_warning_issued\", \"raw_verbal_warning_issued\",\n",
    "         \"warning_issued\", \"raw_traffic_citation_issued\",\"citation_issued\"]\n",
    "df[lst] = df[lst].fillna(False)"
   ]
  },
  {
   "cell_type": "markdown",
   "metadata": {
    "pycharm": {
     "name": "#%% md\n"
    }
   },
   "source": [
    "### Precinct, Zone and Reporting Area Columns\n",
    "\n",
    "* All these columns already have an unknown string being used, so we can replace NaNs with that."
   ]
  },
  {
   "cell_type": "code",
   "execution_count": 10,
   "metadata": {
    "pycharm": {
     "name": "#%%\n"
    }
   },
   "outputs": [],
   "source": [
    "df[\"precinct\"] = df[\"precinct\"].fillna(\"U\")\n",
    "df[\"zone\"] = df[\"zone\"].fillna(\"UNK\")\n",
    "df[\"reporting_area\"] = df[\"reporting_area\"].fillna(\"UNK\")"
   ]
  },
  {
   "cell_type": "markdown",
   "metadata": {
    "pycharm": {
     "name": "#%% md\n"
    }
   },
   "source": [
    "### Longitude and Latitude\n",
    "\n",
    "* We will interpolate the coordinates to replace the missing values."
   ]
  },
  {
   "cell_type": "code",
   "execution_count": 11,
   "metadata": {
    "pycharm": {
     "name": "#%%\n"
    }
   },
   "outputs": [],
   "source": [
    "df[\"lng\"] = df[\"lng\"].interpolate(method='linear')\n",
    "df[\"lat\"] = df[\"lat\"].interpolate(method='linear')"
   ]
  },
  {
   "cell_type": "markdown",
   "metadata": {
    "pycharm": {
     "name": "#%% md\n"
    }
   },
   "source": [
    "### Vehicle Registration State, Subject Sex, Violation, Reason for Stop, Subject Race\n",
    "\n",
    "* For these we can simply replace NaN with an unknown value string"
   ]
  },
  {
   "cell_type": "code",
   "execution_count": 12,
   "metadata": {
    "pycharm": {
     "name": "#%%\n"
    }
   },
   "outputs": [],
   "source": [
    "lst = [\"vehicle_registration_state\",\"subject_sex\",\"violation\",\"reason_for_stop\",\"subject_race\",\"outcome\"]\n",
    "df[lst] = df[lst].fillna(\"UNKNOWN\")"
   ]
  },
  {
   "cell_type": "markdown",
   "metadata": {
    "pycharm": {
     "name": "#%% md\n"
    }
   },
   "source": [
    "### Subject Age\n",
    "\n",
    "* For this column I will replace NaNs with the average age"
   ]
  },
  {
   "cell_type": "code",
   "execution_count": 13,
   "metadata": {
    "pycharm": {
     "name": "#%%\n"
    }
   },
   "outputs": [],
   "source": [
    "df[\"subject_age\"] = df[\"subject_age\"].fillna(df[\"subject_age\"].mean())"
   ]
  },
  {
   "cell_type": "markdown",
   "metadata": {
    "pycharm": {
     "name": "#%% md\n"
    }
   },
   "source": [
    "### Raw suspect ethnicity\n",
    "\n",
    "* Drop this column as the raw information of ethnicity in this column we will not be using"
   ]
  },
  {
   "cell_type": "code",
   "execution_count": 14,
   "metadata": {
    "pycharm": {
     "name": "#%%\n"
    }
   },
   "outputs": [],
   "source": [
    "df.drop([\"raw_suspect_ethnicity\"],axis=1,inplace=True)"
   ]
  },
  {
   "cell_type": "markdown",
   "metadata": {
    "pycharm": {
     "name": "#%% md\n"
    }
   },
   "source": [
    "### Rest of the columns with missing data\n",
    "\n",
    "* Drop the rows which contain missing values\n",
    "* Individually the each variable has about 10 - 40 rows of missing data, and many of these overlap, so out of ~3,000,000, not much is being lost"
   ]
  },
  {
   "cell_type": "code",
   "execution_count": 15,
   "metadata": {
    "pycharm": {
     "name": "#%%\n"
    }
   },
   "outputs": [],
   "source": [
    "lst = [\"search_vehicle\",\"search_person\",\"search_conducted\",\"raw_driver_searched\",\"arrest_made\",\n",
    "         \"frisk_performed\",\"raw_search_consent\",\"raw_search_arrest\",\"officer_id_hash\",\"raw_passenger_searched\",\n",
    "         \"raw_search_plain_view\",\"raw_search_inventory\"]\n",
    "df.dropna(subset=lst,inplace=True)"
   ]
  },
  {
   "cell_type": "markdown",
   "metadata": {
    "pycharm": {
     "name": "#%% md\n"
    }
   },
   "source": [
    "# Fixing datatypes"
   ]
  },
  {
   "cell_type": "code",
   "execution_count": 16,
   "metadata": {
    "pycharm": {
     "name": "#%%\n"
    }
   },
   "outputs": [
    {
     "name": "stdout",
     "output_type": "stream",
     "text": [
      "<class 'pandas.core.frame.DataFrame'>\n",
      "Int64Index: 3092271 entries, 0 to 3092350\n",
      "Data columns (total 41 columns):\n",
      " #   Column                          Dtype  \n",
      "---  ------                          -----  \n",
      " 0   raw_row_number                  object \n",
      " 1   date                            object \n",
      " 2   time                            object \n",
      " 3   location                        object \n",
      " 4   lat                             float64\n",
      " 5   lng                             float64\n",
      " 6   precinct                        object \n",
      " 7   reporting_area                  object \n",
      " 8   zone                            object \n",
      " 9   subject_age                     float64\n",
      " 10  subject_race                    object \n",
      " 11  subject_sex                     object \n",
      " 12  officer_id_hash                 object \n",
      " 13  type                            object \n",
      " 14  violation                       object \n",
      " 15  arrest_made                     object \n",
      " 16  citation_issued                 bool   \n",
      " 17  warning_issued                  bool   \n",
      " 18  outcome                         object \n",
      " 19  contraband_found                object \n",
      " 20  contraband_drugs                object \n",
      " 21  contraband_weapons              object \n",
      " 22  frisk_performed                 object \n",
      " 23  search_conducted                object \n",
      " 24  search_person                   object \n",
      " 25  search_vehicle                  object \n",
      " 26  search_basis                    object \n",
      " 27  reason_for_stop                 object \n",
      " 28  vehicle_registration_state      object \n",
      " 29  notes                           object \n",
      " 30  raw_verbal_warning_issued       bool   \n",
      " 31  raw_written_warning_issued      bool   \n",
      " 32  raw_traffic_citation_issued     bool   \n",
      " 33  raw_misd_state_citation_issued  bool   \n",
      " 34  raw_driver_searched             object \n",
      " 35  raw_passenger_searched          object \n",
      " 36  raw_search_consent              object \n",
      " 37  raw_search_arrest               object \n",
      " 38  raw_search_warrant              bool   \n",
      " 39  raw_search_inventory            object \n",
      " 40  raw_search_plain_view           object \n",
      "dtypes: bool(7), float64(3), object(31)\n",
      "memory usage: 846.4+ MB\n"
     ]
    }
   ],
   "source": [
    "df.info()"
   ]
  },
  {
   "cell_type": "code",
   "execution_count": 17,
   "metadata": {
    "pycharm": {
     "name": "#%%\n"
    }
   },
   "outputs": [
    {
     "name": "stderr",
     "output_type": "stream",
     "text": [
      "C:\\Users\\Coach\\Desktop\\Sparta\\SpartaGlobal210\\Data_Engineering\\venv\\lib\\site-packages\\IPython\\lib\\pretty.py:778: FutureWarning: In a future version, object-dtype columns with all-bool values will not be included in reductions with bool_only=True. Explicitly cast to bool dtype instead.\n",
      "  output = repr(obj)\n",
      "C:\\Users\\Coach\\Desktop\\Sparta\\SpartaGlobal210\\Data_Engineering\\venv\\lib\\site-packages\\IPython\\core\\formatters.py:342: FutureWarning: In a future version, object-dtype columns with all-bool values will not be included in reductions with bool_only=True. Explicitly cast to bool dtype instead.\n",
      "  return method()\n"
     ]
    },
    {
     "data": {
      "text/html": [
       "<div>\n",
       "<style scoped>\n",
       "    .dataframe tbody tr th:only-of-type {\n",
       "        vertical-align: middle;\n",
       "    }\n",
       "\n",
       "    .dataframe tbody tr th {\n",
       "        vertical-align: top;\n",
       "    }\n",
       "\n",
       "    .dataframe thead th {\n",
       "        text-align: right;\n",
       "    }\n",
       "</style>\n",
       "<table border=\"1\" class=\"dataframe\">\n",
       "  <thead>\n",
       "    <tr style=\"text-align: right;\">\n",
       "      <th></th>\n",
       "      <th>raw_row_number</th>\n",
       "      <th>date</th>\n",
       "      <th>time</th>\n",
       "      <th>location</th>\n",
       "      <th>lat</th>\n",
       "      <th>lng</th>\n",
       "      <th>precinct</th>\n",
       "      <th>reporting_area</th>\n",
       "      <th>zone</th>\n",
       "      <th>subject_age</th>\n",
       "      <th>...</th>\n",
       "      <th>raw_written_warning_issued</th>\n",
       "      <th>raw_traffic_citation_issued</th>\n",
       "      <th>raw_misd_state_citation_issued</th>\n",
       "      <th>raw_driver_searched</th>\n",
       "      <th>raw_passenger_searched</th>\n",
       "      <th>raw_search_consent</th>\n",
       "      <th>raw_search_arrest</th>\n",
       "      <th>raw_search_warrant</th>\n",
       "      <th>raw_search_inventory</th>\n",
       "      <th>raw_search_plain_view</th>\n",
       "    </tr>\n",
       "  </thead>\n",
       "  <tbody>\n",
       "    <tr>\n",
       "      <th>0</th>\n",
       "      <td>232947</td>\n",
       "      <td>2010-10-10</td>\n",
       "      <td>NaN</td>\n",
       "      <td>DOMINICAN DR &amp; ROSA L PARKS BLVD, NASHVILLE, T...</td>\n",
       "      <td>36.187925</td>\n",
       "      <td>-86.798519</td>\n",
       "      <td>6.0</td>\n",
       "      <td>4403.0</td>\n",
       "      <td>611.0</td>\n",
       "      <td>27.0</td>\n",
       "      <td>...</td>\n",
       "      <td>False</td>\n",
       "      <td>False</td>\n",
       "      <td>False</td>\n",
       "      <td>False</td>\n",
       "      <td>False</td>\n",
       "      <td>False</td>\n",
       "      <td>False</td>\n",
       "      <td>False</td>\n",
       "      <td>False</td>\n",
       "      <td>False</td>\n",
       "    </tr>\n",
       "    <tr>\n",
       "      <th>1</th>\n",
       "      <td>237161</td>\n",
       "      <td>2010-10-10</td>\n",
       "      <td>10:00:00</td>\n",
       "      <td>1122 LEBANON PIKE, NASHVILLE, TN, 37210</td>\n",
       "      <td>36.155521</td>\n",
       "      <td>-86.735902</td>\n",
       "      <td>5.0</td>\n",
       "      <td>9035.0</td>\n",
       "      <td>513.0</td>\n",
       "      <td>18.0</td>\n",
       "      <td>...</td>\n",
       "      <td>False</td>\n",
       "      <td>True</td>\n",
       "      <td>False</td>\n",
       "      <td>False</td>\n",
       "      <td>False</td>\n",
       "      <td>False</td>\n",
       "      <td>False</td>\n",
       "      <td>False</td>\n",
       "      <td>False</td>\n",
       "      <td>False</td>\n",
       "    </tr>\n",
       "    <tr>\n",
       "      <th>2</th>\n",
       "      <td>232902</td>\n",
       "      <td>2010-10-10</td>\n",
       "      <td>10:00:00</td>\n",
       "      <td>898 DAVIDSON DR, , TN, 37205</td>\n",
       "      <td>36.117420</td>\n",
       "      <td>-86.895593</td>\n",
       "      <td>1.0</td>\n",
       "      <td>5005.0</td>\n",
       "      <td>121.0</td>\n",
       "      <td>52.0</td>\n",
       "      <td>...</td>\n",
       "      <td>False</td>\n",
       "      <td>False</td>\n",
       "      <td>False</td>\n",
       "      <td>False</td>\n",
       "      <td>False</td>\n",
       "      <td>False</td>\n",
       "      <td>False</td>\n",
       "      <td>False</td>\n",
       "      <td>False</td>\n",
       "      <td>False</td>\n",
       "    </tr>\n",
       "    <tr>\n",
       "      <th>3</th>\n",
       "      <td>233219</td>\n",
       "      <td>2010-10-10</td>\n",
       "      <td>22:00:00</td>\n",
       "      <td>MURFREESBORO PIKE &amp; NASHBORO BLVD, ANTIOCH, TN...</td>\n",
       "      <td>36.086799</td>\n",
       "      <td>-86.648581</td>\n",
       "      <td>3.0</td>\n",
       "      <td>8891.0</td>\n",
       "      <td>325.0</td>\n",
       "      <td>25.0</td>\n",
       "      <td>...</td>\n",
       "      <td>False</td>\n",
       "      <td>False</td>\n",
       "      <td>False</td>\n",
       "      <td>False</td>\n",
       "      <td>False</td>\n",
       "      <td>False</td>\n",
       "      <td>False</td>\n",
       "      <td>False</td>\n",
       "      <td>False</td>\n",
       "      <td>False</td>\n",
       "    </tr>\n",
       "    <tr>\n",
       "      <th>4</th>\n",
       "      <td>232780</td>\n",
       "      <td>2010-10-10</td>\n",
       "      <td>01:00:00</td>\n",
       "      <td>BUCHANAN ST, NORTH, TN, 37208</td>\n",
       "      <td>36.180038</td>\n",
       "      <td>-86.809109</td>\n",
       "      <td>U</td>\n",
       "      <td>UNK</td>\n",
       "      <td>UNK</td>\n",
       "      <td>21.0</td>\n",
       "      <td>...</td>\n",
       "      <td>False</td>\n",
       "      <td>False</td>\n",
       "      <td>False</td>\n",
       "      <td>True</td>\n",
       "      <td>True</td>\n",
       "      <td>False</td>\n",
       "      <td>False</td>\n",
       "      <td>False</td>\n",
       "      <td>False</td>\n",
       "      <td>False</td>\n",
       "    </tr>\n",
       "  </tbody>\n",
       "</table>\n",
       "<p>5 rows × 41 columns</p>\n",
       "</div>"
      ],
      "text/plain": [
       "  raw_row_number        date      time  \\\n",
       "0         232947  2010-10-10       NaN   \n",
       "1         237161  2010-10-10  10:00:00   \n",
       "2         232902  2010-10-10  10:00:00   \n",
       "3         233219  2010-10-10  22:00:00   \n",
       "4         232780  2010-10-10  01:00:00   \n",
       "\n",
       "                                            location        lat        lng  \\\n",
       "0  DOMINICAN DR & ROSA L PARKS BLVD, NASHVILLE, T...  36.187925 -86.798519   \n",
       "1            1122 LEBANON PIKE, NASHVILLE, TN, 37210  36.155521 -86.735902   \n",
       "2                       898 DAVIDSON DR, , TN, 37205  36.117420 -86.895593   \n",
       "3  MURFREESBORO PIKE & NASHBORO BLVD, ANTIOCH, TN...  36.086799 -86.648581   \n",
       "4                      BUCHANAN ST, NORTH, TN, 37208  36.180038 -86.809109   \n",
       "\n",
       "  precinct reporting_area   zone  subject_age  ... raw_written_warning_issued  \\\n",
       "0      6.0         4403.0  611.0         27.0  ...                      False   \n",
       "1      5.0         9035.0  513.0         18.0  ...                      False   \n",
       "2      1.0         5005.0  121.0         52.0  ...                      False   \n",
       "3      3.0         8891.0  325.0         25.0  ...                      False   \n",
       "4        U            UNK    UNK         21.0  ...                      False   \n",
       "\n",
       "  raw_traffic_citation_issued raw_misd_state_citation_issued  \\\n",
       "0                       False                          False   \n",
       "1                        True                          False   \n",
       "2                       False                          False   \n",
       "3                       False                          False   \n",
       "4                       False                          False   \n",
       "\n",
       "  raw_driver_searched raw_passenger_searched raw_search_consent  \\\n",
       "0               False                  False              False   \n",
       "1               False                  False              False   \n",
       "2               False                  False              False   \n",
       "3               False                  False              False   \n",
       "4                True                   True              False   \n",
       "\n",
       "   raw_search_arrest  raw_search_warrant raw_search_inventory  \\\n",
       "0              False               False                False   \n",
       "1              False               False                False   \n",
       "2              False               False                False   \n",
       "3              False               False                False   \n",
       "4              False               False                False   \n",
       "\n",
       "  raw_search_plain_view  \n",
       "0                 False  \n",
       "1                 False  \n",
       "2                 False  \n",
       "3                 False  \n",
       "4                 False  \n",
       "\n",
       "[5 rows x 41 columns]"
      ]
     },
     "execution_count": 17,
     "metadata": {},
     "output_type": "execute_result"
    }
   ],
   "source": [
    "df.head()"
   ]
  },
  {
   "cell_type": "markdown",
   "metadata": {},
   "source": [
    "### Fixing Date column to make it datetime"
   ]
  },
  {
   "cell_type": "code",
   "execution_count": 18,
   "metadata": {
    "pycharm": {
     "name": "#%%\n"
    }
   },
   "outputs": [],
   "source": [
    "df['date'] = pd.to_datetime(df['date'])"
   ]
  },
  {
   "cell_type": "markdown",
   "metadata": {
    "pycharm": {
     "name": "#%% md\n"
    }
   },
   "source": [
    "### Fixing many boolean columns which were not set as boolean before"
   ]
  },
  {
   "cell_type": "code",
   "execution_count": 19,
   "metadata": {
    "pycharm": {
     "name": "#%%\n"
    }
   },
   "outputs": [],
   "source": [
    "lst = ['arrest_made','frisk_performed','search_conducted','search_person','search_vehicle','raw_verbal_warning_issued',\n",
    "         'raw_written_warning_issued','raw_traffic_citation_issued','raw_misd_state_citation_issued','raw_driver_searched',\n",
    "         'raw_passenger_searched','raw_search_consent','raw_search_arrest','raw_search_warrant','raw_search_inventory','raw_search_plain_view']\n",
    "df[lst] = df[lst].astype('bool')"
   ]
  },
  {
   "cell_type": "markdown",
   "metadata": {
    "pycharm": {
     "name": "#%% md\n"
    }
   },
   "source": [
    "# Setting Date as Index"
   ]
  },
  {
   "cell_type": "code",
   "execution_count": 20,
   "metadata": {
    "pycharm": {
     "name": "#%%\n"
    }
   },
   "outputs": [],
   "source": [
    "df.set_index('date', inplace=True)"
   ]
  },
  {
   "cell_type": "code",
   "execution_count": 21,
   "metadata": {
    "pycharm": {
     "name": "#%%\n"
    }
   },
   "outputs": [
    {
     "data": {
      "text/html": [
       "<div>\n",
       "<style scoped>\n",
       "    .dataframe tbody tr th:only-of-type {\n",
       "        vertical-align: middle;\n",
       "    }\n",
       "\n",
       "    .dataframe tbody tr th {\n",
       "        vertical-align: top;\n",
       "    }\n",
       "\n",
       "    .dataframe thead th {\n",
       "        text-align: right;\n",
       "    }\n",
       "</style>\n",
       "<table border=\"1\" class=\"dataframe\">\n",
       "  <thead>\n",
       "    <tr style=\"text-align: right;\">\n",
       "      <th></th>\n",
       "      <th>raw_row_number</th>\n",
       "      <th>time</th>\n",
       "      <th>location</th>\n",
       "      <th>lat</th>\n",
       "      <th>lng</th>\n",
       "      <th>precinct</th>\n",
       "      <th>reporting_area</th>\n",
       "      <th>zone</th>\n",
       "      <th>subject_age</th>\n",
       "      <th>subject_race</th>\n",
       "      <th>...</th>\n",
       "      <th>raw_written_warning_issued</th>\n",
       "      <th>raw_traffic_citation_issued</th>\n",
       "      <th>raw_misd_state_citation_issued</th>\n",
       "      <th>raw_driver_searched</th>\n",
       "      <th>raw_passenger_searched</th>\n",
       "      <th>raw_search_consent</th>\n",
       "      <th>raw_search_arrest</th>\n",
       "      <th>raw_search_warrant</th>\n",
       "      <th>raw_search_inventory</th>\n",
       "      <th>raw_search_plain_view</th>\n",
       "    </tr>\n",
       "    <tr>\n",
       "      <th>date</th>\n",
       "      <th></th>\n",
       "      <th></th>\n",
       "      <th></th>\n",
       "      <th></th>\n",
       "      <th></th>\n",
       "      <th></th>\n",
       "      <th></th>\n",
       "      <th></th>\n",
       "      <th></th>\n",
       "      <th></th>\n",
       "      <th></th>\n",
       "      <th></th>\n",
       "      <th></th>\n",
       "      <th></th>\n",
       "      <th></th>\n",
       "      <th></th>\n",
       "      <th></th>\n",
       "      <th></th>\n",
       "      <th></th>\n",
       "      <th></th>\n",
       "      <th></th>\n",
       "    </tr>\n",
       "  </thead>\n",
       "  <tbody>\n",
       "    <tr>\n",
       "      <th>2010-10-10</th>\n",
       "      <td>232947</td>\n",
       "      <td>NaN</td>\n",
       "      <td>DOMINICAN DR &amp; ROSA L PARKS BLVD, NASHVILLE, T...</td>\n",
       "      <td>36.187925</td>\n",
       "      <td>-86.798519</td>\n",
       "      <td>6.0</td>\n",
       "      <td>4403.0</td>\n",
       "      <td>611.0</td>\n",
       "      <td>27.0</td>\n",
       "      <td>black</td>\n",
       "      <td>...</td>\n",
       "      <td>False</td>\n",
       "      <td>False</td>\n",
       "      <td>False</td>\n",
       "      <td>False</td>\n",
       "      <td>False</td>\n",
       "      <td>False</td>\n",
       "      <td>False</td>\n",
       "      <td>False</td>\n",
       "      <td>False</td>\n",
       "      <td>False</td>\n",
       "    </tr>\n",
       "    <tr>\n",
       "      <th>2010-10-10</th>\n",
       "      <td>237161</td>\n",
       "      <td>10:00:00</td>\n",
       "      <td>1122 LEBANON PIKE, NASHVILLE, TN, 37210</td>\n",
       "      <td>36.155521</td>\n",
       "      <td>-86.735902</td>\n",
       "      <td>5.0</td>\n",
       "      <td>9035.0</td>\n",
       "      <td>513.0</td>\n",
       "      <td>18.0</td>\n",
       "      <td>white</td>\n",
       "      <td>...</td>\n",
       "      <td>False</td>\n",
       "      <td>True</td>\n",
       "      <td>False</td>\n",
       "      <td>False</td>\n",
       "      <td>False</td>\n",
       "      <td>False</td>\n",
       "      <td>False</td>\n",
       "      <td>False</td>\n",
       "      <td>False</td>\n",
       "      <td>False</td>\n",
       "    </tr>\n",
       "    <tr>\n",
       "      <th>2010-10-10</th>\n",
       "      <td>232902</td>\n",
       "      <td>10:00:00</td>\n",
       "      <td>898 DAVIDSON DR, , TN, 37205</td>\n",
       "      <td>36.117420</td>\n",
       "      <td>-86.895593</td>\n",
       "      <td>1.0</td>\n",
       "      <td>5005.0</td>\n",
       "      <td>121.0</td>\n",
       "      <td>52.0</td>\n",
       "      <td>white</td>\n",
       "      <td>...</td>\n",
       "      <td>False</td>\n",
       "      <td>False</td>\n",
       "      <td>False</td>\n",
       "      <td>False</td>\n",
       "      <td>False</td>\n",
       "      <td>False</td>\n",
       "      <td>False</td>\n",
       "      <td>False</td>\n",
       "      <td>False</td>\n",
       "      <td>False</td>\n",
       "    </tr>\n",
       "    <tr>\n",
       "      <th>2010-10-10</th>\n",
       "      <td>233219</td>\n",
       "      <td>22:00:00</td>\n",
       "      <td>MURFREESBORO PIKE &amp; NASHBORO BLVD, ANTIOCH, TN...</td>\n",
       "      <td>36.086799</td>\n",
       "      <td>-86.648581</td>\n",
       "      <td>3.0</td>\n",
       "      <td>8891.0</td>\n",
       "      <td>325.0</td>\n",
       "      <td>25.0</td>\n",
       "      <td>white</td>\n",
       "      <td>...</td>\n",
       "      <td>False</td>\n",
       "      <td>False</td>\n",
       "      <td>False</td>\n",
       "      <td>False</td>\n",
       "      <td>False</td>\n",
       "      <td>False</td>\n",
       "      <td>False</td>\n",
       "      <td>False</td>\n",
       "      <td>False</td>\n",
       "      <td>False</td>\n",
       "    </tr>\n",
       "    <tr>\n",
       "      <th>2010-10-10</th>\n",
       "      <td>232780</td>\n",
       "      <td>01:00:00</td>\n",
       "      <td>BUCHANAN ST, NORTH, TN, 37208</td>\n",
       "      <td>36.180038</td>\n",
       "      <td>-86.809109</td>\n",
       "      <td>U</td>\n",
       "      <td>UNK</td>\n",
       "      <td>UNK</td>\n",
       "      <td>21.0</td>\n",
       "      <td>black</td>\n",
       "      <td>...</td>\n",
       "      <td>False</td>\n",
       "      <td>False</td>\n",
       "      <td>False</td>\n",
       "      <td>True</td>\n",
       "      <td>True</td>\n",
       "      <td>False</td>\n",
       "      <td>False</td>\n",
       "      <td>False</td>\n",
       "      <td>False</td>\n",
       "      <td>False</td>\n",
       "    </tr>\n",
       "  </tbody>\n",
       "</table>\n",
       "<p>5 rows × 40 columns</p>\n",
       "</div>"
      ],
      "text/plain": [
       "           raw_row_number      time  \\\n",
       "date                                  \n",
       "2010-10-10         232947       NaN   \n",
       "2010-10-10         237161  10:00:00   \n",
       "2010-10-10         232902  10:00:00   \n",
       "2010-10-10         233219  22:00:00   \n",
       "2010-10-10         232780  01:00:00   \n",
       "\n",
       "                                                     location        lat  \\\n",
       "date                                                                       \n",
       "2010-10-10  DOMINICAN DR & ROSA L PARKS BLVD, NASHVILLE, T...  36.187925   \n",
       "2010-10-10            1122 LEBANON PIKE, NASHVILLE, TN, 37210  36.155521   \n",
       "2010-10-10                       898 DAVIDSON DR, , TN, 37205  36.117420   \n",
       "2010-10-10  MURFREESBORO PIKE & NASHBORO BLVD, ANTIOCH, TN...  36.086799   \n",
       "2010-10-10                      BUCHANAN ST, NORTH, TN, 37208  36.180038   \n",
       "\n",
       "                  lng precinct reporting_area   zone  subject_age  \\\n",
       "date                                                                \n",
       "2010-10-10 -86.798519      6.0         4403.0  611.0         27.0   \n",
       "2010-10-10 -86.735902      5.0         9035.0  513.0         18.0   \n",
       "2010-10-10 -86.895593      1.0         5005.0  121.0         52.0   \n",
       "2010-10-10 -86.648581      3.0         8891.0  325.0         25.0   \n",
       "2010-10-10 -86.809109        U            UNK    UNK         21.0   \n",
       "\n",
       "           subject_race  ... raw_written_warning_issued  \\\n",
       "date                     ...                              \n",
       "2010-10-10        black  ...                      False   \n",
       "2010-10-10        white  ...                      False   \n",
       "2010-10-10        white  ...                      False   \n",
       "2010-10-10        white  ...                      False   \n",
       "2010-10-10        black  ...                      False   \n",
       "\n",
       "           raw_traffic_citation_issued raw_misd_state_citation_issued  \\\n",
       "date                                                                    \n",
       "2010-10-10                       False                          False   \n",
       "2010-10-10                        True                          False   \n",
       "2010-10-10                       False                          False   \n",
       "2010-10-10                       False                          False   \n",
       "2010-10-10                       False                          False   \n",
       "\n",
       "           raw_driver_searched  raw_passenger_searched  raw_search_consent  \\\n",
       "date                                                                         \n",
       "2010-10-10               False                   False               False   \n",
       "2010-10-10               False                   False               False   \n",
       "2010-10-10               False                   False               False   \n",
       "2010-10-10               False                   False               False   \n",
       "2010-10-10                True                    True               False   \n",
       "\n",
       "            raw_search_arrest raw_search_warrant raw_search_inventory  \\\n",
       "date                                                                    \n",
       "2010-10-10              False              False                False   \n",
       "2010-10-10              False              False                False   \n",
       "2010-10-10              False              False                False   \n",
       "2010-10-10              False              False                False   \n",
       "2010-10-10              False              False                False   \n",
       "\n",
       "           raw_search_plain_view  \n",
       "date                              \n",
       "2010-10-10                 False  \n",
       "2010-10-10                 False  \n",
       "2010-10-10                 False  \n",
       "2010-10-10                 False  \n",
       "2010-10-10                 False  \n",
       "\n",
       "[5 rows x 40 columns]"
      ]
     },
     "execution_count": 21,
     "metadata": {},
     "output_type": "execute_result"
    }
   ],
   "source": [
    "df.head()"
   ]
  },
  {
   "cell_type": "markdown",
   "metadata": {
    "pycharm": {
     "name": "#%% md\n"
    }
   },
   "source": [
    "# Analysis Questions"
   ]
  },
  {
   "cell_type": "markdown",
   "metadata": {
    "pycharm": {
     "name": "#%% md\n"
    }
   },
   "source": [
    "## Do Men or Women speed more often?\n",
    "\n",
    "* There is no specific speeding violation variable which we can use. The closest we can get it 'Moving Traffic Violation', which is what speeding should be categorised as. However other violations can also be categorised as this.\n",
    "\n",
    "* We will create two plots one based of this moving traffic violation, and another where speeding or mph is specifically mentioned in the officer notes, that way we can be more sure that we are analysing speeding in particular."
   ]
  },
  {
   "cell_type": "code",
   "execution_count": 22,
   "metadata": {
    "pycharm": {
     "name": "#%%\n"
    }
   },
   "outputs": [
    {
     "name": "stdout",
     "output_type": "stream",
     "text": [
      "subject_sex  female    male\n",
      "violation    632998  907863\n"
     ]
    },
    {
     "data": {
      "text/plain": [
       "<Axes: >"
      ]
     },
     "execution_count": 22,
     "metadata": {},
     "output_type": "execute_result"
    },
    {
     "data": {
      "image/png": "[encoded data removed]",
      "text/plain": [
       "<Figure size 640x480 with 1 Axes>"
      ]
     },
     "metadata": {},
     "output_type": "display_data"
    }
   ],
   "source": [
    "pivot = pd.pivot_table(df, columns='subject_sex',values='violation',aggfunc= lambda x: (x == 'moving traffic violation').sum()).drop(columns='UNKNOWN')\n",
    "print(pivot)\n",
    "pivot.plot(kind='bar',rot=0,color=COLORS)"
   ]
  },
  {
   "cell_type": "markdown",
   "metadata": {},
   "source": [
    "Checking notes for speed and mph"
   ]
  },
  {
   "cell_type": "code",
   "execution_count": 23,
   "metadata": {
    "pycharm": {
     "name": "#%%\n"
    }
   },
   "outputs": [
    {
     "name": "stdout",
     "output_type": "stream",
     "text": [
      "subject_sex  female   male\n",
      "violation     26993  37954\n"
     ]
    },
    {
     "data": {
      "text/plain": [
       "<Axes: >"
      ]
     },
     "execution_count": 23,
     "metadata": {},
     "output_type": "execute_result"
    },
    {
     "data": {
      "image/png": "[encoded data removed]",
      "text/plain": [
       "<Figure size 640x480 with 1 Axes>"
      ]
     },
     "metadata": {},
     "output_type": "display_data"
    }
   ],
   "source": [
    "speeding_table = df[df['notes'].str.contains(\"SPEED|-- MPH|-- mph|--mph|--MPH\")]\n",
    "pivot = pd.pivot_table(speeding_table, columns='subject_sex',values='violation',aggfunc= lambda x: (x == 'moving traffic violation').sum()).drop(columns='UNKNOWN')\n",
    "print(pivot)\n",
    "pivot.plot(kind='bar',rot=0,color=COLORS)"
   ]
  },
  {
   "cell_type": "markdown",
   "metadata": {
    "pycharm": {
     "name": "#%% md\n"
    }
   },
   "source": [
    "## Does gender affect the likelihood of getting searched when stopped?"
   ]
  },
  {
   "cell_type": "markdown",
   "metadata": {
    "pycharm": {
     "name": "#%% md\n"
    }
   },
   "source": [
    "### Checking Gender against if their person was searched"
   ]
  },
  {
   "cell_type": "code",
   "execution_count": 24,
   "metadata": {
    "pycharm": {
     "name": "#%%\n"
    }
   },
   "outputs": [
    {
     "name": "stdout",
     "output_type": "stream",
     "text": [
      "subject_sex    female   male\n",
      "search_person   19847  81218\n"
     ]
    },
    {
     "data": {
      "text/plain": [
       "<Axes: >"
      ]
     },
     "execution_count": 24,
     "metadata": {},
     "output_type": "execute_result"
    },
    {
     "data": {
      "image/png": "[encoded data removed]",
      "text/plain": [
       "<Figure size 640x480 with 1 Axes>"
      ]
     },
     "metadata": {},
     "output_type": "display_data"
    }
   ],
   "source": [
    "pivot = pd.pivot_table(df, columns='subject_sex',values='search_person',aggfunc= lambda x: (x == True).sum()).drop(columns='UNKNOWN')\n",
    "print(pivot)\n",
    "pivot.plot(kind='bar',rot=0,color=COLORS)"
   ]
  },
  {
   "cell_type": "markdown",
   "metadata": {
    "pycharm": {
     "name": "#%% md\n"
    }
   },
   "source": [
    "### Checking Gender against if their vehicle was searched"
   ]
  },
  {
   "cell_type": "code",
   "execution_count": 25,
   "metadata": {
    "pycharm": {
     "name": "#%%\n"
    }
   },
   "outputs": [
    {
     "name": "stdout",
     "output_type": "stream",
     "text": [
      "subject_sex     female   male\n",
      "search_vehicle   23472  76649\n"
     ]
    },
    {
     "data": {
      "text/plain": [
       "<Axes: >"
      ]
     },
     "execution_count": 25,
     "metadata": {},
     "output_type": "execute_result"
    },
    {
     "data": {
      "image/png": "[encoded data removed]",
      "text/plain": [
       "<Figure size 640x480 with 1 Axes>"
      ]
     },
     "metadata": {},
     "output_type": "display_data"
    }
   ],
   "source": [
    "pivot = pd.pivot_table(df, columns='subject_sex',values='search_vehicle',aggfunc= lambda x: (x == True).sum()).drop(columns='UNKNOWN')\n",
    "print(pivot)\n",
    "pivot.plot(kind='bar',rot=0,color=COLORS)"
   ]
  },
  {
   "cell_type": "markdown",
   "metadata": {
    "pycharm": {
     "name": "#%% md\n"
    }
   },
   "source": [
    "# During a search, how likely is the driver to be frisked?"
   ]
  },
  {
   "cell_type": "code",
   "execution_count": 26,
   "metadata": {
    "pycharm": {
     "name": "#%%\n"
    }
   },
   "outputs": [
    {
     "data": {
      "text/html": [
       "<div>\n",
       "<style scoped>\n",
       "    .dataframe tbody tr th:only-of-type {\n",
       "        vertical-align: middle;\n",
       "    }\n",
       "\n",
       "    .dataframe tbody tr th {\n",
       "        vertical-align: top;\n",
       "    }\n",
       "\n",
       "    .dataframe thead th {\n",
       "        text-align: right;\n",
       "    }\n",
       "</style>\n",
       "<table border=\"1\" class=\"dataframe\">\n",
       "  <thead>\n",
       "    <tr style=\"text-align: right;\">\n",
       "      <th></th>\n",
       "      <th>raw_row_number</th>\n",
       "      <th>time</th>\n",
       "      <th>location</th>\n",
       "      <th>lat</th>\n",
       "      <th>lng</th>\n",
       "      <th>precinct</th>\n",
       "      <th>reporting_area</th>\n",
       "      <th>zone</th>\n",
       "      <th>subject_age</th>\n",
       "      <th>subject_race</th>\n",
       "      <th>...</th>\n",
       "      <th>raw_written_warning_issued</th>\n",
       "      <th>raw_traffic_citation_issued</th>\n",
       "      <th>raw_misd_state_citation_issued</th>\n",
       "      <th>raw_driver_searched</th>\n",
       "      <th>raw_passenger_searched</th>\n",
       "      <th>raw_search_consent</th>\n",
       "      <th>raw_search_arrest</th>\n",
       "      <th>raw_search_warrant</th>\n",
       "      <th>raw_search_inventory</th>\n",
       "      <th>raw_search_plain_view</th>\n",
       "    </tr>\n",
       "    <tr>\n",
       "      <th>date</th>\n",
       "      <th></th>\n",
       "      <th></th>\n",
       "      <th></th>\n",
       "      <th></th>\n",
       "      <th></th>\n",
       "      <th></th>\n",
       "      <th></th>\n",
       "      <th></th>\n",
       "      <th></th>\n",
       "      <th></th>\n",
       "      <th></th>\n",
       "      <th></th>\n",
       "      <th></th>\n",
       "      <th></th>\n",
       "      <th></th>\n",
       "      <th></th>\n",
       "      <th></th>\n",
       "      <th></th>\n",
       "      <th></th>\n",
       "      <th></th>\n",
       "      <th></th>\n",
       "    </tr>\n",
       "  </thead>\n",
       "  <tbody>\n",
       "    <tr>\n",
       "      <th>2010-10-10</th>\n",
       "      <td>232947</td>\n",
       "      <td>NaN</td>\n",
       "      <td>DOMINICAN DR &amp; ROSA L PARKS BLVD, NASHVILLE, T...</td>\n",
       "      <td>36.187925</td>\n",
       "      <td>-86.798519</td>\n",
       "      <td>6.0</td>\n",
       "      <td>4403.0</td>\n",
       "      <td>611.0</td>\n",
       "      <td>27.0</td>\n",
       "      <td>black</td>\n",
       "      <td>...</td>\n",
       "      <td>False</td>\n",
       "      <td>False</td>\n",
       "      <td>False</td>\n",
       "      <td>False</td>\n",
       "      <td>False</td>\n",
       "      <td>False</td>\n",
       "      <td>False</td>\n",
       "      <td>False</td>\n",
       "      <td>False</td>\n",
       "      <td>False</td>\n",
       "    </tr>\n",
       "    <tr>\n",
       "      <th>2010-10-10</th>\n",
       "      <td>237161</td>\n",
       "      <td>10:00:00</td>\n",
       "      <td>1122 LEBANON PIKE, NASHVILLE, TN, 37210</td>\n",
       "      <td>36.155521</td>\n",
       "      <td>-86.735902</td>\n",
       "      <td>5.0</td>\n",
       "      <td>9035.0</td>\n",
       "      <td>513.0</td>\n",
       "      <td>18.0</td>\n",
       "      <td>white</td>\n",
       "      <td>...</td>\n",
       "      <td>False</td>\n",
       "      <td>True</td>\n",
       "      <td>False</td>\n",
       "      <td>False</td>\n",
       "      <td>False</td>\n",
       "      <td>False</td>\n",
       "      <td>False</td>\n",
       "      <td>False</td>\n",
       "      <td>False</td>\n",
       "      <td>False</td>\n",
       "    </tr>\n",
       "    <tr>\n",
       "      <th>2010-10-10</th>\n",
       "      <td>232902</td>\n",
       "      <td>10:00:00</td>\n",
       "      <td>898 DAVIDSON DR, , TN, 37205</td>\n",
       "      <td>36.117420</td>\n",
       "      <td>-86.895593</td>\n",
       "      <td>1.0</td>\n",
       "      <td>5005.0</td>\n",
       "      <td>121.0</td>\n",
       "      <td>52.0</td>\n",
       "      <td>white</td>\n",
       "      <td>...</td>\n",
       "      <td>False</td>\n",
       "      <td>False</td>\n",
       "      <td>False</td>\n",
       "      <td>False</td>\n",
       "      <td>False</td>\n",
       "      <td>False</td>\n",
       "      <td>False</td>\n",
       "      <td>False</td>\n",
       "      <td>False</td>\n",
       "      <td>False</td>\n",
       "    </tr>\n",
       "    <tr>\n",
       "      <th>2010-10-10</th>\n",
       "      <td>233219</td>\n",
       "      <td>22:00:00</td>\n",
       "      <td>MURFREESBORO PIKE &amp; NASHBORO BLVD, ANTIOCH, TN...</td>\n",
       "      <td>36.086799</td>\n",
       "      <td>-86.648581</td>\n",
       "      <td>3.0</td>\n",
       "      <td>8891.0</td>\n",
       "      <td>325.0</td>\n",
       "      <td>25.0</td>\n",
       "      <td>white</td>\n",
       "      <td>...</td>\n",
       "      <td>False</td>\n",
       "      <td>False</td>\n",
       "      <td>False</td>\n",
       "      <td>False</td>\n",
       "      <td>False</td>\n",
       "      <td>False</td>\n",
       "      <td>False</td>\n",
       "      <td>False</td>\n",
       "      <td>False</td>\n",
       "      <td>False</td>\n",
       "    </tr>\n",
       "    <tr>\n",
       "      <th>2010-10-10</th>\n",
       "      <td>232780</td>\n",
       "      <td>01:00:00</td>\n",
       "      <td>BUCHANAN ST, NORTH, TN, 37208</td>\n",
       "      <td>36.180038</td>\n",
       "      <td>-86.809109</td>\n",
       "      <td>U</td>\n",
       "      <td>UNK</td>\n",
       "      <td>UNK</td>\n",
       "      <td>21.0</td>\n",
       "      <td>black</td>\n",
       "      <td>...</td>\n",
       "      <td>False</td>\n",
       "      <td>False</td>\n",
       "      <td>False</td>\n",
       "      <td>True</td>\n",
       "      <td>True</td>\n",
       "      <td>False</td>\n",
       "      <td>False</td>\n",
       "      <td>False</td>\n",
       "      <td>False</td>\n",
       "      <td>False</td>\n",
       "    </tr>\n",
       "  </tbody>\n",
       "</table>\n",
       "<p>5 rows × 40 columns</p>\n",
       "</div>"
      ],
      "text/plain": [
       "           raw_row_number      time  \\\n",
       "date                                  \n",
       "2010-10-10         232947       NaN   \n",
       "2010-10-10         237161  10:00:00   \n",
       "2010-10-10         232902  10:00:00   \n",
       "2010-10-10         233219  22:00:00   \n",
       "2010-10-10         232780  01:00:00   \n",
       "\n",
       "                                                     location        lat  \\\n",
       "date                                                                       \n",
       "2010-10-10  DOMINICAN DR & ROSA L PARKS BLVD, NASHVILLE, T...  36.187925   \n",
       "2010-10-10            1122 LEBANON PIKE, NASHVILLE, TN, 37210  36.155521   \n",
       "2010-10-10                       898 DAVIDSON DR, , TN, 37205  36.117420   \n",
       "2010-10-10  MURFREESBORO PIKE & NASHBORO BLVD, ANTIOCH, TN...  36.086799   \n",
       "2010-10-10                      BUCHANAN ST, NORTH, TN, 37208  36.180038   \n",
       "\n",
       "                  lng precinct reporting_area   zone  subject_age  \\\n",
       "date                                                                \n",
       "2010-10-10 -86.798519      6.0         4403.0  611.0         27.0   \n",
       "2010-10-10 -86.735902      5.0         9035.0  513.0         18.0   \n",
       "2010-10-10 -86.895593      1.0         5005.0  121.0         52.0   \n",
       "2010-10-10 -86.648581      3.0         8891.0  325.0         25.0   \n",
       "2010-10-10 -86.809109        U            UNK    UNK         21.0   \n",
       "\n",
       "           subject_race  ... raw_written_warning_issued  \\\n",
       "date                     ...                              \n",
       "2010-10-10        black  ...                      False   \n",
       "2010-10-10        white  ...                      False   \n",
       "2010-10-10        white  ...                      False   \n",
       "2010-10-10        white  ...                      False   \n",
       "2010-10-10        black  ...                      False   \n",
       "\n",
       "           raw_traffic_citation_issued raw_misd_state_citation_issued  \\\n",
       "date                                                                    \n",
       "2010-10-10                       False                          False   \n",
       "2010-10-10                        True                          False   \n",
       "2010-10-10                       False                          False   \n",
       "2010-10-10                       False                          False   \n",
       "2010-10-10                       False                          False   \n",
       "\n",
       "           raw_driver_searched  raw_passenger_searched  raw_search_consent  \\\n",
       "date                                                                         \n",
       "2010-10-10               False                   False               False   \n",
       "2010-10-10               False                   False               False   \n",
       "2010-10-10               False                   False               False   \n",
       "2010-10-10               False                   False               False   \n",
       "2010-10-10                True                    True               False   \n",
       "\n",
       "            raw_search_arrest raw_search_warrant raw_search_inventory  \\\n",
       "date                                                                    \n",
       "2010-10-10              False              False                False   \n",
       "2010-10-10              False              False                False   \n",
       "2010-10-10              False              False                False   \n",
       "2010-10-10              False              False                False   \n",
       "2010-10-10              False              False                False   \n",
       "\n",
       "           raw_search_plain_view  \n",
       "date                              \n",
       "2010-10-10                 False  \n",
       "2010-10-10                 False  \n",
       "2010-10-10                 False  \n",
       "2010-10-10                 False  \n",
       "2010-10-10                 False  \n",
       "\n",
       "[5 rows x 40 columns]"
      ]
     },
     "execution_count": 26,
     "metadata": {},
     "output_type": "execute_result"
    }
   ],
   "source": [
    "df.head()"
   ]
  },
  {
   "cell_type": "code",
   "execution_count": 27,
   "metadata": {
    "pycharm": {
     "name": "#%%\n"
    }
   },
   "outputs": [
    {
     "data": {
      "image/png": "[encoded data removed]",
      "text/plain": [
       "<Figure size 640x480 with 1 Axes>"
      ]
     },
     "metadata": {},
     "output_type": "display_data"
    }
   ],
   "source": [
    "frisked = len(df[(df['search_conducted'] == True) & (df['frisk_performed'] == True)])\n",
    "not_frisked = len(df[(df['search_conducted'] == True) & (df['frisk_performed'] == False)])\n",
    "labels = ['Frisked', 'Not Frisked']\n",
    "sizes = [frisked, not_frisked]\n",
    "plt.pie(sizes, labels=labels,\n",
    "        autopct='%1.1f%%', startangle=140, colors=COLORS)\n",
    "plt.axis('equal')\n",
    "plt.title('When stopped, how often is the person frisked?')\n",
    "plt.show()"
   ]
  },
  {
   "cell_type": "markdown",
   "metadata": {
    "pycharm": {
     "name": "#%% md\n"
    }
   },
   "source": [
    "## Which Year had the least number of stops\n",
    "\n",
    "* Grouping by Year, then counting rows per year\n",
    "* Dataset goes from 2010-01-01 to 2019-03-24, so removing 2019 data as it is not representative of the full year"
   ]
  },
  {
   "cell_type": "code",
   "execution_count": 28,
   "metadata": {
    "pycharm": {
     "name": "#%%\n"
    }
   },
   "outputs": [
    {
     "name": "stdout",
     "output_type": "stream",
     "text": [
      "date\n",
      "2010-12-31    310608\n",
      "2011-12-31    393245\n",
      "2012-12-31    444134\n",
      "2013-12-31    412689\n",
      "2014-12-31    413100\n",
      "2015-12-31    357257\n",
      "2016-12-31    297243\n",
      "2017-12-31    245551\n",
      "2018-12-31    204209\n",
      "Freq: A-DEC, Name: raw_row_number, dtype: int64\n"
     ]
    },
    {
     "data": {
      "text/plain": [
       "<Axes: xlabel='date'>"
      ]
     },
     "execution_count": 28,
     "metadata": {},
     "output_type": "execute_result"
    },
    {
     "data": {
      "image/png": "[encoded data removed]",
      "text/plain": [
       "<Figure size 640x480 with 1 Axes>"
      ]
     },
     "metadata": {},
     "output_type": "display_data"
    }
   ],
   "source": [
    "group = df['raw_row_number'].groupby(pd.Grouper(freq='Y')).agg('count').drop(index='2019-12-31')\n",
    "print(group)\n",
    "group.plot(y='raw_row_number',use_index=True)"
   ]
  },
  {
   "cell_type": "markdown",
   "metadata": {
    "pycharm": {
     "name": "#%% md\n"
    }
   },
   "source": [
    "## Does time of day affect arrest rate?\n",
    "## Do most stops occur at night?"
   ]
  },
  {
   "cell_type": "code",
   "execution_count": 29,
   "metadata": {},
   "outputs": [
    {
     "data": {
      "text/html": [
       "<div>\n",
       "<style scoped>\n",
       "    .dataframe tbody tr th:only-of-type {\n",
       "        vertical-align: middle;\n",
       "    }\n",
       "\n",
       "    .dataframe tbody tr th {\n",
       "        vertical-align: top;\n",
       "    }\n",
       "\n",
       "    .dataframe thead th {\n",
       "        text-align: right;\n",
       "    }\n",
       "</style>\n",
       "<table border=\"1\" class=\"dataframe\">\n",
       "  <thead>\n",
       "    <tr style=\"text-align: right;\">\n",
       "      <th></th>\n",
       "      <th>raw_row_number</th>\n",
       "      <th>time</th>\n",
       "      <th>location</th>\n",
       "      <th>lat</th>\n",
       "      <th>lng</th>\n",
       "      <th>precinct</th>\n",
       "      <th>reporting_area</th>\n",
       "      <th>zone</th>\n",
       "      <th>subject_age</th>\n",
       "      <th>subject_race</th>\n",
       "      <th>...</th>\n",
       "      <th>raw_written_warning_issued</th>\n",
       "      <th>raw_traffic_citation_issued</th>\n",
       "      <th>raw_misd_state_citation_issued</th>\n",
       "      <th>raw_driver_searched</th>\n",
       "      <th>raw_passenger_searched</th>\n",
       "      <th>raw_search_consent</th>\n",
       "      <th>raw_search_arrest</th>\n",
       "      <th>raw_search_warrant</th>\n",
       "      <th>raw_search_inventory</th>\n",
       "      <th>raw_search_plain_view</th>\n",
       "    </tr>\n",
       "    <tr>\n",
       "      <th>date</th>\n",
       "      <th></th>\n",
       "      <th></th>\n",
       "      <th></th>\n",
       "      <th></th>\n",
       "      <th></th>\n",
       "      <th></th>\n",
       "      <th></th>\n",
       "      <th></th>\n",
       "      <th></th>\n",
       "      <th></th>\n",
       "      <th></th>\n",
       "      <th></th>\n",
       "      <th></th>\n",
       "      <th></th>\n",
       "      <th></th>\n",
       "      <th></th>\n",
       "      <th></th>\n",
       "      <th></th>\n",
       "      <th></th>\n",
       "      <th></th>\n",
       "      <th></th>\n",
       "    </tr>\n",
       "  </thead>\n",
       "  <tbody>\n",
       "    <tr>\n",
       "      <th>2010-10-10</th>\n",
       "      <td>232947</td>\n",
       "      <td>NaN</td>\n",
       "      <td>DOMINICAN DR &amp; ROSA L PARKS BLVD, NASHVILLE, T...</td>\n",
       "      <td>36.187925</td>\n",
       "      <td>-86.798519</td>\n",
       "      <td>6.0</td>\n",
       "      <td>4403.0</td>\n",
       "      <td>611.0</td>\n",
       "      <td>27.0</td>\n",
       "      <td>black</td>\n",
       "      <td>...</td>\n",
       "      <td>False</td>\n",
       "      <td>False</td>\n",
       "      <td>False</td>\n",
       "      <td>False</td>\n",
       "      <td>False</td>\n",
       "      <td>False</td>\n",
       "      <td>False</td>\n",
       "      <td>False</td>\n",
       "      <td>False</td>\n",
       "      <td>False</td>\n",
       "    </tr>\n",
       "    <tr>\n",
       "      <th>2010-10-10</th>\n",
       "      <td>237161</td>\n",
       "      <td>10:00:00</td>\n",
       "      <td>1122 LEBANON PIKE, NASHVILLE, TN, 37210</td>\n",
       "      <td>36.155521</td>\n",
       "      <td>-86.735902</td>\n",
       "      <td>5.0</td>\n",
       "      <td>9035.0</td>\n",
       "      <td>513.0</td>\n",
       "      <td>18.0</td>\n",
       "      <td>white</td>\n",
       "      <td>...</td>\n",
       "      <td>False</td>\n",
       "      <td>True</td>\n",
       "      <td>False</td>\n",
       "      <td>False</td>\n",
       "      <td>False</td>\n",
       "      <td>False</td>\n",
       "      <td>False</td>\n",
       "      <td>False</td>\n",
       "      <td>False</td>\n",
       "      <td>False</td>\n",
       "    </tr>\n",
       "    <tr>\n",
       "      <th>2010-10-10</th>\n",
       "      <td>232902</td>\n",
       "      <td>10:00:00</td>\n",
       "      <td>898 DAVIDSON DR, , TN, 37205</td>\n",
       "      <td>36.117420</td>\n",
       "      <td>-86.895593</td>\n",
       "      <td>1.0</td>\n",
       "      <td>5005.0</td>\n",
       "      <td>121.0</td>\n",
       "      <td>52.0</td>\n",
       "      <td>white</td>\n",
       "      <td>...</td>\n",
       "      <td>False</td>\n",
       "      <td>False</td>\n",
       "      <td>False</td>\n",
       "      <td>False</td>\n",
       "      <td>False</td>\n",
       "      <td>False</td>\n",
       "      <td>False</td>\n",
       "      <td>False</td>\n",
       "      <td>False</td>\n",
       "      <td>False</td>\n",
       "    </tr>\n",
       "    <tr>\n",
       "      <th>2010-10-10</th>\n",
       "      <td>233219</td>\n",
       "      <td>22:00:00</td>\n",
       "      <td>MURFREESBORO PIKE &amp; NASHBORO BLVD, ANTIOCH, TN...</td>\n",
       "      <td>36.086799</td>\n",
       "      <td>-86.648581</td>\n",
       "      <td>3.0</td>\n",
       "      <td>8891.0</td>\n",
       "      <td>325.0</td>\n",
       "      <td>25.0</td>\n",
       "      <td>white</td>\n",
       "      <td>...</td>\n",
       "      <td>False</td>\n",
       "      <td>False</td>\n",
       "      <td>False</td>\n",
       "      <td>False</td>\n",
       "      <td>False</td>\n",
       "      <td>False</td>\n",
       "      <td>False</td>\n",
       "      <td>False</td>\n",
       "      <td>False</td>\n",
       "      <td>False</td>\n",
       "    </tr>\n",
       "    <tr>\n",
       "      <th>2010-10-10</th>\n",
       "      <td>232780</td>\n",
       "      <td>01:00:00</td>\n",
       "      <td>BUCHANAN ST, NORTH, TN, 37208</td>\n",
       "      <td>36.180038</td>\n",
       "      <td>-86.809109</td>\n",
       "      <td>U</td>\n",
       "      <td>UNK</td>\n",
       "      <td>UNK</td>\n",
       "      <td>21.0</td>\n",
       "      <td>black</td>\n",
       "      <td>...</td>\n",
       "      <td>False</td>\n",
       "      <td>False</td>\n",
       "      <td>False</td>\n",
       "      <td>True</td>\n",
       "      <td>True</td>\n",
       "      <td>False</td>\n",
       "      <td>False</td>\n",
       "      <td>False</td>\n",
       "      <td>False</td>\n",
       "      <td>False</td>\n",
       "    </tr>\n",
       "  </tbody>\n",
       "</table>\n",
       "<p>5 rows × 40 columns</p>\n",
       "</div>"
      ],
      "text/plain": [
       "           raw_row_number      time  \\\n",
       "date                                  \n",
       "2010-10-10         232947       NaN   \n",
       "2010-10-10         237161  10:00:00   \n",
       "2010-10-10         232902  10:00:00   \n",
       "2010-10-10         233219  22:00:00   \n",
       "2010-10-10         232780  01:00:00   \n",
       "\n",
       "                                                     location        lat  \\\n",
       "date                                                                       \n",
       "2010-10-10  DOMINICAN DR & ROSA L PARKS BLVD, NASHVILLE, T...  36.187925   \n",
       "2010-10-10            1122 LEBANON PIKE, NASHVILLE, TN, 37210  36.155521   \n",
       "2010-10-10                       898 DAVIDSON DR, , TN, 37205  36.117420   \n",
       "2010-10-10  MURFREESBORO PIKE & NASHBORO BLVD, ANTIOCH, TN...  36.086799   \n",
       "2010-10-10                      BUCHANAN ST, NORTH, TN, 37208  36.180038   \n",
       "\n",
       "                  lng precinct reporting_area   zone  subject_age  \\\n",
       "date                                                                \n",
       "2010-10-10 -86.798519      6.0         4403.0  611.0         27.0   \n",
       "2010-10-10 -86.735902      5.0         9035.0  513.0         18.0   \n",
       "2010-10-10 -86.895593      1.0         5005.0  121.0         52.0   \n",
       "2010-10-10 -86.648581      3.0         8891.0  325.0         25.0   \n",
       "2010-10-10 -86.809109        U            UNK    UNK         21.0   \n",
       "\n",
       "           subject_race  ... raw_written_warning_issued  \\\n",
       "date                     ...                              \n",
       "2010-10-10        black  ...                      False   \n",
       "2010-10-10        white  ...                      False   \n",
       "2010-10-10        white  ...                      False   \n",
       "2010-10-10        white  ...                      False   \n",
       "2010-10-10        black  ...                      False   \n",
       "\n",
       "           raw_traffic_citation_issued raw_misd_state_citation_issued  \\\n",
       "date                                                                    \n",
       "2010-10-10                       False                          False   \n",
       "2010-10-10                        True                          False   \n",
       "2010-10-10                       False                          False   \n",
       "2010-10-10                       False                          False   \n",
       "2010-10-10                       False                          False   \n",
       "\n",
       "           raw_driver_searched  raw_passenger_searched  raw_search_consent  \\\n",
       "date                                                                         \n",
       "2010-10-10               False                   False               False   \n",
       "2010-10-10               False                   False               False   \n",
       "2010-10-10               False                   False               False   \n",
       "2010-10-10               False                   False               False   \n",
       "2010-10-10                True                    True               False   \n",
       "\n",
       "            raw_search_arrest raw_search_warrant raw_search_inventory  \\\n",
       "date                                                                    \n",
       "2010-10-10              False              False                False   \n",
       "2010-10-10              False              False                False   \n",
       "2010-10-10              False              False                False   \n",
       "2010-10-10              False              False                False   \n",
       "2010-10-10              False              False                False   \n",
       "\n",
       "           raw_search_plain_view  \n",
       "date                              \n",
       "2010-10-10                 False  \n",
       "2010-10-10                 False  \n",
       "2010-10-10                 False  \n",
       "2010-10-10                 False  \n",
       "2010-10-10                 False  \n",
       "\n",
       "[5 rows x 40 columns]"
      ]
     },
     "execution_count": 29,
     "metadata": {},
     "output_type": "execute_result"
    }
   ],
   "source": [
    "df.head()"
   ]
  },
  {
   "cell_type": "code",
   "execution_count": 30,
   "metadata": {},
   "outputs": [],
   "source": [
    "df_time = df[df['time'].notna()]"
   ]
  },
  {
   "cell_type": "code",
   "execution_count": 31,
   "metadata": {
    "pycharm": {
     "name": "#%%\n"
    }
   },
   "outputs": [
    {
     "name": "stderr",
     "output_type": "stream",
     "text": [
      "C:\\Users\\Coach\\AppData\\Local\\Temp\\ipykernel_6424\\816654075.py:2: SettingWithCopyWarning: \n",
      "A value is trying to be set on a copy of a slice from a DataFrame.\n",
      "Try using .loc[row_indexer,col_indexer] = value instead\n",
      "\n",
      "See the caveats in the documentation: https://pandas.pydata.org/pandas-docs/stable/user_guide/indexing.html#returning-a-view-versus-a-copy\n",
      "  df_time['time'] = pd.to_datetime(df_time['time'],format='%H:%M:%S')\n"
     ]
    }
   ],
   "source": [
    "## Need to create time data subset with time NaN rows removed\n",
    "df_time['time'] = pd.to_datetime(df_time['time'],format='%H:%M:%S')"
   ]
  },
  {
   "cell_type": "code",
   "execution_count": 32,
   "metadata": {
    "pycharm": {
     "name": "#%%\n"
    }
   },
   "outputs": [
    {
     "name": "stdout",
     "output_type": "stream",
     "text": [
      "time\n",
      "0     150876\n",
      "1     107332\n",
      "2      78714\n",
      "3      62942\n",
      "4      53922\n",
      "5      68576\n",
      "6      44621\n",
      "7      96003\n",
      "8     144039\n",
      "9     157980\n",
      "10    167577\n",
      "11    126214\n",
      "12    161043\n",
      "13    155082\n",
      "14    105010\n",
      "15    160618\n",
      "16    183048\n",
      "17    156612\n",
      "18    126323\n",
      "19    145321\n",
      "20    164384\n",
      "21    162774\n",
      "22    131877\n",
      "23    175916\n",
      "Name: raw_row_number, dtype: int64\n"
     ]
    },
    {
     "data": {
      "text/plain": [
       "<Axes: xlabel='time'>"
      ]
     },
     "execution_count": 32,
     "metadata": {},
     "output_type": "execute_result"
    },
    {
     "data": {
      "image/png": "[encoded data removed]",
      "text/plain": [
       "<Figure size 640x480 with 1 Axes>"
      ]
     },
     "metadata": {},
     "output_type": "display_data"
    }
   ],
   "source": [
    "group = df_time['raw_row_number'].groupby(df_time.time.dt.hour).agg('count')\n",
    "print(group)\n",
    "group.plot()"
   ]
  },
  {
   "cell_type": "markdown",
   "metadata": {
    "pycharm": {
     "name": "#%% md\n"
    }
   },
   "source": [
    "## How does drug activity change by time of day?"
   ]
  },
  {
   "cell_type": "code",
   "execution_count": 33,
   "metadata": {
    "pycharm": {
     "name": "#%%\n"
    }
   },
   "outputs": [
    {
     "name": "stdout",
     "output_type": "stream",
     "text": [
      "      contraband_drugs\n",
      "time                  \n",
      "0                 1560\n",
      "1                 1431\n",
      "2                 1207\n",
      "3                  860\n",
      "4                  611\n",
      "5                  326\n",
      "6                  259\n",
      "7                  155\n",
      "8                  195\n",
      "9                  312\n",
      "10                 436\n",
      "11                 481\n",
      "12                 619\n",
      "13                 792\n",
      "14                 868\n",
      "15                 873\n",
      "16                1090\n",
      "17                1138\n",
      "18                1029\n",
      "19                1003\n",
      "20                1247\n",
      "21                1520\n",
      "22                1664\n",
      "23                1639\n"
     ]
    },
    {
     "data": {
      "text/plain": [
       "<Axes: xlabel='time'>"
      ]
     },
     "execution_count": 33,
     "metadata": {},
     "output_type": "execute_result"
    },
    {
     "data": {
      "image/png": "[encoded data removed]",
      "text/plain": [
       "<Figure size 640x480 with 1 Axes>"
      ]
     },
     "metadata": {},
     "output_type": "display_data"
    }
   ],
   "source": [
    "group = df_time.groupby(df_time.time.dt.hour).agg({'contraband_drugs': lambda x: (x == True).sum()})\n",
    "print(group)\n",
    "group.plot()"
   ]
  },
  {
   "cell_type": "markdown",
   "metadata": {
    "pycharm": {
     "name": "#%% md\n"
    }
   },
   "source": [
    "# Analyse the effect of weather?"
   ]
  },
  {
   "cell_type": "markdown",
   "metadata": {},
   "source": [
    "## Loading in the historical Weather Data\n",
    "* I was not able to retrieve the data the for the full time span available for the policing dataset\n",
    "* The weather data set spans from 2016-03-01 to 2018-10-31, with daily information"
   ]
  },
  {
   "cell_type": "code",
   "execution_count": 34,
   "metadata": {
    "pycharm": {
     "name": "#%%\n"
    }
   },
   "outputs": [],
   "source": [
    "df_weather = pd.read_csv('weather_V2.csv')"
   ]
  },
  {
   "cell_type": "code",
   "execution_count": 35,
   "metadata": {
    "pycharm": {
     "name": "#%%\n"
    },
    "scrolled": false
   },
   "outputs": [
    {
     "data": {
      "text/html": [
       "<div>\n",
       "<style scoped>\n",
       "    .dataframe tbody tr th:only-of-type {\n",
       "        vertical-align: middle;\n",
       "    }\n",
       "\n",
       "    .dataframe tbody tr th {\n",
       "        vertical-align: top;\n",
       "    }\n",
       "\n",
       "    .dataframe thead th {\n",
       "        text-align: right;\n",
       "    }\n",
       "</style>\n",
       "<table border=\"1\" class=\"dataframe\">\n",
       "  <thead>\n",
       "    <tr style=\"text-align: right;\">\n",
       "      <th></th>\n",
       "      <th>name</th>\n",
       "      <th>datetime</th>\n",
       "      <th>tempmax</th>\n",
       "      <th>tempmin</th>\n",
       "      <th>temp</th>\n",
       "      <th>feelslikemax</th>\n",
       "      <th>feelslikemin</th>\n",
       "      <th>feelslike</th>\n",
       "      <th>dew</th>\n",
       "      <th>humidity</th>\n",
       "      <th>...</th>\n",
       "      <th>solarenergy</th>\n",
       "      <th>uvindex</th>\n",
       "      <th>severerisk</th>\n",
       "      <th>sunrise</th>\n",
       "      <th>sunset</th>\n",
       "      <th>moonphase</th>\n",
       "      <th>conditions</th>\n",
       "      <th>description</th>\n",
       "      <th>icon</th>\n",
       "      <th>stations</th>\n",
       "    </tr>\n",
       "  </thead>\n",
       "  <tbody>\n",
       "    <tr>\n",
       "      <th>0</th>\n",
       "      <td>Nashville</td>\n",
       "      <td>2016-03-01</td>\n",
       "      <td>17.4</td>\n",
       "      <td>2.3</td>\n",
       "      <td>9.1</td>\n",
       "      <td>17.4</td>\n",
       "      <td>-2.3</td>\n",
       "      <td>7.9</td>\n",
       "      <td>4.7</td>\n",
       "      <td>74.1</td>\n",
       "      <td>...</td>\n",
       "      <td>11.3</td>\n",
       "      <td>6</td>\n",
       "      <td>NaN</td>\n",
       "      <td>2016-03-01T06:16:38</td>\n",
       "      <td>2016-03-01T17:42:30</td>\n",
       "      <td>0.75</td>\n",
       "      <td>Rain, Partially cloudy</td>\n",
       "      <td>Partly cloudy throughout the day with rain.</td>\n",
       "      <td>rain</td>\n",
       "      <td>72327013897,KBNA,KMQY,KM91,72327313827,KSYI,72...</td>\n",
       "    </tr>\n",
       "    <tr>\n",
       "      <th>1</th>\n",
       "      <td>Nashville</td>\n",
       "      <td>2016-03-02</td>\n",
       "      <td>8.6</td>\n",
       "      <td>-0.3</td>\n",
       "      <td>3.5</td>\n",
       "      <td>8.6</td>\n",
       "      <td>-4.7</td>\n",
       "      <td>1.2</td>\n",
       "      <td>-5.3</td>\n",
       "      <td>54.0</td>\n",
       "      <td>...</td>\n",
       "      <td>20.4</td>\n",
       "      <td>8</td>\n",
       "      <td>NaN</td>\n",
       "      <td>2016-03-02T06:15:17</td>\n",
       "      <td>2016-03-02T17:43:26</td>\n",
       "      <td>0.79</td>\n",
       "      <td>Snow, Rain, Partially cloudy</td>\n",
       "      <td>Clearing in the afternoon with morning rain or...</td>\n",
       "      <td>rain</td>\n",
       "      <td>72327013897,KBNA,KMQY,KM91,72327313827,KSYI,72...</td>\n",
       "    </tr>\n",
       "    <tr>\n",
       "      <th>2</th>\n",
       "      <td>Nashville</td>\n",
       "      <td>2016-03-03</td>\n",
       "      <td>5.2</td>\n",
       "      <td>2.6</td>\n",
       "      <td>4.0</td>\n",
       "      <td>5.1</td>\n",
       "      <td>0.1</td>\n",
       "      <td>2.6</td>\n",
       "      <td>1.0</td>\n",
       "      <td>82.1</td>\n",
       "      <td>...</td>\n",
       "      <td>8.8</td>\n",
       "      <td>5</td>\n",
       "      <td>NaN</td>\n",
       "      <td>2016-03-03T06:13:56</td>\n",
       "      <td>2016-03-03T17:44:21</td>\n",
       "      <td>0.83</td>\n",
       "      <td>Rain, Partially cloudy</td>\n",
       "      <td>Partly cloudy throughout the day with rain in ...</td>\n",
       "      <td>rain</td>\n",
       "      <td>72327013897,KBNA,KMQY,KM91,72327313827,KSYI,72...</td>\n",
       "    </tr>\n",
       "    <tr>\n",
       "      <th>3</th>\n",
       "      <td>Nashville</td>\n",
       "      <td>2016-03-04</td>\n",
       "      <td>8.9</td>\n",
       "      <td>2.1</td>\n",
       "      <td>5.8</td>\n",
       "      <td>7.1</td>\n",
       "      <td>2.1</td>\n",
       "      <td>4.7</td>\n",
       "      <td>3.2</td>\n",
       "      <td>83.7</td>\n",
       "      <td>...</td>\n",
       "      <td>14.5</td>\n",
       "      <td>6</td>\n",
       "      <td>NaN</td>\n",
       "      <td>2016-03-04T06:12:35</td>\n",
       "      <td>2016-03-04T17:45:16</td>\n",
       "      <td>0.86</td>\n",
       "      <td>Partially cloudy</td>\n",
       "      <td>Partly cloudy throughout the day.</td>\n",
       "      <td>partly-cloudy-day</td>\n",
       "      <td>72327013897,KCKV,KBNA,KMQY,KM91,72327313827,KS...</td>\n",
       "    </tr>\n",
       "    <tr>\n",
       "      <th>4</th>\n",
       "      <td>Nashville</td>\n",
       "      <td>2016-03-05</td>\n",
       "      <td>17.6</td>\n",
       "      <td>-1.3</td>\n",
       "      <td>7.8</td>\n",
       "      <td>17.6</td>\n",
       "      <td>-1.3</td>\n",
       "      <td>7.3</td>\n",
       "      <td>1.1</td>\n",
       "      <td>67.7</td>\n",
       "      <td>...</td>\n",
       "      <td>16.0</td>\n",
       "      <td>7</td>\n",
       "      <td>NaN</td>\n",
       "      <td>2016-03-05T06:11:13</td>\n",
       "      <td>2016-03-05T17:46:11</td>\n",
       "      <td>0.89</td>\n",
       "      <td>Partially cloudy</td>\n",
       "      <td>Partly cloudy throughout the day.</td>\n",
       "      <td>partly-cloudy-day</td>\n",
       "      <td>72327013897,KCKV,KBNA,KMQY,KM91,72327313827,KS...</td>\n",
       "    </tr>\n",
       "  </tbody>\n",
       "</table>\n",
       "<p>5 rows × 33 columns</p>\n",
       "</div>"
      ],
      "text/plain": [
       "        name    datetime  tempmax  tempmin  temp  feelslikemax  feelslikemin  \\\n",
       "0  Nashville  2016-03-01     17.4      2.3   9.1          17.4          -2.3   \n",
       "1  Nashville  2016-03-02      8.6     -0.3   3.5           8.6          -4.7   \n",
       "2  Nashville  2016-03-03      5.2      2.6   4.0           5.1           0.1   \n",
       "3  Nashville  2016-03-04      8.9      2.1   5.8           7.1           2.1   \n",
       "4  Nashville  2016-03-05     17.6     -1.3   7.8          17.6          -1.3   \n",
       "\n",
       "   feelslike  dew  humidity  ...  solarenergy  uvindex  severerisk  \\\n",
       "0        7.9  4.7      74.1  ...         11.3        6         NaN   \n",
       "1        1.2 -5.3      54.0  ...         20.4        8         NaN   \n",
       "2        2.6  1.0      82.1  ...          8.8        5         NaN   \n",
       "3        4.7  3.2      83.7  ...         14.5        6         NaN   \n",
       "4        7.3  1.1      67.7  ...         16.0        7         NaN   \n",
       "\n",
       "               sunrise               sunset  moonphase  \\\n",
       "0  2016-03-01T06:16:38  2016-03-01T17:42:30       0.75   \n",
       "1  2016-03-02T06:15:17  2016-03-02T17:43:26       0.79   \n",
       "2  2016-03-03T06:13:56  2016-03-03T17:44:21       0.83   \n",
       "3  2016-03-04T06:12:35  2016-03-04T17:45:16       0.86   \n",
       "4  2016-03-05T06:11:13  2016-03-05T17:46:11       0.89   \n",
       "\n",
       "                     conditions  \\\n",
       "0        Rain, Partially cloudy   \n",
       "1  Snow, Rain, Partially cloudy   \n",
       "2        Rain, Partially cloudy   \n",
       "3              Partially cloudy   \n",
       "4              Partially cloudy   \n",
       "\n",
       "                                         description               icon  \\\n",
       "0        Partly cloudy throughout the day with rain.               rain   \n",
       "1  Clearing in the afternoon with morning rain or...               rain   \n",
       "2  Partly cloudy throughout the day with rain in ...               rain   \n",
       "3                  Partly cloudy throughout the day.  partly-cloudy-day   \n",
       "4                  Partly cloudy throughout the day.  partly-cloudy-day   \n",
       "\n",
       "                                            stations  \n",
       "0  72327013897,KBNA,KMQY,KM91,72327313827,KSYI,72...  \n",
       "1  72327013897,KBNA,KMQY,KM91,72327313827,KSYI,72...  \n",
       "2  72327013897,KBNA,KMQY,KM91,72327313827,KSYI,72...  \n",
       "3  72327013897,KCKV,KBNA,KMQY,KM91,72327313827,KS...  \n",
       "4  72327013897,KCKV,KBNA,KMQY,KM91,72327313827,KS...  \n",
       "\n",
       "[5 rows x 33 columns]"
      ]
     },
     "execution_count": 35,
     "metadata": {},
     "output_type": "execute_result"
    }
   ],
   "source": [
    "df_weather.head()"
   ]
  },
  {
   "cell_type": "code",
   "execution_count": 36,
   "metadata": {},
   "outputs": [
    {
     "name": "stdout",
     "output_type": "stream",
     "text": [
      "<class 'pandas.core.frame.DataFrame'>\n",
      "RangeIndex: 975 entries, 0 to 974\n",
      "Data columns (total 33 columns):\n",
      " #   Column            Non-Null Count  Dtype  \n",
      "---  ------            --------------  -----  \n",
      " 0   name              975 non-null    object \n",
      " 1   datetime          975 non-null    object \n",
      " 2   tempmax           975 non-null    float64\n",
      " 3   tempmin           975 non-null    float64\n",
      " 4   temp              975 non-null    float64\n",
      " 5   feelslikemax      975 non-null    float64\n",
      " 6   feelslikemin      975 non-null    float64\n",
      " 7   feelslike         975 non-null    float64\n",
      " 8   dew               975 non-null    float64\n",
      " 9   humidity          975 non-null    float64\n",
      " 10  precip            975 non-null    float64\n",
      " 11  precipprob        975 non-null    int64  \n",
      " 12  precipcover       975 non-null    float64\n",
      " 13  preciptype        440 non-null    object \n",
      " 14  snow              975 non-null    float64\n",
      " 15  snowdepth         975 non-null    float64\n",
      " 16  windgust          768 non-null    float64\n",
      " 17  windspeed         975 non-null    float64\n",
      " 18  winddir           975 non-null    float64\n",
      " 19  sealevelpressure  975 non-null    float64\n",
      " 20  cloudcover        975 non-null    float64\n",
      " 21  visibility        975 non-null    float64\n",
      " 22  solarradiation    975 non-null    float64\n",
      " 23  solarenergy       975 non-null    float64\n",
      " 24  uvindex           975 non-null    int64  \n",
      " 25  severerisk        0 non-null      float64\n",
      " 26  sunrise           975 non-null    object \n",
      " 27  sunset            975 non-null    object \n",
      " 28  moonphase         975 non-null    float64\n",
      " 29  conditions        975 non-null    object \n",
      " 30  description       975 non-null    object \n",
      " 31  icon              975 non-null    object \n",
      " 32  stations          975 non-null    object \n",
      "dtypes: float64(22), int64(2), object(9)\n",
      "memory usage: 251.5+ KB\n"
     ]
    }
   ],
   "source": [
    "df_weather.info()"
   ]
  },
  {
   "cell_type": "markdown",
   "metadata": {},
   "source": [
    "### Fixing datetime type and setting it to index"
   ]
  },
  {
   "cell_type": "code",
   "execution_count": 37,
   "metadata": {},
   "outputs": [],
   "source": [
    "df_weather['datetime'] = pd.to_datetime(df_weather['datetime'])"
   ]
  },
  {
   "cell_type": "code",
   "execution_count": 38,
   "metadata": {
    "pycharm": {
     "name": "#%%\n"
    }
   },
   "outputs": [],
   "source": [
    "df_weather.set_index('datetime',inplace=True)"
   ]
  },
  {
   "cell_type": "markdown",
   "metadata": {},
   "source": [
    "## Checking if there is are correlation between average temperature and daily stops"
   ]
  },
  {
   "cell_type": "code",
   "execution_count": 39,
   "metadata": {
    "pycharm": {
     "name": "#%%\n"
    },
    "scrolled": false
   },
   "outputs": [
    {
     "name": "stdout",
     "output_type": "stream",
     "text": [
      "            temp  count\n",
      "datetime               \n",
      "2016-03-01   9.1   1093\n",
      "2016-03-02   3.5   1233\n",
      "2016-03-03   4.0   1060\n",
      "2016-03-04   5.8   1181\n",
      "2016-03-05   7.8    580\n",
      "...          ...    ...\n",
      "2018-10-27  10.2    311\n",
      "2018-10-28  13.4    222\n",
      "2018-10-29  11.2    525\n",
      "2018-10-30  14.9    684\n",
      "2018-10-31  19.8    672\n",
      "\n",
      "[975 rows x 2 columns]\n"
     ]
    },
    {
     "data": {
      "text/plain": [
       "<Axes: xlabel='temp', ylabel='count'>"
      ]
     },
     "execution_count": 39,
     "metadata": {},
     "output_type": "execute_result"
    },
    {
     "data": {
      "image/png": "[encoded data removed]",
      "text/plain": [
       "<Figure size 640x480 with 1 Axes>"
      ]
     },
     "metadata": {},
     "output_type": "display_data"
    }
   ],
   "source": [
    "pivot = pd.pivot_table(df_weather, index=df_weather.index, values='temp')\n",
    "group2 = df['raw_row_number'].groupby(pd.Grouper(freq='D')).agg({'count'}).loc['2016-03-01':'2018-10-31']\n",
    "merge = pivot.join(group2)\n",
    "print(merge)\n",
    "merge.plot.scatter(x='temp',y='count')"
   ]
  },
  {
   "cell_type": "markdown",
   "metadata": {},
   "source": [
    "## Checking if there is are correlation between daily precipitation and daily stops"
   ]
  },
  {
   "cell_type": "code",
   "execution_count": 40,
   "metadata": {
    "pycharm": {
     "name": "#%%\n"
    }
   },
   "outputs": [
    {
     "name": "stdout",
     "output_type": "stream",
     "text": [
      "            precip  count\n",
      "datetime                 \n",
      "2016-03-01   8.328   1093\n",
      "2016-03-02   1.446   1233\n",
      "2016-03-03   4.633   1060\n",
      "2016-03-04   0.000   1181\n",
      "2016-03-05   0.000    580\n",
      "...            ...    ...\n",
      "2018-10-27   0.262    311\n",
      "2018-10-28   0.000    222\n",
      "2018-10-29   0.000    525\n",
      "2018-10-30   0.000    684\n",
      "2018-10-31   0.000    672\n",
      "\n",
      "[975 rows x 2 columns]\n"
     ]
    },
    {
     "data": {
      "text/plain": [
       "<Axes: xlabel='precip', ylabel='count'>"
      ]
     },
     "execution_count": 40,
     "metadata": {},
     "output_type": "execute_result"
    },
    {
     "data": {
      "image/png": "[encoded data removed]",
      "text/plain": [
       "<Figure size 640x480 with 1 Axes>"
      ]
     },
     "metadata": {},
     "output_type": "display_data"
    }
   ],
   "source": [
    "pivot = pd.pivot_table(df_weather, index=df_weather.index, values='precip')\n",
    "group2 = df['raw_row_number'].groupby(pd.Grouper(freq='D')).agg({'count'}).loc['2016-03-01':'2018-10-31']\n",
    "merge = pivot.join(group2)\n",
    "print(merge)\n",
    "merge.plot.scatter(x='precip',y='count')"
   ]
  }
 ],
 "metadata": {
  "kernelspec": {
   "display_name": "Python 3 (ipykernel)",
   "language": "python",
   "name": "python3"
  },
  "language_info": {
   "codemirror_mode": {
    "name": "ipython",
    "version": 3
   },
   "file_extension": ".py",
   "mimetype": "text/x-python",
   "name": "python",
   "nbconvert_exporter": "python",
   "pygments_lexer": "ipython3",
   "version": "3.9.6"
  }
 },
 "nbformat": 4,
 "nbformat_minor": 1
}