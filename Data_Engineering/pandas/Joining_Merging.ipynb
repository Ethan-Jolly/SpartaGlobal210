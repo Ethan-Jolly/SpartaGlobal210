{
 "cells": [
  {
   "cell_type": "code",
   "execution_count": 2,
   "metadata": {
    "collapsed": true
   },
   "outputs": [],
   "source": [
    "import pandas as pd\n",
    "import numpy as np"
   ]
  },
  {
   "cell_type": "markdown",
   "source": [
    "# Joining and Merging Exercises in pandas"
   ],
   "metadata": {
    "collapsed": false,
    "pycharm": {
     "name": "#%% md\n"
    }
   }
  },
  {
   "cell_type": "markdown",
   "source": [
    "### Join the two given dataframes along rows and assign all data."
   ],
   "metadata": {
    "collapsed": false,
    "pycharm": {
     "name": "#%% md\n"
    }
   }
  },
  {
   "cell_type": "code",
   "execution_count": 3,
   "outputs": [
    {
     "data": {
      "text/plain": "  student_id              name  marks\n0         S1  Danniella Fenton    200\n1         S2      Ryder Storey    210\n2         S3      Bryce Jensen    190\n3         S4         Ed Bernal    222\n4         S5       Kwame Morin    199\n0         S4  Scarlette Fisher    201\n1         S5  Carla Williamson    200\n2         S6       Dante Morse    198\n3         S7    Kaiser William    219\n4         S8   Madeeha Preston    201",
      "text/html": "<div>\n<style scoped>\n    .dataframe tbody tr th:only-of-type {\n        vertical-align: middle;\n    }\n\n    .dataframe tbody tr th {\n        vertical-align: top;\n    }\n\n    .dataframe thead th {\n        text-align: right;\n    }\n</style>\n<table border=\"1\" class=\"dataframe\">\n  <thead>\n    <tr style=\"text-align: right;\">\n      <th></th>\n      <th>student_id</th>\n      <th>name</th>\n      <th>marks</th>\n    </tr>\n  </thead>\n  <tbody>\n    <tr>\n      <th>0</th>\n      <td>S1</td>\n      <td>Danniella Fenton</td>\n      <td>200</td>\n    </tr>\n    <tr>\n      <th>1</th>\n      <td>S2</td>\n      <td>Ryder Storey</td>\n      <td>210</td>\n    </tr>\n    <tr>\n      <th>2</th>\n      <td>S3</td>\n      <td>Bryce Jensen</td>\n      <td>190</td>\n    </tr>\n    <tr>\n      <th>3</th>\n      <td>S4</td>\n      <td>Ed Bernal</td>\n      <td>222</td>\n    </tr>\n    <tr>\n      <th>4</th>\n      <td>S5</td>\n      <td>Kwame Morin</td>\n      <td>199</td>\n    </tr>\n    <tr>\n      <th>0</th>\n      <td>S4</td>\n      <td>Scarlette Fisher</td>\n      <td>201</td>\n    </tr>\n    <tr>\n      <th>1</th>\n      <td>S5</td>\n      <td>Carla Williamson</td>\n      <td>200</td>\n    </tr>\n    <tr>\n      <th>2</th>\n      <td>S6</td>\n      <td>Dante Morse</td>\n      <td>198</td>\n    </tr>\n    <tr>\n      <th>3</th>\n      <td>S7</td>\n      <td>Kaiser William</td>\n      <td>219</td>\n    </tr>\n    <tr>\n      <th>4</th>\n      <td>S8</td>\n      <td>Madeeha Preston</td>\n      <td>201</td>\n    </tr>\n  </tbody>\n</table>\n</div>"
     },
     "execution_count": 3,
     "metadata": {},
     "output_type": "execute_result"
    }
   ],
   "source": [
    "student_data1 = pd.DataFrame({\n",
    "    'student_id': ['S1', 'S2', 'S3', 'S4', 'S5'],\n",
    "    'name': ['Danniella Fenton', 'Ryder Storey', 'Bryce Jensen', 'Ed Bernal', 'Kwame Morin'],\n",
    "    'marks': [200, 210, 190, 222, 199]})\n",
    "\n",
    "student_data2 = pd.DataFrame({\n",
    "    'student_id': ['S4', 'S5', 'S6', 'S7', 'S8'],\n",
    "    'name': ['Scarlette Fisher', 'Carla Williamson', 'Dante Morse', 'Kaiser William', 'Madeeha Preston'],\n",
    "    'marks': [201, 200, 198, 219, 201]})\n",
    "\n",
    "pd.concat([student_data1,student_data2],axis=0)"
   ],
   "metadata": {
    "collapsed": false,
    "pycharm": {
     "name": "#%%\n"
    }
   }
  },
  {
   "cell_type": "markdown",
   "source": [
    "### Join the two given dataframes along columns and assign all data"
   ],
   "metadata": {
    "collapsed": false,
    "pycharm": {
     "name": "#%% md\n"
    }
   }
  },
  {
   "cell_type": "code",
   "execution_count": 4,
   "outputs": [
    {
     "data": {
      "text/plain": "  student_id              name  marks student_id              name  marks\n0         S1  Danniella Fenton    200         S4  Scarlette Fisher    201\n1         S2      Ryder Storey    210         S5  Carla Williamson    200\n2         S3      Bryce Jensen    190         S6       Dante Morse    198\n3         S4         Ed Bernal    222         S7    Kaiser William    219\n4         S5       Kwame Morin    199         S8   Madeeha Preston    201",
      "text/html": "<div>\n<style scoped>\n    .dataframe tbody tr th:only-of-type {\n        vertical-align: middle;\n    }\n\n    .dataframe tbody tr th {\n        vertical-align: top;\n    }\n\n    .dataframe thead th {\n        text-align: right;\n    }\n</style>\n<table border=\"1\" class=\"dataframe\">\n  <thead>\n    <tr style=\"text-align: right;\">\n      <th></th>\n      <th>student_id</th>\n      <th>name</th>\n      <th>marks</th>\n      <th>student_id</th>\n      <th>name</th>\n      <th>marks</th>\n    </tr>\n  </thead>\n  <tbody>\n    <tr>\n      <th>0</th>\n      <td>S1</td>\n      <td>Danniella Fenton</td>\n      <td>200</td>\n      <td>S4</td>\n      <td>Scarlette Fisher</td>\n      <td>201</td>\n    </tr>\n    <tr>\n      <th>1</th>\n      <td>S2</td>\n      <td>Ryder Storey</td>\n      <td>210</td>\n      <td>S5</td>\n      <td>Carla Williamson</td>\n      <td>200</td>\n    </tr>\n    <tr>\n      <th>2</th>\n      <td>S3</td>\n      <td>Bryce Jensen</td>\n      <td>190</td>\n      <td>S6</td>\n      <td>Dante Morse</td>\n      <td>198</td>\n    </tr>\n    <tr>\n      <th>3</th>\n      <td>S4</td>\n      <td>Ed Bernal</td>\n      <td>222</td>\n      <td>S7</td>\n      <td>Kaiser William</td>\n      <td>219</td>\n    </tr>\n    <tr>\n      <th>4</th>\n      <td>S5</td>\n      <td>Kwame Morin</td>\n      <td>199</td>\n      <td>S8</td>\n      <td>Madeeha Preston</td>\n      <td>201</td>\n    </tr>\n  </tbody>\n</table>\n</div>"
     },
     "execution_count": 4,
     "metadata": {},
     "output_type": "execute_result"
    }
   ],
   "source": [
    "pd.concat([student_data1,student_data2],axis=1)"
   ],
   "metadata": {
    "collapsed": false,
    "pycharm": {
     "name": "#%%\n"
    }
   }
  },
  {
   "cell_type": "markdown",
   "source": [
    "### Append rows to an existing DataFrame and display the combined data"
   ],
   "metadata": {
    "collapsed": false
   }
  },
  {
   "cell_type": "code",
   "execution_count": 8,
   "outputs": [
    {
     "data": {
      "text/plain": "  student_id              name  marks\n0         S1  Danniella Fenton    200\n1         S2      Ryder Storey    210\n2         S3      Bryce Jensen    190\n3         S4         Ed Bernal    222\n4         S5       Kwame Morin    199\n0         S6  Scarlette Fisher    205",
      "text/html": "<div>\n<style scoped>\n    .dataframe tbody tr th:only-of-type {\n        vertical-align: middle;\n    }\n\n    .dataframe tbody tr th {\n        vertical-align: top;\n    }\n\n    .dataframe thead th {\n        text-align: right;\n    }\n</style>\n<table border=\"1\" class=\"dataframe\">\n  <thead>\n    <tr style=\"text-align: right;\">\n      <th></th>\n      <th>student_id</th>\n      <th>name</th>\n      <th>marks</th>\n    </tr>\n  </thead>\n  <tbody>\n    <tr>\n      <th>0</th>\n      <td>S1</td>\n      <td>Danniella Fenton</td>\n      <td>200</td>\n    </tr>\n    <tr>\n      <th>1</th>\n      <td>S2</td>\n      <td>Ryder Storey</td>\n      <td>210</td>\n    </tr>\n    <tr>\n      <th>2</th>\n      <td>S3</td>\n      <td>Bryce Jensen</td>\n      <td>190</td>\n    </tr>\n    <tr>\n      <th>3</th>\n      <td>S4</td>\n      <td>Ed Bernal</td>\n      <td>222</td>\n    </tr>\n    <tr>\n      <th>4</th>\n      <td>S5</td>\n      <td>Kwame Morin</td>\n      <td>199</td>\n    </tr>\n    <tr>\n      <th>0</th>\n      <td>S6</td>\n      <td>Scarlette Fisher</td>\n      <td>205</td>\n    </tr>\n  </tbody>\n</table>\n</div>"
     },
     "execution_count": 8,
     "metadata": {},
     "output_type": "execute_result"
    }
   ],
   "source": [
    "new_row = pd.DataFrame([{'student_id':'S6','name':'Scarlette Fisher','marks':205}])\n",
    "pd.concat([student_data1,new_row])"
   ],
   "metadata": {
    "collapsed": false,
    "pycharm": {
     "name": "#%%\n"
    }
   }
  },
  {
   "cell_type": "markdown",
   "source": [
    "### Join the two given dataframes along rows and merge with another dataframe along the common column id."
   ],
   "metadata": {
    "collapsed": false
   }
  },
  {
   "cell_type": "code",
   "execution_count": 10,
   "outputs": [
    {
     "data": {
      "text/plain": "  student_id              name  marks  exam_id\n0         S1  Danniella Fenton    200       23\n1         S2      Ryder Storey    210       45\n2         S3      Bryce Jensen    190       12\n3         S4         Ed Bernal    222       67\n4         S4  Scarlette Fisher    201       67\n5         S5       Kwame Morin    199       21\n6         S5  Carla Williamson    200       21\n7         S7    Kaiser William    219       55\n8         S8   Madeeha Preston    201       33",
      "text/html": "<div>\n<style scoped>\n    .dataframe tbody tr th:only-of-type {\n        vertical-align: middle;\n    }\n\n    .dataframe tbody tr th {\n        vertical-align: top;\n    }\n\n    .dataframe thead th {\n        text-align: right;\n    }\n</style>\n<table border=\"1\" class=\"dataframe\">\n  <thead>\n    <tr style=\"text-align: right;\">\n      <th></th>\n      <th>student_id</th>\n      <th>name</th>\n      <th>marks</th>\n      <th>exam_id</th>\n    </tr>\n  </thead>\n  <tbody>\n    <tr>\n      <th>0</th>\n      <td>S1</td>\n      <td>Danniella Fenton</td>\n      <td>200</td>\n      <td>23</td>\n    </tr>\n    <tr>\n      <th>1</th>\n      <td>S2</td>\n      <td>Ryder Storey</td>\n      <td>210</td>\n      <td>45</td>\n    </tr>\n    <tr>\n      <th>2</th>\n      <td>S3</td>\n      <td>Bryce Jensen</td>\n      <td>190</td>\n      <td>12</td>\n    </tr>\n    <tr>\n      <th>3</th>\n      <td>S4</td>\n      <td>Ed Bernal</td>\n      <td>222</td>\n      <td>67</td>\n    </tr>\n    <tr>\n      <th>4</th>\n      <td>S4</td>\n      <td>Scarlette Fisher</td>\n      <td>201</td>\n      <td>67</td>\n    </tr>\n    <tr>\n      <th>5</th>\n      <td>S5</td>\n      <td>Kwame Morin</td>\n      <td>199</td>\n      <td>21</td>\n    </tr>\n    <tr>\n      <th>6</th>\n      <td>S5</td>\n      <td>Carla Williamson</td>\n      <td>200</td>\n      <td>21</td>\n    </tr>\n    <tr>\n      <th>7</th>\n      <td>S7</td>\n      <td>Kaiser William</td>\n      <td>219</td>\n      <td>55</td>\n    </tr>\n    <tr>\n      <th>8</th>\n      <td>S8</td>\n      <td>Madeeha Preston</td>\n      <td>201</td>\n      <td>33</td>\n    </tr>\n  </tbody>\n</table>\n</div>"
     },
     "execution_count": 10,
     "metadata": {},
     "output_type": "execute_result"
    }
   ],
   "source": [
    "exam_data = pd.DataFrame({\n",
    "    'student_id': ['S1', 'S2', 'S3', 'S4', 'S5', 'S7', 'S8', 'S9', 'S10', 'S11', 'S12', 'S13'],\n",
    "    'exam_id': [23, 45, 12, 67, 21, 55, 33, 14, 56, 83, 88, 12]})\n",
    "\n",
    "concat_data = pd.concat([student_data1,student_data2])\n",
    "pd.merge(concat_data,exam_data,on='student_id')"
   ],
   "metadata": {
    "collapsed": false,
    "pycharm": {
     "name": "#%%\n"
    }
   }
  },
  {
   "cell_type": "markdown",
   "source": [
    " ### Join the two dataframes using the common column of both dataframes."
   ],
   "metadata": {
    "collapsed": false,
    "pycharm": {
     "name": "#%% md\n"
    }
   }
  },
  {
   "cell_type": "code",
   "execution_count": 11,
   "outputs": [
    {
     "data": {
      "text/plain": "  student_id       name_x  marks_x            name_y  marks_y\n0         S4    Ed Bernal      222  Scarlette Fisher      201\n1         S5  Kwame Morin      199  Carla Williamson      200",
      "text/html": "<div>\n<style scoped>\n    .dataframe tbody tr th:only-of-type {\n        vertical-align: middle;\n    }\n\n    .dataframe tbody tr th {\n        vertical-align: top;\n    }\n\n    .dataframe thead th {\n        text-align: right;\n    }\n</style>\n<table border=\"1\" class=\"dataframe\">\n  <thead>\n    <tr style=\"text-align: right;\">\n      <th></th>\n      <th>student_id</th>\n      <th>name_x</th>\n      <th>marks_x</th>\n      <th>name_y</th>\n      <th>marks_y</th>\n    </tr>\n  </thead>\n  <tbody>\n    <tr>\n      <th>0</th>\n      <td>S4</td>\n      <td>Ed Bernal</td>\n      <td>222</td>\n      <td>Scarlette Fisher</td>\n      <td>201</td>\n    </tr>\n    <tr>\n      <th>1</th>\n      <td>S5</td>\n      <td>Kwame Morin</td>\n      <td>199</td>\n      <td>Carla Williamson</td>\n      <td>200</td>\n    </tr>\n  </tbody>\n</table>\n</div>"
     },
     "execution_count": 11,
     "metadata": {},
     "output_type": "execute_result"
    }
   ],
   "source": [
    "pd.merge(student_data1,student_data2,on='student_id')"
   ],
   "metadata": {
    "collapsed": false,
    "pycharm": {
     "name": "#%%\n"
    }
   }
  },
  {
   "cell_type": "markdown",
   "source": [
    "### Join the two dataframes with matching records from both sides where available."
   ],
   "metadata": {
    "collapsed": false,
    "pycharm": {
     "name": "#%% md\n"
    }
   }
  },
  {
   "cell_type": "code",
   "execution_count": 12,
   "outputs": [
    {
     "data": {
      "text/plain": "  student_id            name_x  marks_x            name_y  marks_y\n0         S1  Danniella Fenton    200.0               NaN      NaN\n1         S2      Ryder Storey    210.0               NaN      NaN\n2         S3      Bryce Jensen    190.0               NaN      NaN\n3         S4         Ed Bernal    222.0  Scarlette Fisher    201.0\n4         S5       Kwame Morin    199.0  Carla Williamson    200.0\n5         S6               NaN      NaN       Dante Morse    198.0\n6         S7               NaN      NaN    Kaiser William    219.0\n7         S8               NaN      NaN   Madeeha Preston    201.0",
      "text/html": "<div>\n<style scoped>\n    .dataframe tbody tr th:only-of-type {\n        vertical-align: middle;\n    }\n\n    .dataframe tbody tr th {\n        vertical-align: top;\n    }\n\n    .dataframe thead th {\n        text-align: right;\n    }\n</style>\n<table border=\"1\" class=\"dataframe\">\n  <thead>\n    <tr style=\"text-align: right;\">\n      <th></th>\n      <th>student_id</th>\n      <th>name_x</th>\n      <th>marks_x</th>\n      <th>name_y</th>\n      <th>marks_y</th>\n    </tr>\n  </thead>\n  <tbody>\n    <tr>\n      <th>0</th>\n      <td>S1</td>\n      <td>Danniella Fenton</td>\n      <td>200.0</td>\n      <td>NaN</td>\n      <td>NaN</td>\n    </tr>\n    <tr>\n      <th>1</th>\n      <td>S2</td>\n      <td>Ryder Storey</td>\n      <td>210.0</td>\n      <td>NaN</td>\n      <td>NaN</td>\n    </tr>\n    <tr>\n      <th>2</th>\n      <td>S3</td>\n      <td>Bryce Jensen</td>\n      <td>190.0</td>\n      <td>NaN</td>\n      <td>NaN</td>\n    </tr>\n    <tr>\n      <th>3</th>\n      <td>S4</td>\n      <td>Ed Bernal</td>\n      <td>222.0</td>\n      <td>Scarlette Fisher</td>\n      <td>201.0</td>\n    </tr>\n    <tr>\n      <th>4</th>\n      <td>S5</td>\n      <td>Kwame Morin</td>\n      <td>199.0</td>\n      <td>Carla Williamson</td>\n      <td>200.0</td>\n    </tr>\n    <tr>\n      <th>5</th>\n      <td>S6</td>\n      <td>NaN</td>\n      <td>NaN</td>\n      <td>Dante Morse</td>\n      <td>198.0</td>\n    </tr>\n    <tr>\n      <th>6</th>\n      <td>S7</td>\n      <td>NaN</td>\n      <td>NaN</td>\n      <td>Kaiser William</td>\n      <td>219.0</td>\n    </tr>\n    <tr>\n      <th>7</th>\n      <td>S8</td>\n      <td>NaN</td>\n      <td>NaN</td>\n      <td>Madeeha Preston</td>\n      <td>201.0</td>\n    </tr>\n  </tbody>\n</table>\n</div>"
     },
     "execution_count": 12,
     "metadata": {},
     "output_type": "execute_result"
    }
   ],
   "source": [
    "pd.merge(student_data1,student_data2,on='student_id',how='outer')"
   ],
   "metadata": {
    "collapsed": false,
    "pycharm": {
     "name": "#%%\n"
    }
   }
  },
  {
   "cell_type": "markdown",
   "source": [
    "### Join (left join) the two dataframes using keys from left dataframe only."
   ],
   "metadata": {
    "collapsed": false
   }
  },
  {
   "cell_type": "code",
   "execution_count": 14,
   "outputs": [
    {
     "data": {
      "text/plain": "  key1 key2   P   Q    R    S\n0   K0   K0  P0  Q0   R0   S0\n1   K0   K1  P1  Q1  NaN  NaN\n2   K1   K0  P2  Q2   R1   S1\n3   K1   K0  P2  Q2   R2   S2\n4   K2   K1  P3  Q3  NaN  NaN",
      "text/html": "<div>\n<style scoped>\n    .dataframe tbody tr th:only-of-type {\n        vertical-align: middle;\n    }\n\n    .dataframe tbody tr th {\n        vertical-align: top;\n    }\n\n    .dataframe thead th {\n        text-align: right;\n    }\n</style>\n<table border=\"1\" class=\"dataframe\">\n  <thead>\n    <tr style=\"text-align: right;\">\n      <th></th>\n      <th>key1</th>\n      <th>key2</th>\n      <th>P</th>\n      <th>Q</th>\n      <th>R</th>\n      <th>S</th>\n    </tr>\n  </thead>\n  <tbody>\n    <tr>\n      <th>0</th>\n      <td>K0</td>\n      <td>K0</td>\n      <td>P0</td>\n      <td>Q0</td>\n      <td>R0</td>\n      <td>S0</td>\n    </tr>\n    <tr>\n      <th>1</th>\n      <td>K0</td>\n      <td>K1</td>\n      <td>P1</td>\n      <td>Q1</td>\n      <td>NaN</td>\n      <td>NaN</td>\n    </tr>\n    <tr>\n      <th>2</th>\n      <td>K1</td>\n      <td>K0</td>\n      <td>P2</td>\n      <td>Q2</td>\n      <td>R1</td>\n      <td>S1</td>\n    </tr>\n    <tr>\n      <th>3</th>\n      <td>K1</td>\n      <td>K0</td>\n      <td>P2</td>\n      <td>Q2</td>\n      <td>R2</td>\n      <td>S2</td>\n    </tr>\n    <tr>\n      <th>4</th>\n      <td>K2</td>\n      <td>K1</td>\n      <td>P3</td>\n      <td>Q3</td>\n      <td>NaN</td>\n      <td>NaN</td>\n    </tr>\n  </tbody>\n</table>\n</div>"
     },
     "execution_count": 14,
     "metadata": {},
     "output_type": "execute_result"
    }
   ],
   "source": [
    "data1 = pd.DataFrame({'key1': ['K0', 'K0', 'K1', 'K2'],\n",
    "                      'key2': ['K0', 'K1', 'K0', 'K1'],\n",
    "                      'P': ['P0', 'P1', 'P2', 'P3'],\n",
    "                      'Q': ['Q0', 'Q1', 'Q2', 'Q3']})\n",
    "data2 = pd.DataFrame({'key1': ['K0', 'K1', 'K1', 'K2'],\n",
    "                      'key2': ['K0', 'K0', 'K0', 'K0'],\n",
    "                      'R': ['R0', 'R1', 'R2', 'R3'],\n",
    "                      'S': ['S0', 'S1', 'S2', 'S3']})\n",
    "\n",
    "pd.merge(data1,data2,on=['key1','key2'],how='left')"
   ],
   "metadata": {
    "collapsed": false,
    "pycharm": {
     "name": "#%%\n"
    }
   }
  },
  {
   "cell_type": "markdown",
   "source": [
    "### Join two dataframes using keys from right dataframe only."
   ],
   "metadata": {
    "collapsed": false
   }
  },
  {
   "cell_type": "code",
   "execution_count": 15,
   "outputs": [
    {
     "data": {
      "text/plain": "  key1 key2    P    Q   R   S\n0   K0   K0   P0   Q0  R0  S0\n1   K1   K0   P2   Q2  R1  S1\n2   K1   K0   P2   Q2  R2  S2\n3   K2   K0  NaN  NaN  R3  S3",
      "text/html": "<div>\n<style scoped>\n    .dataframe tbody tr th:only-of-type {\n        vertical-align: middle;\n    }\n\n    .dataframe tbody tr th {\n        vertical-align: top;\n    }\n\n    .dataframe thead th {\n        text-align: right;\n    }\n</style>\n<table border=\"1\" class=\"dataframe\">\n  <thead>\n    <tr style=\"text-align: right;\">\n      <th></th>\n      <th>key1</th>\n      <th>key2</th>\n      <th>P</th>\n      <th>Q</th>\n      <th>R</th>\n      <th>S</th>\n    </tr>\n  </thead>\n  <tbody>\n    <tr>\n      <th>0</th>\n      <td>K0</td>\n      <td>K0</td>\n      <td>P0</td>\n      <td>Q0</td>\n      <td>R0</td>\n      <td>S0</td>\n    </tr>\n    <tr>\n      <th>1</th>\n      <td>K1</td>\n      <td>K0</td>\n      <td>P2</td>\n      <td>Q2</td>\n      <td>R1</td>\n      <td>S1</td>\n    </tr>\n    <tr>\n      <th>2</th>\n      <td>K1</td>\n      <td>K0</td>\n      <td>P2</td>\n      <td>Q2</td>\n      <td>R2</td>\n      <td>S2</td>\n    </tr>\n    <tr>\n      <th>3</th>\n      <td>K2</td>\n      <td>K0</td>\n      <td>NaN</td>\n      <td>NaN</td>\n      <td>R3</td>\n      <td>S3</td>\n    </tr>\n  </tbody>\n</table>\n</div>"
     },
     "execution_count": 15,
     "metadata": {},
     "output_type": "execute_result"
    }
   ],
   "source": [
    "pd.merge(data1,data2,on=['key1','key2'],how='right')"
   ],
   "metadata": {
    "collapsed": false,
    "pycharm": {
     "name": "#%%\n"
    }
   }
  },
  {
   "cell_type": "markdown",
   "source": [
    "### Merge two given datasets using multiple join keys."
   ],
   "metadata": {
    "collapsed": false
   }
  },
  {
   "cell_type": "code",
   "execution_count": 16,
   "outputs": [
    {
     "data": {
      "text/plain": "  key1 key2   P   Q   R   S\n0   K0   K0  P0  Q0  R0  S0\n1   K1   K0  P2  Q2  R1  S1\n2   K1   K0  P2  Q2  R2  S2",
      "text/html": "<div>\n<style scoped>\n    .dataframe tbody tr th:only-of-type {\n        vertical-align: middle;\n    }\n\n    .dataframe tbody tr th {\n        vertical-align: top;\n    }\n\n    .dataframe thead th {\n        text-align: right;\n    }\n</style>\n<table border=\"1\" class=\"dataframe\">\n  <thead>\n    <tr style=\"text-align: right;\">\n      <th></th>\n      <th>key1</th>\n      <th>key2</th>\n      <th>P</th>\n      <th>Q</th>\n      <th>R</th>\n      <th>S</th>\n    </tr>\n  </thead>\n  <tbody>\n    <tr>\n      <th>0</th>\n      <td>K0</td>\n      <td>K0</td>\n      <td>P0</td>\n      <td>Q0</td>\n      <td>R0</td>\n      <td>S0</td>\n    </tr>\n    <tr>\n      <th>1</th>\n      <td>K1</td>\n      <td>K0</td>\n      <td>P2</td>\n      <td>Q2</td>\n      <td>R1</td>\n      <td>S1</td>\n    </tr>\n    <tr>\n      <th>2</th>\n      <td>K1</td>\n      <td>K0</td>\n      <td>P2</td>\n      <td>Q2</td>\n      <td>R2</td>\n      <td>S2</td>\n    </tr>\n  </tbody>\n</table>\n</div>"
     },
     "execution_count": 16,
     "metadata": {},
     "output_type": "execute_result"
    }
   ],
   "source": [
    "pd.merge(data1,data2,on=['key1','key2'])"
   ],
   "metadata": {
    "collapsed": false,
    "pycharm": {
     "name": "#%%\n"
    }
   }
  },
  {
   "cell_type": "markdown",
   "source": [
    "### Create a combination from two dataframes where a column id combination appears more than once in both dataframes"
   ],
   "metadata": {
    "collapsed": false,
    "pycharm": {
     "name": "#%% md\n"
    }
   }
  },
  {
   "cell_type": "code",
   "execution_count": 18,
   "outputs": [
    {
     "data": {
      "text/plain": "  key1 key2   P   Q\n0   K0   K0  P0  Q0\n1   K0   K1  P1  Q1\n2   K1   K0  P2  Q2\n3   K2   K1  P3  Q3",
      "text/html": "<div>\n<style scoped>\n    .dataframe tbody tr th:only-of-type {\n        vertical-align: middle;\n    }\n\n    .dataframe tbody tr th {\n        vertical-align: top;\n    }\n\n    .dataframe thead th {\n        text-align: right;\n    }\n</style>\n<table border=\"1\" class=\"dataframe\">\n  <thead>\n    <tr style=\"text-align: right;\">\n      <th></th>\n      <th>key1</th>\n      <th>key2</th>\n      <th>P</th>\n      <th>Q</th>\n    </tr>\n  </thead>\n  <tbody>\n    <tr>\n      <th>0</th>\n      <td>K0</td>\n      <td>K0</td>\n      <td>P0</td>\n      <td>Q0</td>\n    </tr>\n    <tr>\n      <th>1</th>\n      <td>K0</td>\n      <td>K1</td>\n      <td>P1</td>\n      <td>Q1</td>\n    </tr>\n    <tr>\n      <th>2</th>\n      <td>K1</td>\n      <td>K0</td>\n      <td>P2</td>\n      <td>Q2</td>\n    </tr>\n    <tr>\n      <th>3</th>\n      <td>K2</td>\n      <td>K1</td>\n      <td>P3</td>\n      <td>Q3</td>\n    </tr>\n  </tbody>\n</table>\n</div>"
     },
     "execution_count": 18,
     "metadata": {},
     "output_type": "execute_result"
    }
   ],
   "source": [
    "data1"
   ],
   "metadata": {
    "collapsed": false,
    "pycharm": {
     "name": "#%%\n"
    }
   }
  },
  {
   "cell_type": "code",
   "execution_count": 19,
   "outputs": [
    {
     "data": {
      "text/plain": "  key1 key2   R   S\n0   K0   K0  R0  S0\n1   K1   K0  R1  S1\n2   K1   K0  R2  S2\n3   K2   K0  R3  S3",
      "text/html": "<div>\n<style scoped>\n    .dataframe tbody tr th:only-of-type {\n        vertical-align: middle;\n    }\n\n    .dataframe tbody tr th {\n        vertical-align: top;\n    }\n\n    .dataframe thead th {\n        text-align: right;\n    }\n</style>\n<table border=\"1\" class=\"dataframe\">\n  <thead>\n    <tr style=\"text-align: right;\">\n      <th></th>\n      <th>key1</th>\n      <th>key2</th>\n      <th>R</th>\n      <th>S</th>\n    </tr>\n  </thead>\n  <tbody>\n    <tr>\n      <th>0</th>\n      <td>K0</td>\n      <td>K0</td>\n      <td>R0</td>\n      <td>S0</td>\n    </tr>\n    <tr>\n      <th>1</th>\n      <td>K1</td>\n      <td>K0</td>\n      <td>R1</td>\n      <td>S1</td>\n    </tr>\n    <tr>\n      <th>2</th>\n      <td>K1</td>\n      <td>K0</td>\n      <td>R2</td>\n      <td>S2</td>\n    </tr>\n    <tr>\n      <th>3</th>\n      <td>K2</td>\n      <td>K0</td>\n      <td>R3</td>\n      <td>S3</td>\n    </tr>\n  </tbody>\n</table>\n</div>"
     },
     "execution_count": 19,
     "metadata": {},
     "output_type": "execute_result"
    }
   ],
   "source": [
    "data2"
   ],
   "metadata": {
    "collapsed": false,
    "pycharm": {
     "name": "#%%\n"
    }
   }
  },
  {
   "cell_type": "code",
   "execution_count": 20,
   "outputs": [
    {
     "data": {
      "text/plain": "  key1 key2_x   P   Q key2_y   R   S\n0   K0     K0  P0  Q0     K0  R0  S0\n1   K0     K1  P1  Q1     K0  R0  S0\n2   K1     K0  P2  Q2     K0  R1  S1\n3   K1     K0  P2  Q2     K0  R2  S2\n4   K2     K1  P3  Q3     K0  R3  S3",
      "text/html": "<div>\n<style scoped>\n    .dataframe tbody tr th:only-of-type {\n        vertical-align: middle;\n    }\n\n    .dataframe tbody tr th {\n        vertical-align: top;\n    }\n\n    .dataframe thead th {\n        text-align: right;\n    }\n</style>\n<table border=\"1\" class=\"dataframe\">\n  <thead>\n    <tr style=\"text-align: right;\">\n      <th></th>\n      <th>key1</th>\n      <th>key2_x</th>\n      <th>P</th>\n      <th>Q</th>\n      <th>key2_y</th>\n      <th>R</th>\n      <th>S</th>\n    </tr>\n  </thead>\n  <tbody>\n    <tr>\n      <th>0</th>\n      <td>K0</td>\n      <td>K0</td>\n      <td>P0</td>\n      <td>Q0</td>\n      <td>K0</td>\n      <td>R0</td>\n      <td>S0</td>\n    </tr>\n    <tr>\n      <th>1</th>\n      <td>K0</td>\n      <td>K1</td>\n      <td>P1</td>\n      <td>Q1</td>\n      <td>K0</td>\n      <td>R0</td>\n      <td>S0</td>\n    </tr>\n    <tr>\n      <th>2</th>\n      <td>K1</td>\n      <td>K0</td>\n      <td>P2</td>\n      <td>Q2</td>\n      <td>K0</td>\n      <td>R1</td>\n      <td>S1</td>\n    </tr>\n    <tr>\n      <th>3</th>\n      <td>K1</td>\n      <td>K0</td>\n      <td>P2</td>\n      <td>Q2</td>\n      <td>K0</td>\n      <td>R2</td>\n      <td>S2</td>\n    </tr>\n    <tr>\n      <th>4</th>\n      <td>K2</td>\n      <td>K1</td>\n      <td>P3</td>\n      <td>Q3</td>\n      <td>K0</td>\n      <td>R3</td>\n      <td>S3</td>\n    </tr>\n  </tbody>\n</table>\n</div>"
     },
     "execution_count": 20,
     "metadata": {},
     "output_type": "execute_result"
    }
   ],
   "source": [
    "pd.merge(data1,data2,on='key1',how='inner')"
   ],
   "metadata": {
    "collapsed": false,
    "pycharm": {
     "name": "#%%\n"
    }
   }
  },
  {
   "cell_type": "markdown",
   "source": [
    "### Combine the columns of two potentially differently-indexed DataFrames into a single result DataFrame."
   ],
   "metadata": {
    "collapsed": false
   }
  },
  {
   "cell_type": "code",
   "execution_count": 21,
   "outputs": [
    {
     "data": {
      "text/plain": "     A   B    C    D\nK0  A0  B0   C0   D0\nK1  A1  B1  NaN  NaN\nK2  A2  B2   C2   D2",
      "text/html": "<div>\n<style scoped>\n    .dataframe tbody tr th:only-of-type {\n        vertical-align: middle;\n    }\n\n    .dataframe tbody tr th {\n        vertical-align: top;\n    }\n\n    .dataframe thead th {\n        text-align: right;\n    }\n</style>\n<table border=\"1\" class=\"dataframe\">\n  <thead>\n    <tr style=\"text-align: right;\">\n      <th></th>\n      <th>A</th>\n      <th>B</th>\n      <th>C</th>\n      <th>D</th>\n    </tr>\n  </thead>\n  <tbody>\n    <tr>\n      <th>K0</th>\n      <td>A0</td>\n      <td>B0</td>\n      <td>C0</td>\n      <td>D0</td>\n    </tr>\n    <tr>\n      <th>K1</th>\n      <td>A1</td>\n      <td>B1</td>\n      <td>NaN</td>\n      <td>NaN</td>\n    </tr>\n    <tr>\n      <th>K2</th>\n      <td>A2</td>\n      <td>B2</td>\n      <td>C2</td>\n      <td>D2</td>\n    </tr>\n  </tbody>\n</table>\n</div>"
     },
     "execution_count": 21,
     "metadata": {},
     "output_type": "execute_result"
    }
   ],
   "source": [
    "data1 = pd.DataFrame({'A': ['A0', 'A1', 'A2'],\n",
    "                      'B': ['B0', 'B1', 'B2']},\n",
    "                     index=['K0', 'K1', 'K2'])\n",
    "\n",
    "data2 = pd.DataFrame({'C': ['C0', 'C2', 'C3'],\n",
    "                      'D': ['D0', 'D2', 'D3']},\n",
    "                     index=['K0', 'K2', 'K3'])\n",
    "\n",
    "data1.join(data2)"
   ],
   "metadata": {
    "collapsed": false,
    "pycharm": {
     "name": "#%%\n"
    }
   }
  },
  {
   "cell_type": "markdown",
   "source": [
    "### Combine two DataFrame objects by filling null values in one DataFrame with non-null values from other DataFrame."
   ],
   "metadata": {
    "collapsed": false
   }
  },
  {
   "cell_type": "code",
   "execution_count": 23,
   "outputs": [
    {
     "name": "stdout",
     "output_type": "stream",
     "text": [
      "     A  B\n",
      "0  NaN  3\n",
      "1  0.0  4\n",
      "2  NaN  5\n",
      "   A    B\n",
      "0  1  3.0\n",
      "1  1  NaN\n",
      "2  3  3.0\n"
     ]
    },
    {
     "data": {
      "text/plain": "     A    B\n0  1.0  3.0\n1  0.0  4.0\n2  3.0  5.0",
      "text/html": "<div>\n<style scoped>\n    .dataframe tbody tr th:only-of-type {\n        vertical-align: middle;\n    }\n\n    .dataframe tbody tr th {\n        vertical-align: top;\n    }\n\n    .dataframe thead th {\n        text-align: right;\n    }\n</style>\n<table border=\"1\" class=\"dataframe\">\n  <thead>\n    <tr style=\"text-align: right;\">\n      <th></th>\n      <th>A</th>\n      <th>B</th>\n    </tr>\n  </thead>\n  <tbody>\n    <tr>\n      <th>0</th>\n      <td>1.0</td>\n      <td>3.0</td>\n    </tr>\n    <tr>\n      <th>1</th>\n      <td>0.0</td>\n      <td>4.0</td>\n    </tr>\n    <tr>\n      <th>2</th>\n      <td>3.0</td>\n      <td>5.0</td>\n    </tr>\n  </tbody>\n</table>\n</div>"
     },
     "execution_count": 23,
     "metadata": {},
     "output_type": "execute_result"
    }
   ],
   "source": [
    "df1 = pd.DataFrame({'A': [None, 0, None], 'B': [3, 4, 5]})\n",
    "df2 = pd.DataFrame({'A': [1, 1, 3], 'B': [3, None, 3]})\n",
    "print(df1)\n",
    "print(df2)\n",
    "df1.combine_first(df2)\n",
    "# Works by filling the null of one df with the non-null of the other df\n",
    "# Providing the Union of the two dataframes"
   ],
   "metadata": {
    "collapsed": false,
    "pycharm": {
     "name": "#%%\n"
    }
   }
  }
 ],
 "metadata": {
  "kernelspec": {
   "display_name": "Python 3",
   "language": "python",
   "name": "python3"
  },
  "language_info": {
   "codemirror_mode": {
    "name": "ipython",
    "version": 2
   },
   "file_extension": ".py",
   "mimetype": "text/x-python",
   "name": "python",
   "nbconvert_exporter": "python",
   "pygments_lexer": "ipython2",
   "version": "2.7.6"
  }
 },
 "nbformat": 4,
 "nbformat_minor": 0
}