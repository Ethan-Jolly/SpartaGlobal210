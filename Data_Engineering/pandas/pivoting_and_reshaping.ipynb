{
 "cells": [
  {
   "cell_type": "code",
   "execution_count": 1,
   "metadata": {
    "collapsed": true
   },
   "outputs": [],
   "source": [
    "import numpy as np\n",
    "import pandas as pd"
   ]
  },
  {
   "cell_type": "markdown",
   "source": [
    "### Best way to store in database"
   ],
   "metadata": {
    "collapsed": false
   }
  },
  {
   "cell_type": "code",
   "execution_count": 2,
   "outputs": [
    {
     "data": {
      "text/plain": "   foo bar  baz zoo\n0  one   A    1   x\n1  one   B    2   y\n2  one   C    3   z\n3  two   A    4   q\n4  two   B    5   w\n5  two   C    6   t",
      "text/html": "<div>\n<style scoped>\n    .dataframe tbody tr th:only-of-type {\n        vertical-align: middle;\n    }\n\n    .dataframe tbody tr th {\n        vertical-align: top;\n    }\n\n    .dataframe thead th {\n        text-align: right;\n    }\n</style>\n<table border=\"1\" class=\"dataframe\">\n  <thead>\n    <tr style=\"text-align: right;\">\n      <th></th>\n      <th>foo</th>\n      <th>bar</th>\n      <th>baz</th>\n      <th>zoo</th>\n    </tr>\n  </thead>\n  <tbody>\n    <tr>\n      <th>0</th>\n      <td>one</td>\n      <td>A</td>\n      <td>1</td>\n      <td>x</td>\n    </tr>\n    <tr>\n      <th>1</th>\n      <td>one</td>\n      <td>B</td>\n      <td>2</td>\n      <td>y</td>\n    </tr>\n    <tr>\n      <th>2</th>\n      <td>one</td>\n      <td>C</td>\n      <td>3</td>\n      <td>z</td>\n    </tr>\n    <tr>\n      <th>3</th>\n      <td>two</td>\n      <td>A</td>\n      <td>4</td>\n      <td>q</td>\n    </tr>\n    <tr>\n      <th>4</th>\n      <td>two</td>\n      <td>B</td>\n      <td>5</td>\n      <td>w</td>\n    </tr>\n    <tr>\n      <th>5</th>\n      <td>two</td>\n      <td>C</td>\n      <td>6</td>\n      <td>t</td>\n    </tr>\n  </tbody>\n</table>\n</div>"
     },
     "execution_count": 2,
     "metadata": {},
     "output_type": "execute_result"
    }
   ],
   "source": [
    "df1 = pd.DataFrame({'foo': ['one', 'one', 'one', 'two', 'two',\n",
    "                            'two'],\n",
    "                    'bar': ['A', 'B', 'C', 'A', 'B', 'C'],\n",
    "                    'baz': [1, 2, 3, 4, 5, 6],\n",
    "                    'zoo': ['x', 'y', 'z', 'q', 'w', 't']})\n",
    "df1"
   ],
   "metadata": {
    "collapsed": false,
    "pycharm": {
     "name": "#%%\n"
    }
   }
  },
  {
   "cell_type": "code",
   "execution_count": 3,
   "outputs": [
    {
     "data": {
      "text/plain": "bar  A  B  C\nfoo         \none  A  B  C\ntwo  A  B  C",
      "text/html": "<div>\n<style scoped>\n    .dataframe tbody tr th:only-of-type {\n        vertical-align: middle;\n    }\n\n    .dataframe tbody tr th {\n        vertical-align: top;\n    }\n\n    .dataframe thead th {\n        text-align: right;\n    }\n</style>\n<table border=\"1\" class=\"dataframe\">\n  <thead>\n    <tr style=\"text-align: right;\">\n      <th>bar</th>\n      <th>A</th>\n      <th>B</th>\n      <th>C</th>\n    </tr>\n    <tr>\n      <th>foo</th>\n      <th></th>\n      <th></th>\n      <th></th>\n    </tr>\n  </thead>\n  <tbody>\n    <tr>\n      <th>one</th>\n      <td>A</td>\n      <td>B</td>\n      <td>C</td>\n    </tr>\n    <tr>\n      <th>two</th>\n      <td>A</td>\n      <td>B</td>\n      <td>C</td>\n    </tr>\n  </tbody>\n</table>\n</div>"
     },
     "execution_count": 3,
     "metadata": {},
     "output_type": "execute_result"
    }
   ],
   "source": [
    "df1.pivot(index='foo',columns='bar',values='bar')"
   ],
   "metadata": {
    "collapsed": false,
    "pycharm": {
     "name": "#%%\n"
    }
   }
  },
  {
   "cell_type": "markdown",
   "source": [
    "### Common way that financial data is stored, you need to be able to pivot the data you get so that you can store it correctly in a database."
   ],
   "metadata": {
    "collapsed": false
   }
  },
  {
   "cell_type": "code",
   "execution_count": 5,
   "outputs": [
    {
     "data": {
      "text/plain": "    baz       zoo      \nbar   A  B  C   A  B  C\nfoo                    \none   1  2  3   x  y  z\ntwo   4  5  6   q  w  t",
      "text/html": "<div>\n<style scoped>\n    .dataframe tbody tr th:only-of-type {\n        vertical-align: middle;\n    }\n\n    .dataframe tbody tr th {\n        vertical-align: top;\n    }\n\n    .dataframe thead tr th {\n        text-align: left;\n    }\n\n    .dataframe thead tr:last-of-type th {\n        text-align: right;\n    }\n</style>\n<table border=\"1\" class=\"dataframe\">\n  <thead>\n    <tr>\n      <th></th>\n      <th colspan=\"3\" halign=\"left\">baz</th>\n      <th colspan=\"3\" halign=\"left\">zoo</th>\n    </tr>\n    <tr>\n      <th>bar</th>\n      <th>A</th>\n      <th>B</th>\n      <th>C</th>\n      <th>A</th>\n      <th>B</th>\n      <th>C</th>\n    </tr>\n    <tr>\n      <th>foo</th>\n      <th></th>\n      <th></th>\n      <th></th>\n      <th></th>\n      <th></th>\n      <th></th>\n    </tr>\n  </thead>\n  <tbody>\n    <tr>\n      <th>one</th>\n      <td>1</td>\n      <td>2</td>\n      <td>3</td>\n      <td>x</td>\n      <td>y</td>\n      <td>z</td>\n    </tr>\n    <tr>\n      <th>two</th>\n      <td>4</td>\n      <td>5</td>\n      <td>6</td>\n      <td>q</td>\n      <td>w</td>\n      <td>t</td>\n    </tr>\n  </tbody>\n</table>\n</div>"
     },
     "execution_count": 5,
     "metadata": {},
     "output_type": "execute_result"
    }
   ],
   "source": [
    "df1.pivot(index='foo',columns='bar')"
   ],
   "metadata": {
    "collapsed": false,
    "pycharm": {
     "name": "#%%\n"
    }
   }
  },
  {
   "cell_type": "code",
   "execution_count": 6,
   "outputs": [
    {
     "data": {
      "text/plain": "   lev1  lev2  lev3  lev4  values\n0     1     1     1     1       0\n1     1     1     2     2       1\n2     1     2     1     3       2\n3     2     1     2     4       3\n4     2     1     1     5       4\n5     2     2     2     6       5",
      "text/html": "<div>\n<style scoped>\n    .dataframe tbody tr th:only-of-type {\n        vertical-align: middle;\n    }\n\n    .dataframe tbody tr th {\n        vertical-align: top;\n    }\n\n    .dataframe thead th {\n        text-align: right;\n    }\n</style>\n<table border=\"1\" class=\"dataframe\">\n  <thead>\n    <tr style=\"text-align: right;\">\n      <th></th>\n      <th>lev1</th>\n      <th>lev2</th>\n      <th>lev3</th>\n      <th>lev4</th>\n      <th>values</th>\n    </tr>\n  </thead>\n  <tbody>\n    <tr>\n      <th>0</th>\n      <td>1</td>\n      <td>1</td>\n      <td>1</td>\n      <td>1</td>\n      <td>0</td>\n    </tr>\n    <tr>\n      <th>1</th>\n      <td>1</td>\n      <td>1</td>\n      <td>2</td>\n      <td>2</td>\n      <td>1</td>\n    </tr>\n    <tr>\n      <th>2</th>\n      <td>1</td>\n      <td>2</td>\n      <td>1</td>\n      <td>3</td>\n      <td>2</td>\n    </tr>\n    <tr>\n      <th>3</th>\n      <td>2</td>\n      <td>1</td>\n      <td>2</td>\n      <td>4</td>\n      <td>3</td>\n    </tr>\n    <tr>\n      <th>4</th>\n      <td>2</td>\n      <td>1</td>\n      <td>1</td>\n      <td>5</td>\n      <td>4</td>\n    </tr>\n    <tr>\n      <th>5</th>\n      <td>2</td>\n      <td>2</td>\n      <td>2</td>\n      <td>6</td>\n      <td>5</td>\n    </tr>\n  </tbody>\n</table>\n</div>"
     },
     "execution_count": 6,
     "metadata": {},
     "output_type": "execute_result"
    }
   ],
   "source": [
    "df = pd.DataFrame({\n",
    "    \"lev1\": [1, 1, 1, 2, 2, 2],\n",
    "    \"lev2\": [1, 1, 2, 1, 1, 2],\n",
    "    \"lev3\": [1, 2, 1, 2, 1, 2],\n",
    "    \"lev4\": [1, 2, 3, 4, 5, 6],\n",
    "    \"values\": [0, 1, 2, 3, 4, 5]})\n",
    "df"
   ],
   "metadata": {
    "collapsed": false,
    "pycharm": {
     "name": "#%%\n"
    }
   }
  },
  {
   "cell_type": "code",
   "execution_count": 7,
   "outputs": [
    {
     "data": {
      "text/plain": "lev2    1         2     \nlev3    1    2    1    2\nlev1                    \n1     0.0  1.0  2.0  NaN\n2     4.0  3.0  NaN  5.0",
      "text/html": "<div>\n<style scoped>\n    .dataframe tbody tr th:only-of-type {\n        vertical-align: middle;\n    }\n\n    .dataframe tbody tr th {\n        vertical-align: top;\n    }\n\n    .dataframe thead tr th {\n        text-align: left;\n    }\n\n    .dataframe thead tr:last-of-type th {\n        text-align: right;\n    }\n</style>\n<table border=\"1\" class=\"dataframe\">\n  <thead>\n    <tr>\n      <th>lev2</th>\n      <th colspan=\"2\" halign=\"left\">1</th>\n      <th colspan=\"2\" halign=\"left\">2</th>\n    </tr>\n    <tr>\n      <th>lev3</th>\n      <th>1</th>\n      <th>2</th>\n      <th>1</th>\n      <th>2</th>\n    </tr>\n    <tr>\n      <th>lev1</th>\n      <th></th>\n      <th></th>\n      <th></th>\n      <th></th>\n    </tr>\n  </thead>\n  <tbody>\n    <tr>\n      <th>1</th>\n      <td>0.0</td>\n      <td>1.0</td>\n      <td>2.0</td>\n      <td>NaN</td>\n    </tr>\n    <tr>\n      <th>2</th>\n      <td>4.0</td>\n      <td>3.0</td>\n      <td>NaN</td>\n      <td>5.0</td>\n    </tr>\n  </tbody>\n</table>\n</div>"
     },
     "execution_count": 7,
     "metadata": {},
     "output_type": "execute_result"
    }
   ],
   "source": [
    "df.pivot(index='lev1',columns=['lev2','lev3'],values='values')"
   ],
   "metadata": {
    "collapsed": false,
    "pycharm": {
     "name": "#%%\n"
    }
   }
  },
  {
   "cell_type": "code",
   "execution_count": 8,
   "outputs": [],
   "source": [
    "import pandas._testing as tm\n",
    "\n",
    "def unpivot(frame):\n",
    "    N, K = frame.shape\n",
    "    data = {\n",
    "        \"value\": frame.to_numpy().ravel(\"F\"),\n",
    "        \"variable\": np.asarray(frame.columns).repeat(N),\n",
    "        \"date\": np.tile(np.asarray(frame.index), K),\n",
    "    }\n",
    "    return pd.DataFrame(data, columns=[\"date\", \"variable\", \"value\"])\n",
    "\n",
    "df = unpivot(tm.makeTimeDataFrame(3))"
   ],
   "metadata": {
    "collapsed": false,
    "pycharm": {
     "name": "#%%\n"
    }
   }
  },
  {
   "cell_type": "code",
   "execution_count": 9,
   "outputs": [
    {
     "data": {
      "text/plain": "         date variable     value\n0  2000-01-03        A -0.255560\n1  2000-01-04        A -0.685951\n2  2000-01-05        A  0.050014\n3  2000-01-03        B  2.096221\n4  2000-01-04        B  0.242852\n5  2000-01-05        B  0.647399\n6  2000-01-03        C -1.924264\n7  2000-01-04        C  0.155684\n8  2000-01-05        C -0.802922\n9  2000-01-03        D  1.740330\n10 2000-01-04        D -2.287133\n11 2000-01-05        D  0.366026",
      "text/html": "<div>\n<style scoped>\n    .dataframe tbody tr th:only-of-type {\n        vertical-align: middle;\n    }\n\n    .dataframe tbody tr th {\n        vertical-align: top;\n    }\n\n    .dataframe thead th {\n        text-align: right;\n    }\n</style>\n<table border=\"1\" class=\"dataframe\">\n  <thead>\n    <tr style=\"text-align: right;\">\n      <th></th>\n      <th>date</th>\n      <th>variable</th>\n      <th>value</th>\n    </tr>\n  </thead>\n  <tbody>\n    <tr>\n      <th>0</th>\n      <td>2000-01-03</td>\n      <td>A</td>\n      <td>-0.255560</td>\n    </tr>\n    <tr>\n      <th>1</th>\n      <td>2000-01-04</td>\n      <td>A</td>\n      <td>-0.685951</td>\n    </tr>\n    <tr>\n      <th>2</th>\n      <td>2000-01-05</td>\n      <td>A</td>\n      <td>0.050014</td>\n    </tr>\n    <tr>\n      <th>3</th>\n      <td>2000-01-03</td>\n      <td>B</td>\n      <td>2.096221</td>\n    </tr>\n    <tr>\n      <th>4</th>\n      <td>2000-01-04</td>\n      <td>B</td>\n      <td>0.242852</td>\n    </tr>\n    <tr>\n      <th>5</th>\n      <td>2000-01-05</td>\n      <td>B</td>\n      <td>0.647399</td>\n    </tr>\n    <tr>\n      <th>6</th>\n      <td>2000-01-03</td>\n      <td>C</td>\n      <td>-1.924264</td>\n    </tr>\n    <tr>\n      <th>7</th>\n      <td>2000-01-04</td>\n      <td>C</td>\n      <td>0.155684</td>\n    </tr>\n    <tr>\n      <th>8</th>\n      <td>2000-01-05</td>\n      <td>C</td>\n      <td>-0.802922</td>\n    </tr>\n    <tr>\n      <th>9</th>\n      <td>2000-01-03</td>\n      <td>D</td>\n      <td>1.740330</td>\n    </tr>\n    <tr>\n      <th>10</th>\n      <td>2000-01-04</td>\n      <td>D</td>\n      <td>-2.287133</td>\n    </tr>\n    <tr>\n      <th>11</th>\n      <td>2000-01-05</td>\n      <td>D</td>\n      <td>0.366026</td>\n    </tr>\n  </tbody>\n</table>\n</div>"
     },
     "execution_count": 9,
     "metadata": {},
     "output_type": "execute_result"
    }
   ],
   "source": [
    "df"
   ],
   "metadata": {
    "collapsed": false,
    "pycharm": {
     "name": "#%%\n"
    }
   }
  },
  {
   "cell_type": "code",
   "execution_count": 10,
   "outputs": [
    {
     "data": {
      "text/plain": "variable           A         B         C         D\ndate                                              \n2000-01-03 -0.255560  2.096221 -1.924264  1.740330\n2000-01-04 -0.685951  0.242852  0.155684 -2.287133\n2000-01-05  0.050014  0.647399 -0.802922  0.366026",
      "text/html": "<div>\n<style scoped>\n    .dataframe tbody tr th:only-of-type {\n        vertical-align: middle;\n    }\n\n    .dataframe tbody tr th {\n        vertical-align: top;\n    }\n\n    .dataframe thead th {\n        text-align: right;\n    }\n</style>\n<table border=\"1\" class=\"dataframe\">\n  <thead>\n    <tr style=\"text-align: right;\">\n      <th>variable</th>\n      <th>A</th>\n      <th>B</th>\n      <th>C</th>\n      <th>D</th>\n    </tr>\n    <tr>\n      <th>date</th>\n      <th></th>\n      <th></th>\n      <th></th>\n      <th></th>\n    </tr>\n  </thead>\n  <tbody>\n    <tr>\n      <th>2000-01-03</th>\n      <td>-0.255560</td>\n      <td>2.096221</td>\n      <td>-1.924264</td>\n      <td>1.740330</td>\n    </tr>\n    <tr>\n      <th>2000-01-04</th>\n      <td>-0.685951</td>\n      <td>0.242852</td>\n      <td>0.155684</td>\n      <td>-2.287133</td>\n    </tr>\n    <tr>\n      <th>2000-01-05</th>\n      <td>0.050014</td>\n      <td>0.647399</td>\n      <td>-0.802922</td>\n      <td>0.366026</td>\n    </tr>\n  </tbody>\n</table>\n</div>"
     },
     "execution_count": 10,
     "metadata": {},
     "output_type": "execute_result"
    }
   ],
   "source": [
    "pivoted = df.pivot(index='date',columns='variable',values='value')\n",
    "pivoted"
   ],
   "metadata": {
    "collapsed": false,
    "pycharm": {
     "name": "#%%\n"
    }
   }
  },
  {
   "cell_type": "code",
   "execution_count": 11,
   "outputs": [
    {
     "data": {
      "text/plain": "         date variable     value    value2\n0  2000-01-03        A -0.255560 -0.511120\n1  2000-01-04        A -0.685951 -1.371901\n2  2000-01-05        A  0.050014  0.100028\n3  2000-01-03        B  2.096221  4.192441\n4  2000-01-04        B  0.242852  0.485703\n5  2000-01-05        B  0.647399  1.294797\n6  2000-01-03        C -1.924264 -3.848528\n7  2000-01-04        C  0.155684  0.311369\n8  2000-01-05        C -0.802922 -1.605845\n9  2000-01-03        D  1.740330  3.480660\n10 2000-01-04        D -2.287133 -4.574267\n11 2000-01-05        D  0.366026  0.732051",
      "text/html": "<div>\n<style scoped>\n    .dataframe tbody tr th:only-of-type {\n        vertical-align: middle;\n    }\n\n    .dataframe tbody tr th {\n        vertical-align: top;\n    }\n\n    .dataframe thead th {\n        text-align: right;\n    }\n</style>\n<table border=\"1\" class=\"dataframe\">\n  <thead>\n    <tr style=\"text-align: right;\">\n      <th></th>\n      <th>date</th>\n      <th>variable</th>\n      <th>value</th>\n      <th>value2</th>\n    </tr>\n  </thead>\n  <tbody>\n    <tr>\n      <th>0</th>\n      <td>2000-01-03</td>\n      <td>A</td>\n      <td>-0.255560</td>\n      <td>-0.511120</td>\n    </tr>\n    <tr>\n      <th>1</th>\n      <td>2000-01-04</td>\n      <td>A</td>\n      <td>-0.685951</td>\n      <td>-1.371901</td>\n    </tr>\n    <tr>\n      <th>2</th>\n      <td>2000-01-05</td>\n      <td>A</td>\n      <td>0.050014</td>\n      <td>0.100028</td>\n    </tr>\n    <tr>\n      <th>3</th>\n      <td>2000-01-03</td>\n      <td>B</td>\n      <td>2.096221</td>\n      <td>4.192441</td>\n    </tr>\n    <tr>\n      <th>4</th>\n      <td>2000-01-04</td>\n      <td>B</td>\n      <td>0.242852</td>\n      <td>0.485703</td>\n    </tr>\n    <tr>\n      <th>5</th>\n      <td>2000-01-05</td>\n      <td>B</td>\n      <td>0.647399</td>\n      <td>1.294797</td>\n    </tr>\n    <tr>\n      <th>6</th>\n      <td>2000-01-03</td>\n      <td>C</td>\n      <td>-1.924264</td>\n      <td>-3.848528</td>\n    </tr>\n    <tr>\n      <th>7</th>\n      <td>2000-01-04</td>\n      <td>C</td>\n      <td>0.155684</td>\n      <td>0.311369</td>\n    </tr>\n    <tr>\n      <th>8</th>\n      <td>2000-01-05</td>\n      <td>C</td>\n      <td>-0.802922</td>\n      <td>-1.605845</td>\n    </tr>\n    <tr>\n      <th>9</th>\n      <td>2000-01-03</td>\n      <td>D</td>\n      <td>1.740330</td>\n      <td>3.480660</td>\n    </tr>\n    <tr>\n      <th>10</th>\n      <td>2000-01-04</td>\n      <td>D</td>\n      <td>-2.287133</td>\n      <td>-4.574267</td>\n    </tr>\n    <tr>\n      <th>11</th>\n      <td>2000-01-05</td>\n      <td>D</td>\n      <td>0.366026</td>\n      <td>0.732051</td>\n    </tr>\n  </tbody>\n</table>\n</div>"
     },
     "execution_count": 11,
     "metadata": {},
     "output_type": "execute_result"
    }
   ],
   "source": [
    "df[\"value2\"] = df[\"value\"] * 2\n",
    "df"
   ],
   "metadata": {
    "collapsed": false,
    "pycharm": {
     "name": "#%%\n"
    }
   }
  },
  {
   "cell_type": "code",
   "execution_count": 12,
   "outputs": [
    {
     "data": {
      "text/plain": "               value                                  value2            \\\nvariable           A         B         C         D         A         B   \ndate                                                                     \n2000-01-03 -0.255560  2.096221 -1.924264  1.740330 -0.511120  4.192441   \n2000-01-04 -0.685951  0.242852  0.155684 -2.287133 -1.371901  0.485703   \n2000-01-05  0.050014  0.647399 -0.802922  0.366026  0.100028  1.294797   \n\n                                \nvariable           C         D  \ndate                            \n2000-01-03 -3.848528  3.480660  \n2000-01-04  0.311369 -4.574267  \n2000-01-05 -1.605845  0.732051  ",
      "text/html": "<div>\n<style scoped>\n    .dataframe tbody tr th:only-of-type {\n        vertical-align: middle;\n    }\n\n    .dataframe tbody tr th {\n        vertical-align: top;\n    }\n\n    .dataframe thead tr th {\n        text-align: left;\n    }\n\n    .dataframe thead tr:last-of-type th {\n        text-align: right;\n    }\n</style>\n<table border=\"1\" class=\"dataframe\">\n  <thead>\n    <tr>\n      <th></th>\n      <th colspan=\"4\" halign=\"left\">value</th>\n      <th colspan=\"4\" halign=\"left\">value2</th>\n    </tr>\n    <tr>\n      <th>variable</th>\n      <th>A</th>\n      <th>B</th>\n      <th>C</th>\n      <th>D</th>\n      <th>A</th>\n      <th>B</th>\n      <th>C</th>\n      <th>D</th>\n    </tr>\n    <tr>\n      <th>date</th>\n      <th></th>\n      <th></th>\n      <th></th>\n      <th></th>\n      <th></th>\n      <th></th>\n      <th></th>\n      <th></th>\n    </tr>\n  </thead>\n  <tbody>\n    <tr>\n      <th>2000-01-03</th>\n      <td>-0.255560</td>\n      <td>2.096221</td>\n      <td>-1.924264</td>\n      <td>1.740330</td>\n      <td>-0.511120</td>\n      <td>4.192441</td>\n      <td>-3.848528</td>\n      <td>3.480660</td>\n    </tr>\n    <tr>\n      <th>2000-01-04</th>\n      <td>-0.685951</td>\n      <td>0.242852</td>\n      <td>0.155684</td>\n      <td>-2.287133</td>\n      <td>-1.371901</td>\n      <td>0.485703</td>\n      <td>0.311369</td>\n      <td>-4.574267</td>\n    </tr>\n    <tr>\n      <th>2000-01-05</th>\n      <td>0.050014</td>\n      <td>0.647399</td>\n      <td>-0.802922</td>\n      <td>0.366026</td>\n      <td>0.100028</td>\n      <td>1.294797</td>\n      <td>-1.605845</td>\n      <td>0.732051</td>\n    </tr>\n  </tbody>\n</table>\n</div>"
     },
     "execution_count": 12,
     "metadata": {},
     "output_type": "execute_result"
    }
   ],
   "source": [
    "pivoted = df.pivot(index='date',columns='variable')\n",
    "pivoted"
   ],
   "metadata": {
    "collapsed": false,
    "pycharm": {
     "name": "#%%\n"
    }
   }
  },
  {
   "cell_type": "code",
   "execution_count": 13,
   "outputs": [
    {
     "data": {
      "text/plain": "   foo bar  baz\n0  one   A    1\n1  one   A    2\n2  two   B    3\n3  two   C    4",
      "text/html": "<div>\n<style scoped>\n    .dataframe tbody tr th:only-of-type {\n        vertical-align: middle;\n    }\n\n    .dataframe tbody tr th {\n        vertical-align: top;\n    }\n\n    .dataframe thead th {\n        text-align: right;\n    }\n</style>\n<table border=\"1\" class=\"dataframe\">\n  <thead>\n    <tr style=\"text-align: right;\">\n      <th></th>\n      <th>foo</th>\n      <th>bar</th>\n      <th>baz</th>\n    </tr>\n  </thead>\n  <tbody>\n    <tr>\n      <th>0</th>\n      <td>one</td>\n      <td>A</td>\n      <td>1</td>\n    </tr>\n    <tr>\n      <th>1</th>\n      <td>one</td>\n      <td>A</td>\n      <td>2</td>\n    </tr>\n    <tr>\n      <th>2</th>\n      <td>two</td>\n      <td>B</td>\n      <td>3</td>\n    </tr>\n    <tr>\n      <th>3</th>\n      <td>two</td>\n      <td>C</td>\n      <td>4</td>\n    </tr>\n  </tbody>\n</table>\n</div>"
     },
     "execution_count": 13,
     "metadata": {},
     "output_type": "execute_result"
    }
   ],
   "source": [
    "df = pd.DataFrame({\"foo\": ['one', 'one', 'two', 'two'],\n",
    "                   \"bar\": ['A', 'A', 'B', 'C'],\n",
    "                   \"baz\": [1, 2, 3, 4]})\n",
    "df"
   ],
   "metadata": {
    "collapsed": false,
    "pycharm": {
     "name": "#%%\n"
    }
   }
  },
  {
   "cell_type": "code",
   "execution_count": 14,
   "outputs": [
    {
     "ename": "ValueError",
     "evalue": "Index contains duplicate entries, cannot reshape",
     "output_type": "error",
     "traceback": [
      "\u001B[1;31m---------------------------------------------------------------------------\u001B[0m",
      "\u001B[1;31mValueError\u001B[0m                                Traceback (most recent call last)",
      "Cell \u001B[1;32mIn[14], line 1\u001B[0m\n\u001B[1;32m----> 1\u001B[0m \u001B[43mdf\u001B[49m\u001B[38;5;241;43m.\u001B[39;49m\u001B[43mpivot\u001B[49m\u001B[43m(\u001B[49m\u001B[43mindex\u001B[49m\u001B[38;5;241;43m=\u001B[39;49m\u001B[38;5;124;43m'\u001B[39;49m\u001B[38;5;124;43mfoo\u001B[39;49m\u001B[38;5;124;43m'\u001B[39;49m\u001B[43m,\u001B[49m\u001B[43mcolumns\u001B[49m\u001B[38;5;241;43m=\u001B[39;49m\u001B[38;5;124;43m'\u001B[39;49m\u001B[38;5;124;43mbar\u001B[39;49m\u001B[38;5;124;43m'\u001B[39;49m\u001B[43m,\u001B[49m\u001B[43mvalues\u001B[49m\u001B[38;5;241;43m=\u001B[39;49m\u001B[38;5;124;43m'\u001B[39;49m\u001B[38;5;124;43mbaz\u001B[39;49m\u001B[38;5;124;43m'\u001B[39;49m\u001B[43m)\u001B[49m\n",
      "File \u001B[1;32m~\\Desktop\\Sparta\\SpartaGlobal210\\Data_Engineering\\venv\\lib\\site-packages\\pandas\\util\\_decorators.py:331\u001B[0m, in \u001B[0;36mdeprecate_nonkeyword_arguments.<locals>.decorate.<locals>.wrapper\u001B[1;34m(*args, **kwargs)\u001B[0m\n\u001B[0;32m    325\u001B[0m \u001B[38;5;28;01mif\u001B[39;00m \u001B[38;5;28mlen\u001B[39m(args) \u001B[38;5;241m>\u001B[39m num_allow_args:\n\u001B[0;32m    326\u001B[0m     warnings\u001B[38;5;241m.\u001B[39mwarn(\n\u001B[0;32m    327\u001B[0m         msg\u001B[38;5;241m.\u001B[39mformat(arguments\u001B[38;5;241m=\u001B[39m_format_argument_list(allow_args)),\n\u001B[0;32m    328\u001B[0m         \u001B[38;5;167;01mFutureWarning\u001B[39;00m,\n\u001B[0;32m    329\u001B[0m         stacklevel\u001B[38;5;241m=\u001B[39mfind_stack_level(),\n\u001B[0;32m    330\u001B[0m     )\n\u001B[1;32m--> 331\u001B[0m \u001B[38;5;28;01mreturn\u001B[39;00m func(\u001B[38;5;241m*\u001B[39margs, \u001B[38;5;241m*\u001B[39m\u001B[38;5;241m*\u001B[39mkwargs)\n",
      "File \u001B[1;32m~\\Desktop\\Sparta\\SpartaGlobal210\\Data_Engineering\\venv\\lib\\site-packages\\pandas\\core\\frame.py:8567\u001B[0m, in \u001B[0;36mDataFrame.pivot\u001B[1;34m(self, index, columns, values)\u001B[0m\n\u001B[0;32m   8561\u001B[0m \u001B[38;5;129m@Substitution\u001B[39m(\u001B[38;5;124m\"\u001B[39m\u001B[38;5;124m\"\u001B[39m)\n\u001B[0;32m   8562\u001B[0m \u001B[38;5;129m@Appender\u001B[39m(_shared_docs[\u001B[38;5;124m\"\u001B[39m\u001B[38;5;124mpivot\u001B[39m\u001B[38;5;124m\"\u001B[39m])\n\u001B[0;32m   8563\u001B[0m \u001B[38;5;129m@deprecate_nonkeyword_arguments\u001B[39m(version\u001B[38;5;241m=\u001B[39m\u001B[38;5;28;01mNone\u001B[39;00m, allowed_args\u001B[38;5;241m=\u001B[39m[\u001B[38;5;124m\"\u001B[39m\u001B[38;5;124mself\u001B[39m\u001B[38;5;124m\"\u001B[39m])\n\u001B[0;32m   8564\u001B[0m \u001B[38;5;28;01mdef\u001B[39;00m \u001B[38;5;21mpivot\u001B[39m(\u001B[38;5;28mself\u001B[39m, index\u001B[38;5;241m=\u001B[39m\u001B[38;5;28;01mNone\u001B[39;00m, columns\u001B[38;5;241m=\u001B[39m\u001B[38;5;28;01mNone\u001B[39;00m, values\u001B[38;5;241m=\u001B[39m\u001B[38;5;28;01mNone\u001B[39;00m) \u001B[38;5;241m-\u001B[39m\u001B[38;5;241m>\u001B[39m DataFrame:\n\u001B[0;32m   8565\u001B[0m     \u001B[38;5;28;01mfrom\u001B[39;00m \u001B[38;5;21;01mpandas\u001B[39;00m\u001B[38;5;21;01m.\u001B[39;00m\u001B[38;5;21;01mcore\u001B[39;00m\u001B[38;5;21;01m.\u001B[39;00m\u001B[38;5;21;01mreshape\u001B[39;00m\u001B[38;5;21;01m.\u001B[39;00m\u001B[38;5;21;01mpivot\u001B[39;00m \u001B[38;5;28;01mimport\u001B[39;00m pivot\n\u001B[1;32m-> 8567\u001B[0m     \u001B[38;5;28;01mreturn\u001B[39;00m \u001B[43mpivot\u001B[49m\u001B[43m(\u001B[49m\u001B[38;5;28;43mself\u001B[39;49m\u001B[43m,\u001B[49m\u001B[43m \u001B[49m\u001B[43mindex\u001B[49m\u001B[38;5;241;43m=\u001B[39;49m\u001B[43mindex\u001B[49m\u001B[43m,\u001B[49m\u001B[43m \u001B[49m\u001B[43mcolumns\u001B[49m\u001B[38;5;241;43m=\u001B[39;49m\u001B[43mcolumns\u001B[49m\u001B[43m,\u001B[49m\u001B[43m \u001B[49m\u001B[43mvalues\u001B[49m\u001B[38;5;241;43m=\u001B[39;49m\u001B[43mvalues\u001B[49m\u001B[43m)\u001B[49m\n",
      "File \u001B[1;32m~\\Desktop\\Sparta\\SpartaGlobal210\\Data_Engineering\\venv\\lib\\site-packages\\pandas\\util\\_decorators.py:331\u001B[0m, in \u001B[0;36mdeprecate_nonkeyword_arguments.<locals>.decorate.<locals>.wrapper\u001B[1;34m(*args, **kwargs)\u001B[0m\n\u001B[0;32m    325\u001B[0m \u001B[38;5;28;01mif\u001B[39;00m \u001B[38;5;28mlen\u001B[39m(args) \u001B[38;5;241m>\u001B[39m num_allow_args:\n\u001B[0;32m    326\u001B[0m     warnings\u001B[38;5;241m.\u001B[39mwarn(\n\u001B[0;32m    327\u001B[0m         msg\u001B[38;5;241m.\u001B[39mformat(arguments\u001B[38;5;241m=\u001B[39m_format_argument_list(allow_args)),\n\u001B[0;32m    328\u001B[0m         \u001B[38;5;167;01mFutureWarning\u001B[39;00m,\n\u001B[0;32m    329\u001B[0m         stacklevel\u001B[38;5;241m=\u001B[39mfind_stack_level(),\n\u001B[0;32m    330\u001B[0m     )\n\u001B[1;32m--> 331\u001B[0m \u001B[38;5;28;01mreturn\u001B[39;00m func(\u001B[38;5;241m*\u001B[39margs, \u001B[38;5;241m*\u001B[39m\u001B[38;5;241m*\u001B[39mkwargs)\n",
      "File \u001B[1;32m~\\Desktop\\Sparta\\SpartaGlobal210\\Data_Engineering\\venv\\lib\\site-packages\\pandas\\core\\reshape\\pivot.py:540\u001B[0m, in \u001B[0;36mpivot\u001B[1;34m(data, index, columns, values)\u001B[0m\n\u001B[0;32m    536\u001B[0m         indexed \u001B[38;5;241m=\u001B[39m data\u001B[38;5;241m.\u001B[39m_constructor_sliced(data[values]\u001B[38;5;241m.\u001B[39m_values, index\u001B[38;5;241m=\u001B[39mmultiindex)\n\u001B[0;32m    537\u001B[0m \u001B[38;5;66;03m# error: Argument 1 to \"unstack\" of \"DataFrame\" has incompatible type \"Union\u001B[39;00m\n\u001B[0;32m    538\u001B[0m \u001B[38;5;66;03m# [List[Any], ExtensionArray, ndarray[Any, Any], Index, Series]\"; expected\u001B[39;00m\n\u001B[0;32m    539\u001B[0m \u001B[38;5;66;03m# \"Hashable\"\u001B[39;00m\n\u001B[1;32m--> 540\u001B[0m \u001B[38;5;28;01mreturn\u001B[39;00m \u001B[43mindexed\u001B[49m\u001B[38;5;241;43m.\u001B[39;49m\u001B[43munstack\u001B[49m\u001B[43m(\u001B[49m\u001B[43mcolumns_listlike\u001B[49m\u001B[43m)\u001B[49m\n",
      "File \u001B[1;32m~\\Desktop\\Sparta\\SpartaGlobal210\\Data_Engineering\\venv\\lib\\site-packages\\pandas\\core\\series.py:4455\u001B[0m, in \u001B[0;36mSeries.unstack\u001B[1;34m(self, level, fill_value)\u001B[0m\n\u001B[0;32m   4412\u001B[0m \u001B[38;5;250m\u001B[39m\u001B[38;5;124;03m\"\"\"\u001B[39;00m\n\u001B[0;32m   4413\u001B[0m \u001B[38;5;124;03mUnstack, also known as pivot, Series with MultiIndex to produce DataFrame.\u001B[39;00m\n\u001B[0;32m   4414\u001B[0m \n\u001B[1;32m   (...)\u001B[0m\n\u001B[0;32m   4451\u001B[0m \u001B[38;5;124;03mb    2    4\u001B[39;00m\n\u001B[0;32m   4452\u001B[0m \u001B[38;5;124;03m\"\"\"\u001B[39;00m\n\u001B[0;32m   4453\u001B[0m \u001B[38;5;28;01mfrom\u001B[39;00m \u001B[38;5;21;01mpandas\u001B[39;00m\u001B[38;5;21;01m.\u001B[39;00m\u001B[38;5;21;01mcore\u001B[39;00m\u001B[38;5;21;01m.\u001B[39;00m\u001B[38;5;21;01mreshape\u001B[39;00m\u001B[38;5;21;01m.\u001B[39;00m\u001B[38;5;21;01mreshape\u001B[39;00m \u001B[38;5;28;01mimport\u001B[39;00m unstack\n\u001B[1;32m-> 4455\u001B[0m \u001B[38;5;28;01mreturn\u001B[39;00m \u001B[43munstack\u001B[49m\u001B[43m(\u001B[49m\u001B[38;5;28;43mself\u001B[39;49m\u001B[43m,\u001B[49m\u001B[43m \u001B[49m\u001B[43mlevel\u001B[49m\u001B[43m,\u001B[49m\u001B[43m \u001B[49m\u001B[43mfill_value\u001B[49m\u001B[43m)\u001B[49m\n",
      "File \u001B[1;32m~\\Desktop\\Sparta\\SpartaGlobal210\\Data_Engineering\\venv\\lib\\site-packages\\pandas\\core\\reshape\\reshape.py:489\u001B[0m, in \u001B[0;36munstack\u001B[1;34m(obj, level, fill_value)\u001B[0m\n\u001B[0;32m    487\u001B[0m \u001B[38;5;28;01mif\u001B[39;00m is_1d_only_ea_dtype(obj\u001B[38;5;241m.\u001B[39mdtype):\n\u001B[0;32m    488\u001B[0m     \u001B[38;5;28;01mreturn\u001B[39;00m _unstack_extension_series(obj, level, fill_value)\n\u001B[1;32m--> 489\u001B[0m unstacker \u001B[38;5;241m=\u001B[39m \u001B[43m_Unstacker\u001B[49m\u001B[43m(\u001B[49m\n\u001B[0;32m    490\u001B[0m \u001B[43m    \u001B[49m\u001B[43mobj\u001B[49m\u001B[38;5;241;43m.\u001B[39;49m\u001B[43mindex\u001B[49m\u001B[43m,\u001B[49m\u001B[43m \u001B[49m\u001B[43mlevel\u001B[49m\u001B[38;5;241;43m=\u001B[39;49m\u001B[43mlevel\u001B[49m\u001B[43m,\u001B[49m\u001B[43m \u001B[49m\u001B[43mconstructor\u001B[49m\u001B[38;5;241;43m=\u001B[39;49m\u001B[43mobj\u001B[49m\u001B[38;5;241;43m.\u001B[39;49m\u001B[43m_constructor_expanddim\u001B[49m\n\u001B[0;32m    491\u001B[0m \u001B[43m\u001B[49m\u001B[43m)\u001B[49m\n\u001B[0;32m    492\u001B[0m \u001B[38;5;28;01mreturn\u001B[39;00m unstacker\u001B[38;5;241m.\u001B[39mget_result(\n\u001B[0;32m    493\u001B[0m     obj\u001B[38;5;241m.\u001B[39m_values, value_columns\u001B[38;5;241m=\u001B[39m\u001B[38;5;28;01mNone\u001B[39;00m, fill_value\u001B[38;5;241m=\u001B[39mfill_value\n\u001B[0;32m    494\u001B[0m )\n",
      "File \u001B[1;32m~\\Desktop\\Sparta\\SpartaGlobal210\\Data_Engineering\\venv\\lib\\site-packages\\pandas\\core\\reshape\\reshape.py:137\u001B[0m, in \u001B[0;36m_Unstacker.__init__\u001B[1;34m(self, index, level, constructor)\u001B[0m\n\u001B[0;32m    129\u001B[0m \u001B[38;5;28;01mif\u001B[39;00m num_cells \u001B[38;5;241m>\u001B[39m np\u001B[38;5;241m.\u001B[39miinfo(np\u001B[38;5;241m.\u001B[39mint32)\u001B[38;5;241m.\u001B[39mmax:\n\u001B[0;32m    130\u001B[0m     warnings\u001B[38;5;241m.\u001B[39mwarn(\n\u001B[0;32m    131\u001B[0m         \u001B[38;5;124mf\u001B[39m\u001B[38;5;124m\"\u001B[39m\u001B[38;5;124mThe following operation may generate \u001B[39m\u001B[38;5;132;01m{\u001B[39;00mnum_cells\u001B[38;5;132;01m}\u001B[39;00m\u001B[38;5;124m cells \u001B[39m\u001B[38;5;124m\"\u001B[39m\n\u001B[0;32m    132\u001B[0m         \u001B[38;5;124mf\u001B[39m\u001B[38;5;124m\"\u001B[39m\u001B[38;5;124min the resulting pandas object.\u001B[39m\u001B[38;5;124m\"\u001B[39m,\n\u001B[0;32m    133\u001B[0m         PerformanceWarning,\n\u001B[0;32m    134\u001B[0m         stacklevel\u001B[38;5;241m=\u001B[39mfind_stack_level(),\n\u001B[0;32m    135\u001B[0m     )\n\u001B[1;32m--> 137\u001B[0m \u001B[38;5;28;43mself\u001B[39;49m\u001B[38;5;241;43m.\u001B[39;49m\u001B[43m_make_selectors\u001B[49m\u001B[43m(\u001B[49m\u001B[43m)\u001B[49m\n",
      "File \u001B[1;32m~\\Desktop\\Sparta\\SpartaGlobal210\\Data_Engineering\\venv\\lib\\site-packages\\pandas\\core\\reshape\\reshape.py:189\u001B[0m, in \u001B[0;36m_Unstacker._make_selectors\u001B[1;34m(self)\u001B[0m\n\u001B[0;32m    186\u001B[0m mask\u001B[38;5;241m.\u001B[39mput(selector, \u001B[38;5;28;01mTrue\u001B[39;00m)\n\u001B[0;32m    188\u001B[0m \u001B[38;5;28;01mif\u001B[39;00m mask\u001B[38;5;241m.\u001B[39msum() \u001B[38;5;241m<\u001B[39m \u001B[38;5;28mlen\u001B[39m(\u001B[38;5;28mself\u001B[39m\u001B[38;5;241m.\u001B[39mindex):\n\u001B[1;32m--> 189\u001B[0m     \u001B[38;5;28;01mraise\u001B[39;00m \u001B[38;5;167;01mValueError\u001B[39;00m(\u001B[38;5;124m\"\u001B[39m\u001B[38;5;124mIndex contains duplicate entries, cannot reshape\u001B[39m\u001B[38;5;124m\"\u001B[39m)\n\u001B[0;32m    191\u001B[0m \u001B[38;5;28mself\u001B[39m\u001B[38;5;241m.\u001B[39mgroup_index \u001B[38;5;241m=\u001B[39m comp_index\n\u001B[0;32m    192\u001B[0m \u001B[38;5;28mself\u001B[39m\u001B[38;5;241m.\u001B[39mmask \u001B[38;5;241m=\u001B[39m mask\n",
      "\u001B[1;31mValueError\u001B[0m: Index contains duplicate entries, cannot reshape"
     ]
    }
   ],
   "source": [
    "df.pivot(index='foo',columns='bar',values='baz')"
   ],
   "metadata": {
    "collapsed": false,
    "pycharm": {
     "name": "#%%\n"
    }
   }
  },
  {
   "cell_type": "markdown",
   "source": [
    "## Pivot Table"
   ],
   "metadata": {
    "collapsed": false,
    "pycharm": {
     "name": "#%% md\n"
    }
   }
  },
  {
   "cell_type": "code",
   "execution_count": 15,
   "outputs": [
    {
     "data": {
      "text/plain": "     A    B      C  D  E\n0  foo  one  small  1  2\n1  foo  one  large  2  4\n2  foo  one  large  2  5\n3  foo  two  small  3  5\n4  foo  two  small  3  6\n5  bar  one  large  4  6\n6  bar  one  small  5  8\n7  bar  two  small  6  9\n8  bar  two  large  7  9",
      "text/html": "<div>\n<style scoped>\n    .dataframe tbody tr th:only-of-type {\n        vertical-align: middle;\n    }\n\n    .dataframe tbody tr th {\n        vertical-align: top;\n    }\n\n    .dataframe thead th {\n        text-align: right;\n    }\n</style>\n<table border=\"1\" class=\"dataframe\">\n  <thead>\n    <tr style=\"text-align: right;\">\n      <th></th>\n      <th>A</th>\n      <th>B</th>\n      <th>C</th>\n      <th>D</th>\n      <th>E</th>\n    </tr>\n  </thead>\n  <tbody>\n    <tr>\n      <th>0</th>\n      <td>foo</td>\n      <td>one</td>\n      <td>small</td>\n      <td>1</td>\n      <td>2</td>\n    </tr>\n    <tr>\n      <th>1</th>\n      <td>foo</td>\n      <td>one</td>\n      <td>large</td>\n      <td>2</td>\n      <td>4</td>\n    </tr>\n    <tr>\n      <th>2</th>\n      <td>foo</td>\n      <td>one</td>\n      <td>large</td>\n      <td>2</td>\n      <td>5</td>\n    </tr>\n    <tr>\n      <th>3</th>\n      <td>foo</td>\n      <td>two</td>\n      <td>small</td>\n      <td>3</td>\n      <td>5</td>\n    </tr>\n    <tr>\n      <th>4</th>\n      <td>foo</td>\n      <td>two</td>\n      <td>small</td>\n      <td>3</td>\n      <td>6</td>\n    </tr>\n    <tr>\n      <th>5</th>\n      <td>bar</td>\n      <td>one</td>\n      <td>large</td>\n      <td>4</td>\n      <td>6</td>\n    </tr>\n    <tr>\n      <th>6</th>\n      <td>bar</td>\n      <td>one</td>\n      <td>small</td>\n      <td>5</td>\n      <td>8</td>\n    </tr>\n    <tr>\n      <th>7</th>\n      <td>bar</td>\n      <td>two</td>\n      <td>small</td>\n      <td>6</td>\n      <td>9</td>\n    </tr>\n    <tr>\n      <th>8</th>\n      <td>bar</td>\n      <td>two</td>\n      <td>large</td>\n      <td>7</td>\n      <td>9</td>\n    </tr>\n  </tbody>\n</table>\n</div>"
     },
     "execution_count": 15,
     "metadata": {},
     "output_type": "execute_result"
    }
   ],
   "source": [
    "df = pd.DataFrame({\"A\": [\"foo\", \"foo\", \"foo\", \"foo\", \"foo\",\"bar\", \"bar\", \"bar\", \"bar\"],\n",
    "                   \"B\": [\"one\", \"one\", \"one\", \"two\", \"two\",\"one\", \"one\", \"two\", \"two\"],\n",
    "                   \"C\": [\"small\", \"large\", \"large\", \"small\",\"small\", \"large\", \"small\", \"small\",\"large\"],\n",
    "                   \"D\": [1, 2, 2, 3, 3, 4, 5, 6, 7],\n",
    "                   \"E\": [2, 4, 5, 5, 6, 6, 8, 9, 9]})\n",
    "df"
   ],
   "metadata": {
    "collapsed": false,
    "pycharm": {
     "name": "#%%\n"
    }
   }
  },
  {
   "cell_type": "code",
   "execution_count": 16,
   "outputs": [
    {
     "data": {
      "text/plain": "C        large  small\nA   B                \nbar one    4.0    5.0\n    two    7.0    6.0\nfoo one    4.0    1.0\n    two    NaN    6.0",
      "text/html": "<div>\n<style scoped>\n    .dataframe tbody tr th:only-of-type {\n        vertical-align: middle;\n    }\n\n    .dataframe tbody tr th {\n        vertical-align: top;\n    }\n\n    .dataframe thead th {\n        text-align: right;\n    }\n</style>\n<table border=\"1\" class=\"dataframe\">\n  <thead>\n    <tr style=\"text-align: right;\">\n      <th></th>\n      <th>C</th>\n      <th>large</th>\n      <th>small</th>\n    </tr>\n    <tr>\n      <th>A</th>\n      <th>B</th>\n      <th></th>\n      <th></th>\n    </tr>\n  </thead>\n  <tbody>\n    <tr>\n      <th rowspan=\"2\" valign=\"top\">bar</th>\n      <th>one</th>\n      <td>4.0</td>\n      <td>5.0</td>\n    </tr>\n    <tr>\n      <th>two</th>\n      <td>7.0</td>\n      <td>6.0</td>\n    </tr>\n    <tr>\n      <th rowspan=\"2\" valign=\"top\">foo</th>\n      <th>one</th>\n      <td>4.0</td>\n      <td>1.0</td>\n    </tr>\n    <tr>\n      <th>two</th>\n      <td>NaN</td>\n      <td>6.0</td>\n    </tr>\n  </tbody>\n</table>\n</div>"
     },
     "execution_count": 16,
     "metadata": {},
     "output_type": "execute_result"
    }
   ],
   "source": [
    "table = pd.pivot_table(df,values='D', index=['A','B'],\n",
    "                       columns=['C'],aggfunc=np.sum)\n",
    "table"
   ],
   "metadata": {
    "collapsed": false,
    "pycharm": {
     "name": "#%%\n"
    }
   }
  },
  {
   "cell_type": "markdown",
   "source": [
    "### We can also fill missing values"
   ],
   "metadata": {
    "collapsed": false
   }
  },
  {
   "cell_type": "code",
   "execution_count": 17,
   "outputs": [
    {
     "data": {
      "text/plain": "C        large  small\nA   B                \nbar one      4      5\n    two      7      6\nfoo one      4      1\n    two      0      6",
      "text/html": "<div>\n<style scoped>\n    .dataframe tbody tr th:only-of-type {\n        vertical-align: middle;\n    }\n\n    .dataframe tbody tr th {\n        vertical-align: top;\n    }\n\n    .dataframe thead th {\n        text-align: right;\n    }\n</style>\n<table border=\"1\" class=\"dataframe\">\n  <thead>\n    <tr style=\"text-align: right;\">\n      <th></th>\n      <th>C</th>\n      <th>large</th>\n      <th>small</th>\n    </tr>\n    <tr>\n      <th>A</th>\n      <th>B</th>\n      <th></th>\n      <th></th>\n    </tr>\n  </thead>\n  <tbody>\n    <tr>\n      <th rowspan=\"2\" valign=\"top\">bar</th>\n      <th>one</th>\n      <td>4</td>\n      <td>5</td>\n    </tr>\n    <tr>\n      <th>two</th>\n      <td>7</td>\n      <td>6</td>\n    </tr>\n    <tr>\n      <th rowspan=\"2\" valign=\"top\">foo</th>\n      <th>one</th>\n      <td>4</td>\n      <td>1</td>\n    </tr>\n    <tr>\n      <th>two</th>\n      <td>0</td>\n      <td>6</td>\n    </tr>\n  </tbody>\n</table>\n</div>"
     },
     "execution_count": 17,
     "metadata": {},
     "output_type": "execute_result"
    }
   ],
   "source": [
    "table = pd.pivot_table(df,values='D', index=['A','B'],\n",
    "                       columns=['C'],aggfunc=np.sum, fill_value=0)\n",
    "table"
   ],
   "metadata": {
    "collapsed": false,
    "pycharm": {
     "name": "#%%\n"
    }
   }
  },
  {
   "cell_type": "code",
   "execution_count": 18,
   "outputs": [
    {
     "data": {
      "text/plain": "                  D   E              \n               mean max      mean min\nA   C                                \nbar large  5.500000   9  7.500000   6\n    small  5.500000   9  8.500000   8\nfoo large  2.000000   5  4.500000   4\n    small  2.333333   6  4.333333   2",
      "text/html": "<div>\n<style scoped>\n    .dataframe tbody tr th:only-of-type {\n        vertical-align: middle;\n    }\n\n    .dataframe tbody tr th {\n        vertical-align: top;\n    }\n\n    .dataframe thead tr th {\n        text-align: left;\n    }\n\n    .dataframe thead tr:last-of-type th {\n        text-align: right;\n    }\n</style>\n<table border=\"1\" class=\"dataframe\">\n  <thead>\n    <tr>\n      <th></th>\n      <th></th>\n      <th>D</th>\n      <th colspan=\"3\" halign=\"left\">E</th>\n    </tr>\n    <tr>\n      <th></th>\n      <th></th>\n      <th>mean</th>\n      <th>max</th>\n      <th>mean</th>\n      <th>min</th>\n    </tr>\n    <tr>\n      <th>A</th>\n      <th>C</th>\n      <th></th>\n      <th></th>\n      <th></th>\n      <th></th>\n    </tr>\n  </thead>\n  <tbody>\n    <tr>\n      <th rowspan=\"2\" valign=\"top\">bar</th>\n      <th>large</th>\n      <td>5.500000</td>\n      <td>9</td>\n      <td>7.500000</td>\n      <td>6</td>\n    </tr>\n    <tr>\n      <th>small</th>\n      <td>5.500000</td>\n      <td>9</td>\n      <td>8.500000</td>\n      <td>8</td>\n    </tr>\n    <tr>\n      <th rowspan=\"2\" valign=\"top\">foo</th>\n      <th>large</th>\n      <td>2.000000</td>\n      <td>5</td>\n      <td>4.500000</td>\n      <td>4</td>\n    </tr>\n    <tr>\n      <th>small</th>\n      <td>2.333333</td>\n      <td>6</td>\n      <td>4.333333</td>\n      <td>2</td>\n    </tr>\n  </tbody>\n</table>\n</div>"
     },
     "execution_count": 18,
     "metadata": {},
     "output_type": "execute_result"
    }
   ],
   "source": [
    "# Same thing can be achieved by using group by\n",
    "table = pd.pivot_table(df, values=['D', 'E'], index=['A', 'C'],\n",
    "                       aggfunc={'D': np.mean,'E': [min, max, np.mean]})\n",
    "\n",
    "table"
   ],
   "metadata": {
    "collapsed": false,
    "pycharm": {
     "name": "#%%\n"
    }
   }
  },
  {
   "cell_type": "code",
   "execution_count": 20,
   "outputs": [],
   "source": [
    "import seaborn as sns"
   ],
   "metadata": {
    "collapsed": false,
    "pycharm": {
     "name": "#%%\n"
    }
   }
  },
  {
   "cell_type": "code",
   "execution_count": 21,
   "outputs": [
    {
     "data": {
      "text/plain": "     year month  passengers\n0    1949   Jan         112\n1    1949   Feb         118\n2    1949   Mar         132\n3    1949   Apr         129\n4    1949   May         121\n..    ...   ...         ...\n139  1960   Aug         606\n140  1960   Sep         508\n141  1960   Oct         461\n142  1960   Nov         390\n143  1960   Dec         432\n\n[144 rows x 3 columns]",
      "text/html": "<div>\n<style scoped>\n    .dataframe tbody tr th:only-of-type {\n        vertical-align: middle;\n    }\n\n    .dataframe tbody tr th {\n        vertical-align: top;\n    }\n\n    .dataframe thead th {\n        text-align: right;\n    }\n</style>\n<table border=\"1\" class=\"dataframe\">\n  <thead>\n    <tr style=\"text-align: right;\">\n      <th></th>\n      <th>year</th>\n      <th>month</th>\n      <th>passengers</th>\n    </tr>\n  </thead>\n  <tbody>\n    <tr>\n      <th>0</th>\n      <td>1949</td>\n      <td>Jan</td>\n      <td>112</td>\n    </tr>\n    <tr>\n      <th>1</th>\n      <td>1949</td>\n      <td>Feb</td>\n      <td>118</td>\n    </tr>\n    <tr>\n      <th>2</th>\n      <td>1949</td>\n      <td>Mar</td>\n      <td>132</td>\n    </tr>\n    <tr>\n      <th>3</th>\n      <td>1949</td>\n      <td>Apr</td>\n      <td>129</td>\n    </tr>\n    <tr>\n      <th>4</th>\n      <td>1949</td>\n      <td>May</td>\n      <td>121</td>\n    </tr>\n    <tr>\n      <th>...</th>\n      <td>...</td>\n      <td>...</td>\n      <td>...</td>\n    </tr>\n    <tr>\n      <th>139</th>\n      <td>1960</td>\n      <td>Aug</td>\n      <td>606</td>\n    </tr>\n    <tr>\n      <th>140</th>\n      <td>1960</td>\n      <td>Sep</td>\n      <td>508</td>\n    </tr>\n    <tr>\n      <th>141</th>\n      <td>1960</td>\n      <td>Oct</td>\n      <td>461</td>\n    </tr>\n    <tr>\n      <th>142</th>\n      <td>1960</td>\n      <td>Nov</td>\n      <td>390</td>\n    </tr>\n    <tr>\n      <th>143</th>\n      <td>1960</td>\n      <td>Dec</td>\n      <td>432</td>\n    </tr>\n  </tbody>\n</table>\n<p>144 rows × 3 columns</p>\n</div>"
     },
     "execution_count": 21,
     "metadata": {},
     "output_type": "execute_result"
    }
   ],
   "source": [
    "flights = sns.load_dataset('flights')\n",
    "flights"
   ],
   "metadata": {
    "collapsed": false,
    "pycharm": {
     "name": "#%%\n"
    }
   }
  },
  {
   "cell_type": "code",
   "execution_count": 22,
   "outputs": [
    {
     "data": {
      "text/plain": "            passengers\nyear month            \n1949 Jan           112\n     Feb           118\n     Mar           132\n     Apr           129\n     May           121\n...                ...\n1960 Aug           606\n     Sep           508\n     Oct           461\n     Nov           390\n     Dec           432\n\n[144 rows x 1 columns]",
      "text/html": "<div>\n<style scoped>\n    .dataframe tbody tr th:only-of-type {\n        vertical-align: middle;\n    }\n\n    .dataframe tbody tr th {\n        vertical-align: top;\n    }\n\n    .dataframe thead th {\n        text-align: right;\n    }\n</style>\n<table border=\"1\" class=\"dataframe\">\n  <thead>\n    <tr style=\"text-align: right;\">\n      <th></th>\n      <th></th>\n      <th>passengers</th>\n    </tr>\n    <tr>\n      <th>year</th>\n      <th>month</th>\n      <th></th>\n    </tr>\n  </thead>\n  <tbody>\n    <tr>\n      <th rowspan=\"5\" valign=\"top\">1949</th>\n      <th>Jan</th>\n      <td>112</td>\n    </tr>\n    <tr>\n      <th>Feb</th>\n      <td>118</td>\n    </tr>\n    <tr>\n      <th>Mar</th>\n      <td>132</td>\n    </tr>\n    <tr>\n      <th>Apr</th>\n      <td>129</td>\n    </tr>\n    <tr>\n      <th>May</th>\n      <td>121</td>\n    </tr>\n    <tr>\n      <th>...</th>\n      <th>...</th>\n      <td>...</td>\n    </tr>\n    <tr>\n      <th rowspan=\"5\" valign=\"top\">1960</th>\n      <th>Aug</th>\n      <td>606</td>\n    </tr>\n    <tr>\n      <th>Sep</th>\n      <td>508</td>\n    </tr>\n    <tr>\n      <th>Oct</th>\n      <td>461</td>\n    </tr>\n    <tr>\n      <th>Nov</th>\n      <td>390</td>\n    </tr>\n    <tr>\n      <th>Dec</th>\n      <td>432</td>\n    </tr>\n  </tbody>\n</table>\n<p>144 rows × 1 columns</p>\n</div>"
     },
     "execution_count": 22,
     "metadata": {},
     "output_type": "execute_result"
    }
   ],
   "source": [
    "fg=flights.groupby(['year','month'])[['passengers']].sum()\n",
    "fg"
   ],
   "metadata": {
    "collapsed": false,
    "pycharm": {
     "name": "#%%\n"
    }
   }
  },
  {
   "cell_type": "code",
   "execution_count": 24,
   "outputs": [
    {
     "data": {
      "text/plain": "1676"
     },
     "execution_count": 24,
     "metadata": {},
     "output_type": "execute_result"
    }
   ],
   "source": [
    "flights.groupby(['year']).filter(lambda x: (x['year'] == 1950).any())['passengers'].sum()"
   ],
   "metadata": {
    "collapsed": false,
    "pycharm": {
     "name": "#%%\n"
    }
   }
  },
  {
   "cell_type": "code",
   "execution_count": 25,
   "outputs": [
    {
     "data": {
      "text/plain": "month  Jan  Feb  Mar  Apr  May  Jun  Jul  Aug  Sep  Oct  Nov  Dec\nyear                                                             \n1949   112  118  132  129  121  135  148  148  136  119  104  118\n1950   115  126  141  135  125  149  170  170  158  133  114  140\n1951   145  150  178  163  172  178  199  199  184  162  146  166\n1952   171  180  193  181  183  218  230  242  209  191  172  194\n1953   196  196  236  235  229  243  264  272  237  211  180  201\n1954   204  188  235  227  234  264  302  293  259  229  203  229\n1955   242  233  267  269  270  315  364  347  312  274  237  278\n1956   284  277  317  313  318  374  413  405  355  306  271  306\n1957   315  301  356  348  355  422  465  467  404  347  305  336\n1958   340  318  362  348  363  435  491  505  404  359  310  337\n1959   360  342  406  396  420  472  548  559  463  407  362  405\n1960   417  391  419  461  472  535  622  606  508  461  390  432",
      "text/html": "<div>\n<style scoped>\n    .dataframe tbody tr th:only-of-type {\n        vertical-align: middle;\n    }\n\n    .dataframe tbody tr th {\n        vertical-align: top;\n    }\n\n    .dataframe thead th {\n        text-align: right;\n    }\n</style>\n<table border=\"1\" class=\"dataframe\">\n  <thead>\n    <tr style=\"text-align: right;\">\n      <th>month</th>\n      <th>Jan</th>\n      <th>Feb</th>\n      <th>Mar</th>\n      <th>Apr</th>\n      <th>May</th>\n      <th>Jun</th>\n      <th>Jul</th>\n      <th>Aug</th>\n      <th>Sep</th>\n      <th>Oct</th>\n      <th>Nov</th>\n      <th>Dec</th>\n    </tr>\n    <tr>\n      <th>year</th>\n      <th></th>\n      <th></th>\n      <th></th>\n      <th></th>\n      <th></th>\n      <th></th>\n      <th></th>\n      <th></th>\n      <th></th>\n      <th></th>\n      <th></th>\n      <th></th>\n    </tr>\n  </thead>\n  <tbody>\n    <tr>\n      <th>1949</th>\n      <td>112</td>\n      <td>118</td>\n      <td>132</td>\n      <td>129</td>\n      <td>121</td>\n      <td>135</td>\n      <td>148</td>\n      <td>148</td>\n      <td>136</td>\n      <td>119</td>\n      <td>104</td>\n      <td>118</td>\n    </tr>\n    <tr>\n      <th>1950</th>\n      <td>115</td>\n      <td>126</td>\n      <td>141</td>\n      <td>135</td>\n      <td>125</td>\n      <td>149</td>\n      <td>170</td>\n      <td>170</td>\n      <td>158</td>\n      <td>133</td>\n      <td>114</td>\n      <td>140</td>\n    </tr>\n    <tr>\n      <th>1951</th>\n      <td>145</td>\n      <td>150</td>\n      <td>178</td>\n      <td>163</td>\n      <td>172</td>\n      <td>178</td>\n      <td>199</td>\n      <td>199</td>\n      <td>184</td>\n      <td>162</td>\n      <td>146</td>\n      <td>166</td>\n    </tr>\n    <tr>\n      <th>1952</th>\n      <td>171</td>\n      <td>180</td>\n      <td>193</td>\n      <td>181</td>\n      <td>183</td>\n      <td>218</td>\n      <td>230</td>\n      <td>242</td>\n      <td>209</td>\n      <td>191</td>\n      <td>172</td>\n      <td>194</td>\n    </tr>\n    <tr>\n      <th>1953</th>\n      <td>196</td>\n      <td>196</td>\n      <td>236</td>\n      <td>235</td>\n      <td>229</td>\n      <td>243</td>\n      <td>264</td>\n      <td>272</td>\n      <td>237</td>\n      <td>211</td>\n      <td>180</td>\n      <td>201</td>\n    </tr>\n    <tr>\n      <th>1954</th>\n      <td>204</td>\n      <td>188</td>\n      <td>235</td>\n      <td>227</td>\n      <td>234</td>\n      <td>264</td>\n      <td>302</td>\n      <td>293</td>\n      <td>259</td>\n      <td>229</td>\n      <td>203</td>\n      <td>229</td>\n    </tr>\n    <tr>\n      <th>1955</th>\n      <td>242</td>\n      <td>233</td>\n      <td>267</td>\n      <td>269</td>\n      <td>270</td>\n      <td>315</td>\n      <td>364</td>\n      <td>347</td>\n      <td>312</td>\n      <td>274</td>\n      <td>237</td>\n      <td>278</td>\n    </tr>\n    <tr>\n      <th>1956</th>\n      <td>284</td>\n      <td>277</td>\n      <td>317</td>\n      <td>313</td>\n      <td>318</td>\n      <td>374</td>\n      <td>413</td>\n      <td>405</td>\n      <td>355</td>\n      <td>306</td>\n      <td>271</td>\n      <td>306</td>\n    </tr>\n    <tr>\n      <th>1957</th>\n      <td>315</td>\n      <td>301</td>\n      <td>356</td>\n      <td>348</td>\n      <td>355</td>\n      <td>422</td>\n      <td>465</td>\n      <td>467</td>\n      <td>404</td>\n      <td>347</td>\n      <td>305</td>\n      <td>336</td>\n    </tr>\n    <tr>\n      <th>1958</th>\n      <td>340</td>\n      <td>318</td>\n      <td>362</td>\n      <td>348</td>\n      <td>363</td>\n      <td>435</td>\n      <td>491</td>\n      <td>505</td>\n      <td>404</td>\n      <td>359</td>\n      <td>310</td>\n      <td>337</td>\n    </tr>\n    <tr>\n      <th>1959</th>\n      <td>360</td>\n      <td>342</td>\n      <td>406</td>\n      <td>396</td>\n      <td>420</td>\n      <td>472</td>\n      <td>548</td>\n      <td>559</td>\n      <td>463</td>\n      <td>407</td>\n      <td>362</td>\n      <td>405</td>\n    </tr>\n    <tr>\n      <th>1960</th>\n      <td>417</td>\n      <td>391</td>\n      <td>419</td>\n      <td>461</td>\n      <td>472</td>\n      <td>535</td>\n      <td>622</td>\n      <td>606</td>\n      <td>508</td>\n      <td>461</td>\n      <td>390</td>\n      <td>432</td>\n    </tr>\n  </tbody>\n</table>\n</div>"
     },
     "execution_count": 25,
     "metadata": {},
     "output_type": "execute_result"
    }
   ],
   "source": [
    "flights_pivoted = pd.pivot_table(flights,values=\"passengers\",index=[\"year\"],columns='month')\n",
    "flights_pivoted"
   ],
   "metadata": {
    "collapsed": false,
    "pycharm": {
     "name": "#%%\n"
    }
   }
  },
  {
   "cell_type": "code",
   "execution_count": 27,
   "outputs": [
    {
     "data": {
      "text/plain": "month  Jan  Feb  Mar  Apr  May  Jun  Jul  Aug  Sep  Oct  Nov  Dec\nyear                                                             \n1949   112  118  132  129  121  135  148  148  136  119  104  118\n1950   115  126  141  135  125  149  170  170  158  133  114  140\n1951   145  150  178  163  172  178  199  199  184  162  146  166\n1952   171  180  193  181  183  218  230  242  209  191  172  194\n1953   196  196  236  235  229  243  264  272  237  211  180  201\n1954   204  188  235  227  234  264  302  293  259  229  203  229\n1955   242  233  267  269  270  315  364  347  312  274  237  278\n1956   284  277  317  313  318  374  413  405  355  306  271  306\n1957   315  301  356  348  355  422  465  467  404  347  305  336\n1958   340  318  362  348  363  435  491  505  404  359  310  337\n1959   360  342  406  396  420  472  548  559  463  407  362  405\n1960   417  391  419  461  472  535  622  606  508  461  390  432",
      "text/html": "<div>\n<style scoped>\n    .dataframe tbody tr th:only-of-type {\n        vertical-align: middle;\n    }\n\n    .dataframe tbody tr th {\n        vertical-align: top;\n    }\n\n    .dataframe thead th {\n        text-align: right;\n    }\n</style>\n<table border=\"1\" class=\"dataframe\">\n  <thead>\n    <tr style=\"text-align: right;\">\n      <th>month</th>\n      <th>Jan</th>\n      <th>Feb</th>\n      <th>Mar</th>\n      <th>Apr</th>\n      <th>May</th>\n      <th>Jun</th>\n      <th>Jul</th>\n      <th>Aug</th>\n      <th>Sep</th>\n      <th>Oct</th>\n      <th>Nov</th>\n      <th>Dec</th>\n    </tr>\n    <tr>\n      <th>year</th>\n      <th></th>\n      <th></th>\n      <th></th>\n      <th></th>\n      <th></th>\n      <th></th>\n      <th></th>\n      <th></th>\n      <th></th>\n      <th></th>\n      <th></th>\n      <th></th>\n    </tr>\n  </thead>\n  <tbody>\n    <tr>\n      <th>1949</th>\n      <td>112</td>\n      <td>118</td>\n      <td>132</td>\n      <td>129</td>\n      <td>121</td>\n      <td>135</td>\n      <td>148</td>\n      <td>148</td>\n      <td>136</td>\n      <td>119</td>\n      <td>104</td>\n      <td>118</td>\n    </tr>\n    <tr>\n      <th>1950</th>\n      <td>115</td>\n      <td>126</td>\n      <td>141</td>\n      <td>135</td>\n      <td>125</td>\n      <td>149</td>\n      <td>170</td>\n      <td>170</td>\n      <td>158</td>\n      <td>133</td>\n      <td>114</td>\n      <td>140</td>\n    </tr>\n    <tr>\n      <th>1951</th>\n      <td>145</td>\n      <td>150</td>\n      <td>178</td>\n      <td>163</td>\n      <td>172</td>\n      <td>178</td>\n      <td>199</td>\n      <td>199</td>\n      <td>184</td>\n      <td>162</td>\n      <td>146</td>\n      <td>166</td>\n    </tr>\n    <tr>\n      <th>1952</th>\n      <td>171</td>\n      <td>180</td>\n      <td>193</td>\n      <td>181</td>\n      <td>183</td>\n      <td>218</td>\n      <td>230</td>\n      <td>242</td>\n      <td>209</td>\n      <td>191</td>\n      <td>172</td>\n      <td>194</td>\n    </tr>\n    <tr>\n      <th>1953</th>\n      <td>196</td>\n      <td>196</td>\n      <td>236</td>\n      <td>235</td>\n      <td>229</td>\n      <td>243</td>\n      <td>264</td>\n      <td>272</td>\n      <td>237</td>\n      <td>211</td>\n      <td>180</td>\n      <td>201</td>\n    </tr>\n    <tr>\n      <th>1954</th>\n      <td>204</td>\n      <td>188</td>\n      <td>235</td>\n      <td>227</td>\n      <td>234</td>\n      <td>264</td>\n      <td>302</td>\n      <td>293</td>\n      <td>259</td>\n      <td>229</td>\n      <td>203</td>\n      <td>229</td>\n    </tr>\n    <tr>\n      <th>1955</th>\n      <td>242</td>\n      <td>233</td>\n      <td>267</td>\n      <td>269</td>\n      <td>270</td>\n      <td>315</td>\n      <td>364</td>\n      <td>347</td>\n      <td>312</td>\n      <td>274</td>\n      <td>237</td>\n      <td>278</td>\n    </tr>\n    <tr>\n      <th>1956</th>\n      <td>284</td>\n      <td>277</td>\n      <td>317</td>\n      <td>313</td>\n      <td>318</td>\n      <td>374</td>\n      <td>413</td>\n      <td>405</td>\n      <td>355</td>\n      <td>306</td>\n      <td>271</td>\n      <td>306</td>\n    </tr>\n    <tr>\n      <th>1957</th>\n      <td>315</td>\n      <td>301</td>\n      <td>356</td>\n      <td>348</td>\n      <td>355</td>\n      <td>422</td>\n      <td>465</td>\n      <td>467</td>\n      <td>404</td>\n      <td>347</td>\n      <td>305</td>\n      <td>336</td>\n    </tr>\n    <tr>\n      <th>1958</th>\n      <td>340</td>\n      <td>318</td>\n      <td>362</td>\n      <td>348</td>\n      <td>363</td>\n      <td>435</td>\n      <td>491</td>\n      <td>505</td>\n      <td>404</td>\n      <td>359</td>\n      <td>310</td>\n      <td>337</td>\n    </tr>\n    <tr>\n      <th>1959</th>\n      <td>360</td>\n      <td>342</td>\n      <td>406</td>\n      <td>396</td>\n      <td>420</td>\n      <td>472</td>\n      <td>548</td>\n      <td>559</td>\n      <td>463</td>\n      <td>407</td>\n      <td>362</td>\n      <td>405</td>\n    </tr>\n    <tr>\n      <th>1960</th>\n      <td>417</td>\n      <td>391</td>\n      <td>419</td>\n      <td>461</td>\n      <td>472</td>\n      <td>535</td>\n      <td>622</td>\n      <td>606</td>\n      <td>508</td>\n      <td>461</td>\n      <td>390</td>\n      <td>432</td>\n    </tr>\n  </tbody>\n</table>\n</div>"
     },
     "execution_count": 27,
     "metadata": {},
     "output_type": "execute_result"
    }
   ],
   "source": [
    "flights_piv = flights.pivot(index='year',columns='month',values='passengers')\n",
    "flights_piv"
   ],
   "metadata": {
    "collapsed": false,
    "pycharm": {
     "name": "#%%\n"
    }
   }
  },
  {
   "cell_type": "code",
   "execution_count": 30,
   "outputs": [
    {
     "data": {
      "text/plain": "year  month\n1949  Jan      112\n      Feb      118\n      Mar      132\n      Apr      129\n      May      121\n              ... \n1960  Aug      606\n      Sep      508\n      Oct      461\n      Nov      390\n      Dec      432\nLength: 144, dtype: int64"
     },
     "execution_count": 30,
     "metadata": {},
     "output_type": "execute_result"
    }
   ],
   "source": [
    "flights_piv.stack()"
   ],
   "metadata": {
    "collapsed": false,
    "pycharm": {
     "name": "#%%\n"
    }
   }
  },
  {
   "cell_type": "markdown",
   "source": [
    "# Pivoting Exercises\n",
    "Example exercises from w3resources on pivoting in pandas"
   ],
   "metadata": {
    "collapsed": false,
    "pycharm": {
     "name": "#%% md\n"
    }
   }
  },
  {
   "cell_type": "markdown",
   "source": [
    "### Create a pivot table with multiple indexes\n",
    "Write a Pandas program to create a Pivot table with multiple indexes from a given excel sheet (Salesdata.xlsx)"
   ],
   "metadata": {
    "collapsed": false,
    "pycharm": {
     "name": "#%% md\n"
    }
   }
  },
  {
   "cell_type": "code",
   "execution_count": 3,
   "outputs": [
    {
     "data": {
      "text/plain": "Manager            Douglas                                                  \\\nSalesMan              John                              Karen                \nItem                  Desk Home Theater Television Cell Phone Home Theater   \nOrderDate  Region                                                            \n2018-01-06 East        NaN          NaN        NaN        NaN          NaN   \n2018-01-23 Central     NaN          NaN        NaN        NaN          NaN   \n2018-02-09 Central     NaN          NaN        NaN        NaN          NaN   \n2018-02-26 Central     NaN          NaN        NaN        NaN          NaN   \n2018-03-15 West        NaN          NaN        NaN        NaN          NaN   \n2018-04-01 East        NaN          NaN        NaN        NaN          NaN   \n2018-04-18 Central     NaN          NaN        NaN        NaN          NaN   \n2018-05-05 Central     NaN          NaN        NaN        NaN          NaN   \n2018-05-22 West        NaN          NaN        NaN        NaN          NaN   \n2018-06-08 East        NaN          NaN        NaN        NaN          NaN   \n2018-06-25 Central     NaN          NaN        NaN        NaN          NaN   \n2018-07-12 East        NaN          NaN        NaN        NaN          NaN   \n2018-07-29 East        NaN          NaN        NaN        NaN      40500.0   \n2018-08-15 East        NaN          NaN        NaN        NaN          NaN   \n2018-09-01 Central   250.0          NaN        NaN        NaN          NaN   \n2018-09-18 East        NaN          NaN        NaN        NaN          NaN   \n2018-10-05 Central     NaN          NaN        NaN        NaN          NaN   \n2018-10-22 East        NaN          NaN        NaN        NaN          NaN   \n2018-11-08 East        NaN          NaN        NaN     3375.0          NaN   \n2018-11-25 Central     NaN          NaN        NaN        NaN          NaN   \n2018-12-12 Central     NaN          NaN    80266.0        NaN          NaN   \n2018-12-29 East        NaN          NaN        NaN        NaN          NaN   \n2019-01-15 Central     NaN          NaN        NaN        NaN          NaN   \n2019-02-01 Central     NaN      43500.0        NaN        NaN          NaN   \n2019-02-18 East        NaN          NaN        NaN        NaN          NaN   \n2019-03-07 West        NaN          NaN        NaN        NaN          NaN   \n2019-03-24 Central     NaN          NaN        NaN        NaN          NaN   \n2019-04-10 Central     NaN          NaN        NaN        NaN          NaN   \n2019-04-27 East        NaN          NaN        NaN        NaN          NaN   \n2019-05-14 Central     NaN          NaN        NaN        NaN          NaN   \n2019-05-31 Central     NaN          NaN        NaN        NaN          NaN   \n2019-06-17 Central     NaN          NaN        NaN        NaN          NaN   \n2019-07-04 East        NaN          NaN        NaN        NaN          NaN   \n2019-07-21 Central     NaN          NaN        NaN        NaN          NaN   \n2019-08-07 Central     NaN          NaN        NaN        NaN          NaN   \n2019-08-24 West        NaN          NaN        NaN        NaN          NaN   \n2019-09-10 Central     NaN          NaN        NaN        NaN          NaN   \n2019-09-27 West        NaN          NaN        NaN        NaN          NaN   \n2019-10-14 West        NaN          NaN        NaN        NaN          NaN   \n2019-10-31 Central     NaN          NaN        NaN        NaN          NaN   \n2019-11-17 Central     NaN          NaN        NaN        NaN          NaN   \n2019-12-04 Central     NaN          NaN        NaN        NaN          NaN   \n2019-12-21 Central     NaN          NaN        NaN        NaN          NaN   \n\nManager                                                     Hermann  \\\nSalesMan                            Michael                    Luis   \nItem               Video Games Home Theater Television Home Theater   \nOrderDate  Region                                                     \n2018-01-06 East            NaN          NaN        NaN          NaN   \n2018-01-23 Central         NaN          NaN        NaN          NaN   \n2018-02-09 Central         NaN          NaN        NaN          NaN   \n2018-02-26 Central         NaN          NaN        NaN          NaN   \n2018-03-15 West            NaN          NaN        NaN          NaN   \n2018-04-01 East            NaN          NaN        NaN          NaN   \n2018-04-18 Central         NaN          NaN        NaN          NaN   \n2018-05-05 Central         NaN          NaN        NaN          NaN   \n2018-05-22 West            NaN          NaN    38336.0          NaN   \n2018-06-08 East            NaN          NaN        NaN          NaN   \n2018-06-25 Central         NaN          NaN        NaN          NaN   \n2018-07-12 East            NaN          NaN        NaN          NaN   \n2018-07-29 East            NaN          NaN        NaN          NaN   \n2018-08-15 East            NaN          NaN        NaN          NaN   \n2018-09-01 Central         NaN          NaN        NaN          NaN   \n2018-09-18 East            NaN          NaN        NaN          NaN   \n2018-10-05 Central         NaN          NaN        NaN          NaN   \n2018-10-22 East            NaN          NaN        NaN          NaN   \n2018-11-08 East            NaN          NaN        NaN          NaN   \n2018-11-25 Central         NaN          NaN        NaN          NaN   \n2018-12-12 Central         NaN          NaN        NaN          NaN   \n2018-12-29 East         4329.0          NaN        NaN          NaN   \n2019-01-15 Central         NaN          NaN        NaN          NaN   \n2019-02-01 Central         NaN          NaN        NaN          NaN   \n2019-02-18 East            NaN          NaN        NaN          NaN   \n2019-03-07 West            NaN          NaN        NaN          NaN   \n2019-03-24 Central         NaN          NaN        NaN          NaN   \n2019-04-10 Central         NaN          NaN        NaN          NaN   \n2019-04-27 East            NaN          NaN        NaN          NaN   \n2019-05-14 Central         NaN          NaN        NaN          NaN   \n2019-05-31 Central         NaN          NaN        NaN          NaN   \n2019-06-17 Central         NaN          NaN        NaN          NaN   \n2019-07-04 East            NaN          NaN        NaN          NaN   \n2019-07-21 Central         NaN          NaN        NaN          NaN   \n2019-08-07 Central         NaN          NaN        NaN          NaN   \n2019-08-24 West            NaN          NaN        NaN          NaN   \n2019-09-10 Central         NaN          NaN        NaN          NaN   \n2019-09-27 West            NaN          NaN        NaN          NaN   \n2019-10-14 West            NaN      28500.0        NaN          NaN   \n2019-10-31 Central         NaN          NaN        NaN          NaN   \n2019-11-17 Central         NaN          NaN        NaN       5500.0   \n2019-12-04 Central         NaN          NaN        NaN      47000.0   \n2019-12-21 Central         NaN          NaN        NaN          NaN   \n\nManager                        ...       Martha                          \\\nSalesMan                       ...        Diana       Steven              \nItem               Television  ... Home Theater Home Theater Television   \nOrderDate  Region              ...                                        \n2018-01-06 East           NaN  ...          NaN          NaN        NaN   \n2018-01-23 Central        NaN  ...          NaN          NaN        NaN   \n2018-02-09 Central    43128.0  ...          NaN          NaN        NaN   \n2018-02-26 Central        NaN  ...          NaN          NaN        NaN   \n2018-03-15 West           NaN  ...          NaN          NaN        NaN   \n2018-04-01 East           NaN  ...          NaN          NaN        NaN   \n2018-04-18 Central        NaN  ...          NaN          NaN    89850.0   \n2018-05-05 Central   107820.0  ...          NaN          NaN        NaN   \n2018-05-22 West           NaN  ...          NaN          NaN        NaN   \n2018-06-08 East           NaN  ...          NaN          NaN        NaN   \n2018-06-25 Central        NaN  ...          NaN          NaN        NaN   \n2018-07-12 East           NaN  ...      14500.0          NaN        NaN   \n2018-07-29 East           NaN  ...          NaN          NaN        NaN   \n2018-08-15 East           NaN  ...          NaN          NaN        NaN   \n2018-09-01 Central        NaN  ...          NaN          NaN        NaN   \n2018-09-18 East           NaN  ...          NaN          NaN        NaN   \n2018-10-05 Central        NaN  ...          NaN          NaN        NaN   \n2018-10-22 East           NaN  ...          NaN          NaN        NaN   \n2018-11-08 East           NaN  ...          NaN          NaN        NaN   \n2018-11-25 Central        NaN  ...          NaN          NaN        NaN   \n2018-12-12 Central        NaN  ...          NaN          NaN        NaN   \n2018-12-29 East           NaN  ...          NaN          NaN        NaN   \n2019-01-15 Central        NaN  ...          NaN          NaN        NaN   \n2019-02-01 Central        NaN  ...          NaN          NaN        NaN   \n2019-02-18 East           NaN  ...          NaN          NaN        NaN   \n2019-03-07 West           NaN  ...          NaN          NaN        NaN   \n2019-03-24 Central        NaN  ...          NaN          NaN        NaN   \n2019-04-10 Central        NaN  ...          NaN          NaN    79068.0   \n2019-04-27 East           NaN  ...          NaN          NaN        NaN   \n2019-05-14 Central        NaN  ...          NaN          NaN        NaN   \n2019-05-31 Central        NaN  ...          NaN          NaN        NaN   \n2019-06-17 Central        NaN  ...          NaN          NaN        NaN   \n2019-07-04 East           NaN  ...          NaN          NaN        NaN   \n2019-07-21 Central        NaN  ...          NaN          NaN        NaN   \n2019-08-07 Central        NaN  ...          NaN          NaN        NaN   \n2019-08-24 West           NaN  ...          NaN          NaN        NaN   \n2019-09-10 Central        NaN  ...          NaN          NaN        NaN   \n2019-09-27 West           NaN  ...          NaN          NaN        NaN   \n2019-10-14 West           NaN  ...          NaN          NaN        NaN   \n2019-10-31 Central        NaN  ...          NaN          NaN    16772.0   \n2019-11-17 Central        NaN  ...          NaN          NaN        NaN   \n2019-12-04 Central        NaN  ...          NaN          NaN        NaN   \n2019-12-21 Central        NaN  ...          NaN      14000.0        NaN   \n\nManager               Timothy                                            \\\nSalesMan                David                            Stephen          \nItem               Cell Phone Home Theater Television Cell Phone   Desk   \nOrderDate  Region                                                         \n2018-01-06 East           NaN          NaN        NaN        NaN    NaN   \n2018-01-23 Central        NaN          NaN        NaN        NaN    NaN   \n2018-02-09 Central        NaN          NaN        NaN        NaN    NaN   \n2018-02-26 Central     6075.0          NaN        NaN        NaN    NaN   \n2018-03-15 West           NaN          NaN        NaN        NaN    NaN   \n2018-04-01 East           NaN          NaN        NaN        NaN    NaN   \n2018-04-18 Central        NaN          NaN        NaN        NaN    NaN   \n2018-05-05 Central        NaN          NaN        NaN        NaN    NaN   \n2018-05-22 West           NaN          NaN        NaN        NaN    NaN   \n2018-06-08 East           NaN          NaN        NaN        NaN    NaN   \n2018-06-25 Central        NaN          NaN        NaN        NaN    NaN   \n2018-07-12 East           NaN          NaN        NaN        NaN    NaN   \n2018-07-29 East           NaN          NaN        NaN        NaN    NaN   \n2018-08-15 East           NaN          NaN        NaN        NaN    NaN   \n2018-09-01 Central        NaN          NaN        NaN        NaN    NaN   \n2018-09-18 East           NaN          NaN        NaN        NaN    NaN   \n2018-10-05 Central        NaN          NaN        NaN        NaN    NaN   \n2018-10-22 East           NaN          NaN        NaN        NaN    NaN   \n2018-11-08 East           NaN          NaN        NaN        NaN    NaN   \n2018-11-25 Central        NaN          NaN        NaN        NaN    NaN   \n2018-12-12 Central        NaN          NaN        NaN        NaN    NaN   \n2018-12-29 East           NaN          NaN        NaN        NaN    NaN   \n2019-01-15 Central        NaN      23000.0        NaN        NaN    NaN   \n2019-02-01 Central        NaN          NaN        NaN        NaN    NaN   \n2019-02-18 East           NaN          NaN        NaN        NaN    NaN   \n2019-03-07 West           NaN          NaN        NaN        NaN    NaN   \n2019-03-24 Central        NaN          NaN        NaN        NaN    NaN   \n2019-04-10 Central        NaN          NaN        NaN        NaN    NaN   \n2019-04-27 East           NaN          NaN        NaN        NaN    NaN   \n2019-05-14 Central        NaN          NaN    63494.0        NaN    NaN   \n2019-05-31 Central        NaN      40000.0        NaN        NaN    NaN   \n2019-06-17 Central        NaN          NaN        NaN        NaN    NaN   \n2019-07-04 East           NaN          NaN        NaN        NaN    NaN   \n2019-07-21 Central        NaN          NaN        NaN        NaN    NaN   \n2019-08-07 Central        NaN          NaN        NaN        NaN    NaN   \n2019-08-24 West           NaN          NaN        NaN        NaN  375.0   \n2019-09-10 Central        NaN          NaN     8386.0        NaN    NaN   \n2019-09-27 West           NaN          NaN        NaN    17100.0    NaN   \n2019-10-14 West           NaN          NaN        NaN        NaN    NaN   \n2019-10-31 Central        NaN          NaN        NaN        NaN    NaN   \n2019-11-17 Central        NaN          NaN        NaN        NaN    NaN   \n2019-12-04 Central        NaN          NaN        NaN        NaN    NaN   \n2019-12-21 Central        NaN          NaN        NaN        NaN    NaN   \n\nManager                                     \nSalesMan                                    \nItem               Home Theater Television  \nOrderDate  Region                           \n2018-01-06 East             NaN        NaN  \n2018-01-23 Central          NaN        NaN  \n2018-02-09 Central          NaN        NaN  \n2018-02-26 Central          NaN        NaN  \n2018-03-15 West             NaN    67088.0  \n2018-04-01 East             NaN        NaN  \n2018-04-18 Central          NaN        NaN  \n2018-05-05 Central          NaN        NaN  \n2018-05-22 West             NaN        NaN  \n2018-06-08 East             NaN        NaN  \n2018-06-25 Central          NaN        NaN  \n2018-07-12 East             NaN        NaN  \n2018-07-29 East             NaN        NaN  \n2018-08-15 East             NaN        NaN  \n2018-09-01 Central          NaN        NaN  \n2018-09-18 East             NaN        NaN  \n2018-10-05 Central          NaN        NaN  \n2018-10-22 East             NaN        NaN  \n2018-11-08 East             NaN        NaN  \n2018-11-25 Central          NaN        NaN  \n2018-12-12 Central          NaN        NaN  \n2018-12-29 East             NaN        NaN  \n2019-01-15 Central          NaN        NaN  \n2019-02-01 Central          NaN        NaN  \n2019-02-18 East             NaN        NaN  \n2019-03-07 West          3500.0        NaN  \n2019-03-24 Central          NaN        NaN  \n2019-04-10 Central          NaN        NaN  \n2019-04-27 East             NaN        NaN  \n2019-05-14 Central          NaN        NaN  \n2019-05-31 Central          NaN        NaN  \n2019-06-17 Central          NaN        NaN  \n2019-07-04 East             NaN        NaN  \n2019-07-21 Central          NaN        NaN  \n2019-08-07 Central          NaN        NaN  \n2019-08-24 West             NaN        NaN  \n2019-09-10 Central          NaN        NaN  \n2019-09-27 West             NaN        NaN  \n2019-10-14 West             NaN        NaN  \n2019-10-31 Central          NaN        NaN  \n2019-11-17 Central          NaN        NaN  \n2019-12-04 Central          NaN        NaN  \n2019-12-21 Central          NaN        NaN  \n\n[43 rows x 32 columns]",
      "text/html": "<div>\n<style scoped>\n    .dataframe tbody tr th:only-of-type {\n        vertical-align: middle;\n    }\n\n    .dataframe tbody tr th {\n        vertical-align: top;\n    }\n\n    .dataframe thead tr th {\n        text-align: left;\n    }\n\n    .dataframe thead tr:last-of-type th {\n        text-align: right;\n    }\n</style>\n<table border=\"1\" class=\"dataframe\">\n  <thead>\n    <tr>\n      <th></th>\n      <th>Manager</th>\n      <th colspan=\"8\" halign=\"left\">Douglas</th>\n      <th colspan=\"2\" halign=\"left\">Hermann</th>\n      <th>...</th>\n      <th colspan=\"3\" halign=\"left\">Martha</th>\n      <th colspan=\"7\" halign=\"left\">Timothy</th>\n    </tr>\n    <tr>\n      <th></th>\n      <th>SalesMan</th>\n      <th colspan=\"3\" halign=\"left\">John</th>\n      <th colspan=\"3\" halign=\"left\">Karen</th>\n      <th colspan=\"2\" halign=\"left\">Michael</th>\n      <th colspan=\"2\" halign=\"left\">Luis</th>\n      <th>...</th>\n      <th>Diana</th>\n      <th colspan=\"2\" halign=\"left\">Steven</th>\n      <th colspan=\"3\" halign=\"left\">David</th>\n      <th colspan=\"4\" halign=\"left\">Stephen</th>\n    </tr>\n    <tr>\n      <th></th>\n      <th>Item</th>\n      <th>Desk</th>\n      <th>Home Theater</th>\n      <th>Television</th>\n      <th>Cell Phone</th>\n      <th>Home Theater</th>\n      <th>Video Games</th>\n      <th>Home Theater</th>\n      <th>Television</th>\n      <th>Home Theater</th>\n      <th>Television</th>\n      <th>...</th>\n      <th>Home Theater</th>\n      <th>Home Theater</th>\n      <th>Television</th>\n      <th>Cell Phone</th>\n      <th>Home Theater</th>\n      <th>Television</th>\n      <th>Cell Phone</th>\n      <th>Desk</th>\n      <th>Home Theater</th>\n      <th>Television</th>\n    </tr>\n    <tr>\n      <th>OrderDate</th>\n      <th>Region</th>\n      <th></th>\n      <th></th>\n      <th></th>\n      <th></th>\n      <th></th>\n      <th></th>\n      <th></th>\n      <th></th>\n      <th></th>\n      <th></th>\n      <th></th>\n      <th></th>\n      <th></th>\n      <th></th>\n      <th></th>\n      <th></th>\n      <th></th>\n      <th></th>\n      <th></th>\n      <th></th>\n      <th></th>\n    </tr>\n  </thead>\n  <tbody>\n    <tr>\n      <th>2018-01-06</th>\n      <th>East</th>\n      <td>NaN</td>\n      <td>NaN</td>\n      <td>NaN</td>\n      <td>NaN</td>\n      <td>NaN</td>\n      <td>NaN</td>\n      <td>NaN</td>\n      <td>NaN</td>\n      <td>NaN</td>\n      <td>NaN</td>\n      <td>...</td>\n      <td>NaN</td>\n      <td>NaN</td>\n      <td>NaN</td>\n      <td>NaN</td>\n      <td>NaN</td>\n      <td>NaN</td>\n      <td>NaN</td>\n      <td>NaN</td>\n      <td>NaN</td>\n      <td>NaN</td>\n    </tr>\n    <tr>\n      <th>2018-01-23</th>\n      <th>Central</th>\n      <td>NaN</td>\n      <td>NaN</td>\n      <td>NaN</td>\n      <td>NaN</td>\n      <td>NaN</td>\n      <td>NaN</td>\n      <td>NaN</td>\n      <td>NaN</td>\n      <td>NaN</td>\n      <td>NaN</td>\n      <td>...</td>\n      <td>NaN</td>\n      <td>NaN</td>\n      <td>NaN</td>\n      <td>NaN</td>\n      <td>NaN</td>\n      <td>NaN</td>\n      <td>NaN</td>\n      <td>NaN</td>\n      <td>NaN</td>\n      <td>NaN</td>\n    </tr>\n    <tr>\n      <th>2018-02-09</th>\n      <th>Central</th>\n      <td>NaN</td>\n      <td>NaN</td>\n      <td>NaN</td>\n      <td>NaN</td>\n      <td>NaN</td>\n      <td>NaN</td>\n      <td>NaN</td>\n      <td>NaN</td>\n      <td>NaN</td>\n      <td>43128.0</td>\n      <td>...</td>\n      <td>NaN</td>\n      <td>NaN</td>\n      <td>NaN</td>\n      <td>NaN</td>\n      <td>NaN</td>\n      <td>NaN</td>\n      <td>NaN</td>\n      <td>NaN</td>\n      <td>NaN</td>\n      <td>NaN</td>\n    </tr>\n    <tr>\n      <th>2018-02-26</th>\n      <th>Central</th>\n      <td>NaN</td>\n      <td>NaN</td>\n      <td>NaN</td>\n      <td>NaN</td>\n      <td>NaN</td>\n      <td>NaN</td>\n      <td>NaN</td>\n      <td>NaN</td>\n      <td>NaN</td>\n      <td>NaN</td>\n      <td>...</td>\n      <td>NaN</td>\n      <td>NaN</td>\n      <td>NaN</td>\n      <td>6075.0</td>\n      <td>NaN</td>\n      <td>NaN</td>\n      <td>NaN</td>\n      <td>NaN</td>\n      <td>NaN</td>\n      <td>NaN</td>\n    </tr>\n    <tr>\n      <th>2018-03-15</th>\n      <th>West</th>\n      <td>NaN</td>\n      <td>NaN</td>\n      <td>NaN</td>\n      <td>NaN</td>\n      <td>NaN</td>\n      <td>NaN</td>\n      <td>NaN</td>\n      <td>NaN</td>\n      <td>NaN</td>\n      <td>NaN</td>\n      <td>...</td>\n      <td>NaN</td>\n      <td>NaN</td>\n      <td>NaN</td>\n      <td>NaN</td>\n      <td>NaN</td>\n      <td>NaN</td>\n      <td>NaN</td>\n      <td>NaN</td>\n      <td>NaN</td>\n      <td>67088.0</td>\n    </tr>\n    <tr>\n      <th>2018-04-01</th>\n      <th>East</th>\n      <td>NaN</td>\n      <td>NaN</td>\n      <td>NaN</td>\n      <td>NaN</td>\n      <td>NaN</td>\n      <td>NaN</td>\n      <td>NaN</td>\n      <td>NaN</td>\n      <td>NaN</td>\n      <td>NaN</td>\n      <td>...</td>\n      <td>NaN</td>\n      <td>NaN</td>\n      <td>NaN</td>\n      <td>NaN</td>\n      <td>NaN</td>\n      <td>NaN</td>\n      <td>NaN</td>\n      <td>NaN</td>\n      <td>NaN</td>\n      <td>NaN</td>\n    </tr>\n    <tr>\n      <th>2018-04-18</th>\n      <th>Central</th>\n      <td>NaN</td>\n      <td>NaN</td>\n      <td>NaN</td>\n      <td>NaN</td>\n      <td>NaN</td>\n      <td>NaN</td>\n      <td>NaN</td>\n      <td>NaN</td>\n      <td>NaN</td>\n      <td>NaN</td>\n      <td>...</td>\n      <td>NaN</td>\n      <td>NaN</td>\n      <td>89850.0</td>\n      <td>NaN</td>\n      <td>NaN</td>\n      <td>NaN</td>\n      <td>NaN</td>\n      <td>NaN</td>\n      <td>NaN</td>\n      <td>NaN</td>\n    </tr>\n    <tr>\n      <th>2018-05-05</th>\n      <th>Central</th>\n      <td>NaN</td>\n      <td>NaN</td>\n      <td>NaN</td>\n      <td>NaN</td>\n      <td>NaN</td>\n      <td>NaN</td>\n      <td>NaN</td>\n      <td>NaN</td>\n      <td>NaN</td>\n      <td>107820.0</td>\n      <td>...</td>\n      <td>NaN</td>\n      <td>NaN</td>\n      <td>NaN</td>\n      <td>NaN</td>\n      <td>NaN</td>\n      <td>NaN</td>\n      <td>NaN</td>\n      <td>NaN</td>\n      <td>NaN</td>\n      <td>NaN</td>\n    </tr>\n    <tr>\n      <th>2018-05-22</th>\n      <th>West</th>\n      <td>NaN</td>\n      <td>NaN</td>\n      <td>NaN</td>\n      <td>NaN</td>\n      <td>NaN</td>\n      <td>NaN</td>\n      <td>NaN</td>\n      <td>38336.0</td>\n      <td>NaN</td>\n      <td>NaN</td>\n      <td>...</td>\n      <td>NaN</td>\n      <td>NaN</td>\n      <td>NaN</td>\n      <td>NaN</td>\n      <td>NaN</td>\n      <td>NaN</td>\n      <td>NaN</td>\n      <td>NaN</td>\n      <td>NaN</td>\n      <td>NaN</td>\n    </tr>\n    <tr>\n      <th>2018-06-08</th>\n      <th>East</th>\n      <td>NaN</td>\n      <td>NaN</td>\n      <td>NaN</td>\n      <td>NaN</td>\n      <td>NaN</td>\n      <td>NaN</td>\n      <td>NaN</td>\n      <td>NaN</td>\n      <td>NaN</td>\n      <td>NaN</td>\n      <td>...</td>\n      <td>NaN</td>\n      <td>NaN</td>\n      <td>NaN</td>\n      <td>NaN</td>\n      <td>NaN</td>\n      <td>NaN</td>\n      <td>NaN</td>\n      <td>NaN</td>\n      <td>NaN</td>\n      <td>NaN</td>\n    </tr>\n    <tr>\n      <th>2018-06-25</th>\n      <th>Central</th>\n      <td>NaN</td>\n      <td>NaN</td>\n      <td>NaN</td>\n      <td>NaN</td>\n      <td>NaN</td>\n      <td>NaN</td>\n      <td>NaN</td>\n      <td>NaN</td>\n      <td>NaN</td>\n      <td>NaN</td>\n      <td>...</td>\n      <td>NaN</td>\n      <td>NaN</td>\n      <td>NaN</td>\n      <td>NaN</td>\n      <td>NaN</td>\n      <td>NaN</td>\n      <td>NaN</td>\n      <td>NaN</td>\n      <td>NaN</td>\n      <td>NaN</td>\n    </tr>\n    <tr>\n      <th>2018-07-12</th>\n      <th>East</th>\n      <td>NaN</td>\n      <td>NaN</td>\n      <td>NaN</td>\n      <td>NaN</td>\n      <td>NaN</td>\n      <td>NaN</td>\n      <td>NaN</td>\n      <td>NaN</td>\n      <td>NaN</td>\n      <td>NaN</td>\n      <td>...</td>\n      <td>14500.0</td>\n      <td>NaN</td>\n      <td>NaN</td>\n      <td>NaN</td>\n      <td>NaN</td>\n      <td>NaN</td>\n      <td>NaN</td>\n      <td>NaN</td>\n      <td>NaN</td>\n      <td>NaN</td>\n    </tr>\n    <tr>\n      <th>2018-07-29</th>\n      <th>East</th>\n      <td>NaN</td>\n      <td>NaN</td>\n      <td>NaN</td>\n      <td>NaN</td>\n      <td>40500.0</td>\n      <td>NaN</td>\n      <td>NaN</td>\n      <td>NaN</td>\n      <td>NaN</td>\n      <td>NaN</td>\n      <td>...</td>\n      <td>NaN</td>\n      <td>NaN</td>\n      <td>NaN</td>\n      <td>NaN</td>\n      <td>NaN</td>\n      <td>NaN</td>\n      <td>NaN</td>\n      <td>NaN</td>\n      <td>NaN</td>\n      <td>NaN</td>\n    </tr>\n    <tr>\n      <th>2018-08-15</th>\n      <th>East</th>\n      <td>NaN</td>\n      <td>NaN</td>\n      <td>NaN</td>\n      <td>NaN</td>\n      <td>NaN</td>\n      <td>NaN</td>\n      <td>NaN</td>\n      <td>NaN</td>\n      <td>NaN</td>\n      <td>NaN</td>\n      <td>...</td>\n      <td>NaN</td>\n      <td>NaN</td>\n      <td>NaN</td>\n      <td>NaN</td>\n      <td>NaN</td>\n      <td>NaN</td>\n      <td>NaN</td>\n      <td>NaN</td>\n      <td>NaN</td>\n      <td>NaN</td>\n    </tr>\n    <tr>\n      <th>2018-09-01</th>\n      <th>Central</th>\n      <td>250.0</td>\n      <td>NaN</td>\n      <td>NaN</td>\n      <td>NaN</td>\n      <td>NaN</td>\n      <td>NaN</td>\n      <td>NaN</td>\n      <td>NaN</td>\n      <td>NaN</td>\n      <td>NaN</td>\n      <td>...</td>\n      <td>NaN</td>\n      <td>NaN</td>\n      <td>NaN</td>\n      <td>NaN</td>\n      <td>NaN</td>\n      <td>NaN</td>\n      <td>NaN</td>\n      <td>NaN</td>\n      <td>NaN</td>\n      <td>NaN</td>\n    </tr>\n    <tr>\n      <th>2018-09-18</th>\n      <th>East</th>\n      <td>NaN</td>\n      <td>NaN</td>\n      <td>NaN</td>\n      <td>NaN</td>\n      <td>NaN</td>\n      <td>NaN</td>\n      <td>NaN</td>\n      <td>NaN</td>\n      <td>NaN</td>\n      <td>NaN</td>\n      <td>...</td>\n      <td>NaN</td>\n      <td>NaN</td>\n      <td>NaN</td>\n      <td>NaN</td>\n      <td>NaN</td>\n      <td>NaN</td>\n      <td>NaN</td>\n      <td>NaN</td>\n      <td>NaN</td>\n      <td>NaN</td>\n    </tr>\n    <tr>\n      <th>2018-10-05</th>\n      <th>Central</th>\n      <td>NaN</td>\n      <td>NaN</td>\n      <td>NaN</td>\n      <td>NaN</td>\n      <td>NaN</td>\n      <td>NaN</td>\n      <td>NaN</td>\n      <td>NaN</td>\n      <td>NaN</td>\n      <td>NaN</td>\n      <td>...</td>\n      <td>NaN</td>\n      <td>NaN</td>\n      <td>NaN</td>\n      <td>NaN</td>\n      <td>NaN</td>\n      <td>NaN</td>\n      <td>NaN</td>\n      <td>NaN</td>\n      <td>NaN</td>\n      <td>NaN</td>\n    </tr>\n    <tr>\n      <th>2018-10-22</th>\n      <th>East</th>\n      <td>NaN</td>\n      <td>NaN</td>\n      <td>NaN</td>\n      <td>NaN</td>\n      <td>NaN</td>\n      <td>NaN</td>\n      <td>NaN</td>\n      <td>NaN</td>\n      <td>NaN</td>\n      <td>NaN</td>\n      <td>...</td>\n      <td>NaN</td>\n      <td>NaN</td>\n      <td>NaN</td>\n      <td>NaN</td>\n      <td>NaN</td>\n      <td>NaN</td>\n      <td>NaN</td>\n      <td>NaN</td>\n      <td>NaN</td>\n      <td>NaN</td>\n    </tr>\n    <tr>\n      <th>2018-11-08</th>\n      <th>East</th>\n      <td>NaN</td>\n      <td>NaN</td>\n      <td>NaN</td>\n      <td>3375.0</td>\n      <td>NaN</td>\n      <td>NaN</td>\n      <td>NaN</td>\n      <td>NaN</td>\n      <td>NaN</td>\n      <td>NaN</td>\n      <td>...</td>\n      <td>NaN</td>\n      <td>NaN</td>\n      <td>NaN</td>\n      <td>NaN</td>\n      <td>NaN</td>\n      <td>NaN</td>\n      <td>NaN</td>\n      <td>NaN</td>\n      <td>NaN</td>\n      <td>NaN</td>\n    </tr>\n    <tr>\n      <th>2018-11-25</th>\n      <th>Central</th>\n      <td>NaN</td>\n      <td>NaN</td>\n      <td>NaN</td>\n      <td>NaN</td>\n      <td>NaN</td>\n      <td>NaN</td>\n      <td>NaN</td>\n      <td>NaN</td>\n      <td>NaN</td>\n      <td>NaN</td>\n      <td>...</td>\n      <td>NaN</td>\n      <td>NaN</td>\n      <td>NaN</td>\n      <td>NaN</td>\n      <td>NaN</td>\n      <td>NaN</td>\n      <td>NaN</td>\n      <td>NaN</td>\n      <td>NaN</td>\n      <td>NaN</td>\n    </tr>\n    <tr>\n      <th>2018-12-12</th>\n      <th>Central</th>\n      <td>NaN</td>\n      <td>NaN</td>\n      <td>80266.0</td>\n      <td>NaN</td>\n      <td>NaN</td>\n      <td>NaN</td>\n      <td>NaN</td>\n      <td>NaN</td>\n      <td>NaN</td>\n      <td>NaN</td>\n      <td>...</td>\n      <td>NaN</td>\n      <td>NaN</td>\n      <td>NaN</td>\n      <td>NaN</td>\n      <td>NaN</td>\n      <td>NaN</td>\n      <td>NaN</td>\n      <td>NaN</td>\n      <td>NaN</td>\n      <td>NaN</td>\n    </tr>\n    <tr>\n      <th>2018-12-29</th>\n      <th>East</th>\n      <td>NaN</td>\n      <td>NaN</td>\n      <td>NaN</td>\n      <td>NaN</td>\n      <td>NaN</td>\n      <td>4329.0</td>\n      <td>NaN</td>\n      <td>NaN</td>\n      <td>NaN</td>\n      <td>NaN</td>\n      <td>...</td>\n      <td>NaN</td>\n      <td>NaN</td>\n      <td>NaN</td>\n      <td>NaN</td>\n      <td>NaN</td>\n      <td>NaN</td>\n      <td>NaN</td>\n      <td>NaN</td>\n      <td>NaN</td>\n      <td>NaN</td>\n    </tr>\n    <tr>\n      <th>2019-01-15</th>\n      <th>Central</th>\n      <td>NaN</td>\n      <td>NaN</td>\n      <td>NaN</td>\n      <td>NaN</td>\n      <td>NaN</td>\n      <td>NaN</td>\n      <td>NaN</td>\n      <td>NaN</td>\n      <td>NaN</td>\n      <td>NaN</td>\n      <td>...</td>\n      <td>NaN</td>\n      <td>NaN</td>\n      <td>NaN</td>\n      <td>NaN</td>\n      <td>23000.0</td>\n      <td>NaN</td>\n      <td>NaN</td>\n      <td>NaN</td>\n      <td>NaN</td>\n      <td>NaN</td>\n    </tr>\n    <tr>\n      <th>2019-02-01</th>\n      <th>Central</th>\n      <td>NaN</td>\n      <td>43500.0</td>\n      <td>NaN</td>\n      <td>NaN</td>\n      <td>NaN</td>\n      <td>NaN</td>\n      <td>NaN</td>\n      <td>NaN</td>\n      <td>NaN</td>\n      <td>NaN</td>\n      <td>...</td>\n      <td>NaN</td>\n      <td>NaN</td>\n      <td>NaN</td>\n      <td>NaN</td>\n      <td>NaN</td>\n      <td>NaN</td>\n      <td>NaN</td>\n      <td>NaN</td>\n      <td>NaN</td>\n      <td>NaN</td>\n    </tr>\n    <tr>\n      <th>2019-02-18</th>\n      <th>East</th>\n      <td>NaN</td>\n      <td>NaN</td>\n      <td>NaN</td>\n      <td>NaN</td>\n      <td>NaN</td>\n      <td>NaN</td>\n      <td>NaN</td>\n      <td>NaN</td>\n      <td>NaN</td>\n      <td>NaN</td>\n      <td>...</td>\n      <td>NaN</td>\n      <td>NaN</td>\n      <td>NaN</td>\n      <td>NaN</td>\n      <td>NaN</td>\n      <td>NaN</td>\n      <td>NaN</td>\n      <td>NaN</td>\n      <td>NaN</td>\n      <td>NaN</td>\n    </tr>\n    <tr>\n      <th>2019-03-07</th>\n      <th>West</th>\n      <td>NaN</td>\n      <td>NaN</td>\n      <td>NaN</td>\n      <td>NaN</td>\n      <td>NaN</td>\n      <td>NaN</td>\n      <td>NaN</td>\n      <td>NaN</td>\n      <td>NaN</td>\n      <td>NaN</td>\n      <td>...</td>\n      <td>NaN</td>\n      <td>NaN</td>\n      <td>NaN</td>\n      <td>NaN</td>\n      <td>NaN</td>\n      <td>NaN</td>\n      <td>NaN</td>\n      <td>NaN</td>\n      <td>3500.0</td>\n      <td>NaN</td>\n    </tr>\n    <tr>\n      <th>2019-03-24</th>\n      <th>Central</th>\n      <td>NaN</td>\n      <td>NaN</td>\n      <td>NaN</td>\n      <td>NaN</td>\n      <td>NaN</td>\n      <td>NaN</td>\n      <td>NaN</td>\n      <td>NaN</td>\n      <td>NaN</td>\n      <td>NaN</td>\n      <td>...</td>\n      <td>NaN</td>\n      <td>NaN</td>\n      <td>NaN</td>\n      <td>NaN</td>\n      <td>NaN</td>\n      <td>NaN</td>\n      <td>NaN</td>\n      <td>NaN</td>\n      <td>NaN</td>\n      <td>NaN</td>\n    </tr>\n    <tr>\n      <th>2019-04-10</th>\n      <th>Central</th>\n      <td>NaN</td>\n      <td>NaN</td>\n      <td>NaN</td>\n      <td>NaN</td>\n      <td>NaN</td>\n      <td>NaN</td>\n      <td>NaN</td>\n      <td>NaN</td>\n      <td>NaN</td>\n      <td>NaN</td>\n      <td>...</td>\n      <td>NaN</td>\n      <td>NaN</td>\n      <td>79068.0</td>\n      <td>NaN</td>\n      <td>NaN</td>\n      <td>NaN</td>\n      <td>NaN</td>\n      <td>NaN</td>\n      <td>NaN</td>\n      <td>NaN</td>\n    </tr>\n    <tr>\n      <th>2019-04-27</th>\n      <th>East</th>\n      <td>NaN</td>\n      <td>NaN</td>\n      <td>NaN</td>\n      <td>NaN</td>\n      <td>NaN</td>\n      <td>NaN</td>\n      <td>NaN</td>\n      <td>NaN</td>\n      <td>NaN</td>\n      <td>NaN</td>\n      <td>...</td>\n      <td>NaN</td>\n      <td>NaN</td>\n      <td>NaN</td>\n      <td>NaN</td>\n      <td>NaN</td>\n      <td>NaN</td>\n      <td>NaN</td>\n      <td>NaN</td>\n      <td>NaN</td>\n      <td>NaN</td>\n    </tr>\n    <tr>\n      <th>2019-05-14</th>\n      <th>Central</th>\n      <td>NaN</td>\n      <td>NaN</td>\n      <td>NaN</td>\n      <td>NaN</td>\n      <td>NaN</td>\n      <td>NaN</td>\n      <td>NaN</td>\n      <td>NaN</td>\n      <td>NaN</td>\n      <td>NaN</td>\n      <td>...</td>\n      <td>NaN</td>\n      <td>NaN</td>\n      <td>NaN</td>\n      <td>NaN</td>\n      <td>NaN</td>\n      <td>63494.0</td>\n      <td>NaN</td>\n      <td>NaN</td>\n      <td>NaN</td>\n      <td>NaN</td>\n    </tr>\n    <tr>\n      <th>2019-05-31</th>\n      <th>Central</th>\n      <td>NaN</td>\n      <td>NaN</td>\n      <td>NaN</td>\n      <td>NaN</td>\n      <td>NaN</td>\n      <td>NaN</td>\n      <td>NaN</td>\n      <td>NaN</td>\n      <td>NaN</td>\n      <td>NaN</td>\n      <td>...</td>\n      <td>NaN</td>\n      <td>NaN</td>\n      <td>NaN</td>\n      <td>NaN</td>\n      <td>40000.0</td>\n      <td>NaN</td>\n      <td>NaN</td>\n      <td>NaN</td>\n      <td>NaN</td>\n      <td>NaN</td>\n    </tr>\n    <tr>\n      <th>2019-06-17</th>\n      <th>Central</th>\n      <td>NaN</td>\n      <td>NaN</td>\n      <td>NaN</td>\n      <td>NaN</td>\n      <td>NaN</td>\n      <td>NaN</td>\n      <td>NaN</td>\n      <td>NaN</td>\n      <td>NaN</td>\n      <td>NaN</td>\n      <td>...</td>\n      <td>NaN</td>\n      <td>NaN</td>\n      <td>NaN</td>\n      <td>NaN</td>\n      <td>NaN</td>\n      <td>NaN</td>\n      <td>NaN</td>\n      <td>NaN</td>\n      <td>NaN</td>\n      <td>NaN</td>\n    </tr>\n    <tr>\n      <th>2019-07-04</th>\n      <th>East</th>\n      <td>NaN</td>\n      <td>NaN</td>\n      <td>NaN</td>\n      <td>NaN</td>\n      <td>NaN</td>\n      <td>NaN</td>\n      <td>NaN</td>\n      <td>NaN</td>\n      <td>NaN</td>\n      <td>NaN</td>\n      <td>...</td>\n      <td>NaN</td>\n      <td>NaN</td>\n      <td>NaN</td>\n      <td>NaN</td>\n      <td>NaN</td>\n      <td>NaN</td>\n      <td>NaN</td>\n      <td>NaN</td>\n      <td>NaN</td>\n      <td>NaN</td>\n    </tr>\n    <tr>\n      <th>2019-07-21</th>\n      <th>Central</th>\n      <td>NaN</td>\n      <td>NaN</td>\n      <td>NaN</td>\n      <td>NaN</td>\n      <td>NaN</td>\n      <td>NaN</td>\n      <td>NaN</td>\n      <td>NaN</td>\n      <td>NaN</td>\n      <td>NaN</td>\n      <td>...</td>\n      <td>NaN</td>\n      <td>NaN</td>\n      <td>NaN</td>\n      <td>NaN</td>\n      <td>NaN</td>\n      <td>NaN</td>\n      <td>NaN</td>\n      <td>NaN</td>\n      <td>NaN</td>\n      <td>NaN</td>\n    </tr>\n    <tr>\n      <th>2019-08-07</th>\n      <th>Central</th>\n      <td>NaN</td>\n      <td>NaN</td>\n      <td>NaN</td>\n      <td>NaN</td>\n      <td>NaN</td>\n      <td>NaN</td>\n      <td>NaN</td>\n      <td>NaN</td>\n      <td>NaN</td>\n      <td>NaN</td>\n      <td>...</td>\n      <td>NaN</td>\n      <td>NaN</td>\n      <td>NaN</td>\n      <td>NaN</td>\n      <td>NaN</td>\n      <td>NaN</td>\n      <td>NaN</td>\n      <td>NaN</td>\n      <td>NaN</td>\n      <td>NaN</td>\n    </tr>\n    <tr>\n      <th>2019-08-24</th>\n      <th>West</th>\n      <td>NaN</td>\n      <td>NaN</td>\n      <td>NaN</td>\n      <td>NaN</td>\n      <td>NaN</td>\n      <td>NaN</td>\n      <td>NaN</td>\n      <td>NaN</td>\n      <td>NaN</td>\n      <td>NaN</td>\n      <td>...</td>\n      <td>NaN</td>\n      <td>NaN</td>\n      <td>NaN</td>\n      <td>NaN</td>\n      <td>NaN</td>\n      <td>NaN</td>\n      <td>NaN</td>\n      <td>375.0</td>\n      <td>NaN</td>\n      <td>NaN</td>\n    </tr>\n    <tr>\n      <th>2019-09-10</th>\n      <th>Central</th>\n      <td>NaN</td>\n      <td>NaN</td>\n      <td>NaN</td>\n      <td>NaN</td>\n      <td>NaN</td>\n      <td>NaN</td>\n      <td>NaN</td>\n      <td>NaN</td>\n      <td>NaN</td>\n      <td>NaN</td>\n      <td>...</td>\n      <td>NaN</td>\n      <td>NaN</td>\n      <td>NaN</td>\n      <td>NaN</td>\n      <td>NaN</td>\n      <td>8386.0</td>\n      <td>NaN</td>\n      <td>NaN</td>\n      <td>NaN</td>\n      <td>NaN</td>\n    </tr>\n    <tr>\n      <th>2019-09-27</th>\n      <th>West</th>\n      <td>NaN</td>\n      <td>NaN</td>\n      <td>NaN</td>\n      <td>NaN</td>\n      <td>NaN</td>\n      <td>NaN</td>\n      <td>NaN</td>\n      <td>NaN</td>\n      <td>NaN</td>\n      <td>NaN</td>\n      <td>...</td>\n      <td>NaN</td>\n      <td>NaN</td>\n      <td>NaN</td>\n      <td>NaN</td>\n      <td>NaN</td>\n      <td>NaN</td>\n      <td>17100.0</td>\n      <td>NaN</td>\n      <td>NaN</td>\n      <td>NaN</td>\n    </tr>\n    <tr>\n      <th>2019-10-14</th>\n      <th>West</th>\n      <td>NaN</td>\n      <td>NaN</td>\n      <td>NaN</td>\n      <td>NaN</td>\n      <td>NaN</td>\n      <td>NaN</td>\n      <td>28500.0</td>\n      <td>NaN</td>\n      <td>NaN</td>\n      <td>NaN</td>\n      <td>...</td>\n      <td>NaN</td>\n      <td>NaN</td>\n      <td>NaN</td>\n      <td>NaN</td>\n      <td>NaN</td>\n      <td>NaN</td>\n      <td>NaN</td>\n      <td>NaN</td>\n      <td>NaN</td>\n      <td>NaN</td>\n    </tr>\n    <tr>\n      <th>2019-10-31</th>\n      <th>Central</th>\n      <td>NaN</td>\n      <td>NaN</td>\n      <td>NaN</td>\n      <td>NaN</td>\n      <td>NaN</td>\n      <td>NaN</td>\n      <td>NaN</td>\n      <td>NaN</td>\n      <td>NaN</td>\n      <td>NaN</td>\n      <td>...</td>\n      <td>NaN</td>\n      <td>NaN</td>\n      <td>16772.0</td>\n      <td>NaN</td>\n      <td>NaN</td>\n      <td>NaN</td>\n      <td>NaN</td>\n      <td>NaN</td>\n      <td>NaN</td>\n      <td>NaN</td>\n    </tr>\n    <tr>\n      <th>2019-11-17</th>\n      <th>Central</th>\n      <td>NaN</td>\n      <td>NaN</td>\n      <td>NaN</td>\n      <td>NaN</td>\n      <td>NaN</td>\n      <td>NaN</td>\n      <td>NaN</td>\n      <td>NaN</td>\n      <td>5500.0</td>\n      <td>NaN</td>\n      <td>...</td>\n      <td>NaN</td>\n      <td>NaN</td>\n      <td>NaN</td>\n      <td>NaN</td>\n      <td>NaN</td>\n      <td>NaN</td>\n      <td>NaN</td>\n      <td>NaN</td>\n      <td>NaN</td>\n      <td>NaN</td>\n    </tr>\n    <tr>\n      <th>2019-12-04</th>\n      <th>Central</th>\n      <td>NaN</td>\n      <td>NaN</td>\n      <td>NaN</td>\n      <td>NaN</td>\n      <td>NaN</td>\n      <td>NaN</td>\n      <td>NaN</td>\n      <td>NaN</td>\n      <td>47000.0</td>\n      <td>NaN</td>\n      <td>...</td>\n      <td>NaN</td>\n      <td>NaN</td>\n      <td>NaN</td>\n      <td>NaN</td>\n      <td>NaN</td>\n      <td>NaN</td>\n      <td>NaN</td>\n      <td>NaN</td>\n      <td>NaN</td>\n      <td>NaN</td>\n    </tr>\n    <tr>\n      <th>2019-12-21</th>\n      <th>Central</th>\n      <td>NaN</td>\n      <td>NaN</td>\n      <td>NaN</td>\n      <td>NaN</td>\n      <td>NaN</td>\n      <td>NaN</td>\n      <td>NaN</td>\n      <td>NaN</td>\n      <td>NaN</td>\n      <td>NaN</td>\n      <td>...</td>\n      <td>NaN</td>\n      <td>14000.0</td>\n      <td>NaN</td>\n      <td>NaN</td>\n      <td>NaN</td>\n      <td>NaN</td>\n      <td>NaN</td>\n      <td>NaN</td>\n      <td>NaN</td>\n      <td>NaN</td>\n    </tr>\n  </tbody>\n</table>\n<p>43 rows × 32 columns</p>\n</div>"
     },
     "execution_count": 3,
     "metadata": {},
     "output_type": "execute_result"
    }
   ],
   "source": [
    "import pandas as pd\n",
    "import numpy as np\n",
    "df = pd.read_excel('SaleData.xlsx')\n",
    "pivot = pd.pivot_table(df, index=['OrderDate','Region'],columns=['Manager','SalesMan','Item'],\n",
    "                       values='Sale_amt', aggfunc=np.sum)\n",
    "pivot"
   ],
   "metadata": {
    "collapsed": false,
    "pycharm": {
     "name": "#%%\n"
    }
   }
  },
  {
   "cell_type": "markdown",
   "source": [
    "### Create a Pivot table and find the total sale amount region wise, manager wise."
   ],
   "metadata": {
    "collapsed": false,
    "pycharm": {
     "name": "#%% md\n"
    }
   }
  },
  {
   "cell_type": "code",
   "execution_count": 38,
   "outputs": [
    {
     "data": {
      "text/plain": "                 Sale_amt\nRegion  Manager          \nCentral Douglas  124016.0\n        Hermann  365108.5\n        Martha   199690.0\n        Timothy  140955.0\nEast    Douglas   48204.0\n        Martha   272803.0\nWest    Douglas   66836.0\n        Timothy   88063.0",
      "text/html": "<div>\n<style scoped>\n    .dataframe tbody tr th:only-of-type {\n        vertical-align: middle;\n    }\n\n    .dataframe tbody tr th {\n        vertical-align: top;\n    }\n\n    .dataframe thead th {\n        text-align: right;\n    }\n</style>\n<table border=\"1\" class=\"dataframe\">\n  <thead>\n    <tr style=\"text-align: right;\">\n      <th></th>\n      <th></th>\n      <th>Sale_amt</th>\n    </tr>\n    <tr>\n      <th>Region</th>\n      <th>Manager</th>\n      <th></th>\n    </tr>\n  </thead>\n  <tbody>\n    <tr>\n      <th rowspan=\"4\" valign=\"top\">Central</th>\n      <th>Douglas</th>\n      <td>124016.0</td>\n    </tr>\n    <tr>\n      <th>Hermann</th>\n      <td>365108.5</td>\n    </tr>\n    <tr>\n      <th>Martha</th>\n      <td>199690.0</td>\n    </tr>\n    <tr>\n      <th>Timothy</th>\n      <td>140955.0</td>\n    </tr>\n    <tr>\n      <th rowspan=\"2\" valign=\"top\">East</th>\n      <th>Douglas</th>\n      <td>48204.0</td>\n    </tr>\n    <tr>\n      <th>Martha</th>\n      <td>272803.0</td>\n    </tr>\n    <tr>\n      <th rowspan=\"2\" valign=\"top\">West</th>\n      <th>Douglas</th>\n      <td>66836.0</td>\n    </tr>\n    <tr>\n      <th>Timothy</th>\n      <td>88063.0</td>\n    </tr>\n  </tbody>\n</table>\n</div>"
     },
     "execution_count": 38,
     "metadata": {},
     "output_type": "execute_result"
    }
   ],
   "source": [
    "pivot = pd.pivot_table(df, index=['Region','Manager'],values='Sale_amt',aggfunc=np.sum)\n",
    "pivot"
   ],
   "metadata": {
    "collapsed": false,
    "pycharm": {
     "name": "#%%\n"
    }
   }
  },
  {
   "cell_type": "markdown",
   "source": [
    "### Create a Pivot table and find the total sale amount region wise, manager wise, sales man wise."
   ],
   "metadata": {
    "collapsed": false,
    "pycharm": {
     "name": "#%% md\n"
    }
   }
  },
  {
   "cell_type": "code",
   "execution_count": 39,
   "outputs": [
    {
     "data": {
      "text/plain": "                           Sale_amt\nRegion  Manager SalesMan           \nCentral Douglas John       124016.0\n        Hermann Luis       206373.0\n                Shelli      33698.0\n                Sigal      125037.5\n        Martha  Steven     199690.0\n        Timothy David      140955.0\nEast    Douglas Karen       48204.0\n        Martha  Alexander  236703.0\n                Diana       36100.0\nWest    Douglas Michael     66836.0\n        Timothy Stephen     88063.0",
      "text/html": "<div>\n<style scoped>\n    .dataframe tbody tr th:only-of-type {\n        vertical-align: middle;\n    }\n\n    .dataframe tbody tr th {\n        vertical-align: top;\n    }\n\n    .dataframe thead th {\n        text-align: right;\n    }\n</style>\n<table border=\"1\" class=\"dataframe\">\n  <thead>\n    <tr style=\"text-align: right;\">\n      <th></th>\n      <th></th>\n      <th></th>\n      <th>Sale_amt</th>\n    </tr>\n    <tr>\n      <th>Region</th>\n      <th>Manager</th>\n      <th>SalesMan</th>\n      <th></th>\n    </tr>\n  </thead>\n  <tbody>\n    <tr>\n      <th rowspan=\"6\" valign=\"top\">Central</th>\n      <th>Douglas</th>\n      <th>John</th>\n      <td>124016.0</td>\n    </tr>\n    <tr>\n      <th rowspan=\"3\" valign=\"top\">Hermann</th>\n      <th>Luis</th>\n      <td>206373.0</td>\n    </tr>\n    <tr>\n      <th>Shelli</th>\n      <td>33698.0</td>\n    </tr>\n    <tr>\n      <th>Sigal</th>\n      <td>125037.5</td>\n    </tr>\n    <tr>\n      <th>Martha</th>\n      <th>Steven</th>\n      <td>199690.0</td>\n    </tr>\n    <tr>\n      <th>Timothy</th>\n      <th>David</th>\n      <td>140955.0</td>\n    </tr>\n    <tr>\n      <th rowspan=\"3\" valign=\"top\">East</th>\n      <th>Douglas</th>\n      <th>Karen</th>\n      <td>48204.0</td>\n    </tr>\n    <tr>\n      <th rowspan=\"2\" valign=\"top\">Martha</th>\n      <th>Alexander</th>\n      <td>236703.0</td>\n    </tr>\n    <tr>\n      <th>Diana</th>\n      <td>36100.0</td>\n    </tr>\n    <tr>\n      <th rowspan=\"2\" valign=\"top\">West</th>\n      <th>Douglas</th>\n      <th>Michael</th>\n      <td>66836.0</td>\n    </tr>\n    <tr>\n      <th>Timothy</th>\n      <th>Stephen</th>\n      <td>88063.0</td>\n    </tr>\n  </tbody>\n</table>\n</div>"
     },
     "execution_count": 39,
     "metadata": {},
     "output_type": "execute_result"
    }
   ],
   "source": [
    "pivot = pd.pivot_table(df, index=['Region','Manager','SalesMan'],values='Sale_amt',aggfunc=np.sum)\n",
    "pivot"
   ],
   "metadata": {
    "collapsed": false,
    "pycharm": {
     "name": "#%%\n"
    }
   }
  },
  {
   "cell_type": "markdown",
   "source": [
    "### Create a Pivot table and find the item wise unit sold."
   ],
   "metadata": {
    "collapsed": false,
    "pycharm": {
     "name": "#%% md\n"
    }
   }
  },
  {
   "cell_type": "code",
   "execution_count": 41,
   "outputs": [
    {
     "data": {
      "text/plain": "              Units\nItem               \nCell Phone    278.0\nDesk           10.0\nHome Theater  722.0\nTelevision    716.0\nVideo Games   395.0",
      "text/html": "<div>\n<style scoped>\n    .dataframe tbody tr th:only-of-type {\n        vertical-align: middle;\n    }\n\n    .dataframe tbody tr th {\n        vertical-align: top;\n    }\n\n    .dataframe thead th {\n        text-align: right;\n    }\n</style>\n<table border=\"1\" class=\"dataframe\">\n  <thead>\n    <tr style=\"text-align: right;\">\n      <th></th>\n      <th>Units</th>\n    </tr>\n    <tr>\n      <th>Item</th>\n      <th></th>\n    </tr>\n  </thead>\n  <tbody>\n    <tr>\n      <th>Cell Phone</th>\n      <td>278.0</td>\n    </tr>\n    <tr>\n      <th>Desk</th>\n      <td>10.0</td>\n    </tr>\n    <tr>\n      <th>Home Theater</th>\n      <td>722.0</td>\n    </tr>\n    <tr>\n      <th>Television</th>\n      <td>716.0</td>\n    </tr>\n    <tr>\n      <th>Video Games</th>\n      <td>395.0</td>\n    </tr>\n  </tbody>\n</table>\n</div>"
     },
     "execution_count": 41,
     "metadata": {},
     "output_type": "execute_result"
    }
   ],
   "source": [
    "pivot = pd.pivot_table(df, index=['Item'],values='Units',aggfunc=np.sum)\n",
    "pivot"
   ],
   "metadata": {
    "collapsed": false,
    "pycharm": {
     "name": "#%%\n"
    }
   }
  },
  {
   "cell_type": "markdown",
   "source": [
    "### Create a Pivot table and find the region wise total sale"
   ],
   "metadata": {
    "collapsed": false
   }
  },
  {
   "cell_type": "code",
   "execution_count": 42,
   "outputs": [
    {
     "data": {
      "text/plain": "         Sale_amt\nRegion           \nCentral  829769.5\nEast     321007.0\nWest     154899.0",
      "text/html": "<div>\n<style scoped>\n    .dataframe tbody tr th:only-of-type {\n        vertical-align: middle;\n    }\n\n    .dataframe tbody tr th {\n        vertical-align: top;\n    }\n\n    .dataframe thead th {\n        text-align: right;\n    }\n</style>\n<table border=\"1\" class=\"dataframe\">\n  <thead>\n    <tr style=\"text-align: right;\">\n      <th></th>\n      <th>Sale_amt</th>\n    </tr>\n    <tr>\n      <th>Region</th>\n      <th></th>\n    </tr>\n  </thead>\n  <tbody>\n    <tr>\n      <th>Central</th>\n      <td>829769.5</td>\n    </tr>\n    <tr>\n      <th>East</th>\n      <td>321007.0</td>\n    </tr>\n    <tr>\n      <th>West</th>\n      <td>154899.0</td>\n    </tr>\n  </tbody>\n</table>\n</div>"
     },
     "execution_count": 42,
     "metadata": {},
     "output_type": "execute_result"
    }
   ],
   "source": [
    "pivot = pd.pivot_table(df, index=['Region'],values='Sale_amt',aggfunc=np.sum)\n",
    "pivot"
   ],
   "metadata": {
    "collapsed": false,
    "pycharm": {
     "name": "#%%\n"
    }
   }
  },
  {
   "cell_type": "markdown",
   "source": [
    "### Create a Pivot table and find the region wise, item wise unit sold."
   ],
   "metadata": {
    "collapsed": false
   }
  },
  {
   "cell_type": "code",
   "execution_count": 43,
   "outputs": [
    {
     "data": {
      "text/plain": "                      Units\nRegion  Item               \nCentral Cell Phone     27.0\n        Desk            7.0\n        Home Theater  424.0\n        Television    498.0\n        Video Games   243.0\nEast    Cell Phone    175.0\n        Home Theater  234.0\n        Television    130.0\n        Video Games   152.0\nWest    Cell Phone     76.0\n        Desk            3.0\n        Home Theater   64.0\n        Television     88.0",
      "text/html": "<div>\n<style scoped>\n    .dataframe tbody tr th:only-of-type {\n        vertical-align: middle;\n    }\n\n    .dataframe tbody tr th {\n        vertical-align: top;\n    }\n\n    .dataframe thead th {\n        text-align: right;\n    }\n</style>\n<table border=\"1\" class=\"dataframe\">\n  <thead>\n    <tr style=\"text-align: right;\">\n      <th></th>\n      <th></th>\n      <th>Units</th>\n    </tr>\n    <tr>\n      <th>Region</th>\n      <th>Item</th>\n      <th></th>\n    </tr>\n  </thead>\n  <tbody>\n    <tr>\n      <th rowspan=\"5\" valign=\"top\">Central</th>\n      <th>Cell Phone</th>\n      <td>27.0</td>\n    </tr>\n    <tr>\n      <th>Desk</th>\n      <td>7.0</td>\n    </tr>\n    <tr>\n      <th>Home Theater</th>\n      <td>424.0</td>\n    </tr>\n    <tr>\n      <th>Television</th>\n      <td>498.0</td>\n    </tr>\n    <tr>\n      <th>Video Games</th>\n      <td>243.0</td>\n    </tr>\n    <tr>\n      <th rowspan=\"4\" valign=\"top\">East</th>\n      <th>Cell Phone</th>\n      <td>175.0</td>\n    </tr>\n    <tr>\n      <th>Home Theater</th>\n      <td>234.0</td>\n    </tr>\n    <tr>\n      <th>Television</th>\n      <td>130.0</td>\n    </tr>\n    <tr>\n      <th>Video Games</th>\n      <td>152.0</td>\n    </tr>\n    <tr>\n      <th rowspan=\"4\" valign=\"top\">West</th>\n      <th>Cell Phone</th>\n      <td>76.0</td>\n    </tr>\n    <tr>\n      <th>Desk</th>\n      <td>3.0</td>\n    </tr>\n    <tr>\n      <th>Home Theater</th>\n      <td>64.0</td>\n    </tr>\n    <tr>\n      <th>Television</th>\n      <td>88.0</td>\n    </tr>\n  </tbody>\n</table>\n</div>"
     },
     "execution_count": 43,
     "metadata": {},
     "output_type": "execute_result"
    }
   ],
   "source": [
    "pivot = pd.pivot_table(df, index=['Region','Item'],values='Units',aggfunc=np.sum)\n",
    "pivot"
   ],
   "metadata": {
    "collapsed": false,
    "pycharm": {
     "name": "#%%\n"
    }
   }
  },
  {
   "cell_type": "markdown",
   "source": [
    "###  Create a Pivot table and count the manager wise sale and mean value of sale amount."
   ],
   "metadata": {
    "collapsed": false
   }
  },
  {
   "cell_type": "code",
   "execution_count": 45,
   "outputs": [
    {
     "data": {
      "text/plain": "             len          mean\n        Sale_amt      Sale_amt\nManager                       \nDouglas        8  29882.000000\nHermann       12  30425.708333\nMartha        14  33749.500000\nTimothy        9  25446.444444",
      "text/html": "<div>\n<style scoped>\n    .dataframe tbody tr th:only-of-type {\n        vertical-align: middle;\n    }\n\n    .dataframe tbody tr th {\n        vertical-align: top;\n    }\n\n    .dataframe thead tr th {\n        text-align: left;\n    }\n\n    .dataframe thead tr:last-of-type th {\n        text-align: right;\n    }\n</style>\n<table border=\"1\" class=\"dataframe\">\n  <thead>\n    <tr>\n      <th></th>\n      <th>len</th>\n      <th>mean</th>\n    </tr>\n    <tr>\n      <th></th>\n      <th>Sale_amt</th>\n      <th>Sale_amt</th>\n    </tr>\n    <tr>\n      <th>Manager</th>\n      <th></th>\n      <th></th>\n    </tr>\n  </thead>\n  <tbody>\n    <tr>\n      <th>Douglas</th>\n      <td>8</td>\n      <td>29882.000000</td>\n    </tr>\n    <tr>\n      <th>Hermann</th>\n      <td>12</td>\n      <td>30425.708333</td>\n    </tr>\n    <tr>\n      <th>Martha</th>\n      <td>14</td>\n      <td>33749.500000</td>\n    </tr>\n    <tr>\n      <th>Timothy</th>\n      <td>9</td>\n      <td>25446.444444</td>\n    </tr>\n  </tbody>\n</table>\n</div>"
     },
     "execution_count": 45,
     "metadata": {},
     "output_type": "execute_result"
    }
   ],
   "source": [
    "# 7\n",
    "pivot = pd.pivot_table(df, index=['Manager'],values='Sale_amt',aggfunc=[len,np.mean])\n",
    "pivot"
   ],
   "metadata": {
    "collapsed": false,
    "pycharm": {
     "name": "#%%\n"
    }
   }
  },
  {
   "cell_type": "markdown",
   "source": [
    "### Create a Pivot table and find manager wise, salesman wise total sale and also display the sum of all sale amount at the bottom"
   ],
   "metadata": {
    "collapsed": false,
    "pycharm": {
     "name": "#%% md\n"
    }
   }
  },
  {
   "cell_type": "code",
   "execution_count": 49,
   "outputs": [
    {
     "data": {
      "text/plain": "                         sum\n                    Sale_amt\nManager SalesMan            \nDouglas John        124016.0\n        Karen        48204.0\n        Michael      66836.0\nHermann Luis        206373.0\n        Shelli       33698.0\n        Sigal       125037.5\nMartha  Alexander   236703.0\n        Diana        36100.0\n        Steven      199690.0\nTimothy David       140955.0\n        Stephen      88063.0\nAll                1305675.5",
      "text/html": "<div>\n<style scoped>\n    .dataframe tbody tr th:only-of-type {\n        vertical-align: middle;\n    }\n\n    .dataframe tbody tr th {\n        vertical-align: top;\n    }\n\n    .dataframe thead tr th {\n        text-align: left;\n    }\n\n    .dataframe thead tr:last-of-type th {\n        text-align: right;\n    }\n</style>\n<table border=\"1\" class=\"dataframe\">\n  <thead>\n    <tr>\n      <th></th>\n      <th></th>\n      <th>sum</th>\n    </tr>\n    <tr>\n      <th></th>\n      <th></th>\n      <th>Sale_amt</th>\n    </tr>\n    <tr>\n      <th>Manager</th>\n      <th>SalesMan</th>\n      <th></th>\n    </tr>\n  </thead>\n  <tbody>\n    <tr>\n      <th rowspan=\"3\" valign=\"top\">Douglas</th>\n      <th>John</th>\n      <td>124016.0</td>\n    </tr>\n    <tr>\n      <th>Karen</th>\n      <td>48204.0</td>\n    </tr>\n    <tr>\n      <th>Michael</th>\n      <td>66836.0</td>\n    </tr>\n    <tr>\n      <th rowspan=\"3\" valign=\"top\">Hermann</th>\n      <th>Luis</th>\n      <td>206373.0</td>\n    </tr>\n    <tr>\n      <th>Shelli</th>\n      <td>33698.0</td>\n    </tr>\n    <tr>\n      <th>Sigal</th>\n      <td>125037.5</td>\n    </tr>\n    <tr>\n      <th rowspan=\"3\" valign=\"top\">Martha</th>\n      <th>Alexander</th>\n      <td>236703.0</td>\n    </tr>\n    <tr>\n      <th>Diana</th>\n      <td>36100.0</td>\n    </tr>\n    <tr>\n      <th>Steven</th>\n      <td>199690.0</td>\n    </tr>\n    <tr>\n      <th rowspan=\"2\" valign=\"top\">Timothy</th>\n      <th>David</th>\n      <td>140955.0</td>\n    </tr>\n    <tr>\n      <th>Stephen</th>\n      <td>88063.0</td>\n    </tr>\n    <tr>\n      <th>All</th>\n      <th></th>\n      <td>1305675.5</td>\n    </tr>\n  </tbody>\n</table>\n</div>"
     },
     "execution_count": 49,
     "metadata": {},
     "output_type": "execute_result"
    }
   ],
   "source": [
    "pivot = pd.pivot_table(df, index=['Manager','SalesMan'],values='Sale_amt',aggfunc=[sum],margins=True)\n",
    "pivot"
   ],
   "metadata": {
    "collapsed": false,
    "pycharm": {
     "name": "#%%\n"
    }
   }
  },
  {
   "cell_type": "markdown",
   "source": [
    "### Create a Pivot table and find the total sale amount region wise, manager wise, sales man wise where Manager = \"Douglas\"\n",
    "\n",
    "You can query pivot tables to do the sql equivalent of where"
   ],
   "metadata": {
    "collapsed": false
   }
  },
  {
   "cell_type": "code",
   "execution_count": 54,
   "outputs": [
    {
     "data": {
      "text/plain": "                              Sale_amt\nRegion  Manager SalesMan              \nCentral Douglas John      41338.666667\nEast    Douglas Karen     16068.000000\nWest    Douglas Michael   33418.000000",
      "text/html": "<div>\n<style scoped>\n    .dataframe tbody tr th:only-of-type {\n        vertical-align: middle;\n    }\n\n    .dataframe tbody tr th {\n        vertical-align: top;\n    }\n\n    .dataframe thead th {\n        text-align: right;\n    }\n</style>\n<table border=\"1\" class=\"dataframe\">\n  <thead>\n    <tr style=\"text-align: right;\">\n      <th></th>\n      <th></th>\n      <th></th>\n      <th>Sale_amt</th>\n    </tr>\n    <tr>\n      <th>Region</th>\n      <th>Manager</th>\n      <th>SalesMan</th>\n      <th></th>\n    </tr>\n  </thead>\n  <tbody>\n    <tr>\n      <th>Central</th>\n      <th>Douglas</th>\n      <th>John</th>\n      <td>41338.666667</td>\n    </tr>\n    <tr>\n      <th>East</th>\n      <th>Douglas</th>\n      <th>Karen</th>\n      <td>16068.000000</td>\n    </tr>\n    <tr>\n      <th>West</th>\n      <th>Douglas</th>\n      <th>Michael</th>\n      <td>33418.000000</td>\n    </tr>\n  </tbody>\n</table>\n</div>"
     },
     "execution_count": 54,
     "metadata": {},
     "output_type": "execute_result"
    }
   ],
   "source": [
    "pivot = pd.pivot_table(df, index=['Region','Manager','SalesMan'],values='Sale_amt')\n",
    "pivot.query('Manager == [\"Douglas\"]')"
   ],
   "metadata": {
    "collapsed": false,
    "pycharm": {
     "name": "#%%\n"
    }
   }
  },
  {
   "cell_type": "markdown",
   "source": [
    "### Create a Pivot table and find the region wise Television and Home Theater sold."
   ],
   "metadata": {
    "collapsed": false
   }
  },
  {
   "cell_type": "code",
   "execution_count": 56,
   "outputs": [
    {
     "data": {
      "text/plain": "                          Sale_amt\nRegion  Item                      \nCentral Home Theater  26500.000000\n        Television    66289.333333\nEast    Home Theater  23400.000000\n        Television    77870.000000\nWest    Home Theater  16000.000000\n        Television    52712.000000",
      "text/html": "<div>\n<style scoped>\n    .dataframe tbody tr th:only-of-type {\n        vertical-align: middle;\n    }\n\n    .dataframe tbody tr th {\n        vertical-align: top;\n    }\n\n    .dataframe thead th {\n        text-align: right;\n    }\n</style>\n<table border=\"1\" class=\"dataframe\">\n  <thead>\n    <tr style=\"text-align: right;\">\n      <th></th>\n      <th></th>\n      <th>Sale_amt</th>\n    </tr>\n    <tr>\n      <th>Region</th>\n      <th>Item</th>\n      <th></th>\n    </tr>\n  </thead>\n  <tbody>\n    <tr>\n      <th rowspan=\"2\" valign=\"top\">Central</th>\n      <th>Home Theater</th>\n      <td>26500.000000</td>\n    </tr>\n    <tr>\n      <th>Television</th>\n      <td>66289.333333</td>\n    </tr>\n    <tr>\n      <th rowspan=\"2\" valign=\"top\">East</th>\n      <th>Home Theater</th>\n      <td>23400.000000</td>\n    </tr>\n    <tr>\n      <th>Television</th>\n      <td>77870.000000</td>\n    </tr>\n    <tr>\n      <th rowspan=\"2\" valign=\"top\">West</th>\n      <th>Home Theater</th>\n      <td>16000.000000</td>\n    </tr>\n    <tr>\n      <th>Television</th>\n      <td>52712.000000</td>\n    </tr>\n  </tbody>\n</table>\n</div>"
     },
     "execution_count": 56,
     "metadata": {},
     "output_type": "execute_result"
    }
   ],
   "source": [
    "pivot = pd.pivot_table(df, index=['Region','Item'],values='Sale_amt')\n",
    "pivot.query('Item == [\"Television\",\"Home Theater\"]')"
   ],
   "metadata": {
    "collapsed": false,
    "pycharm": {
     "name": "#%%\n"
    }
   }
  },
  {
   "cell_type": "markdown",
   "source": [
    "### Create a Pivot table and find the maximum sale value of the items."
   ],
   "metadata": {
    "collapsed": false
   }
  },
  {
   "cell_type": "code",
   "execution_count": 57,
   "outputs": [
    {
     "data": {
      "text/plain": "                   max\n              Sale_amt\nItem                  \nCell Phone     21600.0\nDesk             625.0\nHome Theater   47000.0\nTelevision    113810.0\nVideo Games     5616.0",
      "text/html": "<div>\n<style scoped>\n    .dataframe tbody tr th:only-of-type {\n        vertical-align: middle;\n    }\n\n    .dataframe tbody tr th {\n        vertical-align: top;\n    }\n\n    .dataframe thead tr th {\n        text-align: left;\n    }\n\n    .dataframe thead tr:last-of-type th {\n        text-align: right;\n    }\n</style>\n<table border=\"1\" class=\"dataframe\">\n  <thead>\n    <tr>\n      <th></th>\n      <th>max</th>\n    </tr>\n    <tr>\n      <th></th>\n      <th>Sale_amt</th>\n    </tr>\n    <tr>\n      <th>Item</th>\n      <th></th>\n    </tr>\n  </thead>\n  <tbody>\n    <tr>\n      <th>Cell Phone</th>\n      <td>21600.0</td>\n    </tr>\n    <tr>\n      <th>Desk</th>\n      <td>625.0</td>\n    </tr>\n    <tr>\n      <th>Home Theater</th>\n      <td>47000.0</td>\n    </tr>\n    <tr>\n      <th>Television</th>\n      <td>113810.0</td>\n    </tr>\n    <tr>\n      <th>Video Games</th>\n      <td>5616.0</td>\n    </tr>\n  </tbody>\n</table>\n</div>"
     },
     "execution_count": 57,
     "metadata": {},
     "output_type": "execute_result"
    }
   ],
   "source": [
    "pivot = pd.pivot_table(df, index=['Item'],values='Sale_amt',aggfunc=[max])\n",
    "pivot"
   ],
   "metadata": {
    "collapsed": false,
    "pycharm": {
     "name": "#%%\n"
    }
   }
  },
  {
   "cell_type": "markdown",
   "source": [
    "### Create a Pivot table and find the minimum sale value of the items"
   ],
   "metadata": {
    "collapsed": false,
    "pycharm": {
     "name": "#%% md\n"
    }
   }
  },
  {
   "cell_type": "code",
   "source": [
    "pivot = pd.pivot_table(df, index=['Item'],values='Sale_amt',aggfunc=[min])\n",
    "pivot"
   ],
   "metadata": {
    "collapsed": false,
    "pycharm": {
     "name": "#%%\n"
    }
   },
   "execution_count": 58,
   "outputs": [
    {
     "data": {
      "text/plain": "                  min\n             Sale_amt\nItem                 \nCell Phone     3375.0\nDesk            250.0\nHome Theater   2000.0\nTelevision     8386.0\nVideo Games     936.0",
      "text/html": "<div>\n<style scoped>\n    .dataframe tbody tr th:only-of-type {\n        vertical-align: middle;\n    }\n\n    .dataframe tbody tr th {\n        vertical-align: top;\n    }\n\n    .dataframe thead tr th {\n        text-align: left;\n    }\n\n    .dataframe thead tr:last-of-type th {\n        text-align: right;\n    }\n</style>\n<table border=\"1\" class=\"dataframe\">\n  <thead>\n    <tr>\n      <th></th>\n      <th>min</th>\n    </tr>\n    <tr>\n      <th></th>\n      <th>Sale_amt</th>\n    </tr>\n    <tr>\n      <th>Item</th>\n      <th></th>\n    </tr>\n  </thead>\n  <tbody>\n    <tr>\n      <th>Cell Phone</th>\n      <td>3375.0</td>\n    </tr>\n    <tr>\n      <th>Desk</th>\n      <td>250.0</td>\n    </tr>\n    <tr>\n      <th>Home Theater</th>\n      <td>2000.0</td>\n    </tr>\n    <tr>\n      <th>Television</th>\n      <td>8386.0</td>\n    </tr>\n    <tr>\n      <th>Video Games</th>\n      <td>936.0</td>\n    </tr>\n  </tbody>\n</table>\n</div>"
     },
     "execution_count": 58,
     "metadata": {},
     "output_type": "execute_result"
    }
   ]
  },
  {
   "cell_type": "markdown",
   "source": [
    "###  Create a Pivot table and find the maximum and minimum sale value of the items"
   ],
   "metadata": {
    "collapsed": false,
    "pycharm": {
     "name": "#%% md\n"
    }
   }
  },
  {
   "cell_type": "code",
   "execution_count": 59,
   "outputs": [
    {
     "data": {
      "text/plain": "                  min       max\n             Sale_amt  Sale_amt\nItem                           \nCell Phone     3375.0   21600.0\nDesk            250.0     625.0\nHome Theater   2000.0   47000.0\nTelevision     8386.0  113810.0\nVideo Games     936.0    5616.0",
      "text/html": "<div>\n<style scoped>\n    .dataframe tbody tr th:only-of-type {\n        vertical-align: middle;\n    }\n\n    .dataframe tbody tr th {\n        vertical-align: top;\n    }\n\n    .dataframe thead tr th {\n        text-align: left;\n    }\n\n    .dataframe thead tr:last-of-type th {\n        text-align: right;\n    }\n</style>\n<table border=\"1\" class=\"dataframe\">\n  <thead>\n    <tr>\n      <th></th>\n      <th>min</th>\n      <th>max</th>\n    </tr>\n    <tr>\n      <th></th>\n      <th>Sale_amt</th>\n      <th>Sale_amt</th>\n    </tr>\n    <tr>\n      <th>Item</th>\n      <th></th>\n      <th></th>\n    </tr>\n  </thead>\n  <tbody>\n    <tr>\n      <th>Cell Phone</th>\n      <td>3375.0</td>\n      <td>21600.0</td>\n    </tr>\n    <tr>\n      <th>Desk</th>\n      <td>250.0</td>\n      <td>625.0</td>\n    </tr>\n    <tr>\n      <th>Home Theater</th>\n      <td>2000.0</td>\n      <td>47000.0</td>\n    </tr>\n    <tr>\n      <th>Television</th>\n      <td>8386.0</td>\n      <td>113810.0</td>\n    </tr>\n    <tr>\n      <th>Video Games</th>\n      <td>936.0</td>\n      <td>5616.0</td>\n    </tr>\n  </tbody>\n</table>\n</div>"
     },
     "execution_count": 59,
     "metadata": {},
     "output_type": "execute_result"
    }
   ],
   "source": [
    "pivot = pd.pivot_table(df, index=['Item'],values='Sale_amt',aggfunc=[min,max])\n",
    "pivot"
   ],
   "metadata": {
    "collapsed": false,
    "pycharm": {
     "name": "#%%\n"
    }
   }
  },
  {
   "cell_type": "code",
   "execution_count": null,
   "outputs": [],
   "source": [],
   "metadata": {
    "collapsed": false,
    "pycharm": {
     "name": "#%%\n"
    }
   }
  }
 ],
 "metadata": {
  "kernelspec": {
   "display_name": "Python 3",
   "language": "python",
   "name": "python3"
  },
  "language_info": {
   "codemirror_mode": {
    "name": "ipython",
    "version": 2
   },
   "file_extension": ".py",
   "mimetype": "text/x-python",
   "name": "python",
   "nbconvert_exporter": "python",
   "pygments_lexer": "ipython2",
   "version": "2.7.6"
  }
 },
 "nbformat": 4,
 "nbformat_minor": 0
}