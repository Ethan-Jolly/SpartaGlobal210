{
 "cells": [
  {
   "cell_type": "markdown",
   "id": "33d41e95",
   "metadata": {},
   "source": [
    "Finding Missing Values\n",
    "\n",
    "https://medium.com/analytics-vidhya/python-finding-missing-values-in-a-data-frame-3030aaf0e4fd\n",
    "\n",
    "Handling Missing Values in a Data Frame\n",
    "\n",
    "\n",
    "https://medium.com/analytics-vidhya/python-handling-missing-values-in-a-data-frame-4156dac4399"
   ]
  },
  {
   "cell_type": "code",
   "execution_count": 6,
   "id": "d293352c",
   "metadata": {},
   "outputs": [],
   "source": [
    "import pandas as pd\n",
    "import numpy as np"
   ]
  },
  {
   "cell_type": "markdown",
   "id": "0b3f93ee",
   "metadata": {},
   "source": [
    "## Seattle Airbnb Open Data\n",
    "\n",
    "https://www.kaggle.com/datasets/airbnb/seattle?resource=download&select=reviews.csv\n",
    "\n",
    "####  Context\n",
    "Since 2008, guests and hosts have used Airbnb to travel in a more unique, personalized way. As part of the Airbnb Inside initiative, this dataset describes the listing activity of homestays in Seattle, WA.\n",
    "\n",
    "#### Content\n",
    "The following Airbnb activity is included in this Seattle dataset:\n",
    "\n",
    "Listings, including full descriptions and average review score\n",
    "\n",
    "Reviews, including unique id for each reviewer and detailed comments\n",
    "\n",
    "Calendar, including listing id and the price and availability for that day\n",
    "#### Inspiration\n",
    "Can you describe the vibe of each Seattle neighborhood using listing descriptions?\n",
    "What are the busiest times of the year to visit Seattle? By how much do prices spike?\n",
    "Is there a general upward trend of both new Airbnb listings and total Airbnb visitors to Seattle?\n",
    "\n",
    "http://insideairbnb.com/get-the-data/"
   ]
  },
  {
   "cell_type": "markdown",
   "id": "10ddd993",
   "metadata": {},
   "source": [
    "# Loading Manchester AirBnB data"
   ]
  },
  {
   "cell_type": "code",
   "execution_count": 7,
   "id": "3ff66990",
   "metadata": {},
   "outputs": [],
   "source": [
    "df_neighbour= pd.read_csv(\"neighbourhoods.csv\")\n",
    "df_listing = pd.read_csv(\"listings.csv\")\n",
    "df_reviews = pd.read_csv(\"reviews.csv\")"
   ]
  },
  {
   "cell_type": "markdown",
   "source": [
    "# Check data information"
   ],
   "metadata": {
    "collapsed": false,
    "pycharm": {
     "name": "#%% md\n"
    }
   }
  },
  {
   "cell_type": "code",
   "execution_count": 9,
   "id": "c2854cce",
   "metadata": {},
   "outputs": [
    {
     "name": "stdout",
     "output_type": "stream",
     "text": [
      "int64      8\n",
      "object     6\n",
      "float64    4\n",
      "dtype: int64\n",
      "<class 'pandas.core.frame.DataFrame'>\n",
      "RangeIndex: 3584 entries, 0 to 3583\n",
      "Data columns (total 18 columns):\n",
      " #   Column                          Non-Null Count  Dtype  \n",
      "---  ------                          --------------  -----  \n",
      " 0   id                              3584 non-null   int64  \n",
      " 1   name                            3584 non-null   object \n",
      " 2   host_id                         3584 non-null   int64  \n",
      " 3   host_name                       3584 non-null   object \n",
      " 4   neighbourhood_group             3584 non-null   object \n",
      " 5   neighbourhood                   3584 non-null   object \n",
      " 6   latitude                        3584 non-null   float64\n",
      " 7   longitude                       3584 non-null   float64\n",
      " 8   room_type                       3584 non-null   object \n",
      " 9   price                           3584 non-null   int64  \n",
      " 10  minimum_nights                  3584 non-null   int64  \n",
      " 11  number_of_reviews               3584 non-null   int64  \n",
      " 12  last_review                     2874 non-null   object \n",
      " 13  reviews_per_month               2874 non-null   float64\n",
      " 14  calculated_host_listings_count  3584 non-null   int64  \n",
      " 15  availability_365                3584 non-null   int64  \n",
      " 16  number_of_reviews_ltm           3584 non-null   int64  \n",
      " 17  license                         0 non-null      float64\n",
      "dtypes: float64(4), int64(8), object(6)\n",
      "memory usage: 504.1+ KB\n",
      "None\n"
     ]
    }
   ],
   "source": [
    "print(df_listing.dtypes.value_counts())\n",
    "print(df_listing.info())"
   ]
  },
  {
   "cell_type": "markdown",
   "source": [
    "# Separating columns into numeric and categorical"
   ],
   "metadata": {
    "collapsed": false
   }
  },
  {
   "cell_type": "code",
   "execution_count": 8,
   "outputs": [],
   "source": [
    "num_vars = df_listing.columns[df_listing.dtypes != 'object']\n",
    "cat_vars = df_listing.columns[df_listing.dtypes == 'object']"
   ],
   "metadata": {
    "collapsed": false,
    "pycharm": {
     "name": "#%%\n"
    }
   }
  },
  {
   "cell_type": "markdown",
   "source": [
    "# Checking percentage of nulls in each column"
   ],
   "metadata": {
    "collapsed": false,
    "pycharm": {
     "name": "#%% md\n"
    }
   }
  },
  {
   "cell_type": "code",
   "execution_count": 9,
   "outputs": [
    {
     "data": {
      "text/plain": "license                           1.000000\nreviews_per_month                 0.173885\nid                                0.000000\nhost_id                           0.000000\nlatitude                          0.000000\nlongitude                         0.000000\nprice                             0.000000\nminimum_nights                    0.000000\nnumber_of_reviews                 0.000000\ncalculated_host_listings_count    0.000000\navailability_365                  0.000000\nnumber_of_reviews_ltm             0.000000\ndtype: float64"
     },
     "execution_count": 9,
     "metadata": {},
     "output_type": "execute_result"
    }
   ],
   "source": [
    "df_listing[num_vars].isnull().sum().sort_values(ascending=False)/len(df_listing)"
   ],
   "metadata": {
    "collapsed": false,
    "pycharm": {
     "name": "#%%\n"
    }
   }
  },
  {
   "cell_type": "code",
   "execution_count": 21,
   "outputs": [
    {
     "data": {
      "text/plain": "name                   0.0\nhost_name              0.0\nneighbourhood_group    0.0\nneighbourhood          0.0\nroom_type              0.0\nlast_review            0.0\ndtype: float64"
     },
     "execution_count": 21,
     "metadata": {},
     "output_type": "execute_result"
    }
   ],
   "source": [
    "df_listing[cat_vars].isnull().sum().sort_values(ascending=False)/len(df_listing)"
   ],
   "metadata": {
    "collapsed": false,
    "pycharm": {
     "name": "#%%\n"
    }
   }
  },
  {
   "cell_type": "markdown",
   "source": [
    "# Dropping column which was 100% null"
   ],
   "metadata": {
    "collapsed": false,
    "pycharm": {
     "name": "#%% md\n"
    }
   }
  },
  {
   "cell_type": "code",
   "execution_count": 22,
   "outputs": [],
   "source": [
    "df_listing = df_listing.drop(columns=['license'],axis=1)"
   ],
   "metadata": {
    "collapsed": false,
    "pycharm": {
     "name": "#%%\n"
    }
   }
  },
  {
   "cell_type": "markdown",
   "source": [
    "# Replacing NaNs in this column with 0, as NaN just means no reviews yet"
   ],
   "metadata": {
    "collapsed": false,
    "pycharm": {
     "name": "#%% md\n"
    }
   }
  },
  {
   "cell_type": "code",
   "execution_count": 23,
   "outputs": [],
   "source": [
    "df_listing['reviews_per_month'] = df_listing['reviews_per_month'].fillna(0)"
   ],
   "metadata": {
    "collapsed": false,
    "pycharm": {
     "name": "#%%\n"
    }
   }
  },
  {
   "cell_type": "code",
   "execution_count": 24,
   "outputs": [
    {
     "data": {
      "text/plain": "                      id                                          name  \\\n0                 157612            New attic space/single & Dble room   \n1                 283495               En-suite room in detached house   \n2                 299194            Cosy Garden Chalet for all seasons   \n3                 310742           Nice room 10 minutes walk from town   \n4                 332580           **ELEGANT STAY** CENTRAL MANCHESTER   \n...                  ...                                           ...   \n4590  789262602588233720                  Tren istasyonuna yakın Hotel   \n4591  789270829032698628                                    Lüks Hotel   \n4592  789657340423683461                Fully Furnished 2 Bedroom Flat   \n4593  789889418261117861                Excellent Cosy Double Bed Room   \n4594  789891931610163931  Three Bed Town House with Garden City Centre   \n\n        host_id      host_name neighbourhood_group        neighbourhood  \\\n0        757016       Margaret             Salford     Salford District   \n1       1476718         Alison            Rochdale    Rochdale District   \n2       1542010           Minh           Stockport   Stockport District   \n3       1603652      Francisca          Manchester  Ancoats and Clayton   \n4       1694961     Manchester          Manchester          City Centre   \n...         ...            ...                 ...                  ...   \n4590  460316840          Baran          Manchester          City Centre   \n4591  460316840          Baran          Manchester          City Centre   \n4592  492680656  Omar Mohammed          Manchester         Gorton North   \n4593  492726868         Farina           Stockport   Stockport District   \n4594  490231875          Ayaan            Trafford    Trafford District   \n\n       latitude  longitude        room_type  price  minimum_nights  \\\n0     53.501140  -2.264290  Entire home/apt     43               2   \n1     53.562590  -2.219450     Private room     75             100   \n2     53.376000  -2.044620  Entire home/apt     50               2   \n3     53.482510  -2.228020     Private room     34             180   \n4     53.478590  -2.231950     Private room     49               2   \n...         ...        ...              ...    ...             ...   \n4590  53.478170  -2.233160     Private room    200               1   \n4591  53.477425  -2.244982     Private room    200               1   \n4592  53.460915  -2.167947  Entire home/apt    100               7   \n4593  53.403998  -2.156110     Private room     35               1   \n4594  53.452930  -2.298330  Entire home/apt    334               1   \n\n      number_of_reviews last_review  reviews_per_month  \\\n0                   119  2022-10-31               0.90   \n1                    10  2018-08-05               0.11   \n2                   312  2022-11-14               2.39   \n3                    65  2022-05-02               0.49   \n4                   329  2022-12-21               2.63   \n...                 ...         ...                ...   \n4590                  0  1970-01-01               0.00   \n4591                  0  1970-01-01               0.00   \n4592                  0  1970-01-01               0.00   \n4593                  0  1970-01-01               0.00   \n4594                  0  1970-01-01               0.00   \n\n      calculated_host_listings_count  availability_365  number_of_reviews_ltm  \n0                                  1               249                     19  \n1                                  1               365                      0  \n2                                  1               270                     19  \n3                                  1               302                      1  \n4                                  3                 0                      6  \n...                              ...               ...                    ...  \n4590                              15                87                      0  \n4591                              15                92                      0  \n4592                               1               363                      0  \n4593                               1               365                      0  \n4594                               2               361                      0  \n\n[4595 rows x 17 columns]",
      "text/html": "<div>\n<style scoped>\n    .dataframe tbody tr th:only-of-type {\n        vertical-align: middle;\n    }\n\n    .dataframe tbody tr th {\n        vertical-align: top;\n    }\n\n    .dataframe thead th {\n        text-align: right;\n    }\n</style>\n<table border=\"1\" class=\"dataframe\">\n  <thead>\n    <tr style=\"text-align: right;\">\n      <th></th>\n      <th>id</th>\n      <th>name</th>\n      <th>host_id</th>\n      <th>host_name</th>\n      <th>neighbourhood_group</th>\n      <th>neighbourhood</th>\n      <th>latitude</th>\n      <th>longitude</th>\n      <th>room_type</th>\n      <th>price</th>\n      <th>minimum_nights</th>\n      <th>number_of_reviews</th>\n      <th>last_review</th>\n      <th>reviews_per_month</th>\n      <th>calculated_host_listings_count</th>\n      <th>availability_365</th>\n      <th>number_of_reviews_ltm</th>\n    </tr>\n  </thead>\n  <tbody>\n    <tr>\n      <th>0</th>\n      <td>157612</td>\n      <td>New attic space/single &amp; Dble room</td>\n      <td>757016</td>\n      <td>Margaret</td>\n      <td>Salford</td>\n      <td>Salford District</td>\n      <td>53.501140</td>\n      <td>-2.264290</td>\n      <td>Entire home/apt</td>\n      <td>43</td>\n      <td>2</td>\n      <td>119</td>\n      <td>2022-10-31</td>\n      <td>0.90</td>\n      <td>1</td>\n      <td>249</td>\n      <td>19</td>\n    </tr>\n    <tr>\n      <th>1</th>\n      <td>283495</td>\n      <td>En-suite room in detached house</td>\n      <td>1476718</td>\n      <td>Alison</td>\n      <td>Rochdale</td>\n      <td>Rochdale District</td>\n      <td>53.562590</td>\n      <td>-2.219450</td>\n      <td>Private room</td>\n      <td>75</td>\n      <td>100</td>\n      <td>10</td>\n      <td>2018-08-05</td>\n      <td>0.11</td>\n      <td>1</td>\n      <td>365</td>\n      <td>0</td>\n    </tr>\n    <tr>\n      <th>2</th>\n      <td>299194</td>\n      <td>Cosy Garden Chalet for all seasons</td>\n      <td>1542010</td>\n      <td>Minh</td>\n      <td>Stockport</td>\n      <td>Stockport District</td>\n      <td>53.376000</td>\n      <td>-2.044620</td>\n      <td>Entire home/apt</td>\n      <td>50</td>\n      <td>2</td>\n      <td>312</td>\n      <td>2022-11-14</td>\n      <td>2.39</td>\n      <td>1</td>\n      <td>270</td>\n      <td>19</td>\n    </tr>\n    <tr>\n      <th>3</th>\n      <td>310742</td>\n      <td>Nice room 10 minutes walk from town</td>\n      <td>1603652</td>\n      <td>Francisca</td>\n      <td>Manchester</td>\n      <td>Ancoats and Clayton</td>\n      <td>53.482510</td>\n      <td>-2.228020</td>\n      <td>Private room</td>\n      <td>34</td>\n      <td>180</td>\n      <td>65</td>\n      <td>2022-05-02</td>\n      <td>0.49</td>\n      <td>1</td>\n      <td>302</td>\n      <td>1</td>\n    </tr>\n    <tr>\n      <th>4</th>\n      <td>332580</td>\n      <td>**ELEGANT STAY** CENTRAL MANCHESTER</td>\n      <td>1694961</td>\n      <td>Manchester</td>\n      <td>Manchester</td>\n      <td>City Centre</td>\n      <td>53.478590</td>\n      <td>-2.231950</td>\n      <td>Private room</td>\n      <td>49</td>\n      <td>2</td>\n      <td>329</td>\n      <td>2022-12-21</td>\n      <td>2.63</td>\n      <td>3</td>\n      <td>0</td>\n      <td>6</td>\n    </tr>\n    <tr>\n      <th>...</th>\n      <td>...</td>\n      <td>...</td>\n      <td>...</td>\n      <td>...</td>\n      <td>...</td>\n      <td>...</td>\n      <td>...</td>\n      <td>...</td>\n      <td>...</td>\n      <td>...</td>\n      <td>...</td>\n      <td>...</td>\n      <td>...</td>\n      <td>...</td>\n      <td>...</td>\n      <td>...</td>\n      <td>...</td>\n    </tr>\n    <tr>\n      <th>4590</th>\n      <td>789262602588233720</td>\n      <td>Tren istasyonuna yakın Hotel</td>\n      <td>460316840</td>\n      <td>Baran</td>\n      <td>Manchester</td>\n      <td>City Centre</td>\n      <td>53.478170</td>\n      <td>-2.233160</td>\n      <td>Private room</td>\n      <td>200</td>\n      <td>1</td>\n      <td>0</td>\n      <td>1970-01-01</td>\n      <td>0.00</td>\n      <td>15</td>\n      <td>87</td>\n      <td>0</td>\n    </tr>\n    <tr>\n      <th>4591</th>\n      <td>789270829032698628</td>\n      <td>Lüks Hotel</td>\n      <td>460316840</td>\n      <td>Baran</td>\n      <td>Manchester</td>\n      <td>City Centre</td>\n      <td>53.477425</td>\n      <td>-2.244982</td>\n      <td>Private room</td>\n      <td>200</td>\n      <td>1</td>\n      <td>0</td>\n      <td>1970-01-01</td>\n      <td>0.00</td>\n      <td>15</td>\n      <td>92</td>\n      <td>0</td>\n    </tr>\n    <tr>\n      <th>4592</th>\n      <td>789657340423683461</td>\n      <td>Fully Furnished 2 Bedroom Flat</td>\n      <td>492680656</td>\n      <td>Omar Mohammed</td>\n      <td>Manchester</td>\n      <td>Gorton North</td>\n      <td>53.460915</td>\n      <td>-2.167947</td>\n      <td>Entire home/apt</td>\n      <td>100</td>\n      <td>7</td>\n      <td>0</td>\n      <td>1970-01-01</td>\n      <td>0.00</td>\n      <td>1</td>\n      <td>363</td>\n      <td>0</td>\n    </tr>\n    <tr>\n      <th>4593</th>\n      <td>789889418261117861</td>\n      <td>Excellent Cosy Double Bed Room</td>\n      <td>492726868</td>\n      <td>Farina</td>\n      <td>Stockport</td>\n      <td>Stockport District</td>\n      <td>53.403998</td>\n      <td>-2.156110</td>\n      <td>Private room</td>\n      <td>35</td>\n      <td>1</td>\n      <td>0</td>\n      <td>1970-01-01</td>\n      <td>0.00</td>\n      <td>1</td>\n      <td>365</td>\n      <td>0</td>\n    </tr>\n    <tr>\n      <th>4594</th>\n      <td>789891931610163931</td>\n      <td>Three Bed Town House with Garden City Centre</td>\n      <td>490231875</td>\n      <td>Ayaan</td>\n      <td>Trafford</td>\n      <td>Trafford District</td>\n      <td>53.452930</td>\n      <td>-2.298330</td>\n      <td>Entire home/apt</td>\n      <td>334</td>\n      <td>1</td>\n      <td>0</td>\n      <td>1970-01-01</td>\n      <td>0.00</td>\n      <td>2</td>\n      <td>361</td>\n      <td>0</td>\n    </tr>\n  </tbody>\n</table>\n<p>4595 rows × 17 columns</p>\n</div>"
     },
     "execution_count": 24,
     "metadata": {},
     "output_type": "execute_result"
    }
   ],
   "source": [
    "df_listing"
   ],
   "metadata": {
    "collapsed": false,
    "pycharm": {
     "name": "#%%\n"
    }
   }
  },
  {
   "cell_type": "markdown",
   "source": [
    "# Replacing NaNs in dates column, with unix date starting time, so that it can still indicate a missing value without breaking the column"
   ],
   "metadata": {
    "collapsed": false,
    "pycharm": {
     "name": "#%% md\n"
    }
   }
  },
  {
   "cell_type": "code",
   "execution_count": 25,
   "outputs": [],
   "source": [
    "df_listing['last_review'] = df_listing['last_review'].fillna('1970-01-01')"
   ],
   "metadata": {
    "collapsed": false,
    "pycharm": {
     "name": "#%%\n"
    }
   }
  },
  {
   "cell_type": "code",
   "execution_count": 26,
   "outputs": [
    {
     "data": {
      "text/plain": "                      id                                          name  \\\n0                 157612            New attic space/single & Dble room   \n1                 283495               En-suite room in detached house   \n2                 299194            Cosy Garden Chalet for all seasons   \n3                 310742           Nice room 10 minutes walk from town   \n4                 332580           **ELEGANT STAY** CENTRAL MANCHESTER   \n...                  ...                                           ...   \n4590  789262602588233720                  Tren istasyonuna yakın Hotel   \n4591  789270829032698628                                    Lüks Hotel   \n4592  789657340423683461                Fully Furnished 2 Bedroom Flat   \n4593  789889418261117861                Excellent Cosy Double Bed Room   \n4594  789891931610163931  Three Bed Town House with Garden City Centre   \n\n        host_id      host_name neighbourhood_group        neighbourhood  \\\n0        757016       Margaret             Salford     Salford District   \n1       1476718         Alison            Rochdale    Rochdale District   \n2       1542010           Minh           Stockport   Stockport District   \n3       1603652      Francisca          Manchester  Ancoats and Clayton   \n4       1694961     Manchester          Manchester          City Centre   \n...         ...            ...                 ...                  ...   \n4590  460316840          Baran          Manchester          City Centre   \n4591  460316840          Baran          Manchester          City Centre   \n4592  492680656  Omar Mohammed          Manchester         Gorton North   \n4593  492726868         Farina           Stockport   Stockport District   \n4594  490231875          Ayaan            Trafford    Trafford District   \n\n       latitude  longitude        room_type  price  minimum_nights  \\\n0     53.501140  -2.264290  Entire home/apt     43               2   \n1     53.562590  -2.219450     Private room     75             100   \n2     53.376000  -2.044620  Entire home/apt     50               2   \n3     53.482510  -2.228020     Private room     34             180   \n4     53.478590  -2.231950     Private room     49               2   \n...         ...        ...              ...    ...             ...   \n4590  53.478170  -2.233160     Private room    200               1   \n4591  53.477425  -2.244982     Private room    200               1   \n4592  53.460915  -2.167947  Entire home/apt    100               7   \n4593  53.403998  -2.156110     Private room     35               1   \n4594  53.452930  -2.298330  Entire home/apt    334               1   \n\n      number_of_reviews last_review  reviews_per_month  \\\n0                   119  2022-10-31               0.90   \n1                    10  2018-08-05               0.11   \n2                   312  2022-11-14               2.39   \n3                    65  2022-05-02               0.49   \n4                   329  2022-12-21               2.63   \n...                 ...         ...                ...   \n4590                  0  1970-01-01               0.00   \n4591                  0  1970-01-01               0.00   \n4592                  0  1970-01-01               0.00   \n4593                  0  1970-01-01               0.00   \n4594                  0  1970-01-01               0.00   \n\n      calculated_host_listings_count  availability_365  number_of_reviews_ltm  \n0                                  1               249                     19  \n1                                  1               365                      0  \n2                                  1               270                     19  \n3                                  1               302                      1  \n4                                  3                 0                      6  \n...                              ...               ...                    ...  \n4590                              15                87                      0  \n4591                              15                92                      0  \n4592                               1               363                      0  \n4593                               1               365                      0  \n4594                               2               361                      0  \n\n[4595 rows x 17 columns]",
      "text/html": "<div>\n<style scoped>\n    .dataframe tbody tr th:only-of-type {\n        vertical-align: middle;\n    }\n\n    .dataframe tbody tr th {\n        vertical-align: top;\n    }\n\n    .dataframe thead th {\n        text-align: right;\n    }\n</style>\n<table border=\"1\" class=\"dataframe\">\n  <thead>\n    <tr style=\"text-align: right;\">\n      <th></th>\n      <th>id</th>\n      <th>name</th>\n      <th>host_id</th>\n      <th>host_name</th>\n      <th>neighbourhood_group</th>\n      <th>neighbourhood</th>\n      <th>latitude</th>\n      <th>longitude</th>\n      <th>room_type</th>\n      <th>price</th>\n      <th>minimum_nights</th>\n      <th>number_of_reviews</th>\n      <th>last_review</th>\n      <th>reviews_per_month</th>\n      <th>calculated_host_listings_count</th>\n      <th>availability_365</th>\n      <th>number_of_reviews_ltm</th>\n    </tr>\n  </thead>\n  <tbody>\n    <tr>\n      <th>0</th>\n      <td>157612</td>\n      <td>New attic space/single &amp; Dble room</td>\n      <td>757016</td>\n      <td>Margaret</td>\n      <td>Salford</td>\n      <td>Salford District</td>\n      <td>53.501140</td>\n      <td>-2.264290</td>\n      <td>Entire home/apt</td>\n      <td>43</td>\n      <td>2</td>\n      <td>119</td>\n      <td>2022-10-31</td>\n      <td>0.90</td>\n      <td>1</td>\n      <td>249</td>\n      <td>19</td>\n    </tr>\n    <tr>\n      <th>1</th>\n      <td>283495</td>\n      <td>En-suite room in detached house</td>\n      <td>1476718</td>\n      <td>Alison</td>\n      <td>Rochdale</td>\n      <td>Rochdale District</td>\n      <td>53.562590</td>\n      <td>-2.219450</td>\n      <td>Private room</td>\n      <td>75</td>\n      <td>100</td>\n      <td>10</td>\n      <td>2018-08-05</td>\n      <td>0.11</td>\n      <td>1</td>\n      <td>365</td>\n      <td>0</td>\n    </tr>\n    <tr>\n      <th>2</th>\n      <td>299194</td>\n      <td>Cosy Garden Chalet for all seasons</td>\n      <td>1542010</td>\n      <td>Minh</td>\n      <td>Stockport</td>\n      <td>Stockport District</td>\n      <td>53.376000</td>\n      <td>-2.044620</td>\n      <td>Entire home/apt</td>\n      <td>50</td>\n      <td>2</td>\n      <td>312</td>\n      <td>2022-11-14</td>\n      <td>2.39</td>\n      <td>1</td>\n      <td>270</td>\n      <td>19</td>\n    </tr>\n    <tr>\n      <th>3</th>\n      <td>310742</td>\n      <td>Nice room 10 minutes walk from town</td>\n      <td>1603652</td>\n      <td>Francisca</td>\n      <td>Manchester</td>\n      <td>Ancoats and Clayton</td>\n      <td>53.482510</td>\n      <td>-2.228020</td>\n      <td>Private room</td>\n      <td>34</td>\n      <td>180</td>\n      <td>65</td>\n      <td>2022-05-02</td>\n      <td>0.49</td>\n      <td>1</td>\n      <td>302</td>\n      <td>1</td>\n    </tr>\n    <tr>\n      <th>4</th>\n      <td>332580</td>\n      <td>**ELEGANT STAY** CENTRAL MANCHESTER</td>\n      <td>1694961</td>\n      <td>Manchester</td>\n      <td>Manchester</td>\n      <td>City Centre</td>\n      <td>53.478590</td>\n      <td>-2.231950</td>\n      <td>Private room</td>\n      <td>49</td>\n      <td>2</td>\n      <td>329</td>\n      <td>2022-12-21</td>\n      <td>2.63</td>\n      <td>3</td>\n      <td>0</td>\n      <td>6</td>\n    </tr>\n    <tr>\n      <th>...</th>\n      <td>...</td>\n      <td>...</td>\n      <td>...</td>\n      <td>...</td>\n      <td>...</td>\n      <td>...</td>\n      <td>...</td>\n      <td>...</td>\n      <td>...</td>\n      <td>...</td>\n      <td>...</td>\n      <td>...</td>\n      <td>...</td>\n      <td>...</td>\n      <td>...</td>\n      <td>...</td>\n      <td>...</td>\n    </tr>\n    <tr>\n      <th>4590</th>\n      <td>789262602588233720</td>\n      <td>Tren istasyonuna yakın Hotel</td>\n      <td>460316840</td>\n      <td>Baran</td>\n      <td>Manchester</td>\n      <td>City Centre</td>\n      <td>53.478170</td>\n      <td>-2.233160</td>\n      <td>Private room</td>\n      <td>200</td>\n      <td>1</td>\n      <td>0</td>\n      <td>1970-01-01</td>\n      <td>0.00</td>\n      <td>15</td>\n      <td>87</td>\n      <td>0</td>\n    </tr>\n    <tr>\n      <th>4591</th>\n      <td>789270829032698628</td>\n      <td>Lüks Hotel</td>\n      <td>460316840</td>\n      <td>Baran</td>\n      <td>Manchester</td>\n      <td>City Centre</td>\n      <td>53.477425</td>\n      <td>-2.244982</td>\n      <td>Private room</td>\n      <td>200</td>\n      <td>1</td>\n      <td>0</td>\n      <td>1970-01-01</td>\n      <td>0.00</td>\n      <td>15</td>\n      <td>92</td>\n      <td>0</td>\n    </tr>\n    <tr>\n      <th>4592</th>\n      <td>789657340423683461</td>\n      <td>Fully Furnished 2 Bedroom Flat</td>\n      <td>492680656</td>\n      <td>Omar Mohammed</td>\n      <td>Manchester</td>\n      <td>Gorton North</td>\n      <td>53.460915</td>\n      <td>-2.167947</td>\n      <td>Entire home/apt</td>\n      <td>100</td>\n      <td>7</td>\n      <td>0</td>\n      <td>1970-01-01</td>\n      <td>0.00</td>\n      <td>1</td>\n      <td>363</td>\n      <td>0</td>\n    </tr>\n    <tr>\n      <th>4593</th>\n      <td>789889418261117861</td>\n      <td>Excellent Cosy Double Bed Room</td>\n      <td>492726868</td>\n      <td>Farina</td>\n      <td>Stockport</td>\n      <td>Stockport District</td>\n      <td>53.403998</td>\n      <td>-2.156110</td>\n      <td>Private room</td>\n      <td>35</td>\n      <td>1</td>\n      <td>0</td>\n      <td>1970-01-01</td>\n      <td>0.00</td>\n      <td>1</td>\n      <td>365</td>\n      <td>0</td>\n    </tr>\n    <tr>\n      <th>4594</th>\n      <td>789891931610163931</td>\n      <td>Three Bed Town House with Garden City Centre</td>\n      <td>490231875</td>\n      <td>Ayaan</td>\n      <td>Trafford</td>\n      <td>Trafford District</td>\n      <td>53.452930</td>\n      <td>-2.298330</td>\n      <td>Entire home/apt</td>\n      <td>334</td>\n      <td>1</td>\n      <td>0</td>\n      <td>1970-01-01</td>\n      <td>0.00</td>\n      <td>2</td>\n      <td>361</td>\n      <td>0</td>\n    </tr>\n  </tbody>\n</table>\n<p>4595 rows × 17 columns</p>\n</div>"
     },
     "execution_count": 26,
     "metadata": {},
     "output_type": "execute_result"
    }
   ],
   "source": [
    "df_listing"
   ],
   "metadata": {
    "collapsed": false,
    "pycharm": {
     "name": "#%%\n"
    }
   }
  },
  {
   "cell_type": "markdown",
   "source": [
    "# Now to do the same for the other tables"
   ],
   "metadata": {
    "collapsed": false
   }
  },
  {
   "cell_type": "code",
   "execution_count": 25,
   "outputs": [
    {
     "name": "stdout",
     "output_type": "stream",
     "text": [
      "int64     1\n",
      "object    1\n",
      "dtype: int64\n",
      "<class 'pandas.core.frame.DataFrame'>\n",
      "RangeIndex: 114145 entries, 0 to 114144\n",
      "Data columns (total 2 columns):\n",
      " #   Column      Non-Null Count   Dtype \n",
      "---  ------      --------------   ----- \n",
      " 0   listing_id  114145 non-null  int64 \n",
      " 1   date        114145 non-null  object\n",
      "dtypes: int64(1), object(1)\n",
      "memory usage: 1.7+ MB\n",
      "None\n"
     ]
    }
   ],
   "source": [
    "print(df_reviews.dtypes.value_counts())\n",
    "print(df_reviews.info())"
   ],
   "metadata": {
    "collapsed": false,
    "pycharm": {
     "name": "#%%\n"
    }
   }
  },
  {
   "cell_type": "markdown",
   "source": [
    "# Reviews has no null values"
   ],
   "metadata": {
    "collapsed": false
   }
  },
  {
   "cell_type": "code",
   "execution_count": 27,
   "outputs": [
    {
     "data": {
      "text/plain": "listing_id    0.0\ndate          0.0\ndtype: float64"
     },
     "execution_count": 27,
     "metadata": {},
     "output_type": "execute_result"
    }
   ],
   "source": [
    "df_reviews.isnull().sum().sort_values(ascending=False)/len(df_reviews)"
   ],
   "metadata": {
    "collapsed": false,
    "pycharm": {
     "name": "#%%\n"
    }
   }
  },
  {
   "cell_type": "markdown",
   "source": [
    "# Neighbour has no null values as well"
   ],
   "metadata": {
    "collapsed": false,
    "pycharm": {
     "name": "#%% md\n"
    }
   }
  },
  {
   "cell_type": "code",
   "execution_count": 28,
   "outputs": [
    {
     "name": "stdout",
     "output_type": "stream",
     "text": [
      "object    2\n",
      "dtype: int64\n",
      "<class 'pandas.core.frame.DataFrame'>\n",
      "RangeIndex: 41 entries, 0 to 40\n",
      "Data columns (total 2 columns):\n",
      " #   Column               Non-Null Count  Dtype \n",
      "---  ------               --------------  ----- \n",
      " 0   neighbourhood_group  41 non-null     object\n",
      " 1   neighbourhood        41 non-null     object\n",
      "dtypes: object(2)\n",
      "memory usage: 784.0+ bytes\n",
      "None\n"
     ]
    }
   ],
   "source": [
    "print(df_neighbour.dtypes.value_counts())\n",
    "print(df_neighbour.info())"
   ],
   "metadata": {
    "collapsed": false,
    "pycharm": {
     "name": "#%%\n"
    }
   }
  },
  {
   "cell_type": "code",
   "execution_count": 29,
   "outputs": [
    {
     "data": {
      "text/plain": "   neighbourhood_group                    neighbourhood\n0               Bolton                  Bolton District\n1                 Bury                    Bury District\n2           Manchester              Ancoats and Clayton\n3           Manchester                          Ardwick\n4           Manchester                          Baguley\n5           Manchester                         Bradford\n6           Manchester                       Brooklands\n7           Manchester                          Burnage\n8           Manchester                      Charlestown\n9           Manchester                         Cheetham\n10          Manchester                         Chorlton\n11          Manchester                    Chorlton Park\n12          Manchester                      City Centre\n13          Manchester                        Crumpsall\n14          Manchester                    Didsbury East\n15          Manchester                    Didsbury West\n16          Manchester                      Fallowfield\n17          Manchester                     Gorton North\n18          Manchester                     Gorton South\n19          Manchester                        Harpurhey\n20          Manchester                  Higher Blackley\n21          Manchester                            Hulme\n22          Manchester                      Levenshulme\n23          Manchester                        Longsight\n24          Manchester  Miles Platting and Newton Heath\n25          Manchester                        Moss Side\n26          Manchester                           Moston\n27          Manchester                       Northenden\n28          Manchester                         Old Moat\n29          Manchester                         Rusholme\n30          Manchester                         Sharston\n31          Manchester                    Whalley Range\n32          Manchester                       Withington\n33          Manchester                   Woodhouse Park\n34              Oldham                  Oldham District\n35            Rochdale                Rochdale District\n36             Salford                 Salford District\n37           Stockport               Stockport District\n38            Tameside                Tameside District\n39            Trafford                Trafford District\n40               Wigan                   Wigan District",
      "text/html": "<div>\n<style scoped>\n    .dataframe tbody tr th:only-of-type {\n        vertical-align: middle;\n    }\n\n    .dataframe tbody tr th {\n        vertical-align: top;\n    }\n\n    .dataframe thead th {\n        text-align: right;\n    }\n</style>\n<table border=\"1\" class=\"dataframe\">\n  <thead>\n    <tr style=\"text-align: right;\">\n      <th></th>\n      <th>neighbourhood_group</th>\n      <th>neighbourhood</th>\n    </tr>\n  </thead>\n  <tbody>\n    <tr>\n      <th>0</th>\n      <td>Bolton</td>\n      <td>Bolton District</td>\n    </tr>\n    <tr>\n      <th>1</th>\n      <td>Bury</td>\n      <td>Bury District</td>\n    </tr>\n    <tr>\n      <th>2</th>\n      <td>Manchester</td>\n      <td>Ancoats and Clayton</td>\n    </tr>\n    <tr>\n      <th>3</th>\n      <td>Manchester</td>\n      <td>Ardwick</td>\n    </tr>\n    <tr>\n      <th>4</th>\n      <td>Manchester</td>\n      <td>Baguley</td>\n    </tr>\n    <tr>\n      <th>5</th>\n      <td>Manchester</td>\n      <td>Bradford</td>\n    </tr>\n    <tr>\n      <th>6</th>\n      <td>Manchester</td>\n      <td>Brooklands</td>\n    </tr>\n    <tr>\n      <th>7</th>\n      <td>Manchester</td>\n      <td>Burnage</td>\n    </tr>\n    <tr>\n      <th>8</th>\n      <td>Manchester</td>\n      <td>Charlestown</td>\n    </tr>\n    <tr>\n      <th>9</th>\n      <td>Manchester</td>\n      <td>Cheetham</td>\n    </tr>\n    <tr>\n      <th>10</th>\n      <td>Manchester</td>\n      <td>Chorlton</td>\n    </tr>\n    <tr>\n      <th>11</th>\n      <td>Manchester</td>\n      <td>Chorlton Park</td>\n    </tr>\n    <tr>\n      <th>12</th>\n      <td>Manchester</td>\n      <td>City Centre</td>\n    </tr>\n    <tr>\n      <th>13</th>\n      <td>Manchester</td>\n      <td>Crumpsall</td>\n    </tr>\n    <tr>\n      <th>14</th>\n      <td>Manchester</td>\n      <td>Didsbury East</td>\n    </tr>\n    <tr>\n      <th>15</th>\n      <td>Manchester</td>\n      <td>Didsbury West</td>\n    </tr>\n    <tr>\n      <th>16</th>\n      <td>Manchester</td>\n      <td>Fallowfield</td>\n    </tr>\n    <tr>\n      <th>17</th>\n      <td>Manchester</td>\n      <td>Gorton North</td>\n    </tr>\n    <tr>\n      <th>18</th>\n      <td>Manchester</td>\n      <td>Gorton South</td>\n    </tr>\n    <tr>\n      <th>19</th>\n      <td>Manchester</td>\n      <td>Harpurhey</td>\n    </tr>\n    <tr>\n      <th>20</th>\n      <td>Manchester</td>\n      <td>Higher Blackley</td>\n    </tr>\n    <tr>\n      <th>21</th>\n      <td>Manchester</td>\n      <td>Hulme</td>\n    </tr>\n    <tr>\n      <th>22</th>\n      <td>Manchester</td>\n      <td>Levenshulme</td>\n    </tr>\n    <tr>\n      <th>23</th>\n      <td>Manchester</td>\n      <td>Longsight</td>\n    </tr>\n    <tr>\n      <th>24</th>\n      <td>Manchester</td>\n      <td>Miles Platting and Newton Heath</td>\n    </tr>\n    <tr>\n      <th>25</th>\n      <td>Manchester</td>\n      <td>Moss Side</td>\n    </tr>\n    <tr>\n      <th>26</th>\n      <td>Manchester</td>\n      <td>Moston</td>\n    </tr>\n    <tr>\n      <th>27</th>\n      <td>Manchester</td>\n      <td>Northenden</td>\n    </tr>\n    <tr>\n      <th>28</th>\n      <td>Manchester</td>\n      <td>Old Moat</td>\n    </tr>\n    <tr>\n      <th>29</th>\n      <td>Manchester</td>\n      <td>Rusholme</td>\n    </tr>\n    <tr>\n      <th>30</th>\n      <td>Manchester</td>\n      <td>Sharston</td>\n    </tr>\n    <tr>\n      <th>31</th>\n      <td>Manchester</td>\n      <td>Whalley Range</td>\n    </tr>\n    <tr>\n      <th>32</th>\n      <td>Manchester</td>\n      <td>Withington</td>\n    </tr>\n    <tr>\n      <th>33</th>\n      <td>Manchester</td>\n      <td>Woodhouse Park</td>\n    </tr>\n    <tr>\n      <th>34</th>\n      <td>Oldham</td>\n      <td>Oldham District</td>\n    </tr>\n    <tr>\n      <th>35</th>\n      <td>Rochdale</td>\n      <td>Rochdale District</td>\n    </tr>\n    <tr>\n      <th>36</th>\n      <td>Salford</td>\n      <td>Salford District</td>\n    </tr>\n    <tr>\n      <th>37</th>\n      <td>Stockport</td>\n      <td>Stockport District</td>\n    </tr>\n    <tr>\n      <th>38</th>\n      <td>Tameside</td>\n      <td>Tameside District</td>\n    </tr>\n    <tr>\n      <th>39</th>\n      <td>Trafford</td>\n      <td>Trafford District</td>\n    </tr>\n    <tr>\n      <th>40</th>\n      <td>Wigan</td>\n      <td>Wigan District</td>\n    </tr>\n  </tbody>\n</table>\n</div>"
     },
     "execution_count": 29,
     "metadata": {},
     "output_type": "execute_result"
    }
   ],
   "source": [
    "df_neighbour"
   ],
   "metadata": {
    "collapsed": false,
    "pycharm": {
     "name": "#%%\n"
    }
   }
  },
  {
   "cell_type": "code",
   "execution_count": 30,
   "outputs": [
    {
     "data": {
      "text/plain": "            id                                               name    host_id  \\\n0       157612                 New attic space/single & Dble room     757016   \n1       283495                    En-suite room in detached house    1476718   \n2       299194                 Cosy Garden Chalet for all seasons    1542010   \n3       310742                Nice room 10 minutes walk from town    1603652   \n4       332580                **ELEGANT STAY** CENTRAL MANCHESTER    1694961   \n...        ...                                                ...        ...   \n3579  43323251      The Annexe - Private home in forest location.  119767658   \n3580  50386579   Woodbank is an ideal haven for an active escape.   85860535   \n3581  48601153                 Unique Cottage with fabulous views   85860535   \n3582  24438146  6 Star Lux Large House. Stunning views! Hot tub !  279141591   \n3583  14115299         \"The Hara\" Disley Luxury Private Apartment   63266287   \n\n       host_name neighbourhood_group        neighbourhood  latitude  \\\n0       Margaret             Salford     Salford District  53.50114   \n1         Alison            Rochdale    Rochdale District  53.56259   \n2           Minh           Stockport   Stockport District  53.37600   \n3      Francisca          Manchester  Ancoats and Clayton  53.48251   \n4     Manchester          Manchester          City Centre  53.47859   \n...          ...                 ...                  ...       ...   \n3579       Emily               Wigan       Wigan District  53.45970   \n3580      Monica            Rochdale    Rochdale District  53.67811   \n3581      Monica            Rochdale    Rochdale District  53.68086   \n3582       David            Rochdale    Rochdale District  53.67838   \n3583      Marnie           Stockport   Stockport District  53.36079   \n\n      longitude        room_type  price  minimum_nights  number_of_reviews  \\\n0      -2.26429  Entire home/apt     36               2                103   \n1      -2.21945     Private room     75               3                 10   \n2      -2.04462  Entire home/apt     50               2                296   \n3      -2.22802     Private room     34             180                 64   \n4      -2.23195     Private room     49               2                324   \n...         ...              ...    ...             ...                ...   \n3579   -2.55510  Entire home/apt    195               2                 84   \n3580   -2.08412  Entire home/apt    165               2                 10   \n3581   -2.08369  Entire home/apt    120               2                 11   \n3582   -2.08533  Entire home/apt    639               2                118   \n3583   -2.05502  Entire home/apt     95               2                112   \n\n     last_review  reviews_per_month  calculated_host_listings_count  \\\n0     2022-03-18               0.84                               1   \n1     2018-08-05               0.12                               1   \n2     2022-02-14               2.44                               1   \n3     2018-01-12               0.52                               1   \n4     2022-01-16               2.80                               5   \n...          ...                ...                             ...   \n3579  2022-03-09               4.11                               1   \n3580  2021-11-03               1.14                               2   \n3581  2022-01-14               1.36                               2   \n3582  2022-02-27               2.53                               1   \n3583  2022-02-20               1.66                               1   \n\n      availability_365  number_of_reviews_ltm  \n0                  275                      7  \n1                  277                      0  \n2                  360                     26  \n3                  175                      0  \n4                    0                      2  \n...                ...                    ...  \n3579                50                     53  \n3580                69                     10  \n3581                86                     11  \n3582               249                     42  \n3583               322                     17  \n\n[3584 rows x 17 columns]",
      "text/html": "<div>\n<style scoped>\n    .dataframe tbody tr th:only-of-type {\n        vertical-align: middle;\n    }\n\n    .dataframe tbody tr th {\n        vertical-align: top;\n    }\n\n    .dataframe thead th {\n        text-align: right;\n    }\n</style>\n<table border=\"1\" class=\"dataframe\">\n  <thead>\n    <tr style=\"text-align: right;\">\n      <th></th>\n      <th>id</th>\n      <th>name</th>\n      <th>host_id</th>\n      <th>host_name</th>\n      <th>neighbourhood_group</th>\n      <th>neighbourhood</th>\n      <th>latitude</th>\n      <th>longitude</th>\n      <th>room_type</th>\n      <th>price</th>\n      <th>minimum_nights</th>\n      <th>number_of_reviews</th>\n      <th>last_review</th>\n      <th>reviews_per_month</th>\n      <th>calculated_host_listings_count</th>\n      <th>availability_365</th>\n      <th>number_of_reviews_ltm</th>\n    </tr>\n  </thead>\n  <tbody>\n    <tr>\n      <th>0</th>\n      <td>157612</td>\n      <td>New attic space/single &amp; Dble room</td>\n      <td>757016</td>\n      <td>Margaret</td>\n      <td>Salford</td>\n      <td>Salford District</td>\n      <td>53.50114</td>\n      <td>-2.26429</td>\n      <td>Entire home/apt</td>\n      <td>36</td>\n      <td>2</td>\n      <td>103</td>\n      <td>2022-03-18</td>\n      <td>0.84</td>\n      <td>1</td>\n      <td>275</td>\n      <td>7</td>\n    </tr>\n    <tr>\n      <th>1</th>\n      <td>283495</td>\n      <td>En-suite room in detached house</td>\n      <td>1476718</td>\n      <td>Alison</td>\n      <td>Rochdale</td>\n      <td>Rochdale District</td>\n      <td>53.56259</td>\n      <td>-2.21945</td>\n      <td>Private room</td>\n      <td>75</td>\n      <td>3</td>\n      <td>10</td>\n      <td>2018-08-05</td>\n      <td>0.12</td>\n      <td>1</td>\n      <td>277</td>\n      <td>0</td>\n    </tr>\n    <tr>\n      <th>2</th>\n      <td>299194</td>\n      <td>Cosy Garden Chalet for all seasons</td>\n      <td>1542010</td>\n      <td>Minh</td>\n      <td>Stockport</td>\n      <td>Stockport District</td>\n      <td>53.37600</td>\n      <td>-2.04462</td>\n      <td>Entire home/apt</td>\n      <td>50</td>\n      <td>2</td>\n      <td>296</td>\n      <td>2022-02-14</td>\n      <td>2.44</td>\n      <td>1</td>\n      <td>360</td>\n      <td>26</td>\n    </tr>\n    <tr>\n      <th>3</th>\n      <td>310742</td>\n      <td>Nice room 10 minutes walk from town</td>\n      <td>1603652</td>\n      <td>Francisca</td>\n      <td>Manchester</td>\n      <td>Ancoats and Clayton</td>\n      <td>53.48251</td>\n      <td>-2.22802</td>\n      <td>Private room</td>\n      <td>34</td>\n      <td>180</td>\n      <td>64</td>\n      <td>2018-01-12</td>\n      <td>0.52</td>\n      <td>1</td>\n      <td>175</td>\n      <td>0</td>\n    </tr>\n    <tr>\n      <th>4</th>\n      <td>332580</td>\n      <td>**ELEGANT STAY** CENTRAL MANCHESTER</td>\n      <td>1694961</td>\n      <td>Manchester</td>\n      <td>Manchester</td>\n      <td>City Centre</td>\n      <td>53.47859</td>\n      <td>-2.23195</td>\n      <td>Private room</td>\n      <td>49</td>\n      <td>2</td>\n      <td>324</td>\n      <td>2022-01-16</td>\n      <td>2.80</td>\n      <td>5</td>\n      <td>0</td>\n      <td>2</td>\n    </tr>\n    <tr>\n      <th>...</th>\n      <td>...</td>\n      <td>...</td>\n      <td>...</td>\n      <td>...</td>\n      <td>...</td>\n      <td>...</td>\n      <td>...</td>\n      <td>...</td>\n      <td>...</td>\n      <td>...</td>\n      <td>...</td>\n      <td>...</td>\n      <td>...</td>\n      <td>...</td>\n      <td>...</td>\n      <td>...</td>\n      <td>...</td>\n    </tr>\n    <tr>\n      <th>3579</th>\n      <td>43323251</td>\n      <td>The Annexe - Private home in forest location.</td>\n      <td>119767658</td>\n      <td>Emily</td>\n      <td>Wigan</td>\n      <td>Wigan District</td>\n      <td>53.45970</td>\n      <td>-2.55510</td>\n      <td>Entire home/apt</td>\n      <td>195</td>\n      <td>2</td>\n      <td>84</td>\n      <td>2022-03-09</td>\n      <td>4.11</td>\n      <td>1</td>\n      <td>50</td>\n      <td>53</td>\n    </tr>\n    <tr>\n      <th>3580</th>\n      <td>50386579</td>\n      <td>Woodbank is an ideal haven for an active escape.</td>\n      <td>85860535</td>\n      <td>Monica</td>\n      <td>Rochdale</td>\n      <td>Rochdale District</td>\n      <td>53.67811</td>\n      <td>-2.08412</td>\n      <td>Entire home/apt</td>\n      <td>165</td>\n      <td>2</td>\n      <td>10</td>\n      <td>2021-11-03</td>\n      <td>1.14</td>\n      <td>2</td>\n      <td>69</td>\n      <td>10</td>\n    </tr>\n    <tr>\n      <th>3581</th>\n      <td>48601153</td>\n      <td>Unique Cottage with fabulous views</td>\n      <td>85860535</td>\n      <td>Monica</td>\n      <td>Rochdale</td>\n      <td>Rochdale District</td>\n      <td>53.68086</td>\n      <td>-2.08369</td>\n      <td>Entire home/apt</td>\n      <td>120</td>\n      <td>2</td>\n      <td>11</td>\n      <td>2022-01-14</td>\n      <td>1.36</td>\n      <td>2</td>\n      <td>86</td>\n      <td>11</td>\n    </tr>\n    <tr>\n      <th>3582</th>\n      <td>24438146</td>\n      <td>6 Star Lux Large House. Stunning views! Hot tub !</td>\n      <td>279141591</td>\n      <td>David</td>\n      <td>Rochdale</td>\n      <td>Rochdale District</td>\n      <td>53.67838</td>\n      <td>-2.08533</td>\n      <td>Entire home/apt</td>\n      <td>639</td>\n      <td>2</td>\n      <td>118</td>\n      <td>2022-02-27</td>\n      <td>2.53</td>\n      <td>1</td>\n      <td>249</td>\n      <td>42</td>\n    </tr>\n    <tr>\n      <th>3583</th>\n      <td>14115299</td>\n      <td>\"The Hara\" Disley Luxury Private Apartment</td>\n      <td>63266287</td>\n      <td>Marnie</td>\n      <td>Stockport</td>\n      <td>Stockport District</td>\n      <td>53.36079</td>\n      <td>-2.05502</td>\n      <td>Entire home/apt</td>\n      <td>95</td>\n      <td>2</td>\n      <td>112</td>\n      <td>2022-02-20</td>\n      <td>1.66</td>\n      <td>1</td>\n      <td>322</td>\n      <td>17</td>\n    </tr>\n  </tbody>\n</table>\n<p>3584 rows × 17 columns</p>\n</div>"
     },
     "execution_count": 30,
     "metadata": {},
     "output_type": "execute_result"
    }
   ],
   "source": [
    "df_listing"
   ],
   "metadata": {
    "collapsed": false,
    "pycharm": {
     "name": "#%%\n"
    }
   }
  },
  {
   "cell_type": "markdown",
   "source": [
    "# Which neighbourhood groups have the most airbnb locations"
   ],
   "metadata": {
    "collapsed": false
   }
  },
  {
   "cell_type": "code",
   "execution_count": 27,
   "outputs": [
    {
     "data": {
      "text/plain": "neighbourhood_group\nManchester    2314\nSalford        829\nTrafford       399\nStockport      242\nOldham         189\nBolton         159\nBury           146\nWigan          126\nTameside       119\nRochdale        72\ndtype: int64"
     },
     "execution_count": 27,
     "metadata": {},
     "output_type": "execute_result"
    }
   ],
   "source": [
    "df_listing.groupby(['neighbourhood_group']).apply(len).sort_values(ascending=False)"
   ],
   "metadata": {
    "collapsed": false,
    "pycharm": {
     "name": "#%%\n"
    }
   }
  },
  {
   "cell_type": "markdown",
   "source": [
    "# Average price in each neighbourhood"
   ],
   "metadata": {
    "collapsed": false,
    "pycharm": {
     "name": "#%% md\n"
    }
   }
  },
  {
   "cell_type": "code",
   "execution_count": 29,
   "outputs": [
    {
     "data": {
      "text/plain": "                          price\nneighbourhood_group            \nBolton               396.842767\nManchester           164.687122\nSalford              144.314837\nStockport            128.524793\nBury                 124.958904\nTrafford             121.090226\nOldham               119.629630\nRochdale             114.500000\nWigan                106.126984\nTameside              96.680672",
      "text/html": "<div>\n<style scoped>\n    .dataframe tbody tr th:only-of-type {\n        vertical-align: middle;\n    }\n\n    .dataframe tbody tr th {\n        vertical-align: top;\n    }\n\n    .dataframe thead th {\n        text-align: right;\n    }\n</style>\n<table border=\"1\" class=\"dataframe\">\n  <thead>\n    <tr style=\"text-align: right;\">\n      <th></th>\n      <th>price</th>\n    </tr>\n    <tr>\n      <th>neighbourhood_group</th>\n      <th></th>\n    </tr>\n  </thead>\n  <tbody>\n    <tr>\n      <th>Bolton</th>\n      <td>396.842767</td>\n    </tr>\n    <tr>\n      <th>Manchester</th>\n      <td>164.687122</td>\n    </tr>\n    <tr>\n      <th>Salford</th>\n      <td>144.314837</td>\n    </tr>\n    <tr>\n      <th>Stockport</th>\n      <td>128.524793</td>\n    </tr>\n    <tr>\n      <th>Bury</th>\n      <td>124.958904</td>\n    </tr>\n    <tr>\n      <th>Trafford</th>\n      <td>121.090226</td>\n    </tr>\n    <tr>\n      <th>Oldham</th>\n      <td>119.629630</td>\n    </tr>\n    <tr>\n      <th>Rochdale</th>\n      <td>114.500000</td>\n    </tr>\n    <tr>\n      <th>Wigan</th>\n      <td>106.126984</td>\n    </tr>\n    <tr>\n      <th>Tameside</th>\n      <td>96.680672</td>\n    </tr>\n  </tbody>\n</table>\n</div>"
     },
     "execution_count": 29,
     "metadata": {},
     "output_type": "execute_result"
    }
   ],
   "source": [
    "df_listing.groupby(['neighbourhood_group']).agg({'price':np.mean}).sort_values(by='price',ascending=False)"
   ],
   "metadata": {
    "collapsed": false,
    "pycharm": {
     "name": "#%%\n"
    }
   }
  },
  {
   "cell_type": "markdown",
   "source": [
    "# Removing some columns which are not needed for analysis"
   ],
   "metadata": {
    "collapsed": false,
    "pycharm": {
     "name": "#%% md\n"
    }
   }
  },
  {
   "cell_type": "code",
   "execution_count": 31,
   "outputs": [],
   "source": [
    "df_listing_subset = df_listing.drop(columns=['id','host_id','name','latitude','longitude'],axis=1)"
   ],
   "metadata": {
    "collapsed": false,
    "pycharm": {
     "name": "#%%\n"
    }
   }
  },
  {
   "cell_type": "code",
   "execution_count": 32,
   "outputs": [
    {
     "data": {
      "text/plain": "          host_name neighbourhood_group        neighbourhood        room_type  \\\n0          Margaret             Salford     Salford District  Entire home/apt   \n1            Alison            Rochdale    Rochdale District     Private room   \n2              Minh           Stockport   Stockport District  Entire home/apt   \n3         Francisca          Manchester  Ancoats and Clayton     Private room   \n4        Manchester          Manchester          City Centre     Private room   \n...             ...                 ...                  ...              ...   \n4590          Baran          Manchester          City Centre     Private room   \n4591          Baran          Manchester          City Centre     Private room   \n4592  Omar Mohammed          Manchester         Gorton North  Entire home/apt   \n4593         Farina           Stockport   Stockport District     Private room   \n4594          Ayaan            Trafford    Trafford District  Entire home/apt   \n\n      price  minimum_nights  number_of_reviews last_review  reviews_per_month  \\\n0        43               2                119  2022-10-31               0.90   \n1        75             100                 10  2018-08-05               0.11   \n2        50               2                312  2022-11-14               2.39   \n3        34             180                 65  2022-05-02               0.49   \n4        49               2                329  2022-12-21               2.63   \n...     ...             ...                ...         ...                ...   \n4590    200               1                  0  1970-01-01               0.00   \n4591    200               1                  0  1970-01-01               0.00   \n4592    100               7                  0  1970-01-01               0.00   \n4593     35               1                  0  1970-01-01               0.00   \n4594    334               1                  0  1970-01-01               0.00   \n\n      calculated_host_listings_count  availability_365  number_of_reviews_ltm  \n0                                  1               249                     19  \n1                                  1               365                      0  \n2                                  1               270                     19  \n3                                  1               302                      1  \n4                                  3                 0                      6  \n...                              ...               ...                    ...  \n4590                              15                87                      0  \n4591                              15                92                      0  \n4592                               1               363                      0  \n4593                               1               365                      0  \n4594                               2               361                      0  \n\n[4595 rows x 12 columns]",
      "text/html": "<div>\n<style scoped>\n    .dataframe tbody tr th:only-of-type {\n        vertical-align: middle;\n    }\n\n    .dataframe tbody tr th {\n        vertical-align: top;\n    }\n\n    .dataframe thead th {\n        text-align: right;\n    }\n</style>\n<table border=\"1\" class=\"dataframe\">\n  <thead>\n    <tr style=\"text-align: right;\">\n      <th></th>\n      <th>host_name</th>\n      <th>neighbourhood_group</th>\n      <th>neighbourhood</th>\n      <th>room_type</th>\n      <th>price</th>\n      <th>minimum_nights</th>\n      <th>number_of_reviews</th>\n      <th>last_review</th>\n      <th>reviews_per_month</th>\n      <th>calculated_host_listings_count</th>\n      <th>availability_365</th>\n      <th>number_of_reviews_ltm</th>\n    </tr>\n  </thead>\n  <tbody>\n    <tr>\n      <th>0</th>\n      <td>Margaret</td>\n      <td>Salford</td>\n      <td>Salford District</td>\n      <td>Entire home/apt</td>\n      <td>43</td>\n      <td>2</td>\n      <td>119</td>\n      <td>2022-10-31</td>\n      <td>0.90</td>\n      <td>1</td>\n      <td>249</td>\n      <td>19</td>\n    </tr>\n    <tr>\n      <th>1</th>\n      <td>Alison</td>\n      <td>Rochdale</td>\n      <td>Rochdale District</td>\n      <td>Private room</td>\n      <td>75</td>\n      <td>100</td>\n      <td>10</td>\n      <td>2018-08-05</td>\n      <td>0.11</td>\n      <td>1</td>\n      <td>365</td>\n      <td>0</td>\n    </tr>\n    <tr>\n      <th>2</th>\n      <td>Minh</td>\n      <td>Stockport</td>\n      <td>Stockport District</td>\n      <td>Entire home/apt</td>\n      <td>50</td>\n      <td>2</td>\n      <td>312</td>\n      <td>2022-11-14</td>\n      <td>2.39</td>\n      <td>1</td>\n      <td>270</td>\n      <td>19</td>\n    </tr>\n    <tr>\n      <th>3</th>\n      <td>Francisca</td>\n      <td>Manchester</td>\n      <td>Ancoats and Clayton</td>\n      <td>Private room</td>\n      <td>34</td>\n      <td>180</td>\n      <td>65</td>\n      <td>2022-05-02</td>\n      <td>0.49</td>\n      <td>1</td>\n      <td>302</td>\n      <td>1</td>\n    </tr>\n    <tr>\n      <th>4</th>\n      <td>Manchester</td>\n      <td>Manchester</td>\n      <td>City Centre</td>\n      <td>Private room</td>\n      <td>49</td>\n      <td>2</td>\n      <td>329</td>\n      <td>2022-12-21</td>\n      <td>2.63</td>\n      <td>3</td>\n      <td>0</td>\n      <td>6</td>\n    </tr>\n    <tr>\n      <th>...</th>\n      <td>...</td>\n      <td>...</td>\n      <td>...</td>\n      <td>...</td>\n      <td>...</td>\n      <td>...</td>\n      <td>...</td>\n      <td>...</td>\n      <td>...</td>\n      <td>...</td>\n      <td>...</td>\n      <td>...</td>\n    </tr>\n    <tr>\n      <th>4590</th>\n      <td>Baran</td>\n      <td>Manchester</td>\n      <td>City Centre</td>\n      <td>Private room</td>\n      <td>200</td>\n      <td>1</td>\n      <td>0</td>\n      <td>1970-01-01</td>\n      <td>0.00</td>\n      <td>15</td>\n      <td>87</td>\n      <td>0</td>\n    </tr>\n    <tr>\n      <th>4591</th>\n      <td>Baran</td>\n      <td>Manchester</td>\n      <td>City Centre</td>\n      <td>Private room</td>\n      <td>200</td>\n      <td>1</td>\n      <td>0</td>\n      <td>1970-01-01</td>\n      <td>0.00</td>\n      <td>15</td>\n      <td>92</td>\n      <td>0</td>\n    </tr>\n    <tr>\n      <th>4592</th>\n      <td>Omar Mohammed</td>\n      <td>Manchester</td>\n      <td>Gorton North</td>\n      <td>Entire home/apt</td>\n      <td>100</td>\n      <td>7</td>\n      <td>0</td>\n      <td>1970-01-01</td>\n      <td>0.00</td>\n      <td>1</td>\n      <td>363</td>\n      <td>0</td>\n    </tr>\n    <tr>\n      <th>4593</th>\n      <td>Farina</td>\n      <td>Stockport</td>\n      <td>Stockport District</td>\n      <td>Private room</td>\n      <td>35</td>\n      <td>1</td>\n      <td>0</td>\n      <td>1970-01-01</td>\n      <td>0.00</td>\n      <td>1</td>\n      <td>365</td>\n      <td>0</td>\n    </tr>\n    <tr>\n      <th>4594</th>\n      <td>Ayaan</td>\n      <td>Trafford</td>\n      <td>Trafford District</td>\n      <td>Entire home/apt</td>\n      <td>334</td>\n      <td>1</td>\n      <td>0</td>\n      <td>1970-01-01</td>\n      <td>0.00</td>\n      <td>2</td>\n      <td>361</td>\n      <td>0</td>\n    </tr>\n  </tbody>\n</table>\n<p>4595 rows × 12 columns</p>\n</div>"
     },
     "execution_count": 32,
     "metadata": {},
     "output_type": "execute_result"
    }
   ],
   "source": [
    "df_listing_subset"
   ],
   "metadata": {
    "collapsed": false,
    "pycharm": {
     "name": "#%%\n"
    }
   }
  },
  {
   "cell_type": "markdown",
   "source": [
    "# Average, min and max for the different types of rooms"
   ],
   "metadata": {
    "collapsed": false
   }
  },
  {
   "cell_type": "code",
   "execution_count": 33,
   "outputs": [
    {
     "data": {
      "text/plain": "                      price           \n                       mean min    max\nroom_type                             \nEntire home/apt  185.116732  16  47271\nHotel room        93.833333  41    206\nPrivate room     110.845397  11   5068\nShared room       45.965517  16    286",
      "text/html": "<div>\n<style scoped>\n    .dataframe tbody tr th:only-of-type {\n        vertical-align: middle;\n    }\n\n    .dataframe tbody tr th {\n        vertical-align: top;\n    }\n\n    .dataframe thead tr th {\n        text-align: left;\n    }\n\n    .dataframe thead tr:last-of-type th {\n        text-align: right;\n    }\n</style>\n<table border=\"1\" class=\"dataframe\">\n  <thead>\n    <tr>\n      <th></th>\n      <th colspan=\"3\" halign=\"left\">price</th>\n    </tr>\n    <tr>\n      <th></th>\n      <th>mean</th>\n      <th>min</th>\n      <th>max</th>\n    </tr>\n    <tr>\n      <th>room_type</th>\n      <th></th>\n      <th></th>\n      <th></th>\n    </tr>\n  </thead>\n  <tbody>\n    <tr>\n      <th>Entire home/apt</th>\n      <td>185.116732</td>\n      <td>16</td>\n      <td>47271</td>\n    </tr>\n    <tr>\n      <th>Hotel room</th>\n      <td>93.833333</td>\n      <td>41</td>\n      <td>206</td>\n    </tr>\n    <tr>\n      <th>Private room</th>\n      <td>110.845397</td>\n      <td>11</td>\n      <td>5068</td>\n    </tr>\n    <tr>\n      <th>Shared room</th>\n      <td>45.965517</td>\n      <td>16</td>\n      <td>286</td>\n    </tr>\n  </tbody>\n</table>\n</div>"
     },
     "execution_count": 33,
     "metadata": {},
     "output_type": "execute_result"
    }
   ],
   "source": [
    "df_listing_subset.groupby(['room_type']).agg({'price':[np.mean,min,max]})"
   ],
   "metadata": {
    "collapsed": false,
    "pycharm": {
     "name": "#%%\n"
    }
   }
  },
  {
   "cell_type": "markdown",
   "source": [
    "# More detailed breakdown of average price for different room types in the different neighbourhoods"
   ],
   "metadata": {
    "collapsed": false,
    "pycharm": {
     "name": "#%% md\n"
    }
   }
  },
  {
   "cell_type": "code",
   "execution_count": 34,
   "outputs": [
    {
     "data": {
      "text/plain": "                                          price           \n                                           mean  min   max\nneighbourhood       room_type                             \nAncoats and Clayton Entire home/apt  209.711409   48  3009\n                    Hotel room       206.000000  206   206\n                    Private room     217.541667   27  1570\nArdwick             Entire home/apt  216.627451   50   686\n                    Private room     418.807692   25  1763\n...                                         ...  ...   ...\nWithington          Entire home/apt  204.241379   54   700\n                    Private room      61.000000   34   101\n                    Shared room       49.000000   49    49\nWoodhouse Park      Entire home/apt  115.444444   90   175\n                    Private room     183.538462   30  1657\n\n[97 rows x 3 columns]",
      "text/html": "<div>\n<style scoped>\n    .dataframe tbody tr th:only-of-type {\n        vertical-align: middle;\n    }\n\n    .dataframe tbody tr th {\n        vertical-align: top;\n    }\n\n    .dataframe thead tr th {\n        text-align: left;\n    }\n\n    .dataframe thead tr:last-of-type th {\n        text-align: right;\n    }\n</style>\n<table border=\"1\" class=\"dataframe\">\n  <thead>\n    <tr>\n      <th></th>\n      <th></th>\n      <th colspan=\"3\" halign=\"left\">price</th>\n    </tr>\n    <tr>\n      <th></th>\n      <th></th>\n      <th>mean</th>\n      <th>min</th>\n      <th>max</th>\n    </tr>\n    <tr>\n      <th>neighbourhood</th>\n      <th>room_type</th>\n      <th></th>\n      <th></th>\n      <th></th>\n    </tr>\n  </thead>\n  <tbody>\n    <tr>\n      <th rowspan=\"3\" valign=\"top\">Ancoats and Clayton</th>\n      <th>Entire home/apt</th>\n      <td>209.711409</td>\n      <td>48</td>\n      <td>3009</td>\n    </tr>\n    <tr>\n      <th>Hotel room</th>\n      <td>206.000000</td>\n      <td>206</td>\n      <td>206</td>\n    </tr>\n    <tr>\n      <th>Private room</th>\n      <td>217.541667</td>\n      <td>27</td>\n      <td>1570</td>\n    </tr>\n    <tr>\n      <th rowspan=\"2\" valign=\"top\">Ardwick</th>\n      <th>Entire home/apt</th>\n      <td>216.627451</td>\n      <td>50</td>\n      <td>686</td>\n    </tr>\n    <tr>\n      <th>Private room</th>\n      <td>418.807692</td>\n      <td>25</td>\n      <td>1763</td>\n    </tr>\n    <tr>\n      <th>...</th>\n      <th>...</th>\n      <td>...</td>\n      <td>...</td>\n      <td>...</td>\n    </tr>\n    <tr>\n      <th rowspan=\"3\" valign=\"top\">Withington</th>\n      <th>Entire home/apt</th>\n      <td>204.241379</td>\n      <td>54</td>\n      <td>700</td>\n    </tr>\n    <tr>\n      <th>Private room</th>\n      <td>61.000000</td>\n      <td>34</td>\n      <td>101</td>\n    </tr>\n    <tr>\n      <th>Shared room</th>\n      <td>49.000000</td>\n      <td>49</td>\n      <td>49</td>\n    </tr>\n    <tr>\n      <th rowspan=\"2\" valign=\"top\">Woodhouse Park</th>\n      <th>Entire home/apt</th>\n      <td>115.444444</td>\n      <td>90</td>\n      <td>175</td>\n    </tr>\n    <tr>\n      <th>Private room</th>\n      <td>183.538462</td>\n      <td>30</td>\n      <td>1657</td>\n    </tr>\n  </tbody>\n</table>\n<p>97 rows × 3 columns</p>\n</div>"
     },
     "execution_count": 34,
     "metadata": {},
     "output_type": "execute_result"
    }
   ],
   "source": [
    "group = df_listing_subset.groupby(['neighbourhood','room_type']).agg({'price':[np.mean,min,max]})\n",
    "group"
   ],
   "metadata": {
    "collapsed": false,
    "pycharm": {
     "name": "#%%\n"
    }
   }
  },
  {
   "cell_type": "code",
   "execution_count": null,
   "outputs": [],
   "source": [],
   "metadata": {
    "collapsed": false,
    "pycharm": {
     "name": "#%%\n"
    }
   }
  },
  {
   "cell_type": "code",
   "execution_count": null,
   "outputs": [],
   "source": [],
   "metadata": {
    "collapsed": false,
    "pycharm": {
     "name": "#%%\n"
    }
   }
  },
  {
   "cell_type": "code",
   "execution_count": null,
   "outputs": [],
   "source": [],
   "metadata": {
    "collapsed": false,
    "pycharm": {
     "name": "#%%\n"
    }
   }
  },
  {
   "cell_type": "code",
   "execution_count": 46,
   "outputs": [
    {
     "data": {
      "text/plain": "   listing_id        date available   price adjusted_price  minimum_nights  \\\n0      157612  2022-12-27         f  $42.00         $42.00               2   \n1      157612  2022-12-28         f  $42.00         $42.00               2   \n2      157612  2022-12-29         f  $42.00         $42.00               2   \n3      157612  2022-12-30         f  $45.00         $45.00               2   \n4      157612  2022-12-31         f  $45.00         $45.00               2   \n\n   maximum_nights  \n0             365  \n1             365  \n2             365  \n3             365  \n4             365  ",
      "text/html": "<div>\n<style scoped>\n    .dataframe tbody tr th:only-of-type {\n        vertical-align: middle;\n    }\n\n    .dataframe tbody tr th {\n        vertical-align: top;\n    }\n\n    .dataframe thead th {\n        text-align: right;\n    }\n</style>\n<table border=\"1\" class=\"dataframe\">\n  <thead>\n    <tr style=\"text-align: right;\">\n      <th></th>\n      <th>listing_id</th>\n      <th>date</th>\n      <th>available</th>\n      <th>price</th>\n      <th>adjusted_price</th>\n      <th>minimum_nights</th>\n      <th>maximum_nights</th>\n    </tr>\n  </thead>\n  <tbody>\n    <tr>\n      <th>0</th>\n      <td>157612</td>\n      <td>2022-12-27</td>\n      <td>f</td>\n      <td>$42.00</td>\n      <td>$42.00</td>\n      <td>2</td>\n      <td>365</td>\n    </tr>\n    <tr>\n      <th>1</th>\n      <td>157612</td>\n      <td>2022-12-28</td>\n      <td>f</td>\n      <td>$42.00</td>\n      <td>$42.00</td>\n      <td>2</td>\n      <td>365</td>\n    </tr>\n    <tr>\n      <th>2</th>\n      <td>157612</td>\n      <td>2022-12-29</td>\n      <td>f</td>\n      <td>$42.00</td>\n      <td>$42.00</td>\n      <td>2</td>\n      <td>365</td>\n    </tr>\n    <tr>\n      <th>3</th>\n      <td>157612</td>\n      <td>2022-12-30</td>\n      <td>f</td>\n      <td>$45.00</td>\n      <td>$45.00</td>\n      <td>2</td>\n      <td>365</td>\n    </tr>\n    <tr>\n      <th>4</th>\n      <td>157612</td>\n      <td>2022-12-31</td>\n      <td>f</td>\n      <td>$45.00</td>\n      <td>$45.00</td>\n      <td>2</td>\n      <td>365</td>\n    </tr>\n  </tbody>\n</table>\n</div>"
     },
     "execution_count": 46,
     "metadata": {},
     "output_type": "execute_result"
    }
   ],
   "source": [
    "df_calendar = pd.read_csv(\"calendar.csv\")\n",
    "df_calendar.head()"
   ],
   "metadata": {
    "collapsed": false,
    "pycharm": {
     "name": "#%%\n"
    }
   }
  },
  {
   "cell_type": "code",
   "execution_count": 47,
   "outputs": [
    {
     "data": {
      "text/plain": "        id                           listing_url       scrape_id last_scraped  \\\n0   157612   https://www.airbnb.com/rooms/157612  20221227164051   2022-12-27   \n1  6172921  https://www.airbnb.com/rooms/6172921  20221227164051   2022-12-27   \n2   283495   https://www.airbnb.com/rooms/283495  20221227164051   2022-12-27   \n3  6191116  https://www.airbnb.com/rooms/6191116  20221227164051   2022-12-27   \n4  6330967  https://www.airbnb.com/rooms/6330967  20221227164051   2022-12-27   \n\n            source                                               name  \\\n0      city scrape                 New attic space/single & Dble room   \n1  previous scrape  Beautiful big rm convenient Uni, City and Chri...   \n2      city scrape                    En-suite room in detached house   \n3      city scrape  Pet Friendly Studio for 1 or 2 in Sale. Manche...   \n4      city scrape       Room with a view, very handy for MAN Airport   \n\n                                         description  \\\n0  The loft space is a small but cosy, private an...   \n1  Bedroom with adjacent bathroom in a family hom...   \n2  <b>The space</b><br />Double bedroom with King...   \n3  Our Executive Studios are perfect for 1 or 2 p...   \n4  Large double bedroom with dressing room in 3 b...   \n\n                               neighborhood_overview  \\\n0  There is a public park within easy walking dis...   \n1  Didsbury and West Didsbury are attractive and ...   \n2  The suburbaness of it all but 2 minutes from t...   \n3  We love our neighbourhood because it's quiet &...   \n4  Well served by shops and restaurants within ea...   \n\n                                         picture_url   host_id  ...  \\\n0  https://a0.muscache.com/pictures/18150828/c288...    757016  ...   \n1  https://a0.muscache.com/pictures/1f8319f0-0858...  32026858  ...   \n2  https://a0.muscache.com/pictures/78775473/2d8f...   1476718  ...   \n3  https://a0.muscache.com/pictures/0333751a-db5a...  17136758  ...   \n4  https://a0.muscache.com/pictures/3fc9c337-f95d...  32954691  ...   \n\n  review_scores_communication review_scores_location review_scores_value  \\\n0                        4.94                   4.66                4.91   \n1                        4.98                   4.90                4.93   \n2                        5.00                   4.80                5.00   \n3                        4.88                   4.91                4.64   \n4                        4.33                   4.67                4.33   \n\n  license instant_bookable calculated_host_listings_count  \\\n0     NaN                f                              1   \n1     NaN                f                              1   \n2     NaN                f                              1   \n3     NaN                f                             10   \n4     NaN                f                              3   \n\n  calculated_host_listings_count_entire_homes  \\\n0                                           1   \n1                                           0   \n2                                           0   \n3                                          10   \n4                                           1   \n\n  calculated_host_listings_count_private_rooms  \\\n0                                            0   \n1                                            1   \n2                                            1   \n3                                            0   \n4                                            2   \n\n  calculated_host_listings_count_shared_rooms reviews_per_month  \n0                                           0              0.90  \n1                                           0              3.10  \n2                                           0              0.11  \n3                                           0              0.77  \n4                                           0              0.03  \n\n[5 rows x 75 columns]",
      "text/html": "<div>\n<style scoped>\n    .dataframe tbody tr th:only-of-type {\n        vertical-align: middle;\n    }\n\n    .dataframe tbody tr th {\n        vertical-align: top;\n    }\n\n    .dataframe thead th {\n        text-align: right;\n    }\n</style>\n<table border=\"1\" class=\"dataframe\">\n  <thead>\n    <tr style=\"text-align: right;\">\n      <th></th>\n      <th>id</th>\n      <th>listing_url</th>\n      <th>scrape_id</th>\n      <th>last_scraped</th>\n      <th>source</th>\n      <th>name</th>\n      <th>description</th>\n      <th>neighborhood_overview</th>\n      <th>picture_url</th>\n      <th>host_id</th>\n      <th>...</th>\n      <th>review_scores_communication</th>\n      <th>review_scores_location</th>\n      <th>review_scores_value</th>\n      <th>license</th>\n      <th>instant_bookable</th>\n      <th>calculated_host_listings_count</th>\n      <th>calculated_host_listings_count_entire_homes</th>\n      <th>calculated_host_listings_count_private_rooms</th>\n      <th>calculated_host_listings_count_shared_rooms</th>\n      <th>reviews_per_month</th>\n    </tr>\n  </thead>\n  <tbody>\n    <tr>\n      <th>0</th>\n      <td>157612</td>\n      <td>https://www.airbnb.com/rooms/157612</td>\n      <td>20221227164051</td>\n      <td>2022-12-27</td>\n      <td>city scrape</td>\n      <td>New attic space/single &amp; Dble room</td>\n      <td>The loft space is a small but cosy, private an...</td>\n      <td>There is a public park within easy walking dis...</td>\n      <td>https://a0.muscache.com/pictures/18150828/c288...</td>\n      <td>757016</td>\n      <td>...</td>\n      <td>4.94</td>\n      <td>4.66</td>\n      <td>4.91</td>\n      <td>NaN</td>\n      <td>f</td>\n      <td>1</td>\n      <td>1</td>\n      <td>0</td>\n      <td>0</td>\n      <td>0.90</td>\n    </tr>\n    <tr>\n      <th>1</th>\n      <td>6172921</td>\n      <td>https://www.airbnb.com/rooms/6172921</td>\n      <td>20221227164051</td>\n      <td>2022-12-27</td>\n      <td>previous scrape</td>\n      <td>Beautiful big rm convenient Uni, City and Chri...</td>\n      <td>Bedroom with adjacent bathroom in a family hom...</td>\n      <td>Didsbury and West Didsbury are attractive and ...</td>\n      <td>https://a0.muscache.com/pictures/1f8319f0-0858...</td>\n      <td>32026858</td>\n      <td>...</td>\n      <td>4.98</td>\n      <td>4.90</td>\n      <td>4.93</td>\n      <td>NaN</td>\n      <td>f</td>\n      <td>1</td>\n      <td>0</td>\n      <td>1</td>\n      <td>0</td>\n      <td>3.10</td>\n    </tr>\n    <tr>\n      <th>2</th>\n      <td>283495</td>\n      <td>https://www.airbnb.com/rooms/283495</td>\n      <td>20221227164051</td>\n      <td>2022-12-27</td>\n      <td>city scrape</td>\n      <td>En-suite room in detached house</td>\n      <td>&lt;b&gt;The space&lt;/b&gt;&lt;br /&gt;Double bedroom with King...</td>\n      <td>The suburbaness of it all but 2 minutes from t...</td>\n      <td>https://a0.muscache.com/pictures/78775473/2d8f...</td>\n      <td>1476718</td>\n      <td>...</td>\n      <td>5.00</td>\n      <td>4.80</td>\n      <td>5.00</td>\n      <td>NaN</td>\n      <td>f</td>\n      <td>1</td>\n      <td>0</td>\n      <td>1</td>\n      <td>0</td>\n      <td>0.11</td>\n    </tr>\n    <tr>\n      <th>3</th>\n      <td>6191116</td>\n      <td>https://www.airbnb.com/rooms/6191116</td>\n      <td>20221227164051</td>\n      <td>2022-12-27</td>\n      <td>city scrape</td>\n      <td>Pet Friendly Studio for 1 or 2 in Sale. Manche...</td>\n      <td>Our Executive Studios are perfect for 1 or 2 p...</td>\n      <td>We love our neighbourhood because it's quiet &amp;...</td>\n      <td>https://a0.muscache.com/pictures/0333751a-db5a...</td>\n      <td>17136758</td>\n      <td>...</td>\n      <td>4.88</td>\n      <td>4.91</td>\n      <td>4.64</td>\n      <td>NaN</td>\n      <td>f</td>\n      <td>10</td>\n      <td>10</td>\n      <td>0</td>\n      <td>0</td>\n      <td>0.77</td>\n    </tr>\n    <tr>\n      <th>4</th>\n      <td>6330967</td>\n      <td>https://www.airbnb.com/rooms/6330967</td>\n      <td>20221227164051</td>\n      <td>2022-12-27</td>\n      <td>city scrape</td>\n      <td>Room with a view, very handy for MAN Airport</td>\n      <td>Large double bedroom with dressing room in 3 b...</td>\n      <td>Well served by shops and restaurants within ea...</td>\n      <td>https://a0.muscache.com/pictures/3fc9c337-f95d...</td>\n      <td>32954691</td>\n      <td>...</td>\n      <td>4.33</td>\n      <td>4.67</td>\n      <td>4.33</td>\n      <td>NaN</td>\n      <td>f</td>\n      <td>3</td>\n      <td>1</td>\n      <td>2</td>\n      <td>0</td>\n      <td>0.03</td>\n    </tr>\n  </tbody>\n</table>\n<p>5 rows × 75 columns</p>\n</div>"
     },
     "execution_count": 47,
     "metadata": {},
     "output_type": "execute_result"
    }
   ],
   "source": [
    "df_listing_full = pd.read_csv(\"listings_full.csv\")\n",
    "df_listing_full.head()"
   ],
   "metadata": {
    "collapsed": false,
    "pycharm": {
     "name": "#%%\n"
    }
   }
  },
  {
   "cell_type": "code",
   "execution_count": 48,
   "outputs": [
    {
     "name": "stdout",
     "output_type": "stream",
     "text": [
      "<class 'pandas.core.frame.DataFrame'>\n",
      "RangeIndex: 4595 entries, 0 to 4594\n",
      "Data columns (total 75 columns):\n",
      " #   Column                                        Non-Null Count  Dtype  \n",
      "---  ------                                        --------------  -----  \n",
      " 0   id                                            4595 non-null   int64  \n",
      " 1   listing_url                                   4595 non-null   object \n",
      " 2   scrape_id                                     4595 non-null   int64  \n",
      " 3   last_scraped                                  4595 non-null   object \n",
      " 4   source                                        4595 non-null   object \n",
      " 5   name                                          4595 non-null   object \n",
      " 6   description                                   4508 non-null   object \n",
      " 7   neighborhood_overview                         2519 non-null   object \n",
      " 8   picture_url                                   4595 non-null   object \n",
      " 9   host_id                                       4595 non-null   int64  \n",
      " 10  host_url                                      4595 non-null   object \n",
      " 11  host_name                                     4595 non-null   object \n",
      " 12  host_since                                    4595 non-null   object \n",
      " 13  host_location                                 3562 non-null   object \n",
      " 14  host_about                                    2472 non-null   object \n",
      " 15  host_response_time                            4119 non-null   object \n",
      " 16  host_response_rate                            4119 non-null   object \n",
      " 17  host_acceptance_rate                          4311 non-null   object \n",
      " 18  host_is_superhost                             4595 non-null   object \n",
      " 19  host_thumbnail_url                            4595 non-null   object \n",
      " 20  host_picture_url                              4595 non-null   object \n",
      " 21  host_neighbourhood                            339 non-null    object \n",
      " 22  host_listings_count                           4595 non-null   int64  \n",
      " 23  host_total_listings_count                     4595 non-null   int64  \n",
      " 24  host_verifications                            4595 non-null   object \n",
      " 25  host_has_profile_pic                          4595 non-null   object \n",
      " 26  host_identity_verified                        4595 non-null   object \n",
      " 27  neighbourhood                                 2519 non-null   object \n",
      " 28  neighbourhood_cleansed                        4595 non-null   object \n",
      " 29  neighbourhood_group_cleansed                  4595 non-null   object \n",
      " 30  latitude                                      4595 non-null   float64\n",
      " 31  longitude                                     4595 non-null   float64\n",
      " 32  property_type                                 4595 non-null   object \n",
      " 33  room_type                                     4595 non-null   object \n",
      " 34  accommodates                                  4595 non-null   int64  \n",
      " 35  bathrooms                                     0 non-null      float64\n",
      " 36  bathrooms_text                                4585 non-null   object \n",
      " 37  bedrooms                                      4461 non-null   float64\n",
      " 38  beds                                          4542 non-null   float64\n",
      " 39  amenities                                     4595 non-null   object \n",
      " 40  price                                         4595 non-null   object \n",
      " 41  minimum_nights                                4595 non-null   int64  \n",
      " 42  maximum_nights                                4595 non-null   int64  \n",
      " 43  minimum_minimum_nights                        4595 non-null   int64  \n",
      " 44  maximum_minimum_nights                        4595 non-null   int64  \n",
      " 45  minimum_maximum_nights                        4595 non-null   int64  \n",
      " 46  maximum_maximum_nights                        4595 non-null   int64  \n",
      " 47  minimum_nights_avg_ntm                        4595 non-null   float64\n",
      " 48  maximum_nights_avg_ntm                        4595 non-null   float64\n",
      " 49  calendar_updated                              0 non-null      float64\n",
      " 50  has_availability                              4595 non-null   object \n",
      " 51  availability_30                               4595 non-null   int64  \n",
      " 52  availability_60                               4595 non-null   int64  \n",
      " 53  availability_90                               4595 non-null   int64  \n",
      " 54  availability_365                              4595 non-null   int64  \n",
      " 55  calendar_last_scraped                         4595 non-null   object \n",
      " 56  number_of_reviews                             4595 non-null   int64  \n",
      " 57  number_of_reviews_ltm                         4595 non-null   int64  \n",
      " 58  number_of_reviews_l30d                        4595 non-null   int64  \n",
      " 59  first_review                                  3796 non-null   object \n",
      " 60  last_review                                   3796 non-null   object \n",
      " 61  review_scores_rating                          3796 non-null   float64\n",
      " 62  review_scores_accuracy                        3786 non-null   float64\n",
      " 63  review_scores_cleanliness                     3787 non-null   float64\n",
      " 64  review_scores_checkin                         3787 non-null   float64\n",
      " 65  review_scores_communication                   3787 non-null   float64\n",
      " 66  review_scores_location                        3787 non-null   float64\n",
      " 67  review_scores_value                           3787 non-null   float64\n",
      " 68  license                                       0 non-null      float64\n",
      " 69  instant_bookable                              4595 non-null   object \n",
      " 70  calculated_host_listings_count                4595 non-null   int64  \n",
      " 71  calculated_host_listings_count_entire_homes   4595 non-null   int64  \n",
      " 72  calculated_host_listings_count_private_rooms  4595 non-null   int64  \n",
      " 73  calculated_host_listings_count_shared_rooms   4595 non-null   int64  \n",
      " 74  reviews_per_month                             3796 non-null   float64\n",
      "dtypes: float64(17), int64(23), object(35)\n",
      "memory usage: 2.6+ MB\n"
     ]
    }
   ],
   "source": [
    "df_listing_full.info()"
   ],
   "metadata": {
    "collapsed": false,
    "pycharm": {
     "name": "#%%\n"
    }
   }
  },
  {
   "cell_type": "code",
   "execution_count": 57,
   "outputs": [],
   "source": [
    "num_vars = df_listing_full.columns[df_listing_full.dtypes != 'object']\n",
    "cat_vars = df_listing_full.columns[df_listing_full.dtypes == 'object']"
   ],
   "metadata": {
    "collapsed": false,
    "pycharm": {
     "name": "#%%\n"
    }
   }
  },
  {
   "cell_type": "code",
   "execution_count": 66,
   "outputs": [
    {
     "data": {
      "text/plain": "id                                              0.0\navailability_60                                 0.0\navailability_365                                0.0\nnumber_of_reviews                               0.0\nnumber_of_reviews_ltm                           0.0\nnumber_of_reviews_l30d                          0.0\nreview_scores_rating                            0.0\nreview_scores_accuracy                          0.0\nreview_scores_cleanliness                       0.0\nreview_scores_checkin                           0.0\nreview_scores_communication                     0.0\nreview_scores_location                          0.0\nreview_scores_value                             0.0\ncalculated_host_listings_count                  0.0\ncalculated_host_listings_count_entire_homes     0.0\ncalculated_host_listings_count_private_rooms    0.0\ncalculated_host_listings_count_shared_rooms     0.0\navailability_90                                 0.0\navailability_30                                 0.0\nscrape_id                                       0.0\nmaximum_nights_avg_ntm                          0.0\nhost_id                                         0.0\nhost_listings_count                             0.0\nhost_total_listings_count                       0.0\nlatitude                                        0.0\nlongitude                                       0.0\naccommodates                                    0.0\nbedrooms                                        0.0\nbeds                                            0.0\nminimum_nights                                  0.0\nmaximum_nights                                  0.0\nminimum_minimum_nights                          0.0\nmaximum_minimum_nights                          0.0\nminimum_maximum_nights                          0.0\nmaximum_maximum_nights                          0.0\nminimum_nights_avg_ntm                          0.0\nreviews_per_month                               0.0\ndtype: float64"
     },
     "execution_count": 66,
     "metadata": {},
     "output_type": "execute_result"
    }
   ],
   "source": [
    "df_listing_full[num_vars].isnull().sum().sort_values(ascending=False)/len(df_listing_full)"
   ],
   "metadata": {
    "collapsed": false,
    "pycharm": {
     "name": "#%%\n"
    }
   }
  },
  {
   "cell_type": "code",
   "execution_count": 68,
   "outputs": [
    {
     "data": {
      "text/plain": "last_review                     0.173885\nfirst_review                    0.173885\nhost_response_time              0.103591\nhost_response_rate              0.103591\nhost_acceptance_rate            0.061806\ndescription                     0.018934\nbathrooms_text                  0.002176\nlisting_url                     0.000000\nneighbourhood_group_cleansed    0.000000\nproperty_type                   0.000000\nroom_type                       0.000000\namenities                       0.000000\nhost_identity_verified          0.000000\nprice                           0.000000\nhas_availability                0.000000\ncalendar_last_scraped           0.000000\nneighbourhood_cleansed          0.000000\nhost_verifications              0.000000\nhost_has_profile_pic            0.000000\nlast_scraped                    0.000000\nhost_picture_url                0.000000\nhost_thumbnail_url              0.000000\nhost_is_superhost               0.000000\nhost_since                      0.000000\nhost_name                       0.000000\nhost_url                        0.000000\npicture_url                     0.000000\nname                            0.000000\nsource                          0.000000\ninstant_bookable                0.000000\ndtype: float64"
     },
     "execution_count": 68,
     "metadata": {},
     "output_type": "execute_result"
    }
   ],
   "source": [
    "df_listing_full[cat_vars].isnull().sum().sort_values(ascending=False)/len(df_listing_full)"
   ],
   "metadata": {
    "collapsed": false,
    "pycharm": {
     "name": "#%%\n"
    }
   }
  },
  {
   "cell_type": "code",
   "execution_count": 55,
   "outputs": [],
   "source": [
    "df_listing_full = df_listing_full.drop(columns=['calendar_updated','license','bathrooms',\n",
    "                              'host_neighbourhood','host_about','neighborhood_overview',\n",
    "                              'neighbourhood','host_location'],axis=1)"
   ],
   "metadata": {
    "collapsed": false,
    "pycharm": {
     "name": "#%%\n"
    }
   }
  },
  {
   "cell_type": "code",
   "execution_count": 56,
   "outputs": [
    {
     "data": {
      "text/plain": "        id                           listing_url       scrape_id last_scraped  \\\n0   157612   https://www.airbnb.com/rooms/157612  20221227164051   2022-12-27   \n1  6172921  https://www.airbnb.com/rooms/6172921  20221227164051   2022-12-27   \n2   283495   https://www.airbnb.com/rooms/283495  20221227164051   2022-12-27   \n3  6191116  https://www.airbnb.com/rooms/6191116  20221227164051   2022-12-27   \n4  6330967  https://www.airbnb.com/rooms/6330967  20221227164051   2022-12-27   \n\n            source                                               name  \\\n0      city scrape                 New attic space/single & Dble room   \n1  previous scrape  Beautiful big rm convenient Uni, City and Chri...   \n2      city scrape                    En-suite room in detached house   \n3      city scrape  Pet Friendly Studio for 1 or 2 in Sale. Manche...   \n4      city scrape       Room with a view, very handy for MAN Airport   \n\n                                         description  \\\n0  The loft space is a small but cosy, private an...   \n1  Bedroom with adjacent bathroom in a family hom...   \n2  <b>The space</b><br />Double bedroom with King...   \n3  Our Executive Studios are perfect for 1 or 2 p...   \n4  Large double bedroom with dressing room in 3 b...   \n\n                                         picture_url   host_id  \\\n0  https://a0.muscache.com/pictures/18150828/c288...    757016   \n1  https://a0.muscache.com/pictures/1f8319f0-0858...  32026858   \n2  https://a0.muscache.com/pictures/78775473/2d8f...   1476718   \n3  https://a0.muscache.com/pictures/0333751a-db5a...  17136758   \n4  https://a0.muscache.com/pictures/3fc9c337-f95d...  32954691   \n\n                                     host_url  ... review_scores_checkin  \\\n0    https://www.airbnb.com/users/show/757016  ...                  4.98   \n1  https://www.airbnb.com/users/show/32026858  ...                  4.97   \n2   https://www.airbnb.com/users/show/1476718  ...                  5.00   \n3  https://www.airbnb.com/users/show/17136758  ...                  4.93   \n4  https://www.airbnb.com/users/show/32954691  ...                  5.00   \n\n  review_scores_communication review_scores_location review_scores_value  \\\n0                        4.94                   4.66                4.91   \n1                        4.98                   4.90                4.93   \n2                        5.00                   4.80                5.00   \n3                        4.88                   4.91                4.64   \n4                        4.33                   4.67                4.33   \n\n  instant_bookable calculated_host_listings_count  \\\n0                f                              1   \n1                f                              1   \n2                f                              1   \n3                f                             10   \n4                f                              3   \n\n  calculated_host_listings_count_entire_homes  \\\n0                                           1   \n1                                           0   \n2                                           0   \n3                                          10   \n4                                           1   \n\n  calculated_host_listings_count_private_rooms  \\\n0                                            0   \n1                                            1   \n2                                            1   \n3                                            0   \n4                                            2   \n\n   calculated_host_listings_count_shared_rooms  reviews_per_month  \n0                                            0               0.90  \n1                                            0               3.10  \n2                                            0               0.11  \n3                                            0               0.77  \n4                                            0               0.03  \n\n[5 rows x 67 columns]",
      "text/html": "<div>\n<style scoped>\n    .dataframe tbody tr th:only-of-type {\n        vertical-align: middle;\n    }\n\n    .dataframe tbody tr th {\n        vertical-align: top;\n    }\n\n    .dataframe thead th {\n        text-align: right;\n    }\n</style>\n<table border=\"1\" class=\"dataframe\">\n  <thead>\n    <tr style=\"text-align: right;\">\n      <th></th>\n      <th>id</th>\n      <th>listing_url</th>\n      <th>scrape_id</th>\n      <th>last_scraped</th>\n      <th>source</th>\n      <th>name</th>\n      <th>description</th>\n      <th>picture_url</th>\n      <th>host_id</th>\n      <th>host_url</th>\n      <th>...</th>\n      <th>review_scores_checkin</th>\n      <th>review_scores_communication</th>\n      <th>review_scores_location</th>\n      <th>review_scores_value</th>\n      <th>instant_bookable</th>\n      <th>calculated_host_listings_count</th>\n      <th>calculated_host_listings_count_entire_homes</th>\n      <th>calculated_host_listings_count_private_rooms</th>\n      <th>calculated_host_listings_count_shared_rooms</th>\n      <th>reviews_per_month</th>\n    </tr>\n  </thead>\n  <tbody>\n    <tr>\n      <th>0</th>\n      <td>157612</td>\n      <td>https://www.airbnb.com/rooms/157612</td>\n      <td>20221227164051</td>\n      <td>2022-12-27</td>\n      <td>city scrape</td>\n      <td>New attic space/single &amp; Dble room</td>\n      <td>The loft space is a small but cosy, private an...</td>\n      <td>https://a0.muscache.com/pictures/18150828/c288...</td>\n      <td>757016</td>\n      <td>https://www.airbnb.com/users/show/757016</td>\n      <td>...</td>\n      <td>4.98</td>\n      <td>4.94</td>\n      <td>4.66</td>\n      <td>4.91</td>\n      <td>f</td>\n      <td>1</td>\n      <td>1</td>\n      <td>0</td>\n      <td>0</td>\n      <td>0.90</td>\n    </tr>\n    <tr>\n      <th>1</th>\n      <td>6172921</td>\n      <td>https://www.airbnb.com/rooms/6172921</td>\n      <td>20221227164051</td>\n      <td>2022-12-27</td>\n      <td>previous scrape</td>\n      <td>Beautiful big rm convenient Uni, City and Chri...</td>\n      <td>Bedroom with adjacent bathroom in a family hom...</td>\n      <td>https://a0.muscache.com/pictures/1f8319f0-0858...</td>\n      <td>32026858</td>\n      <td>https://www.airbnb.com/users/show/32026858</td>\n      <td>...</td>\n      <td>4.97</td>\n      <td>4.98</td>\n      <td>4.90</td>\n      <td>4.93</td>\n      <td>f</td>\n      <td>1</td>\n      <td>0</td>\n      <td>1</td>\n      <td>0</td>\n      <td>3.10</td>\n    </tr>\n    <tr>\n      <th>2</th>\n      <td>283495</td>\n      <td>https://www.airbnb.com/rooms/283495</td>\n      <td>20221227164051</td>\n      <td>2022-12-27</td>\n      <td>city scrape</td>\n      <td>En-suite room in detached house</td>\n      <td>&lt;b&gt;The space&lt;/b&gt;&lt;br /&gt;Double bedroom with King...</td>\n      <td>https://a0.muscache.com/pictures/78775473/2d8f...</td>\n      <td>1476718</td>\n      <td>https://www.airbnb.com/users/show/1476718</td>\n      <td>...</td>\n      <td>5.00</td>\n      <td>5.00</td>\n      <td>4.80</td>\n      <td>5.00</td>\n      <td>f</td>\n      <td>1</td>\n      <td>0</td>\n      <td>1</td>\n      <td>0</td>\n      <td>0.11</td>\n    </tr>\n    <tr>\n      <th>3</th>\n      <td>6191116</td>\n      <td>https://www.airbnb.com/rooms/6191116</td>\n      <td>20221227164051</td>\n      <td>2022-12-27</td>\n      <td>city scrape</td>\n      <td>Pet Friendly Studio for 1 or 2 in Sale. Manche...</td>\n      <td>Our Executive Studios are perfect for 1 or 2 p...</td>\n      <td>https://a0.muscache.com/pictures/0333751a-db5a...</td>\n      <td>17136758</td>\n      <td>https://www.airbnb.com/users/show/17136758</td>\n      <td>...</td>\n      <td>4.93</td>\n      <td>4.88</td>\n      <td>4.91</td>\n      <td>4.64</td>\n      <td>f</td>\n      <td>10</td>\n      <td>10</td>\n      <td>0</td>\n      <td>0</td>\n      <td>0.77</td>\n    </tr>\n    <tr>\n      <th>4</th>\n      <td>6330967</td>\n      <td>https://www.airbnb.com/rooms/6330967</td>\n      <td>20221227164051</td>\n      <td>2022-12-27</td>\n      <td>city scrape</td>\n      <td>Room with a view, very handy for MAN Airport</td>\n      <td>Large double bedroom with dressing room in 3 b...</td>\n      <td>https://a0.muscache.com/pictures/3fc9c337-f95d...</td>\n      <td>32954691</td>\n      <td>https://www.airbnb.com/users/show/32954691</td>\n      <td>...</td>\n      <td>5.00</td>\n      <td>4.33</td>\n      <td>4.67</td>\n      <td>4.33</td>\n      <td>f</td>\n      <td>3</td>\n      <td>1</td>\n      <td>2</td>\n      <td>0</td>\n      <td>0.03</td>\n    </tr>\n  </tbody>\n</table>\n<p>5 rows × 67 columns</p>\n</div>"
     },
     "execution_count": 56,
     "metadata": {},
     "output_type": "execute_result"
    }
   ],
   "source": [
    "df_listing_full.head()"
   ],
   "metadata": {
    "collapsed": false,
    "pycharm": {
     "name": "#%%\n"
    }
   }
  },
  {
   "cell_type": "code",
   "execution_count": 64,
   "outputs": [],
   "source": [
    "fill_mean = lambda col: col.fillna(col.mean())\n",
    "fill_mode = lambda col: col.fillna(col.mode())"
   ],
   "metadata": {
    "collapsed": false,
    "pycharm": {
     "name": "#%%\n"
    }
   }
  },
  {
   "cell_type": "code",
   "execution_count": 65,
   "outputs": [],
   "source": [
    "df_listing_full[num_vars] = df_listing_full[num_vars].apply(fill_mean)\n",
    "df_listing_full[cat_vars] = df_listing_full[cat_vars].apply(fill_mode)"
   ],
   "metadata": {
    "collapsed": false,
    "pycharm": {
     "name": "#%%\n"
    }
   }
  }
 ],
 "metadata": {
  "kernelspec": {
   "display_name": "Python 3 (ipykernel)",
   "language": "python",
   "name": "python3"
  },
  "language_info": {
   "codemirror_mode": {
    "name": "ipython",
    "version": 3
   },
   "file_extension": ".py",
   "mimetype": "text/x-python",
   "name": "python",
   "nbconvert_exporter": "python",
   "pygments_lexer": "ipython3",
   "version": "3.9.9"
  }
 },
 "nbformat": 4,
 "nbformat_minor": 5
}