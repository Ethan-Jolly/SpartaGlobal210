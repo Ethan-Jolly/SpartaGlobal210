{
 "cells": [
  {
   "cell_type": "code",
   "execution_count": 1,
   "metadata": {
    "collapsed": true
   },
   "outputs": [],
   "source": [
    "import pandas as pd\n",
    "import numpy as np"
   ]
  },
  {
   "cell_type": "code",
   "execution_count": 3,
   "outputs": [
    {
     "data": {
      "text/plain": "   Unnamed: 0      country  year  population      cont  life_exp       gdp_cap\n0          11  Afghanistan  2007  31889923.0      Asia    43.828    974.580338\n1          23      Albania  2007   3600523.0    Europe    76.423   5937.029526\n2          35      Algeria  2007  33333216.0    Africa    72.301   6223.367465\n3          47       Angola  2007  12420476.0    Africa    42.731   4797.231267\n4          59    Argentina  2007  40301927.0  Americas    75.320  12779.379640\n5          71    Australia  2007  20434176.0   Oceania    81.235  34435.367440",
      "text/html": "<div>\n<style scoped>\n    .dataframe tbody tr th:only-of-type {\n        vertical-align: middle;\n    }\n\n    .dataframe tbody tr th {\n        vertical-align: top;\n    }\n\n    .dataframe thead th {\n        text-align: right;\n    }\n</style>\n<table border=\"1\" class=\"dataframe\">\n  <thead>\n    <tr style=\"text-align: right;\">\n      <th></th>\n      <th>Unnamed: 0</th>\n      <th>country</th>\n      <th>year</th>\n      <th>population</th>\n      <th>cont</th>\n      <th>life_exp</th>\n      <th>gdp_cap</th>\n    </tr>\n  </thead>\n  <tbody>\n    <tr>\n      <th>0</th>\n      <td>11</td>\n      <td>Afghanistan</td>\n      <td>2007</td>\n      <td>31889923.0</td>\n      <td>Asia</td>\n      <td>43.828</td>\n      <td>974.580338</td>\n    </tr>\n    <tr>\n      <th>1</th>\n      <td>23</td>\n      <td>Albania</td>\n      <td>2007</td>\n      <td>3600523.0</td>\n      <td>Europe</td>\n      <td>76.423</td>\n      <td>5937.029526</td>\n    </tr>\n    <tr>\n      <th>2</th>\n      <td>35</td>\n      <td>Algeria</td>\n      <td>2007</td>\n      <td>33333216.0</td>\n      <td>Africa</td>\n      <td>72.301</td>\n      <td>6223.367465</td>\n    </tr>\n    <tr>\n      <th>3</th>\n      <td>47</td>\n      <td>Angola</td>\n      <td>2007</td>\n      <td>12420476.0</td>\n      <td>Africa</td>\n      <td>42.731</td>\n      <td>4797.231267</td>\n    </tr>\n    <tr>\n      <th>4</th>\n      <td>59</td>\n      <td>Argentina</td>\n      <td>2007</td>\n      <td>40301927.0</td>\n      <td>Americas</td>\n      <td>75.320</td>\n      <td>12779.379640</td>\n    </tr>\n    <tr>\n      <th>5</th>\n      <td>71</td>\n      <td>Australia</td>\n      <td>2007</td>\n      <td>20434176.0</td>\n      <td>Oceania</td>\n      <td>81.235</td>\n      <td>34435.367440</td>\n    </tr>\n  </tbody>\n</table>\n</div>"
     },
     "execution_count": 3,
     "metadata": {},
     "output_type": "execute_result"
    }
   ],
   "source": [
    "df = pd.read_csv(\"gapminder.csv\")\n",
    "df.head(6)"
   ],
   "metadata": {
    "collapsed": false,
    "pycharm": {
     "name": "#%%\n"
    }
   }
  },
  {
   "cell_type": "code",
   "execution_count": 4,
   "outputs": [
    {
     "name": "stdout",
     "output_type": "stream",
     "text": [
      "<class 'pandas.core.frame.DataFrame'>\n",
      "RangeIndex: 142 entries, 0 to 141\n",
      "Data columns (total 7 columns):\n",
      " #   Column      Non-Null Count  Dtype  \n",
      "---  ------      --------------  -----  \n",
      " 0   Unnamed: 0  142 non-null    int64  \n",
      " 1   country     142 non-null    object \n",
      " 2   year        142 non-null    int64  \n",
      " 3   population  142 non-null    float64\n",
      " 4   cont        142 non-null    object \n",
      " 5   life_exp    142 non-null    float64\n",
      " 6   gdp_cap     142 non-null    float64\n",
      "dtypes: float64(3), int64(2), object(2)\n",
      "memory usage: 7.9+ KB\n"
     ]
    }
   ],
   "source": [
    "df.info()"
   ],
   "metadata": {
    "collapsed": false,
    "pycharm": {
     "name": "#%%\n"
    }
   }
  },
  {
   "cell_type": "code",
   "execution_count": 5,
   "outputs": [
    {
     "data": {
      "text/plain": "        Unnamed: 0    year    population    life_exp       gdp_cap\ncount   142.000000   142.0  1.420000e+02  142.000000    142.000000\nmean    857.000000  2007.0  4.402122e+07   67.007423  11680.071820\nstd     493.631441     0.0  1.476214e+08   12.073021  12859.937337\nmin      11.000000  2007.0  1.995790e+05   39.613000    277.551859\n25%     434.000000  2007.0  4.508034e+06   57.160250   1624.842248\n50%     857.000000  2007.0  1.051753e+07   71.935500   6124.371108\n75%    1280.000000  2007.0  3.121004e+07   76.413250  18008.835640\nmax    1703.000000  2007.0  1.318683e+09   82.603000  49357.190170",
      "text/html": "<div>\n<style scoped>\n    .dataframe tbody tr th:only-of-type {\n        vertical-align: middle;\n    }\n\n    .dataframe tbody tr th {\n        vertical-align: top;\n    }\n\n    .dataframe thead th {\n        text-align: right;\n    }\n</style>\n<table border=\"1\" class=\"dataframe\">\n  <thead>\n    <tr style=\"text-align: right;\">\n      <th></th>\n      <th>Unnamed: 0</th>\n      <th>year</th>\n      <th>population</th>\n      <th>life_exp</th>\n      <th>gdp_cap</th>\n    </tr>\n  </thead>\n  <tbody>\n    <tr>\n      <th>count</th>\n      <td>142.000000</td>\n      <td>142.0</td>\n      <td>1.420000e+02</td>\n      <td>142.000000</td>\n      <td>142.000000</td>\n    </tr>\n    <tr>\n      <th>mean</th>\n      <td>857.000000</td>\n      <td>2007.0</td>\n      <td>4.402122e+07</td>\n      <td>67.007423</td>\n      <td>11680.071820</td>\n    </tr>\n    <tr>\n      <th>std</th>\n      <td>493.631441</td>\n      <td>0.0</td>\n      <td>1.476214e+08</td>\n      <td>12.073021</td>\n      <td>12859.937337</td>\n    </tr>\n    <tr>\n      <th>min</th>\n      <td>11.000000</td>\n      <td>2007.0</td>\n      <td>1.995790e+05</td>\n      <td>39.613000</td>\n      <td>277.551859</td>\n    </tr>\n    <tr>\n      <th>25%</th>\n      <td>434.000000</td>\n      <td>2007.0</td>\n      <td>4.508034e+06</td>\n      <td>57.160250</td>\n      <td>1624.842248</td>\n    </tr>\n    <tr>\n      <th>50%</th>\n      <td>857.000000</td>\n      <td>2007.0</td>\n      <td>1.051753e+07</td>\n      <td>71.935500</td>\n      <td>6124.371108</td>\n    </tr>\n    <tr>\n      <th>75%</th>\n      <td>1280.000000</td>\n      <td>2007.0</td>\n      <td>3.121004e+07</td>\n      <td>76.413250</td>\n      <td>18008.835640</td>\n    </tr>\n    <tr>\n      <th>max</th>\n      <td>1703.000000</td>\n      <td>2007.0</td>\n      <td>1.318683e+09</td>\n      <td>82.603000</td>\n      <td>49357.190170</td>\n    </tr>\n  </tbody>\n</table>\n</div>"
     },
     "execution_count": 5,
     "metadata": {},
     "output_type": "execute_result"
    }
   ],
   "source": [
    "df.describe()"
   ],
   "metadata": {
    "collapsed": false,
    "pycharm": {
     "name": "#%%\n"
    }
   }
  },
  {
   "cell_type": "code",
   "execution_count": 8,
   "outputs": [
    {
     "data": {
      "text/plain": "    Unnamed: 0 country  year   population  cont  life_exp      gdp_cap\n66         803   Japan  2007  127467972.0  Asia    82.603  31656.06806",
      "text/html": "<div>\n<style scoped>\n    .dataframe tbody tr th:only-of-type {\n        vertical-align: middle;\n    }\n\n    .dataframe tbody tr th {\n        vertical-align: top;\n    }\n\n    .dataframe thead th {\n        text-align: right;\n    }\n</style>\n<table border=\"1\" class=\"dataframe\">\n  <thead>\n    <tr style=\"text-align: right;\">\n      <th></th>\n      <th>Unnamed: 0</th>\n      <th>country</th>\n      <th>year</th>\n      <th>population</th>\n      <th>cont</th>\n      <th>life_exp</th>\n      <th>gdp_cap</th>\n    </tr>\n  </thead>\n  <tbody>\n    <tr>\n      <th>66</th>\n      <td>803</td>\n      <td>Japan</td>\n      <td>2007</td>\n      <td>127467972.0</td>\n      <td>Asia</td>\n      <td>82.603</td>\n      <td>31656.06806</td>\n    </tr>\n  </tbody>\n</table>\n</div>"
     },
     "execution_count": 8,
     "metadata": {},
     "output_type": "execute_result"
    }
   ],
   "source": [
    "df[df.life_exp==df.life_exp.max()]"
   ],
   "metadata": {
    "collapsed": false,
    "pycharm": {
     "name": "#%%\n"
    }
   }
  },
  {
   "cell_type": "code",
   "execution_count": 13,
   "outputs": [
    {
     "data": {
      "text/plain": "<pandas.core.groupby.generic.DataFrameGroupBy object at 0x00000252907BED60>"
     },
     "execution_count": 13,
     "metadata": {},
     "output_type": "execute_result"
    }
   ],
   "source": [
    "cont_wise = df.groupby('cont')\n",
    "cont_wise"
   ],
   "metadata": {
    "collapsed": false,
    "pycharm": {
     "name": "#%%\n"
    }
   }
  },
  {
   "cell_type": "code",
   "execution_count": 14,
   "outputs": [
    {
     "data": {
      "text/plain": "cont\nAfrica      76.442\nAmericas    80.653\nAsia        82.603\nEurope      81.757\nOceania     81.235\nName: life_exp, dtype: float64"
     },
     "execution_count": 14,
     "metadata": {},
     "output_type": "execute_result"
    }
   ],
   "source": [
    "cont_wise.life_exp.max()"
   ],
   "metadata": {
    "collapsed": false,
    "pycharm": {
     "name": "#%%\n"
    }
   }
  },
  {
   "cell_type": "code",
   "execution_count": 20,
   "outputs": [
    {
     "data": {
      "text/plain": "          life_exp    population      gdp_cap         country\ncont                                                         \nAfrica      76.442  1.350312e+08  13206.48452        Zimbabwe\nAmericas    80.653  3.011399e+08  42951.65309       Venezuela\nAsia        82.603  1.318683e+09  47306.98978     Yemen, Rep.\nEurope      81.757  8.240100e+07  49357.19017  United Kingdom\nOceania     81.235  2.043418e+07  34435.36744     New Zealand",
      "text/html": "<div>\n<style scoped>\n    .dataframe tbody tr th:only-of-type {\n        vertical-align: middle;\n    }\n\n    .dataframe tbody tr th {\n        vertical-align: top;\n    }\n\n    .dataframe thead th {\n        text-align: right;\n    }\n</style>\n<table border=\"1\" class=\"dataframe\">\n  <thead>\n    <tr style=\"text-align: right;\">\n      <th></th>\n      <th>life_exp</th>\n      <th>population</th>\n      <th>gdp_cap</th>\n      <th>country</th>\n    </tr>\n    <tr>\n      <th>cont</th>\n      <th></th>\n      <th></th>\n      <th></th>\n      <th></th>\n    </tr>\n  </thead>\n  <tbody>\n    <tr>\n      <th>Africa</th>\n      <td>76.442</td>\n      <td>1.350312e+08</td>\n      <td>13206.48452</td>\n      <td>Zimbabwe</td>\n    </tr>\n    <tr>\n      <th>Americas</th>\n      <td>80.653</td>\n      <td>3.011399e+08</td>\n      <td>42951.65309</td>\n      <td>Venezuela</td>\n    </tr>\n    <tr>\n      <th>Asia</th>\n      <td>82.603</td>\n      <td>1.318683e+09</td>\n      <td>47306.98978</td>\n      <td>Yemen, Rep.</td>\n    </tr>\n    <tr>\n      <th>Europe</th>\n      <td>81.757</td>\n      <td>8.240100e+07</td>\n      <td>49357.19017</td>\n      <td>United Kingdom</td>\n    </tr>\n    <tr>\n      <th>Oceania</th>\n      <td>81.235</td>\n      <td>2.043418e+07</td>\n      <td>34435.36744</td>\n      <td>New Zealand</td>\n    </tr>\n  </tbody>\n</table>\n</div>"
     },
     "execution_count": 20,
     "metadata": {},
     "output_type": "execute_result"
    }
   ],
   "source": [
    "cont_wise[[\"life_exp\",\"population\",\"gdp_cap\",\"country\"]].max()"
   ],
   "metadata": {
    "collapsed": false,
    "pycharm": {
     "name": "#%%\n"
    }
   }
  },
  {
   "cell_type": "code",
   "execution_count": 19,
   "outputs": [
    {
     "data": {
      "text/plain": "           life_exp    population       gdp_cap\ncont                                           \nAfrica    54.806038  1.787576e+07   3089.032605\nAmericas  73.608120  3.595485e+07  11003.031625\nAsia      70.728485  1.155138e+08  12473.026870\nEurope    77.648600  1.953662e+07  25054.481636\nOceania   80.719500  1.227497e+07  29810.188275",
      "text/html": "<div>\n<style scoped>\n    .dataframe tbody tr th:only-of-type {\n        vertical-align: middle;\n    }\n\n    .dataframe tbody tr th {\n        vertical-align: top;\n    }\n\n    .dataframe thead th {\n        text-align: right;\n    }\n</style>\n<table border=\"1\" class=\"dataframe\">\n  <thead>\n    <tr style=\"text-align: right;\">\n      <th></th>\n      <th>life_exp</th>\n      <th>population</th>\n      <th>gdp_cap</th>\n    </tr>\n    <tr>\n      <th>cont</th>\n      <th></th>\n      <th></th>\n      <th></th>\n    </tr>\n  </thead>\n  <tbody>\n    <tr>\n      <th>Africa</th>\n      <td>54.806038</td>\n      <td>1.787576e+07</td>\n      <td>3089.032605</td>\n    </tr>\n    <tr>\n      <th>Americas</th>\n      <td>73.608120</td>\n      <td>3.595485e+07</td>\n      <td>11003.031625</td>\n    </tr>\n    <tr>\n      <th>Asia</th>\n      <td>70.728485</td>\n      <td>1.155138e+08</td>\n      <td>12473.026870</td>\n    </tr>\n    <tr>\n      <th>Europe</th>\n      <td>77.648600</td>\n      <td>1.953662e+07</td>\n      <td>25054.481636</td>\n    </tr>\n    <tr>\n      <th>Oceania</th>\n      <td>80.719500</td>\n      <td>1.227497e+07</td>\n      <td>29810.188275</td>\n    </tr>\n  </tbody>\n</table>\n</div>"
     },
     "execution_count": 19,
     "metadata": {},
     "output_type": "execute_result"
    }
   ],
   "source": [
    "cont_wise[[\"life_exp\",\"population\",\"gdp_cap\"]].mean()"
   ],
   "metadata": {
    "collapsed": false,
    "pycharm": {
     "name": "#%%\n"
    }
   }
  },
  {
   "cell_type": "markdown",
   "source": [
    "# Agg() Method"
   ],
   "metadata": {
    "collapsed": false,
    "pycharm": {
     "name": "#%% md\n"
    }
   }
  },
  {
   "cell_type": "code",
   "execution_count": 21,
   "outputs": [
    {
     "data": {
      "text/plain": "           life_exp\ncont               \nAfrica    54.806038\nAmericas  73.608120\nAsia      70.728485\nEurope    77.648600\nOceania   80.719500",
      "text/html": "<div>\n<style scoped>\n    .dataframe tbody tr th:only-of-type {\n        vertical-align: middle;\n    }\n\n    .dataframe tbody tr th {\n        vertical-align: top;\n    }\n\n    .dataframe thead th {\n        text-align: right;\n    }\n</style>\n<table border=\"1\" class=\"dataframe\">\n  <thead>\n    <tr style=\"text-align: right;\">\n      <th></th>\n      <th>life_exp</th>\n    </tr>\n    <tr>\n      <th>cont</th>\n      <th></th>\n    </tr>\n  </thead>\n  <tbody>\n    <tr>\n      <th>Africa</th>\n      <td>54.806038</td>\n    </tr>\n    <tr>\n      <th>Americas</th>\n      <td>73.608120</td>\n    </tr>\n    <tr>\n      <th>Asia</th>\n      <td>70.728485</td>\n    </tr>\n    <tr>\n      <th>Europe</th>\n      <td>77.648600</td>\n    </tr>\n    <tr>\n      <th>Oceania</th>\n      <td>80.719500</td>\n    </tr>\n  </tbody>\n</table>\n</div>"
     },
     "execution_count": 21,
     "metadata": {},
     "output_type": "execute_result"
    }
   ],
   "source": [
    "cont_wise.agg({\"life_exp\":\"mean\"})"
   ],
   "metadata": {
    "collapsed": false,
    "pycharm": {
     "name": "#%%\n"
    }
   }
  },
  {
   "cell_type": "code",
   "execution_count": 22,
   "outputs": [
    {
     "data": {
      "text/plain": "         life_exp                   \n              min     max       mean\ncont                                \nAfrica     39.613  76.442  54.806038\nAmericas   60.916  80.653  73.608120\nAsia       43.828  82.603  70.728485\nEurope     71.777  81.757  77.648600\nOceania    80.204  81.235  80.719500",
      "text/html": "<div>\n<style scoped>\n    .dataframe tbody tr th:only-of-type {\n        vertical-align: middle;\n    }\n\n    .dataframe tbody tr th {\n        vertical-align: top;\n    }\n\n    .dataframe thead tr th {\n        text-align: left;\n    }\n\n    .dataframe thead tr:last-of-type th {\n        text-align: right;\n    }\n</style>\n<table border=\"1\" class=\"dataframe\">\n  <thead>\n    <tr>\n      <th></th>\n      <th colspan=\"3\" halign=\"left\">life_exp</th>\n    </tr>\n    <tr>\n      <th></th>\n      <th>min</th>\n      <th>max</th>\n      <th>mean</th>\n    </tr>\n    <tr>\n      <th>cont</th>\n      <th></th>\n      <th></th>\n      <th></th>\n    </tr>\n  </thead>\n  <tbody>\n    <tr>\n      <th>Africa</th>\n      <td>39.613</td>\n      <td>76.442</td>\n      <td>54.806038</td>\n    </tr>\n    <tr>\n      <th>Americas</th>\n      <td>60.916</td>\n      <td>80.653</td>\n      <td>73.608120</td>\n    </tr>\n    <tr>\n      <th>Asia</th>\n      <td>43.828</td>\n      <td>82.603</td>\n      <td>70.728485</td>\n    </tr>\n    <tr>\n      <th>Europe</th>\n      <td>71.777</td>\n      <td>81.757</td>\n      <td>77.648600</td>\n    </tr>\n    <tr>\n      <th>Oceania</th>\n      <td>80.204</td>\n      <td>81.235</td>\n      <td>80.719500</td>\n    </tr>\n  </tbody>\n</table>\n</div>"
     },
     "execution_count": 22,
     "metadata": {},
     "output_type": "execute_result"
    }
   ],
   "source": [
    "cont_wise.agg({\"life_exp\":[\"min\",\"max\",\"mean\"]})"
   ],
   "metadata": {
    "collapsed": false,
    "pycharm": {
     "name": "#%%\n"
    }
   }
  },
  {
   "cell_type": "code",
   "execution_count": 26,
   "outputs": [
    {
     "data": {
      "text/plain": "         life_exp                       population              \n              min     max       mean           max          mean\ncont                                                            \nOceania    80.204  81.235  80.719500  2.043418e+07  1.227497e+07\nEurope     71.777  81.757  77.648600  8.240100e+07  1.953662e+07\nAsia       43.828  82.603  70.728485  1.318683e+09  1.155138e+08\nAmericas   60.916  80.653  73.608120  3.011399e+08  3.595485e+07\nAfrica     39.613  76.442  54.806038  1.350312e+08  1.787576e+07",
      "text/html": "<div>\n<style scoped>\n    .dataframe tbody tr th:only-of-type {\n        vertical-align: middle;\n    }\n\n    .dataframe tbody tr th {\n        vertical-align: top;\n    }\n\n    .dataframe thead tr th {\n        text-align: left;\n    }\n\n    .dataframe thead tr:last-of-type th {\n        text-align: right;\n    }\n</style>\n<table border=\"1\" class=\"dataframe\">\n  <thead>\n    <tr>\n      <th></th>\n      <th colspan=\"3\" halign=\"left\">life_exp</th>\n      <th colspan=\"2\" halign=\"left\">population</th>\n    </tr>\n    <tr>\n      <th></th>\n      <th>min</th>\n      <th>max</th>\n      <th>mean</th>\n      <th>max</th>\n      <th>mean</th>\n    </tr>\n    <tr>\n      <th>cont</th>\n      <th></th>\n      <th></th>\n      <th></th>\n      <th></th>\n      <th></th>\n    </tr>\n  </thead>\n  <tbody>\n    <tr>\n      <th>Oceania</th>\n      <td>80.204</td>\n      <td>81.235</td>\n      <td>80.719500</td>\n      <td>2.043418e+07</td>\n      <td>1.227497e+07</td>\n    </tr>\n    <tr>\n      <th>Europe</th>\n      <td>71.777</td>\n      <td>81.757</td>\n      <td>77.648600</td>\n      <td>8.240100e+07</td>\n      <td>1.953662e+07</td>\n    </tr>\n    <tr>\n      <th>Asia</th>\n      <td>43.828</td>\n      <td>82.603</td>\n      <td>70.728485</td>\n      <td>1.318683e+09</td>\n      <td>1.155138e+08</td>\n    </tr>\n    <tr>\n      <th>Americas</th>\n      <td>60.916</td>\n      <td>80.653</td>\n      <td>73.608120</td>\n      <td>3.011399e+08</td>\n      <td>3.595485e+07</td>\n    </tr>\n    <tr>\n      <th>Africa</th>\n      <td>39.613</td>\n      <td>76.442</td>\n      <td>54.806038</td>\n      <td>1.350312e+08</td>\n      <td>1.787576e+07</td>\n    </tr>\n  </tbody>\n</table>\n</div>"
     },
     "execution_count": 26,
     "metadata": {},
     "output_type": "execute_result"
    }
   ],
   "source": [
    "cont_wise.agg({\"life_exp\": [\"min\", \"max\", \"mean\"],\"population\":[\"max\",\"mean\"]}).sort_index(ascending=False)"
   ],
   "metadata": {
    "collapsed": false,
    "pycharm": {
     "name": "#%%\n"
    }
   }
  },
  {
   "cell_type": "code",
   "execution_count": 31,
   "outputs": [
    {
     "data": {
      "text/plain": "         life_exp                       population              \n              min     max       mean           max          mean\ncont                                                            \nAsia       43.828  82.603  70.728485  1.318683e+09  1.155138e+08\nAmericas   60.916  80.653  73.608120  3.011399e+08  3.595485e+07\nAfrica     39.613  76.442  54.806038  1.350312e+08  1.787576e+07\nEurope     71.777  81.757  77.648600  8.240100e+07  1.953662e+07\nOceania    80.204  81.235  80.719500  2.043418e+07  1.227497e+07",
      "text/html": "<div>\n<style scoped>\n    .dataframe tbody tr th:only-of-type {\n        vertical-align: middle;\n    }\n\n    .dataframe tbody tr th {\n        vertical-align: top;\n    }\n\n    .dataframe thead tr th {\n        text-align: left;\n    }\n\n    .dataframe thead tr:last-of-type th {\n        text-align: right;\n    }\n</style>\n<table border=\"1\" class=\"dataframe\">\n  <thead>\n    <tr>\n      <th></th>\n      <th colspan=\"3\" halign=\"left\">life_exp</th>\n      <th colspan=\"2\" halign=\"left\">population</th>\n    </tr>\n    <tr>\n      <th></th>\n      <th>min</th>\n      <th>max</th>\n      <th>mean</th>\n      <th>max</th>\n      <th>mean</th>\n    </tr>\n    <tr>\n      <th>cont</th>\n      <th></th>\n      <th></th>\n      <th></th>\n      <th></th>\n      <th></th>\n    </tr>\n  </thead>\n  <tbody>\n    <tr>\n      <th>Asia</th>\n      <td>43.828</td>\n      <td>82.603</td>\n      <td>70.728485</td>\n      <td>1.318683e+09</td>\n      <td>1.155138e+08</td>\n    </tr>\n    <tr>\n      <th>Americas</th>\n      <td>60.916</td>\n      <td>80.653</td>\n      <td>73.608120</td>\n      <td>3.011399e+08</td>\n      <td>3.595485e+07</td>\n    </tr>\n    <tr>\n      <th>Africa</th>\n      <td>39.613</td>\n      <td>76.442</td>\n      <td>54.806038</td>\n      <td>1.350312e+08</td>\n      <td>1.787576e+07</td>\n    </tr>\n    <tr>\n      <th>Europe</th>\n      <td>71.777</td>\n      <td>81.757</td>\n      <td>77.648600</td>\n      <td>8.240100e+07</td>\n      <td>1.953662e+07</td>\n    </tr>\n    <tr>\n      <th>Oceania</th>\n      <td>80.204</td>\n      <td>81.235</td>\n      <td>80.719500</td>\n      <td>2.043418e+07</td>\n      <td>1.227497e+07</td>\n    </tr>\n  </tbody>\n</table>\n</div>"
     },
     "execution_count": 31,
     "metadata": {},
     "output_type": "execute_result"
    }
   ],
   "source": [
    "cont_wise.agg({\"life_exp\": [\"min\", \"max\", \"mean\"],\"population\":[\"max\",\"mean\"]}).sort_values(by=('population','max'),ascending=False)"
   ],
   "metadata": {
    "collapsed": false,
    "pycharm": {
     "name": "#%%\n"
    }
   }
  },
  {
   "cell_type": "markdown",
   "source": [
    "# Order by multiple columns"
   ],
   "metadata": {
    "collapsed": false,
    "pycharm": {
     "name": "#%% md\n"
    }
   }
  },
  {
   "cell_type": "code",
   "execution_count": 32,
   "outputs": [
    {
     "data": {
      "text/plain": "    ord_no  purch_amt    ord_date  customer_id  salesman_id\n0    70001     150.50  2012-10-05         3005         5002\n1    70009     270.65  2012-09-10         3001         5005\n2    70002      65.26  2012-10-05         3002         5001\n3    70004     110.50  2012-08-17         3009         5003\n4    70007     948.50  2012-09-10         3005         5002\n5    70005    2400.60  2012-07-27         3007         5001\n6    70008    5760.00  2012-09-10         3002         5001\n7    70010    1983.43  2012-10-10         3004         5006\n8    70003    2480.40  2012-10-10         3009         5003\n9    70012     250.45  2012-06-27         3008         5002\n10   70011      75.29  2012-08-17         3003         5007\n11   70013    3045.60  2012-04-25         3002         5001",
      "text/html": "<div>\n<style scoped>\n    .dataframe tbody tr th:only-of-type {\n        vertical-align: middle;\n    }\n\n    .dataframe tbody tr th {\n        vertical-align: top;\n    }\n\n    .dataframe thead th {\n        text-align: right;\n    }\n</style>\n<table border=\"1\" class=\"dataframe\">\n  <thead>\n    <tr style=\"text-align: right;\">\n      <th></th>\n      <th>ord_no</th>\n      <th>purch_amt</th>\n      <th>ord_date</th>\n      <th>customer_id</th>\n      <th>salesman_id</th>\n    </tr>\n  </thead>\n  <tbody>\n    <tr>\n      <th>0</th>\n      <td>70001</td>\n      <td>150.50</td>\n      <td>2012-10-05</td>\n      <td>3005</td>\n      <td>5002</td>\n    </tr>\n    <tr>\n      <th>1</th>\n      <td>70009</td>\n      <td>270.65</td>\n      <td>2012-09-10</td>\n      <td>3001</td>\n      <td>5005</td>\n    </tr>\n    <tr>\n      <th>2</th>\n      <td>70002</td>\n      <td>65.26</td>\n      <td>2012-10-05</td>\n      <td>3002</td>\n      <td>5001</td>\n    </tr>\n    <tr>\n      <th>3</th>\n      <td>70004</td>\n      <td>110.50</td>\n      <td>2012-08-17</td>\n      <td>3009</td>\n      <td>5003</td>\n    </tr>\n    <tr>\n      <th>4</th>\n      <td>70007</td>\n      <td>948.50</td>\n      <td>2012-09-10</td>\n      <td>3005</td>\n      <td>5002</td>\n    </tr>\n    <tr>\n      <th>5</th>\n      <td>70005</td>\n      <td>2400.60</td>\n      <td>2012-07-27</td>\n      <td>3007</td>\n      <td>5001</td>\n    </tr>\n    <tr>\n      <th>6</th>\n      <td>70008</td>\n      <td>5760.00</td>\n      <td>2012-09-10</td>\n      <td>3002</td>\n      <td>5001</td>\n    </tr>\n    <tr>\n      <th>7</th>\n      <td>70010</td>\n      <td>1983.43</td>\n      <td>2012-10-10</td>\n      <td>3004</td>\n      <td>5006</td>\n    </tr>\n    <tr>\n      <th>8</th>\n      <td>70003</td>\n      <td>2480.40</td>\n      <td>2012-10-10</td>\n      <td>3009</td>\n      <td>5003</td>\n    </tr>\n    <tr>\n      <th>9</th>\n      <td>70012</td>\n      <td>250.45</td>\n      <td>2012-06-27</td>\n      <td>3008</td>\n      <td>5002</td>\n    </tr>\n    <tr>\n      <th>10</th>\n      <td>70011</td>\n      <td>75.29</td>\n      <td>2012-08-17</td>\n      <td>3003</td>\n      <td>5007</td>\n    </tr>\n    <tr>\n      <th>11</th>\n      <td>70013</td>\n      <td>3045.60</td>\n      <td>2012-04-25</td>\n      <td>3002</td>\n      <td>5001</td>\n    </tr>\n  </tbody>\n</table>\n</div>"
     },
     "execution_count": 32,
     "metadata": {},
     "output_type": "execute_result"
    }
   ],
   "source": [
    "orders_data = pd.DataFrame({\n",
    "    'ord_no':[70001,70009,70002,70004,70007,70005,70008,70010,70003,70012,70011,70013],\n",
    "    'purch_amt':[150.5,270.65,65.26,110.5,948.5,2400.6,5760,1983.43,2480.4,250.45, 75.29,3045.6],\n",
    "    'ord_date': ['2012-10-05','2012-09-10','2012-10-05','2012-08-17','2012-09-10','2012-07-27','2012-09-10','2012-10-10','2012-10-10','2012-06-27','2012-08-17','2012-04-25'],\n",
    "    'customer_id':[3005,3001,3002,3009,3005,3007,3002,3004,3009,3008,3003,3002],\n",
    "    'salesman_id': [5002,5005,5001,5003,5002,5001,5001,5006,5003,5002,5007,5001]})\n",
    "orders_data"
   ],
   "metadata": {
    "collapsed": false,
    "pycharm": {
     "name": "#%%\n"
    }
   }
  },
  {
   "cell_type": "code",
   "execution_count": 35,
   "outputs": [
    {
     "data": {
      "text/plain": "             purch_amt\nsalesman_id           \n5001          11271.46\n5002           1349.45\n5003           2590.90\n5005            270.65\n5006           1983.43\n5007             75.29",
      "text/html": "<div>\n<style scoped>\n    .dataframe tbody tr th:only-of-type {\n        vertical-align: middle;\n    }\n\n    .dataframe tbody tr th {\n        vertical-align: top;\n    }\n\n    .dataframe thead th {\n        text-align: right;\n    }\n</style>\n<table border=\"1\" class=\"dataframe\">\n  <thead>\n    <tr style=\"text-align: right;\">\n      <th></th>\n      <th>purch_amt</th>\n    </tr>\n    <tr>\n      <th>salesman_id</th>\n      <th></th>\n    </tr>\n  </thead>\n  <tbody>\n    <tr>\n      <th>5001</th>\n      <td>11271.46</td>\n    </tr>\n    <tr>\n      <th>5002</th>\n      <td>1349.45</td>\n    </tr>\n    <tr>\n      <th>5003</th>\n      <td>2590.90</td>\n    </tr>\n    <tr>\n      <th>5005</th>\n      <td>270.65</td>\n    </tr>\n    <tr>\n      <th>5006</th>\n      <td>1983.43</td>\n    </tr>\n    <tr>\n      <th>5007</th>\n      <td>75.29</td>\n    </tr>\n  </tbody>\n</table>\n</div>"
     },
     "execution_count": 35,
     "metadata": {},
     "output_type": "execute_result"
    }
   ],
   "source": [
    "orders_data.groupby(\"salesman_id\").agg({'purch_amt':'sum'})"
   ],
   "metadata": {
    "collapsed": false,
    "pycharm": {
     "name": "#%%\n"
    }
   }
  },
  {
   "cell_type": "code",
   "execution_count": 41,
   "outputs": [
    {
     "data": {
      "text/plain": "                        purch_amt             \n                              sum         mean\nsalesman_id customer_id                       \n5007        3003            75.29    75.290000\n5002        3008           250.45   250.450000\n5005        3001           270.65   270.650000\n5002        3005          1099.00   549.500000\n5006        3004          1983.43  1983.430000\n5001        3007          2400.60  2400.600000\n5003        3009          2590.90  1295.450000\n5001        3002          8870.86  2956.953333",
      "text/html": "<div>\n<style scoped>\n    .dataframe tbody tr th:only-of-type {\n        vertical-align: middle;\n    }\n\n    .dataframe tbody tr th {\n        vertical-align: top;\n    }\n\n    .dataframe thead tr th {\n        text-align: left;\n    }\n\n    .dataframe thead tr:last-of-type th {\n        text-align: right;\n    }\n</style>\n<table border=\"1\" class=\"dataframe\">\n  <thead>\n    <tr>\n      <th></th>\n      <th></th>\n      <th colspan=\"2\" halign=\"left\">purch_amt</th>\n    </tr>\n    <tr>\n      <th></th>\n      <th></th>\n      <th>sum</th>\n      <th>mean</th>\n    </tr>\n    <tr>\n      <th>salesman_id</th>\n      <th>customer_id</th>\n      <th></th>\n      <th></th>\n    </tr>\n  </thead>\n  <tbody>\n    <tr>\n      <th>5007</th>\n      <th>3003</th>\n      <td>75.29</td>\n      <td>75.290000</td>\n    </tr>\n    <tr>\n      <th>5002</th>\n      <th>3008</th>\n      <td>250.45</td>\n      <td>250.450000</td>\n    </tr>\n    <tr>\n      <th>5005</th>\n      <th>3001</th>\n      <td>270.65</td>\n      <td>270.650000</td>\n    </tr>\n    <tr>\n      <th>5002</th>\n      <th>3005</th>\n      <td>1099.00</td>\n      <td>549.500000</td>\n    </tr>\n    <tr>\n      <th>5006</th>\n      <th>3004</th>\n      <td>1983.43</td>\n      <td>1983.430000</td>\n    </tr>\n    <tr>\n      <th>5001</th>\n      <th>3007</th>\n      <td>2400.60</td>\n      <td>2400.600000</td>\n    </tr>\n    <tr>\n      <th>5003</th>\n      <th>3009</th>\n      <td>2590.90</td>\n      <td>1295.450000</td>\n    </tr>\n    <tr>\n      <th>5001</th>\n      <th>3002</th>\n      <td>8870.86</td>\n      <td>2956.953333</td>\n    </tr>\n  </tbody>\n</table>\n</div>"
     },
     "execution_count": 41,
     "metadata": {},
     "output_type": "execute_result"
    }
   ],
   "source": [
    "orders_data.groupby([\"salesman_id\",\"customer_id\"]).agg({'purch_amt':['sum','mean']}).sort_values(('purch_amt','sum'))"
   ],
   "metadata": {
    "collapsed": false,
    "pycharm": {
     "name": "#%%\n"
    }
   }
  },
  {
   "cell_type": "markdown",
   "source": [
    "# Pandas Grouping and Aggregating Exercises\n",
    "Exercises from w3resources about grouping and aggregating."
   ],
   "metadata": {
    "collapsed": false,
    "pycharm": {
     "name": "#%% md\n"
    }
   }
  },
  {
   "cell_type": "markdown",
   "source": [
    "### Group by specific column\n",
    "Write a Pandas program to split the following dataframe into groups based on school code. Also check the type of GroupBy object"
   ],
   "metadata": {
    "collapsed": false,
    "pycharm": {
     "name": "#%% md\n"
    }
   }
  },
  {
   "cell_type": "code",
   "source": [
    "# 1\n",
    "df = pd.DataFrame({\n",
    "    'school_code': ['s001','s002','s003','s001','s002','s004'],\n",
    "    'class': ['V', 'V', 'VI', 'VI', 'V', 'VI'],\n",
    "    'name': ['Alberto Franco','Gino Mcneill','Ryan Parkes', 'Eesha Hinton', 'Gino Mcneill', 'David Parkes'],\n",
    "    'date_Of_Birth ': ['15/05/2002','17/05/2002','16/02/1999','25/09/1998','11/05/2002','15/09/1997'],\n",
    "    'age': [12, 12, 13, 13, 14, 12],\n",
    "    'height': [173, 192, 186, 167, 151, 159],\n",
    "    'weight': [35, 32, 33, 30, 31, 32],\n",
    "    'address': ['street1', 'street2', 'street3', 'street1', 'street2', 'street4']},\n",
    "    index=['S1', 'S2', 'S3', 'S4', 'S5', 'S6'])\n",
    "df.groupby(['school_code'])"
   ],
   "metadata": {
    "collapsed": false,
    "pycharm": {
     "name": "#%%\n"
    }
   },
   "execution_count": 4,
   "outputs": [
    {
     "data": {
      "text/plain": "<pandas.core.groupby.generic.DataFrameGroupBy object at 0x00000115C2344E80>"
     },
     "execution_count": 4,
     "metadata": {},
     "output_type": "execute_result"
    }
   ]
  },
  {
   "cell_type": "markdown",
   "source": [
    "### Group by column and get min, max and mean\n",
    "Write a Pandas program to split the following dataframe by school code and get mean, min, and max value of age for each school"
   ],
   "metadata": {
    "collapsed": false,
    "pycharm": {
     "name": "#%% md\n"
    }
   }
  },
  {
   "cell_type": "code",
   "source": [
    "# 2\n",
    "df.groupby(['school_code']).agg({'age':['mean','min','max']})"
   ],
   "metadata": {
    "collapsed": false,
    "pycharm": {
     "name": "#%%\n"
    }
   },
   "execution_count": 5,
   "outputs": [
    {
     "data": {
      "text/plain": "              age        \n             mean min max\nschool_code              \ns001         12.5  12  13\ns002         13.0  12  14\ns003         13.0  13  13\ns004         12.0  12  12",
      "text/html": "<div>\n<style scoped>\n    .dataframe tbody tr th:only-of-type {\n        vertical-align: middle;\n    }\n\n    .dataframe tbody tr th {\n        vertical-align: top;\n    }\n\n    .dataframe thead tr th {\n        text-align: left;\n    }\n\n    .dataframe thead tr:last-of-type th {\n        text-align: right;\n    }\n</style>\n<table border=\"1\" class=\"dataframe\">\n  <thead>\n    <tr>\n      <th></th>\n      <th colspan=\"3\" halign=\"left\">age</th>\n    </tr>\n    <tr>\n      <th></th>\n      <th>mean</th>\n      <th>min</th>\n      <th>max</th>\n    </tr>\n    <tr>\n      <th>school_code</th>\n      <th></th>\n      <th></th>\n      <th></th>\n    </tr>\n  </thead>\n  <tbody>\n    <tr>\n      <th>s001</th>\n      <td>12.5</td>\n      <td>12</td>\n      <td>13</td>\n    </tr>\n    <tr>\n      <th>s002</th>\n      <td>13.0</td>\n      <td>12</td>\n      <td>14</td>\n    </tr>\n    <tr>\n      <th>s003</th>\n      <td>13.0</td>\n      <td>13</td>\n      <td>13</td>\n    </tr>\n    <tr>\n      <th>s004</th>\n      <td>12.0</td>\n      <td>12</td>\n      <td>12</td>\n    </tr>\n  </tbody>\n</table>\n</div>"
     },
     "execution_count": 5,
     "metadata": {},
     "output_type": "execute_result"
    }
   ]
  },
  {
   "cell_type": "markdown",
   "source": [
    "### Group by two columns\n",
    "Write a Pandas program to split the following given dataframe into groups based on school code and class"
   ],
   "metadata": {
    "collapsed": false,
    "pycharm": {
     "name": "#%% md\n"
    }
   }
  },
  {
   "cell_type": "code",
   "source": [
    "# 3\n",
    "df.groupby(['school_code','class'])"
   ],
   "metadata": {
    "collapsed": false,
    "pycharm": {
     "name": "#%%\n"
    }
   },
   "execution_count": 6,
   "outputs": [
    {
     "data": {
      "text/plain": "<pandas.core.groupby.generic.DataFrameGroupBy object at 0x00000115C2344A30>"
     },
     "execution_count": 6,
     "metadata": {},
     "output_type": "execute_result"
    }
   ]
  },
  {
   "cell_type": "markdown",
   "source": [
    "### Cast grouping as a list\n",
    "Write a Pandas program to split the following given dataframe into groups based on school code and cast grouping as a list."
   ],
   "metadata": {
    "collapsed": false,
    "pycharm": {
     "name": "#%% md\n"
    }
   }
  },
  {
   "cell_type": "code",
   "source": [
    "# 4\n",
    "list(df.groupby(['school_code']))"
   ],
   "metadata": {
    "collapsed": false,
    "pycharm": {
     "name": "#%%\n"
    }
   },
   "execution_count": 9,
   "outputs": [
    {
     "name": "stderr",
     "output_type": "stream",
     "text": [
      "C:\\Users\\Coach\\AppData\\Local\\Temp\\ipykernel_2692\\2739683844.py:2: FutureWarning: In a future version of pandas, a length 1 tuple will be returned when iterating over a groupby with a grouper equal to a list of length 1. Don't supply a list with a single grouper to avoid this warning.\n",
      "  list(df.groupby(['school_code']))\n"
     ]
    },
    {
     "data": {
      "text/plain": "[('s001',\n     school_code class            name date_Of_Birth   age  height  weight  \\\n  S1        s001     V  Alberto Franco     15/05/2002   12     173      35   \n  S4        s001    VI    Eesha Hinton     25/09/1998   13     167      30   \n  \n      address  \n  S1  street1  \n  S4  street1  ),\n ('s002',\n     school_code class          name date_Of_Birth   age  height  weight  \\\n  S2        s002     V  Gino Mcneill     17/05/2002   12     192      32   \n  S5        s002     V  Gino Mcneill     11/05/2002   14     151      31   \n  \n      address  \n  S2  street2  \n  S5  street2  ),\n ('s003',\n     school_code class         name date_Of_Birth   age  height  weight  address\n  S3        s003    VI  Ryan Parkes     16/02/1999   13     186      33  street3),\n ('s004',\n     school_code class          name date_Of_Birth   age  height  weight  \\\n  S6        s004    VI  David Parkes     15/09/1997   12     159      32   \n  \n      address  \n  S6  street4  )]"
     },
     "execution_count": 9,
     "metadata": {},
     "output_type": "execute_result"
    }
   ]
  },
  {
   "cell_type": "markdown",
   "source": [
    "### Group by and find size of groups\n",
    "Write a Pandas program to split the following given dataframe into groups based on single column and multiple columns. Find the size of the grouped data"
   ],
   "metadata": {
    "collapsed": false,
    "pycharm": {
     "name": "#%% md\n"
    }
   }
  },
  {
   "cell_type": "code",
   "source": [
    "# 5\n",
    "df.groupby(['school_code','class']).size()"
   ],
   "metadata": {
    "collapsed": false,
    "pycharm": {
     "name": "#%%\n"
    }
   },
   "execution_count": 10,
   "outputs": [
    {
     "data": {
      "text/plain": "school_code  class\ns001         V        1\n             VI       1\ns002         V        2\ns003         VI       1\ns004         VI       1\ndtype: int64"
     },
     "execution_count": 10,
     "metadata": {},
     "output_type": "execute_result"
    }
   ]
  },
  {
   "cell_type": "markdown",
   "source": [
    "### Group by two columns and call a specific group\n",
    "Write a Pandas program to split the following given dataframe into groups based on school code and call a specific group with the name of the group"
   ],
   "metadata": {
    "collapsed": false,
    "pycharm": {
     "name": "#%% md\n"
    }
   }
  },
  {
   "cell_type": "code",
   "source": [
    "# 6\n",
    "df.groupby(['school_code','class']).get_group(('s001','V'))"
   ],
   "metadata": {
    "collapsed": false,
    "pycharm": {
     "name": "#%%\n"
    }
   },
   "execution_count": 12,
   "outputs": [
    {
     "data": {
      "text/plain": "   school_code class            name date_Of_Birth   age  height  weight  \\\nS1        s001     V  Alberto Franco     15/05/2002   12     173      35   \n\n    address  \nS1  street1  ",
      "text/html": "<div>\n<style scoped>\n    .dataframe tbody tr th:only-of-type {\n        vertical-align: middle;\n    }\n\n    .dataframe tbody tr th {\n        vertical-align: top;\n    }\n\n    .dataframe thead th {\n        text-align: right;\n    }\n</style>\n<table border=\"1\" class=\"dataframe\">\n  <thead>\n    <tr style=\"text-align: right;\">\n      <th></th>\n      <th>school_code</th>\n      <th>class</th>\n      <th>name</th>\n      <th>date_Of_Birth</th>\n      <th>age</th>\n      <th>height</th>\n      <th>weight</th>\n      <th>address</th>\n    </tr>\n  </thead>\n  <tbody>\n    <tr>\n      <th>S1</th>\n      <td>s001</td>\n      <td>V</td>\n      <td>Alberto Franco</td>\n      <td>15/05/2002</td>\n      <td>12</td>\n      <td>173</td>\n      <td>35</td>\n      <td>street1</td>\n    </tr>\n  </tbody>\n</table>\n</div>"
     },
     "execution_count": 12,
     "metadata": {},
     "output_type": "execute_result"
    }
   ]
  },
  {
   "cell_type": "markdown",
   "source": [
    "### Group by column, get min, max min\n",
    "Write a Pandas program to split a dataset, group by one column and get mean, min, and max values by group. Using the following dataset find the mean, min, and max values of purchase amount (purch_amt) group by customer id (customer_id)"
   ],
   "metadata": {
    "collapsed": false,
    "pycharm": {
     "name": "#%% md\n"
    }
   }
  },
  {
   "cell_type": "code",
   "source": [
    "# 7\n",
    "df = pd.DataFrame({\n",
    "    'ord_no':[70001,70009,70002,70004,70007,70005,70008,70010,70003,70012,70011,70013],\n",
    "    'purch_amt':[150.5,270.65,65.26,110.5,948.5,2400.6,5760,1983.43,2480.4,250.45, 75.29,3045.6],\n",
    "    'ord_date': ['2012-10-05','2012-09-10','2012-10-05','2012-08-17','2012-09-10','2012-07-27','2012-09-10','2012-10-10','2012-10-10','2012-06-27','2012-08-17','2012-04-25'],\n",
    "    'customer_id':[3005,3001,3002,3009,3005,3007,3002,3004,3009,3008,3003,3002],\n",
    "    'salesman_id': [5002,5005,5001,5003,5002,5001,5001,5006,5003,5002,5007,5001]})\n",
    "df.groupby(['customer_id']).agg({'purch_amt':[\"min\",'max','mean']})"
   ],
   "metadata": {
    "collapsed": false,
    "pycharm": {
     "name": "#%%\n"
    }
   },
   "execution_count": 16,
   "outputs": [
    {
     "data": {
      "text/plain": "            purch_amt                      \n                  min      max         mean\ncustomer_id                                \n3001           270.65   270.65   270.650000\n3002            65.26  5760.00  2956.953333\n3003            75.29    75.29    75.290000\n3004          1983.43  1983.43  1983.430000\n3005           150.50   948.50   549.500000\n3007          2400.60  2400.60  2400.600000\n3008           250.45   250.45   250.450000\n3009           110.50  2480.40  1295.450000",
      "text/html": "<div>\n<style scoped>\n    .dataframe tbody tr th:only-of-type {\n        vertical-align: middle;\n    }\n\n    .dataframe tbody tr th {\n        vertical-align: top;\n    }\n\n    .dataframe thead tr th {\n        text-align: left;\n    }\n\n    .dataframe thead tr:last-of-type th {\n        text-align: right;\n    }\n</style>\n<table border=\"1\" class=\"dataframe\">\n  <thead>\n    <tr>\n      <th></th>\n      <th colspan=\"3\" halign=\"left\">purch_amt</th>\n    </tr>\n    <tr>\n      <th></th>\n      <th>min</th>\n      <th>max</th>\n      <th>mean</th>\n    </tr>\n    <tr>\n      <th>customer_id</th>\n      <th></th>\n      <th></th>\n      <th></th>\n    </tr>\n  </thead>\n  <tbody>\n    <tr>\n      <th>3001</th>\n      <td>270.65</td>\n      <td>270.65</td>\n      <td>270.650000</td>\n    </tr>\n    <tr>\n      <th>3002</th>\n      <td>65.26</td>\n      <td>5760.00</td>\n      <td>2956.953333</td>\n    </tr>\n    <tr>\n      <th>3003</th>\n      <td>75.29</td>\n      <td>75.29</td>\n      <td>75.290000</td>\n    </tr>\n    <tr>\n      <th>3004</th>\n      <td>1983.43</td>\n      <td>1983.43</td>\n      <td>1983.430000</td>\n    </tr>\n    <tr>\n      <th>3005</th>\n      <td>150.50</td>\n      <td>948.50</td>\n      <td>549.500000</td>\n    </tr>\n    <tr>\n      <th>3007</th>\n      <td>2400.60</td>\n      <td>2400.60</td>\n      <td>2400.600000</td>\n    </tr>\n    <tr>\n      <th>3008</th>\n      <td>250.45</td>\n      <td>250.45</td>\n      <td>250.450000</td>\n    </tr>\n    <tr>\n      <th>3009</th>\n      <td>110.50</td>\n      <td>2480.40</td>\n      <td>1295.450000</td>\n    </tr>\n  </tbody>\n</table>\n</div>"
     },
     "execution_count": 16,
     "metadata": {},
     "output_type": "execute_result"
    }
   ]
  },
  {
   "cell_type": "markdown",
   "source": [
    "### Group by and count each row\n",
    "Write a Pandas program to split a dataset to group by two columns and count by each row."
   ],
   "metadata": {
    "collapsed": false,
    "pycharm": {
     "name": "#%% md\n"
    }
   }
  },
  {
   "cell_type": "code",
   "source": [
    "# 8\n",
    "df.groupby(['salesman_id','customer_id']).size()"
   ],
   "metadata": {
    "collapsed": false,
    "pycharm": {
     "name": "#%%\n"
    }
   },
   "execution_count": 19,
   "outputs": [
    {
     "data": {
      "text/plain": "salesman_id  customer_id\n5001         3002           3\n             3007           1\n5002         3005           2\n             3008           1\n5003         3009           2\n5005         3001           1\n5006         3004           1\n5007         3003           1\ndtype: int64"
     },
     "execution_count": 19,
     "metadata": {},
     "output_type": "execute_result"
    }
   ]
  },
  {
   "cell_type": "markdown",
   "source": [
    "### Group by two columns, then sort aggregated results\n",
    "Write a Pandas program to split a dataset to group by two columns and then sort the aggregated results within the groups"
   ],
   "metadata": {
    "collapsed": false,
    "pycharm": {
     "name": "#%% md\n"
    }
   }
  },
  {
   "cell_type": "code",
   "source": [
    "# 9\n",
    "df.groupby(['salesman_id','customer_id']).agg({'purch_amt':'sum'}).sort_values(('purch_amt'),ascending=False)"
   ],
   "metadata": {
    "collapsed": false,
    "pycharm": {
     "name": "#%%\n"
    }
   },
   "execution_count": 21,
   "outputs": [
    {
     "data": {
      "text/plain": "                         purch_amt\nsalesman_id customer_id           \n5001        3002           8870.86\n5003        3009           2590.90\n5001        3007           2400.60\n5006        3004           1983.43\n5002        3005           1099.00\n5005        3001            270.65\n5002        3008            250.45\n5007        3003             75.29",
      "text/html": "<div>\n<style scoped>\n    .dataframe tbody tr th:only-of-type {\n        vertical-align: middle;\n    }\n\n    .dataframe tbody tr th {\n        vertical-align: top;\n    }\n\n    .dataframe thead th {\n        text-align: right;\n    }\n</style>\n<table border=\"1\" class=\"dataframe\">\n  <thead>\n    <tr style=\"text-align: right;\">\n      <th></th>\n      <th></th>\n      <th>purch_amt</th>\n    </tr>\n    <tr>\n      <th>salesman_id</th>\n      <th>customer_id</th>\n      <th></th>\n    </tr>\n  </thead>\n  <tbody>\n    <tr>\n      <th>5001</th>\n      <th>3002</th>\n      <td>8870.86</td>\n    </tr>\n    <tr>\n      <th>5003</th>\n      <th>3009</th>\n      <td>2590.90</td>\n    </tr>\n    <tr>\n      <th>5001</th>\n      <th>3007</th>\n      <td>2400.60</td>\n    </tr>\n    <tr>\n      <th>5006</th>\n      <th>3004</th>\n      <td>1983.43</td>\n    </tr>\n    <tr>\n      <th>5002</th>\n      <th>3005</th>\n      <td>1099.00</td>\n    </tr>\n    <tr>\n      <th>5005</th>\n      <th>3001</th>\n      <td>270.65</td>\n    </tr>\n    <tr>\n      <th>5002</th>\n      <th>3008</th>\n      <td>250.45</td>\n    </tr>\n    <tr>\n      <th>5007</th>\n      <th>3003</th>\n      <td>75.29</td>\n    </tr>\n  </tbody>\n</table>\n</div>"
     },
     "execution_count": 21,
     "metadata": {},
     "output_type": "execute_result"
    }
   ]
  },
  {
   "cell_type": "markdown",
   "source": [
    "### Group by column, create list for each group\n",
    "Write a Pandas program to split the following dataframe into groups based on customer id and create a list of order date for each group"
   ],
   "metadata": {
    "collapsed": false,
    "pycharm": {
     "name": "#%% md\n"
    }
   }
  },
  {
   "cell_type": "code",
   "source": [
    "# 10\n",
    "df.groupby(['customer_id'])['ord_date'].apply(list)"
   ],
   "metadata": {
    "collapsed": false,
    "pycharm": {
     "name": "#%%\n"
    }
   },
   "execution_count": 22,
   "outputs": [
    {
     "data": {
      "text/plain": "customer_id\n3001                            [2012-09-10]\n3002    [2012-10-05, 2012-09-10, 2012-04-25]\n3003                            [2012-08-17]\n3004                            [2012-10-10]\n3005                [2012-10-05, 2012-09-10]\n3007                            [2012-07-27]\n3008                            [2012-06-27]\n3009                [2012-08-17, 2012-10-10]\nName: ord_date, dtype: object"
     },
     "execution_count": 22,
     "metadata": {},
     "output_type": "execute_result"
    }
   ]
  },
  {
   "cell_type": "markdown",
   "source": [
    "### Group by and calculate monthly purchase amount\n",
    "Write a Pandas program to split the following dataframe into groups and calculate monthly purchase amount."
   ],
   "metadata": {
    "collapsed": false,
    "pycharm": {
     "name": "#%% md\n"
    }
   }
  },
  {
   "cell_type": "code",
   "source": [
    "# 11\n",
    "df['ord_date'] = pd.to_datetime(df['ord_date'])\n",
    "df.set_index('ord_date').groupby(pd.Grouper(freq='M')).agg({'purch_amt':sum})\n",
    "# df.groupby(pd.Grouper(key='ord_date',freq='M')).agg({'purch_amt':['sum']})"
   ],
   "metadata": {
    "collapsed": false,
    "pycharm": {
     "name": "#%%\n"
    }
   },
   "execution_count": 30,
   "outputs": [
    {
     "data": {
      "text/plain": "            purch_amt\nord_date             \n2012-04-30    3045.60\n2012-05-31       0.00\n2012-06-30     250.45\n2012-07-31    2400.60\n2012-08-31     185.79\n2012-09-30    6979.15\n2012-10-31    4679.59",
      "text/html": "<div>\n<style scoped>\n    .dataframe tbody tr th:only-of-type {\n        vertical-align: middle;\n    }\n\n    .dataframe tbody tr th {\n        vertical-align: top;\n    }\n\n    .dataframe thead th {\n        text-align: right;\n    }\n</style>\n<table border=\"1\" class=\"dataframe\">\n  <thead>\n    <tr style=\"text-align: right;\">\n      <th></th>\n      <th>purch_amt</th>\n    </tr>\n    <tr>\n      <th>ord_date</th>\n      <th></th>\n    </tr>\n  </thead>\n  <tbody>\n    <tr>\n      <th>2012-04-30</th>\n      <td>3045.60</td>\n    </tr>\n    <tr>\n      <th>2012-05-31</th>\n      <td>0.00</td>\n    </tr>\n    <tr>\n      <th>2012-06-30</th>\n      <td>250.45</td>\n    </tr>\n    <tr>\n      <th>2012-07-31</th>\n      <td>2400.60</td>\n    </tr>\n    <tr>\n      <th>2012-08-31</th>\n      <td>185.79</td>\n    </tr>\n    <tr>\n      <th>2012-09-30</th>\n      <td>6979.15</td>\n    </tr>\n    <tr>\n      <th>2012-10-31</th>\n      <td>4679.59</td>\n    </tr>\n  </tbody>\n</table>\n</div>"
     },
     "execution_count": 30,
     "metadata": {},
     "output_type": "execute_result"
    }
   ]
  },
  {
   "cell_type": "markdown",
   "source": [
    "### Group by month and year, aggregating totals for both\n",
    "Write a Pandas program to split the following dataframe into groups, group by month and year based on order date and find the total purchase amount year wise, month wise."
   ],
   "metadata": {
    "collapsed": false,
    "pycharm": {
     "name": "#%% md\n"
    }
   }
  },
  {
   "cell_type": "code",
   "source": [
    "# 12\n",
    "df = pd.DataFrame({\n",
    "    'ord_no':[70001,70009,70002,70004,70007,70005,70008,70010,70003,70012,70011,70013],\n",
    "    'purch_amt':[150.5,270.65,65.26,110.5,948.5,2400.6,5760,1983.43,2480.4,250.45, 75.29,3045.6],\n",
    "    'ord_date': ['05-10-2012','09-10-2012','05-10-2013','08-17-2013','10-09-2013','07-27-2014','10-09-2012','10-10-2012','10-10-2012','06-17-2014','07-08-2012','04-25-2012'],\n",
    "    'customer_id':[3001,3001,3005,3001,3005,3001,3005,3001,3005,3001,3005,3005],\n",
    "    'salesman_id': [5002,5005,5001,5003,5002,5001,5001,5006,5003,5002,5007,5001]})\n",
    "df['ord_date'] = pd.to_datetime(df['ord_date'])\n",
    "df.groupby([df['ord_date'].dt.year, df['ord_date'].dt.month]).agg({'purch_amt':sum})"
   ],
   "metadata": {
    "collapsed": false,
    "pycharm": {
     "name": "#%%\n"
    }
   },
   "execution_count": 38,
   "outputs": [
    {
     "data": {
      "text/plain": "                   purch_amt\nord_date ord_date           \n2012     4           3045.60\n         5            150.50\n         7             75.29\n         9            270.65\n         10         10223.83\n2013     5             65.26\n         8            110.50\n         10           948.50\n2014     6            250.45\n         7           2400.60",
      "text/html": "<div>\n<style scoped>\n    .dataframe tbody tr th:only-of-type {\n        vertical-align: middle;\n    }\n\n    .dataframe tbody tr th {\n        vertical-align: top;\n    }\n\n    .dataframe thead th {\n        text-align: right;\n    }\n</style>\n<table border=\"1\" class=\"dataframe\">\n  <thead>\n    <tr style=\"text-align: right;\">\n      <th></th>\n      <th></th>\n      <th>purch_amt</th>\n    </tr>\n    <tr>\n      <th>ord_date</th>\n      <th>ord_date</th>\n      <th></th>\n    </tr>\n  </thead>\n  <tbody>\n    <tr>\n      <th rowspan=\"5\" valign=\"top\">2012</th>\n      <th>4</th>\n      <td>3045.60</td>\n    </tr>\n    <tr>\n      <th>5</th>\n      <td>150.50</td>\n    </tr>\n    <tr>\n      <th>7</th>\n      <td>75.29</td>\n    </tr>\n    <tr>\n      <th>9</th>\n      <td>270.65</td>\n    </tr>\n    <tr>\n      <th>10</th>\n      <td>10223.83</td>\n    </tr>\n    <tr>\n      <th rowspan=\"3\" valign=\"top\">2013</th>\n      <th>5</th>\n      <td>65.26</td>\n    </tr>\n    <tr>\n      <th>8</th>\n      <td>110.50</td>\n    </tr>\n    <tr>\n      <th>10</th>\n      <td>948.50</td>\n    </tr>\n    <tr>\n      <th rowspan=\"2\" valign=\"top\">2014</th>\n      <th>6</th>\n      <td>250.45</td>\n    </tr>\n    <tr>\n      <th>7</th>\n      <td>2400.60</td>\n    </tr>\n  </tbody>\n</table>\n</div>"
     },
     "execution_count": 38,
     "metadata": {},
     "output_type": "execute_result"
    }
   ]
  },
  {
   "cell_type": "markdown",
   "source": [
    "### Group by column with other columns as list\n",
    "Write a Pandas program to split the following dataframe into groups based on first column and set other column values into a list of values."
   ],
   "metadata": {
    "collapsed": false,
    "pycharm": {
     "name": "#%% md\n"
    }
   }
  },
  {
   "cell_type": "code",
   "source": [
    "# 13\n",
    "df = pd.DataFrame( {'X' : [10, 10, 10, 20, 30, 30, 10],\n",
    "                    'Y' : [10, 15, 11, 20, 21, 12, 14],\n",
    "                    'Z' : [22, 20, 18, 20, 13, 10, 0]})\n",
    "df.groupby(['X'])['Y','Z'].agg(lambda x:list(x))"
   ],
   "metadata": {
    "collapsed": false,
    "pycharm": {
     "name": "#%%\n"
    }
   },
   "execution_count": 41,
   "outputs": [
    {
     "name": "stderr",
     "output_type": "stream",
     "text": [
      "C:\\Users\\Coach\\AppData\\Local\\Temp\\ipykernel_2692\\3613981559.py:5: FutureWarning: Indexing with multiple keys (implicitly converted to a tuple of keys) will be deprecated, use a list instead.\n",
      "  df.groupby(['X'])['Y','Z'].agg(lambda x:list(x))\n"
     ]
    },
    {
     "data": {
      "text/plain": "                   Y                Z\nX                                    \n10  [10, 15, 11, 14]  [22, 20, 18, 0]\n20              [20]             [20]\n30          [21, 12]         [13, 10]",
      "text/html": "<div>\n<style scoped>\n    .dataframe tbody tr th:only-of-type {\n        vertical-align: middle;\n    }\n\n    .dataframe tbody tr th {\n        vertical-align: top;\n    }\n\n    .dataframe thead th {\n        text-align: right;\n    }\n</style>\n<table border=\"1\" class=\"dataframe\">\n  <thead>\n    <tr style=\"text-align: right;\">\n      <th></th>\n      <th>Y</th>\n      <th>Z</th>\n    </tr>\n    <tr>\n      <th>X</th>\n      <th></th>\n      <th></th>\n    </tr>\n  </thead>\n  <tbody>\n    <tr>\n      <th>10</th>\n      <td>[10, 15, 11, 14]</td>\n      <td>[22, 20, 18, 0]</td>\n    </tr>\n    <tr>\n      <th>20</th>\n      <td>[20]</td>\n      <td>[20]</td>\n    </tr>\n    <tr>\n      <th>30</th>\n      <td>[21, 12]</td>\n      <td>[13, 10]</td>\n    </tr>\n  </tbody>\n</table>\n</div>"
     },
     "execution_count": 41,
     "metadata": {},
     "output_type": "execute_result"
    }
   ]
  },
  {
   "cell_type": "markdown",
   "source": [
    "### Group by all columns then count groups\n",
    "Write a Pandas program to split the following dataframe into groups based on all columns and calculate Groupby value counts on the dataframe"
   ],
   "metadata": {
    "collapsed": false,
    "pycharm": {
     "name": "#%% md\n"
    }
   }
  },
  {
   "cell_type": "code",
   "source": [
    "# 14\n",
    "df = pd.DataFrame( {'id' : [1, 2, 1, 1, 2, 1, 2],\n",
    "                    'type' : [10, 15, 11, 20, 21, 12, 14],\n",
    "                    'book' : ['Math','English','Physics','Math','English','Physics','English']})\n",
    "df.groupby(['id','type','book']).size().unstack(fill_value=0)"
   ],
   "metadata": {
    "collapsed": false,
    "pycharm": {
     "name": "#%%\n"
    }
   },
   "execution_count": 45,
   "outputs": [
    {
     "data": {
      "text/plain": "book     English  Math  Physics\nid type                        \n1  10          0     1        0\n   11          0     0        1\n   12          0     0        1\n   20          0     1        0\n2  14          1     0        0\n   15          1     0        0\n   21          1     0        0",
      "text/html": "<div>\n<style scoped>\n    .dataframe tbody tr th:only-of-type {\n        vertical-align: middle;\n    }\n\n    .dataframe tbody tr th {\n        vertical-align: top;\n    }\n\n    .dataframe thead th {\n        text-align: right;\n    }\n</style>\n<table border=\"1\" class=\"dataframe\">\n  <thead>\n    <tr style=\"text-align: right;\">\n      <th></th>\n      <th>book</th>\n      <th>English</th>\n      <th>Math</th>\n      <th>Physics</th>\n    </tr>\n    <tr>\n      <th>id</th>\n      <th>type</th>\n      <th></th>\n      <th></th>\n      <th></th>\n    </tr>\n  </thead>\n  <tbody>\n    <tr>\n      <th rowspan=\"4\" valign=\"top\">1</th>\n      <th>10</th>\n      <td>0</td>\n      <td>1</td>\n      <td>0</td>\n    </tr>\n    <tr>\n      <th>11</th>\n      <td>0</td>\n      <td>0</td>\n      <td>1</td>\n    </tr>\n    <tr>\n      <th>12</th>\n      <td>0</td>\n      <td>0</td>\n      <td>1</td>\n    </tr>\n    <tr>\n      <th>20</th>\n      <td>0</td>\n      <td>1</td>\n      <td>0</td>\n    </tr>\n    <tr>\n      <th rowspan=\"3\" valign=\"top\">2</th>\n      <th>14</th>\n      <td>1</td>\n      <td>0</td>\n      <td>0</td>\n    </tr>\n    <tr>\n      <th>15</th>\n      <td>1</td>\n      <td>0</td>\n      <td>0</td>\n    </tr>\n    <tr>\n      <th>21</th>\n      <td>1</td>\n      <td>0</td>\n      <td>0</td>\n    </tr>\n  </tbody>\n</table>\n</div>"
     },
     "execution_count": 45,
     "metadata": {},
     "output_type": "execute_result"
    }
   ]
  },
  {
   "cell_type": "markdown",
   "source": [
    "### Group by column count unique values\n",
    "Write a Pandas program to split the following dataframe into groups and count unique values of 'value' column."
   ],
   "metadata": {
    "collapsed": false,
    "pycharm": {
     "name": "#%% md\n"
    }
   }
  },
  {
   "cell_type": "code",
   "source": [
    "# 15\n",
    "df = pd.DataFrame({\n",
    "    'id': [1, 1, 2, 3, 3, 4, 4, 4],\n",
    "    'value': ['a', 'a', 'b', None, 'a', 'a', None, 'b']\n",
    "})\n",
    "df.groupby(['value']).nunique()"
   ],
   "metadata": {
    "collapsed": false,
    "pycharm": {
     "name": "#%%\n"
    }
   },
   "execution_count": 51,
   "outputs": [
    {
     "data": {
      "text/plain": "       id\nvalue    \na       3\nb       2",
      "text/html": "<div>\n<style scoped>\n    .dataframe tbody tr th:only-of-type {\n        vertical-align: middle;\n    }\n\n    .dataframe tbody tr th {\n        vertical-align: top;\n    }\n\n    .dataframe thead th {\n        text-align: right;\n    }\n</style>\n<table border=\"1\" class=\"dataframe\">\n  <thead>\n    <tr style=\"text-align: right;\">\n      <th></th>\n      <th>id</th>\n    </tr>\n    <tr>\n      <th>value</th>\n      <th></th>\n    </tr>\n  </thead>\n  <tbody>\n    <tr>\n      <th>a</th>\n      <td>3</td>\n    </tr>\n    <tr>\n      <th>b</th>\n      <td>2</td>\n    </tr>\n  </tbody>\n</table>\n</div>"
     },
     "execution_count": 51,
     "metadata": {},
     "output_type": "execute_result"
    }
   ]
  },
  {
   "cell_type": "markdown",
   "source": [
    "### Group by and list all keys in group by object\n",
    " Write a Pandas program to split a given dataframe into groups and list all the keys from the GroupBy object."
   ],
   "metadata": {
    "collapsed": false,
    "pycharm": {
     "name": "#%% md\n"
    }
   }
  },
  {
   "cell_type": "code",
   "source": [
    "# 16\n",
    "df = pd.DataFrame({\n",
    "    'school_code': ['s001','s002','s003','s001','s002','s004'],\n",
    "    'class': ['V', 'V', 'VI', 'VI', 'V', 'VI'],\n",
    "    'name': ['Alberto Franco','Gino Mcneill','Ryan Parkes', 'Eesha Hinton', 'Gino Mcneill', 'David Parkes'],\n",
    "    'date_Of_Birth ': ['15/05/2002','17/05/2002','16/02/1999','25/09/1998','11/05/2002','15/09/1997'],\n",
    "    'age': [12, 12, 13, 13, 14, 12],\n",
    "    'height': [173, 192, 186, 167, 151, 159],\n",
    "    'weight': [35, 32, 33, 30, 31, 32],\n",
    "    'address': ['street1', 'street2', 'street3', 'street1', 'street2', 'street4']},\n",
    "    index=['S1', 'S2', 'S3', 'S4', 'S5', 'S6'])\n",
    "groups = df.groupby(['school_code'])\n",
    "print(groups.groups.keys())"
   ],
   "metadata": {
    "collapsed": false,
    "pycharm": {
     "name": "#%%\n"
    }
   },
   "execution_count": 54,
   "outputs": [
    {
     "name": "stdout",
     "output_type": "stream",
     "text": [
      "dict_keys(['s001', 's002', 's003', 's004'])\n"
     ]
    }
   ]
  },
  {
   "cell_type": "markdown",
   "source": [
    "### Group by and create new column with counting groups\n",
    "Write a Pandas program to split a given dataframe into groups and create a new column with count from GroupBy."
   ],
   "metadata": {
    "collapsed": false,
    "pycharm": {
     "name": "#%% md\n"
    }
   }
  },
  {
   "cell_type": "code",
   "source": [
    "# 17\n",
    "df = pd.DataFrame({\n",
    "    'book_name':['Book1','Book2','Book3','Book4','Book1','Book2','Book3','Book5'],\n",
    "    'book_type':['Math','Physics','Computer','Science','Math','Physics','Computer','English'],\n",
    "    'book_id':[1,2,3,4,1,2,3,5]})\n",
    "df.groupby(['book_name','book_type']).size().reset_index(name='Count')"
   ],
   "metadata": {
    "collapsed": false,
    "pycharm": {
     "name": "#%%\n"
    }
   },
   "execution_count": 56,
   "outputs": [
    {
     "data": {
      "text/plain": "  book_name book_type  Count\n0     Book1      Math      2\n1     Book2   Physics      2\n2     Book3  Computer      2\n3     Book4   Science      1\n4     Book5   English      1",
      "text/html": "<div>\n<style scoped>\n    .dataframe tbody tr th:only-of-type {\n        vertical-align: middle;\n    }\n\n    .dataframe tbody tr th {\n        vertical-align: top;\n    }\n\n    .dataframe thead th {\n        text-align: right;\n    }\n</style>\n<table border=\"1\" class=\"dataframe\">\n  <thead>\n    <tr style=\"text-align: right;\">\n      <th></th>\n      <th>book_name</th>\n      <th>book_type</th>\n      <th>Count</th>\n    </tr>\n  </thead>\n  <tbody>\n    <tr>\n      <th>0</th>\n      <td>Book1</td>\n      <td>Math</td>\n      <td>2</td>\n    </tr>\n    <tr>\n      <th>1</th>\n      <td>Book2</td>\n      <td>Physics</td>\n      <td>2</td>\n    </tr>\n    <tr>\n      <th>2</th>\n      <td>Book3</td>\n      <td>Computer</td>\n      <td>2</td>\n    </tr>\n    <tr>\n      <th>3</th>\n      <td>Book4</td>\n      <td>Science</td>\n      <td>1</td>\n    </tr>\n    <tr>\n      <th>4</th>\n      <td>Book5</td>\n      <td>English</td>\n      <td>1</td>\n    </tr>\n  </tbody>\n</table>\n</div>"
     },
     "execution_count": 56,
     "metadata": {},
     "output_type": "execute_result"
    }
   ]
  },
  {
   "cell_type": "markdown",
   "source": [
    "### Group by with bin counts for groups\n",
    "Write a Pandas program to split a given dataframe into groups with bin counts"
   ],
   "metadata": {
    "collapsed": false,
    "pycharm": {
     "name": "#%% md\n"
    }
   }
  },
  {
   "cell_type": "code",
   "source": [
    "# 18\n",
    "df = pd.DataFrame({\n",
    "    'ord_no':[70001,70009,70002,70004,70007,70005,70008,70010,70003,70012,70011,70013],\n",
    "    'purch_amt':[150.5,270.65,65.26,110.5,948.5,2400.6,5760,1983.43,2480.4,250.45, 75.29,3045.6],\n",
    "    'customer_id':[3005,3001,3002,3009,3005,3007,3002,3004,3009,3008,3003,3002],\n",
    "    'sales_id':[5002,5003,5004,5003,5002,5001,5005,5007,5008,5004,5005,5001]})\n",
    "df.groupby(['customer_id', pd.cut(df.sales_id,3)]).size().unstack()"
   ],
   "metadata": {
    "collapsed": false,
    "pycharm": {
     "name": "#%%\n"
    }
   },
   "execution_count": 60,
   "outputs": [
    {
     "data": {
      "text/plain": "sales_id     (5000.993, 5003.333]  (5003.333, 5005.667]  (5005.667, 5008.0]\ncustomer_id                                                                \n3001                            1                     0                   0\n3002                            1                     2                   0\n3003                            0                     1                   0\n3004                            0                     0                   1\n3005                            2                     0                   0\n3007                            1                     0                   0\n3008                            0                     1                   0\n3009                            1                     0                   1",
      "text/html": "<div>\n<style scoped>\n    .dataframe tbody tr th:only-of-type {\n        vertical-align: middle;\n    }\n\n    .dataframe tbody tr th {\n        vertical-align: top;\n    }\n\n    .dataframe thead th {\n        text-align: right;\n    }\n</style>\n<table border=\"1\" class=\"dataframe\">\n  <thead>\n    <tr style=\"text-align: right;\">\n      <th>sales_id</th>\n      <th>(5000.993, 5003.333]</th>\n      <th>(5003.333, 5005.667]</th>\n      <th>(5005.667, 5008.0]</th>\n    </tr>\n    <tr>\n      <th>customer_id</th>\n      <th></th>\n      <th></th>\n      <th></th>\n    </tr>\n  </thead>\n  <tbody>\n    <tr>\n      <th>3001</th>\n      <td>1</td>\n      <td>0</td>\n      <td>0</td>\n    </tr>\n    <tr>\n      <th>3002</th>\n      <td>1</td>\n      <td>2</td>\n      <td>0</td>\n    </tr>\n    <tr>\n      <th>3003</th>\n      <td>0</td>\n      <td>1</td>\n      <td>0</td>\n    </tr>\n    <tr>\n      <th>3004</th>\n      <td>0</td>\n      <td>0</td>\n      <td>1</td>\n    </tr>\n    <tr>\n      <th>3005</th>\n      <td>2</td>\n      <td>0</td>\n      <td>0</td>\n    </tr>\n    <tr>\n      <th>3007</th>\n      <td>1</td>\n      <td>0</td>\n      <td>0</td>\n    </tr>\n    <tr>\n      <th>3008</th>\n      <td>0</td>\n      <td>1</td>\n      <td>0</td>\n    </tr>\n    <tr>\n      <th>3009</th>\n      <td>1</td>\n      <td>0</td>\n      <td>1</td>\n    </tr>\n  </tbody>\n</table>\n</div>"
     },
     "execution_count": 60,
     "metadata": {},
     "output_type": "execute_result"
    }
   ]
  },
  {
   "cell_type": "markdown",
   "source": [
    "### Group by 2 columns aggregate for each value\n",
    "Write a Pandas program to split a given dataframe into groups with multiple aggregations"
   ],
   "metadata": {
    "collapsed": false,
    "pycharm": {
     "name": "#%% md\n"
    }
   }
  },
  {
   "cell_type": "code",
   "source": [
    "# 19\n",
    "df = pd.DataFrame({\n",
    "    'school_code': ['s001','s002','s003','s001','s002','s001'],\n",
    "    'class': ['V', 'V', 'VI', 'VI', 'V', 'VI'],\n",
    "    'name': ['Alberto Franco','Gino Mcneill','Ryan Parkes', 'Eesha Hinton', 'Gino Mcneill', 'David Parkes'],\n",
    "    'date_Of_Birth ': ['15/05/2002','17/05/2002','16/02/1999','25/09/1998','11/05/2002','15/09/1997'],\n",
    "    'age': [12, 12, 13, 13, 14, 12],\n",
    "    'height': [173, 192, 186, 167, 151, 159],\n",
    "    'weight': [35, 32, 33, 30, 31, 32],\n",
    "    'address': ['street1', 'street2', 'street3', 'street1', 'street2', 'street4']},\n",
    "    index=['S1', 'S2', 'S3', 'S4', 'S5', 'S6'])\n",
    "\n",
    "df.groupby(['school_code','class']).agg({'height':['mean','min','max'],'age':['mean','min','max']})"
   ],
   "metadata": {
    "collapsed": false,
    "pycharm": {
     "name": "#%%\n"
    }
   },
   "execution_count": 61,
   "outputs": [
    {
     "data": {
      "text/plain": "                  height             age        \n                    mean  min  max  mean min max\nschool_code class                               \ns001        V      173.0  173  173  12.0  12  12\n            VI     163.0  159  167  12.5  12  13\ns002        V      171.5  151  192  13.0  12  14\ns003        VI     186.0  186  186  13.0  13  13",
      "text/html": "<div>\n<style scoped>\n    .dataframe tbody tr th:only-of-type {\n        vertical-align: middle;\n    }\n\n    .dataframe tbody tr th {\n        vertical-align: top;\n    }\n\n    .dataframe thead tr th {\n        text-align: left;\n    }\n\n    .dataframe thead tr:last-of-type th {\n        text-align: right;\n    }\n</style>\n<table border=\"1\" class=\"dataframe\">\n  <thead>\n    <tr>\n      <th></th>\n      <th></th>\n      <th colspan=\"3\" halign=\"left\">height</th>\n      <th colspan=\"3\" halign=\"left\">age</th>\n    </tr>\n    <tr>\n      <th></th>\n      <th></th>\n      <th>mean</th>\n      <th>min</th>\n      <th>max</th>\n      <th>mean</th>\n      <th>min</th>\n      <th>max</th>\n    </tr>\n    <tr>\n      <th>school_code</th>\n      <th>class</th>\n      <th></th>\n      <th></th>\n      <th></th>\n      <th></th>\n      <th></th>\n      <th></th>\n    </tr>\n  </thead>\n  <tbody>\n    <tr>\n      <th rowspan=\"2\" valign=\"top\">s001</th>\n      <th>V</th>\n      <td>173.0</td>\n      <td>173</td>\n      <td>173</td>\n      <td>12.0</td>\n      <td>12</td>\n      <td>12</td>\n    </tr>\n    <tr>\n      <th>VI</th>\n      <td>163.0</td>\n      <td>159</td>\n      <td>167</td>\n      <td>12.5</td>\n      <td>12</td>\n      <td>13</td>\n    </tr>\n    <tr>\n      <th>s002</th>\n      <th>V</th>\n      <td>171.5</td>\n      <td>151</td>\n      <td>192</td>\n      <td>13.0</td>\n      <td>12</td>\n      <td>14</td>\n    </tr>\n    <tr>\n      <th>s003</th>\n      <th>VI</th>\n      <td>186.0</td>\n      <td>186</td>\n      <td>186</td>\n      <td>13.0</td>\n      <td>13</td>\n      <td>13</td>\n    </tr>\n  </tbody>\n</table>\n</div>"
     },
     "execution_count": 61,
     "metadata": {},
     "output_type": "execute_result"
    }
   ]
  },
  {
   "cell_type": "markdown",
   "source": [
    "### Group by and display target column as list of unique values\n",
    "Write a Pandas program to split a given dataframe into groups and display target column as a list of unique values."
   ],
   "metadata": {
    "collapsed": false,
    "pycharm": {
     "name": "#%% md\n"
    }
   }
  },
  {
   "cell_type": "code",
   "source": [
    "# 20\n",
    "df = pd.DataFrame( {'id' : ['A','A','A','A','A','A','B','B','B','B','B'],\n",
    "                    'type' : [1,1,1,1,2,2,1,1,1,2,2],\n",
    "                    'book' : ['Math','Math','English','Physics','Math','English','Physics','English','Physics','English','English']})\n",
    "df.groupby(['id','type'])['book'].apply(set).apply(list)"
   ],
   "metadata": {
    "collapsed": false,
    "pycharm": {
     "name": "#%%\n"
    }
   },
   "execution_count": 67,
   "outputs": [
    {
     "data": {
      "text/plain": "id  type\nA   1       [Math, English, Physics]\n    2                [Math, English]\nB   1             [English, Physics]\n    2                      [English]\nName: book, dtype: object"
     },
     "execution_count": 67,
     "metadata": {},
     "output_type": "execute_result"
    }
   ]
  },
  {
   "cell_type": "markdown",
   "source": [
    "### Groups and calculate quarterly purchase amount\n",
    "Write a Pandas program to split the following dataframe into groups and calculate quarterly purchase amount"
   ],
   "metadata": {
    "collapsed": false,
    "pycharm": {
     "name": "#%% md\n"
    }
   }
  },
  {
   "cell_type": "code",
   "source": [
    "# 21\n",
    "df = pd.DataFrame({\n",
    "    'ord_no':[70001,70009,70002,70004,70007,70005,70008,70010,70003,70012,70011,70013],\n",
    "    'purch_amt':[150.5,270.65,65.26,110.5,948.5,2400.6,5760,1983.43,2480.4,250.45, 75.29,3045.6],\n",
    "    'ord_date': ['05-10-2012','09-10-2012','05-10-2012','08-17-2012','10-09-2012','07-27-2012','10-09-2012','10-10-2012','10-10-2012','06-17-2012','07-08-2012','04-25-2012'],\n",
    "    'customer_id':[3001,3001,3005,3001,3005,3001,3005,3001,3005,3001,3005,3005],\n",
    "    'salesman_id': [5002,5005,5001,5003,5002,5001,5001,5006,5003,5002,5007,5001]})\n",
    "df['ord_date'] = pd.to_datetime(df['ord_date'])\n",
    "df.groupby(pd.Grouper(key='ord_date',freq='Q')).agg({'purch_amt':sum})"
   ],
   "metadata": {
    "collapsed": false,
    "pycharm": {
     "name": "#%%\n"
    }
   },
   "execution_count": 69,
   "outputs": [
    {
     "data": {
      "text/plain": "            purch_amt\nord_date             \n2012-06-30    3511.81\n2012-09-30    2857.04\n2012-12-31   11172.33",
      "text/html": "<div>\n<style scoped>\n    .dataframe tbody tr th:only-of-type {\n        vertical-align: middle;\n    }\n\n    .dataframe tbody tr th {\n        vertical-align: top;\n    }\n\n    .dataframe thead th {\n        text-align: right;\n    }\n</style>\n<table border=\"1\" class=\"dataframe\">\n  <thead>\n    <tr style=\"text-align: right;\">\n      <th></th>\n      <th>purch_amt</th>\n    </tr>\n    <tr>\n      <th>ord_date</th>\n      <th></th>\n    </tr>\n  </thead>\n  <tbody>\n    <tr>\n      <th>2012-06-30</th>\n      <td>3511.81</td>\n    </tr>\n    <tr>\n      <th>2012-09-30</th>\n      <td>2857.04</td>\n    </tr>\n    <tr>\n      <th>2012-12-31</th>\n      <td>11172.33</td>\n    </tr>\n  </tbody>\n</table>\n</div>"
     },
     "execution_count": 69,
     "metadata": {},
     "output_type": "execute_result"
    }
   ]
  },
  {
   "cell_type": "markdown",
   "source": [
    "### Group by with aggregate and custom column name for each school\n",
    "Write a Pandas program to split the following dataframe into groups by school code and get mean, min, and max value of age with customized column name for each school."
   ],
   "metadata": {
    "collapsed": false,
    "pycharm": {
     "name": "#%% md\n"
    }
   }
  },
  {
   "cell_type": "code",
   "source": [
    "# 22\n",
    "df = pd.DataFrame({\n",
    "    'school_code': ['s001','s002','s003','s001','s002','s004'],\n",
    "    'class': ['V', 'V', 'VI', 'VI', 'V', 'VI'],\n",
    "    'name': ['Alberto Franco','Gino Mcneill','Ryan Parkes', 'Eesha Hinton', 'Gino Mcneill', 'David Parkes'],\n",
    "    'date_Of_Birth ': ['15/05/2002','17/05/2002','16/02/1999','25/09/1998','11/05/2002','15/09/1997'],\n",
    "    'age': [12, 12, 13, 13, 14, 12],\n",
    "    ' height ': [173, 192, 186, 167, 151, 159],\n",
    "    'weight': [35, 32, 33, 30, 31, 32],\n",
    "    'address': ['street1', 'street2', 'street3', 'street1', 'street2', 'street4']},\n",
    "    index=['S1', 'S2', 'S3', 'S4', 'S5', 'S6'])\n",
    "df.groupby(['school_code']).agg(min_age = ('age','min'),max_age = ('age','max'),mean_age = ('age','mean'))"
   ],
   "metadata": {
    "collapsed": false,
    "pycharm": {
     "name": "#%%\n"
    }
   },
   "execution_count": 71,
   "outputs": [
    {
     "data": {
      "text/plain": "             min_age  max_age  mean_age\nschool_code                            \ns001              12       13      12.5\ns002              12       14      13.0\ns003              13       13      13.0\ns004              12       12      12.0",
      "text/html": "<div>\n<style scoped>\n    .dataframe tbody tr th:only-of-type {\n        vertical-align: middle;\n    }\n\n    .dataframe tbody tr th {\n        vertical-align: top;\n    }\n\n    .dataframe thead th {\n        text-align: right;\n    }\n</style>\n<table border=\"1\" class=\"dataframe\">\n  <thead>\n    <tr style=\"text-align: right;\">\n      <th></th>\n      <th>min_age</th>\n      <th>max_age</th>\n      <th>mean_age</th>\n    </tr>\n    <tr>\n      <th>school_code</th>\n      <th></th>\n      <th></th>\n      <th></th>\n    </tr>\n  </thead>\n  <tbody>\n    <tr>\n      <th>s001</th>\n      <td>12</td>\n      <td>13</td>\n      <td>12.5</td>\n    </tr>\n    <tr>\n      <th>s002</th>\n      <td>12</td>\n      <td>14</td>\n      <td>13.0</td>\n    </tr>\n    <tr>\n      <th>s003</th>\n      <td>13</td>\n      <td>13</td>\n      <td>13.0</td>\n    </tr>\n    <tr>\n      <th>s004</th>\n      <td>12</td>\n      <td>12</td>\n      <td>12.0</td>\n    </tr>\n  </tbody>\n</table>\n</div>"
     },
     "execution_count": 71,
     "metadata": {},
     "output_type": "execute_result"
    }
   ]
  },
  {
   "cell_type": "markdown",
   "source": [
    "### Group on customer id and calculate the number of customers starting with 'C', the list of all products and the difference of maximum purchase amount and minimum purchase amount."
   ],
   "metadata": {
    "collapsed": false,
    "pycharm": {
     "name": "#%% md\n"
    }
   }
  },
  {
   "cell_type": "code",
   "source": [
    "# 23\n",
    "df = pd.DataFrame({\n",
    "    'ord_no':[70001,70009,70002,70004,70007,70005,70008,70010,70003,70012,70011,70013],\n",
    "    'purch_amt':[150.5, 270.65, 65.26, 110.5, 948.5, 2400.6, 5760, 1983.43, 2480.4, 250.45, 75.29, 3045.6],\n",
    "    'ord_date': ['05-10-2012','09-10-2012','05-10-2012','08-17-2012','10-09-2012','07-27-2012','10-09-2012','10-10-2012','10-10-2012','06-17-2012','07-08-2012','04-25-2012'],\n",
    "    'customer_id':['C3001','C3001','D3005','D3001','C3005','D3001','C3005','D3001','D3005','C3001','D3005','D3005'],\n",
    "    'salesman_id': [5002,5005,5001,5003,5002,5001,5001,5006,5003,5002,5007,5001]})\n",
    "result = df.groupby(['salesman_id']).agg(customer_id_start_C = ('customer_id', lambda x: (x.str[0] == 'C').sum()),\n",
    "         customer_id_list = ('customer_id', lambda x: ', '.join(x)),\n",
    "         purchase_amt_gap   = ('purch_amt', lambda x: x.max()-x.min())\n",
    "         )\n",
    "result"
   ],
   "metadata": {
    "collapsed": false,
    "pycharm": {
     "name": "#%%\n"
    }
   },
   "execution_count": 73,
   "outputs": [
    {
     "data": {
      "text/plain": "             customer_id_start_C            customer_id_list  purchase_amt_gap\nsalesman_id                                                                   \n5001                           1  D3005, D3001, C3005, D3005           5694.74\n5002                           3         C3001, C3005, C3001            798.00\n5003                           0                D3001, D3005           2369.90\n5005                           1                       C3001              0.00\n5006                           0                       D3001              0.00\n5007                           0                       D3005              0.00",
      "text/html": "<div>\n<style scoped>\n    .dataframe tbody tr th:only-of-type {\n        vertical-align: middle;\n    }\n\n    .dataframe tbody tr th {\n        vertical-align: top;\n    }\n\n    .dataframe thead th {\n        text-align: right;\n    }\n</style>\n<table border=\"1\" class=\"dataframe\">\n  <thead>\n    <tr style=\"text-align: right;\">\n      <th></th>\n      <th>customer_id_start_C</th>\n      <th>customer_id_list</th>\n      <th>purchase_amt_gap</th>\n    </tr>\n    <tr>\n      <th>salesman_id</th>\n      <th></th>\n      <th></th>\n      <th></th>\n    </tr>\n  </thead>\n  <tbody>\n    <tr>\n      <th>5001</th>\n      <td>1</td>\n      <td>D3005, D3001, C3005, D3005</td>\n      <td>5694.74</td>\n    </tr>\n    <tr>\n      <th>5002</th>\n      <td>3</td>\n      <td>C3001, C3005, C3001</td>\n      <td>798.00</td>\n    </tr>\n    <tr>\n      <th>5003</th>\n      <td>0</td>\n      <td>D3001, D3005</td>\n      <td>2369.90</td>\n    </tr>\n    <tr>\n      <th>5005</th>\n      <td>1</td>\n      <td>C3001</td>\n      <td>0.00</td>\n    </tr>\n    <tr>\n      <th>5006</th>\n      <td>0</td>\n      <td>D3001</td>\n      <td>0.00</td>\n    </tr>\n    <tr>\n      <th>5007</th>\n      <td>0</td>\n      <td>D3005</td>\n      <td>0.00</td>\n    </tr>\n  </tbody>\n</table>\n</div>"
     },
     "execution_count": 73,
     "metadata": {},
     "output_type": "execute_result"
    }
   ]
  },
  {
   "cell_type": "markdown",
   "source": [
    "### Group and summarize and percentage for each group\n",
    "Write a Pandas program to split the following datasets into groups on customer_id to summarize purch_amt and calculate percentage of purch_amt in each group."
   ],
   "metadata": {
    "collapsed": false,
    "pycharm": {
     "name": "#%% md\n"
    }
   }
  },
  {
   "cell_type": "code",
   "source": [
    "# 24\n",
    "df = pd.DataFrame({\n",
    "    'ord_no':[70001,70009,70002,70004,70007,70005,70008,70010,70003,70012,70011,70013],\n",
    "    'purch_amt':[150.5, 270.65, 65.26, 110.5, 948.5, 2400.6, 5760, 1983.43, 2480.4, 250.45, 75.29, 3045.6],\n",
    "    'ord_date': ['05-10-2012','09-10-2012','05-10-2012','08-17-2012','10-09-2012','07-27-2012','10-09-2012','10-10-2012','10-10-2012','06-17-2012','07-08-2012','04-25-2012'],\n",
    "    'customer_id':['C3001','C3001','D3005','D3001','C3005','D3001','C3005','D3001','D3005','C3001','D3005','D3005'],\n",
    "    'salesman_id': [5002,5005,5001,5003,5002,5001,5001,5006,5003,5002,5007,5001]})\n",
    "\n",
    "gr_data = df.groupby(['customer_id','salesman_id']).agg({'purch_amt': 'sum'})\n",
    "gr_data[\"% (Purch Amt.)\"] = gr_data.apply(lambda x:  100*x / x.sum())\n",
    "print(gr_data)"
   ],
   "metadata": {
    "collapsed": false,
    "pycharm": {
     "name": "#%%\n"
    }
   },
   "execution_count": 79,
   "outputs": [
    {
     "name": "stdout",
     "output_type": "stream",
     "text": [
      "                         purch_amt  % (Purch Amt.)\n",
      "customer_id salesman_id                           \n",
      "C3001       5002            400.95        2.285764\n",
      "            5005            270.65        1.542941\n",
      "C3005       5001           5760.00       32.837016\n",
      "            5002            948.50        5.407276\n",
      "D3001       5001           2400.60       13.685510\n",
      "            5003            110.50        0.629946\n",
      "            5006           1983.43       11.307278\n",
      "D3005       5001           3110.86       17.734611\n",
      "            5003           2480.40       14.140440\n",
      "            5007             75.29        0.429219\n"
     ]
    }
   ]
  },
  {
   "cell_type": "markdown",
   "source": [
    "### Group by column, aggregate by column and rename aggregations\n",
    "Write a Pandas program to split a dataset, group by one column and get mean, min, and max values by group, also change the column name of the aggregated metric."
   ],
   "metadata": {
    "collapsed": false,
    "pycharm": {
     "name": "#%% md\n"
    }
   }
  },
  {
   "cell_type": "code",
   "source": [
    "# 25\n",
    "df.groupby(['customer_id']).agg(min_purch = ('purch_amt','min'),max_purch = ('purch_amt','max'),mean_purch = ('purch_amt','mean'))"
   ],
   "metadata": {
    "collapsed": false,
    "pycharm": {
     "name": "#%%\n"
    }
   },
   "execution_count": 80,
   "outputs": [
    {
     "data": {
      "text/plain": "             min_purch  max_purch   mean_purch\ncustomer_id                                   \nC3001           150.50     270.65   223.866667\nC3005           948.50    5760.00  3354.250000\nD3001           110.50    2400.60  1498.176667\nD3005            65.26    3045.60  1416.637500",
      "text/html": "<div>\n<style scoped>\n    .dataframe tbody tr th:only-of-type {\n        vertical-align: middle;\n    }\n\n    .dataframe tbody tr th {\n        vertical-align: top;\n    }\n\n    .dataframe thead th {\n        text-align: right;\n    }\n</style>\n<table border=\"1\" class=\"dataframe\">\n  <thead>\n    <tr style=\"text-align: right;\">\n      <th></th>\n      <th>min_purch</th>\n      <th>max_purch</th>\n      <th>mean_purch</th>\n    </tr>\n    <tr>\n      <th>customer_id</th>\n      <th></th>\n      <th></th>\n      <th></th>\n    </tr>\n  </thead>\n  <tbody>\n    <tr>\n      <th>C3001</th>\n      <td>150.50</td>\n      <td>270.65</td>\n      <td>223.866667</td>\n    </tr>\n    <tr>\n      <th>C3005</th>\n      <td>948.50</td>\n      <td>5760.00</td>\n      <td>3354.250000</td>\n    </tr>\n    <tr>\n      <th>D3001</th>\n      <td>110.50</td>\n      <td>2400.60</td>\n      <td>1498.176667</td>\n    </tr>\n    <tr>\n      <th>D3005</th>\n      <td>65.26</td>\n      <td>3045.60</td>\n      <td>1416.637500</td>\n    </tr>\n  </tbody>\n</table>\n</div>"
     },
     "execution_count": 80,
     "metadata": {},
     "output_type": "execute_result"
    }
   ]
  },
  {
   "cell_type": "markdown",
   "source": [
    "### Group by two columns and convert other columns to dictionary\n",
    "Write a Pandas program to split a given dataset, group by two columns and convert other columns of the dataframe into a dictionary with column header as key."
   ],
   "metadata": {
    "collapsed": false,
    "pycharm": {
     "name": "#%% md\n"
    }
   }
  },
  {
   "cell_type": "code",
   "source": [
    "# 26\n",
    "df = pd.DataFrame({\n",
    "    'school_code': ['s001','s002','s003','s001','s002','s004'],\n",
    "    'class': ['V', 'V', 'VI', 'VI', 'V', 'VI'],\n",
    "    'name': ['Alberto Franco','Gino Mcneill','Ryan Parkes', 'Eesha Hinton', 'Gino Mcneill', 'David Parkes'],\n",
    "    'date_Of_Birth ': ['15/05/2002','17/05/2002','16/02/1999','25/09/1998','11/05/2002','15/09/1997'],\n",
    "    'age': [12, 12, 13, 13, 14, 12],\n",
    "    'height': [173, 192, 186, 167, 151, 159],\n",
    "    'weight': [35, 32, 33, 30, 31, 32],\n",
    "    'address': ['street1', 'street2', 'street3', 'street1', 'street2', 'street4']},\n",
    "    index=['S1', 'S2', 'S3', 'S4', 'S5', 'S6'])\n",
    "\n",
    "dict_data_list = list()\n",
    "\n",
    "for gg, dd in df.groupby(['school_code','class']):\n",
    "    group = dict(zip(['school_code','class'], gg))\n",
    "    ocolumns_list = list()\n",
    "    for _, data in dd.iterrows():\n",
    "        data = data.drop(labels=['school_code','class'])\n",
    "        ocolumns_list.append(data.to_dict())\n",
    "    group['other_columns'] = ocolumns_list\n",
    "    dict_data_list.append(group)\n",
    "\n",
    "print(dict_data_list)"
   ],
   "metadata": {
    "collapsed": false,
    "pycharm": {
     "name": "#%%\n"
    }
   },
   "execution_count": 88,
   "outputs": [
    {
     "name": "stdout",
     "output_type": "stream",
     "text": [
      "[{'school_code': 's001', 'class': 'V', 'other_columns': [{'name': 'Alberto Franco', 'date_Of_Birth ': '15/05/2002', 'age': 12, 'height': 173, 'weight': 35, 'address': 'street1'}]}, {'school_code': 's001', 'class': 'VI', 'other_columns': [{'name': 'Eesha Hinton', 'date_Of_Birth ': '25/09/1998', 'age': 13, 'height': 167, 'weight': 30, 'address': 'street1'}]}, {'school_code': 's002', 'class': 'V', 'other_columns': [{'name': 'Gino Mcneill', 'date_Of_Birth ': '17/05/2002', 'age': 12, 'height': 192, 'weight': 32, 'address': 'street2'}, {'name': 'Gino Mcneill', 'date_Of_Birth ': '11/05/2002', 'age': 14, 'height': 151, 'weight': 31, 'address': 'street2'}]}, {'school_code': 's003', 'class': 'VI', 'other_columns': [{'name': 'Ryan Parkes', 'date_Of_Birth ': '16/02/1999', 'age': 13, 'height': 186, 'weight': 33, 'address': 'street3'}]}, {'school_code': 's004', 'class': 'VI', 'other_columns': [{'name': 'David Parkes', 'date_Of_Birth ': '15/09/1997', 'age': 12, 'height': 159, 'weight': 32, 'address': 'street4'}]}]\n"
     ]
    }
   ]
  },
  {
   "cell_type": "markdown",
   "source": [
    "### Group and apply one aggregate to a few columns, then another to the rest\n",
    "Write a Pandas program to split a given dataset, group by one column and apply an aggregate function to few columns and another aggregate function to the rest of the columns of the dataframe."
   ],
   "metadata": {
    "collapsed": false,
    "pycharm": {
     "name": "#%% md\n"
    }
   }
  },
  {
   "cell_type": "code",
   "execution_count": 89,
   "outputs": [
    {
     "data": {
      "text/plain": "             sale_jan  sale_feb  sale_mar     sale_apr  sale_may     sale_jun  \\\nsalesman_id                                                                     \n5001          5271.46   7221.46  11271.46  1575.365000  1567.865  3062.865000   \n5002          2349.45   1099.45   1349.45   449.816667   443.150   449.816667   \n5003           590.90   2590.90   2590.90  1345.450000  1395.450  1295.450000   \n5005           270.65    170.65    270.65   270.650000   270.650   270.650000   \n5006          2983.43   1983.43   1983.43  1983.430000  1983.430   983.430000   \n5007            75.29     75.29     75.29    75.290000    75.290    75.290000   \n\n                sale_jul     sale_aug     sale_sep     sale_oct     sale_nov  \\\nsalesman_id                                                                    \n5001         2817.865000  2317.865000  2267.865000  2817.865000  2825.365000   \n5002          716.483333   449.816667   449.816667   449.816667   449.816667   \n5003         1345.450000  1295.450000  1295.450000  1295.450000  1295.450000   \n5005          270.650000    70.650000   270.650000   270.650000   270.650000   \n5006          983.430000  1983.430000  1983.430000  1983.430000  1983.430000   \n5007           75.290000    75.290000    75.290000    75.290000    75.290000   \n\n                sale_dec  \nsalesman_id               \n5001         2817.865000  \n5002          449.816667  \n5003         1295.450000  \n5005           70.650000  \n5006         1983.430000  \n5007           75.290000  ",
      "text/html": "<div>\n<style scoped>\n    .dataframe tbody tr th:only-of-type {\n        vertical-align: middle;\n    }\n\n    .dataframe tbody tr th {\n        vertical-align: top;\n    }\n\n    .dataframe thead th {\n        text-align: right;\n    }\n</style>\n<table border=\"1\" class=\"dataframe\">\n  <thead>\n    <tr style=\"text-align: right;\">\n      <th></th>\n      <th>sale_jan</th>\n      <th>sale_feb</th>\n      <th>sale_mar</th>\n      <th>sale_apr</th>\n      <th>sale_may</th>\n      <th>sale_jun</th>\n      <th>sale_jul</th>\n      <th>sale_aug</th>\n      <th>sale_sep</th>\n      <th>sale_oct</th>\n      <th>sale_nov</th>\n      <th>sale_dec</th>\n    </tr>\n    <tr>\n      <th>salesman_id</th>\n      <th></th>\n      <th></th>\n      <th></th>\n      <th></th>\n      <th></th>\n      <th></th>\n      <th></th>\n      <th></th>\n      <th></th>\n      <th></th>\n      <th></th>\n      <th></th>\n    </tr>\n  </thead>\n  <tbody>\n    <tr>\n      <th>5001</th>\n      <td>5271.46</td>\n      <td>7221.46</td>\n      <td>11271.46</td>\n      <td>1575.365000</td>\n      <td>1567.865</td>\n      <td>3062.865000</td>\n      <td>2817.865000</td>\n      <td>2317.865000</td>\n      <td>2267.865000</td>\n      <td>2817.865000</td>\n      <td>2825.365000</td>\n      <td>2817.865000</td>\n    </tr>\n    <tr>\n      <th>5002</th>\n      <td>2349.45</td>\n      <td>1099.45</td>\n      <td>1349.45</td>\n      <td>449.816667</td>\n      <td>443.150</td>\n      <td>449.816667</td>\n      <td>716.483333</td>\n      <td>449.816667</td>\n      <td>449.816667</td>\n      <td>449.816667</td>\n      <td>449.816667</td>\n      <td>449.816667</td>\n    </tr>\n    <tr>\n      <th>5003</th>\n      <td>590.90</td>\n      <td>2590.90</td>\n      <td>2590.90</td>\n      <td>1345.450000</td>\n      <td>1395.450</td>\n      <td>1295.450000</td>\n      <td>1345.450000</td>\n      <td>1295.450000</td>\n      <td>1295.450000</td>\n      <td>1295.450000</td>\n      <td>1295.450000</td>\n      <td>1295.450000</td>\n    </tr>\n    <tr>\n      <th>5005</th>\n      <td>270.65</td>\n      <td>170.65</td>\n      <td>270.65</td>\n      <td>270.650000</td>\n      <td>270.650</td>\n      <td>270.650000</td>\n      <td>270.650000</td>\n      <td>70.650000</td>\n      <td>270.650000</td>\n      <td>270.650000</td>\n      <td>270.650000</td>\n      <td>70.650000</td>\n    </tr>\n    <tr>\n      <th>5006</th>\n      <td>2983.43</td>\n      <td>1983.43</td>\n      <td>1983.43</td>\n      <td>1983.430000</td>\n      <td>1983.430</td>\n      <td>983.430000</td>\n      <td>983.430000</td>\n      <td>1983.430000</td>\n      <td>1983.430000</td>\n      <td>1983.430000</td>\n      <td>1983.430000</td>\n      <td>1983.430000</td>\n    </tr>\n    <tr>\n      <th>5007</th>\n      <td>75.29</td>\n      <td>75.29</td>\n      <td>75.29</td>\n      <td>75.290000</td>\n      <td>75.290</td>\n      <td>75.290000</td>\n      <td>75.290000</td>\n      <td>75.290000</td>\n      <td>75.290000</td>\n      <td>75.290000</td>\n      <td>75.290000</td>\n      <td>75.290000</td>\n    </tr>\n  </tbody>\n</table>\n</div>"
     },
     "execution_count": 89,
     "metadata": {},
     "output_type": "execute_result"
    }
   ],
   "source": [
    "# 27\n",
    "df = pd.DataFrame({\n",
    "    'salesman_id': [5002,5005,5001,5003,5002,5001,5001,5006,5003,5002,5007,5001],\n",
    "    'sale_jan':[150.5, 270.65, 65.26, 110.5, 948.5, 2400.6, 1760, 2983.43, 480.4,  1250.45, 75.29,1045.6],\n",
    "    'sale_feb':[250.5, 170.65, 15.26, 110.5, 598.5, 1400.6, 2760, 1983.43, 2480.4, 250.45, 75.29, 3045.6],\n",
    "    'sale_mar':[150.5, 270.65, 65.26, 110.5, 948.5, 2400.6, 5760, 1983.43, 2480.4, 250.45, 75.29, 3045.6],\n",
    "    'sale_apr':[150.5, 270.65, 95.26, 210.5, 948.5, 2400.6, 760, 1983.43, 2480.4, 250.45, 75.29, 3045.6],\n",
    "    'sale_may':[130.5, 270.65, 65.26, 310.5, 948.5, 2400.6, 760, 1983.43, 2480.4, 250.45, 75.29, 3045.6],\n",
    "    'sale_jun':[150.5, 270.65, 45.26, 110.5, 948.5, 3400.6, 5760, 983.43, 2480.4, 250.45, 75.29, 3045.6],\n",
    "    'sale_jul':[950.5, 270.65, 65.26, 210.5, 948.5, 2400.6, 5760, 983.43, 2480.4, 250.45, 75.29, 3045.6],\n",
    "    'sale_aug':[150.5, 70.65,  65.26, 110.5, 948.5, 400.6, 5760, 1983.43, 2480.4, 250.45, 75.29, 3045.6],\n",
    "    'sale_sep':[150.5, 270.65, 65.26, 110.5, 948.5, 200.6, 5760, 1983.43, 2480.4, 250.45, 75.29, 3045.6],\n",
    "    'sale_oct':[150.5, 270.65, 65.26, 110.5, 948.5, 2400.6, 5760, 1983.43, 2480.4, 250.45, 75.29, 3045.6],\n",
    "    'sale_nov':[150.5, 270.65, 95.26, 110.5, 948.5, 2400.6, 5760, 1983.43, 2480.4, 250.45, 75.29, 3045.6],\n",
    "    'sale_dec':[150.5, 70.65, 65.26, 110.5, 948.5, 2400.6, 5760, 1983.43, 2480.4, 250.45, 75.29, 3045.6]\n",
    "})\n",
    "\n",
    "df.groupby(['salesman_id']).agg(lambda x : x.sum() if x.name in ['sale_jan','sale_feb','sale_mar'] else x.mean())"
   ],
   "metadata": {
    "collapsed": false,
    "pycharm": {
     "name": "#%%\n"
    }
   }
  },
  {
   "cell_type": "markdown",
   "source": [
    "### Group by column, remove groups if all values are not available\n",
    "Write a Pandas program to split a given dataset, group by one column and remove those groups if all the values of a specific columns are not available"
   ],
   "metadata": {
    "collapsed": false,
    "pycharm": {
     "name": "#%% md\n"
    }
   }
  },
  {
   "cell_type": "code",
   "execution_count": 90,
   "outputs": [
    {
     "data": {
      "text/plain": "   school_code class            name date_Of_Birth   age  weight  height\nS1        s001     V  Alberto Franco     15/05/2002   12     173    35.0\nS3        s003    VI     Ryan Parkes     16/02/1999   13     186    33.0\nS4        s001    VI    Eesha Hinton     25/09/1998   13     167    30.0\nS6        s004    VI    David Parkes     15/09/1997   12     159    32.0",
      "text/html": "<div>\n<style scoped>\n    .dataframe tbody tr th:only-of-type {\n        vertical-align: middle;\n    }\n\n    .dataframe tbody tr th {\n        vertical-align: top;\n    }\n\n    .dataframe thead th {\n        text-align: right;\n    }\n</style>\n<table border=\"1\" class=\"dataframe\">\n  <thead>\n    <tr style=\"text-align: right;\">\n      <th></th>\n      <th>school_code</th>\n      <th>class</th>\n      <th>name</th>\n      <th>date_Of_Birth</th>\n      <th>age</th>\n      <th>weight</th>\n      <th>height</th>\n    </tr>\n  </thead>\n  <tbody>\n    <tr>\n      <th>S1</th>\n      <td>s001</td>\n      <td>V</td>\n      <td>Alberto Franco</td>\n      <td>15/05/2002</td>\n      <td>12</td>\n      <td>173</td>\n      <td>35.0</td>\n    </tr>\n    <tr>\n      <th>S3</th>\n      <td>s003</td>\n      <td>VI</td>\n      <td>Ryan Parkes</td>\n      <td>16/02/1999</td>\n      <td>13</td>\n      <td>186</td>\n      <td>33.0</td>\n    </tr>\n    <tr>\n      <th>S4</th>\n      <td>s001</td>\n      <td>VI</td>\n      <td>Eesha Hinton</td>\n      <td>25/09/1998</td>\n      <td>13</td>\n      <td>167</td>\n      <td>30.0</td>\n    </tr>\n    <tr>\n      <th>S6</th>\n      <td>s004</td>\n      <td>VI</td>\n      <td>David Parkes</td>\n      <td>15/09/1997</td>\n      <td>12</td>\n      <td>159</td>\n      <td>32.0</td>\n    </tr>\n  </tbody>\n</table>\n</div>"
     },
     "execution_count": 90,
     "metadata": {},
     "output_type": "execute_result"
    }
   ],
   "source": [
    "# 28\n",
    "df = pd.DataFrame({\n",
    "    'school_code': ['s001','s002','s003','s001','s002','s004'],\n",
    "    'class': ['V', 'V', 'VI', 'VI', 'V', 'VI'],\n",
    "    'name': ['Alberto Franco','Gino Mcneill','Ryan Parkes', 'Eesha Hinton', 'Gino Mcneill', 'David Parkes'],\n",
    "    'date_Of_Birth ': ['15/05/2002','17/05/2002','16/02/1999','25/09/1998','11/05/2002','15/09/1997'],\n",
    "    'age': [12, 12, 13, 13, 14, 12],\n",
    "    'weight': [173, 192, 186, 167, 151, 159],\n",
    "    'height': [35, None, 33, 30, None, 32]},\n",
    "    index=['S1', 'S2', 'S3', 'S4', 'S5', 'S6'])\n",
    "df[(~df['height'].isna()).groupby(df['school_code']).transform('any')]"
   ],
   "metadata": {
    "collapsed": false,
    "pycharm": {
     "name": "#%%\n"
    }
   }
  },
  {
   "cell_type": "markdown",
   "source": [
    "### Group by column split into two labels and ranges\n",
    "Write a Pandas program to split a given dataset using group by on specified column into two labels and ranges"
   ],
   "metadata": {
    "collapsed": false,
    "pycharm": {
     "name": "#%% md\n"
    }
   }
  },
  {
   "cell_type": "code",
   "execution_count": 91,
   "outputs": [
    {
     "data": {
      "text/plain": "  salesman_id  sale_jan\n0          S1   3946.01\n1          S2   7595.17",
      "text/html": "<div>\n<style scoped>\n    .dataframe tbody tr th:only-of-type {\n        vertical-align: middle;\n    }\n\n    .dataframe tbody tr th {\n        vertical-align: top;\n    }\n\n    .dataframe thead th {\n        text-align: right;\n    }\n</style>\n<table border=\"1\" class=\"dataframe\">\n  <thead>\n    <tr style=\"text-align: right;\">\n      <th></th>\n      <th>salesman_id</th>\n      <th>sale_jan</th>\n    </tr>\n  </thead>\n  <tbody>\n    <tr>\n      <th>0</th>\n      <td>S1</td>\n      <td>3946.01</td>\n    </tr>\n    <tr>\n      <th>1</th>\n      <td>S2</td>\n      <td>7595.17</td>\n    </tr>\n  </tbody>\n</table>\n</div>"
     },
     "execution_count": 91,
     "metadata": {},
     "output_type": "execute_result"
    }
   ],
   "source": [
    "# 29\n",
    "df = pd.DataFrame({\n",
    "    'salesman_id': [5001,5002,5003,5004,5005,5006,5007,5008,5009,5010,5011,5012],\n",
    "    'sale_jan':[150.5, 270.65, 65.26, 110.5, 948.5, 2400.6, 1760, 2983.43, 480.4,  1250.45, 75.29,1045.6]})\n",
    "\n",
    "df.groupby(pd.cut(df['salesman_id'],\n",
    "                  bins=[0,5006,np.inf],\n",
    "                  labels=['S1', 'S2']))['sale_jan'].sum().reset_index()\n"
   ],
   "metadata": {
    "collapsed": false,
    "pycharm": {
     "name": "#%%\n"
    }
   }
  },
  {
   "cell_type": "markdown",
   "source": [
    "### Group by first column aggregate over multiple lists on second column\n",
    "Write a Pandas program to split the following dataset using group by on first column and aggregate over multiple lists on second column"
   ],
   "metadata": {
    "collapsed": false,
    "pycharm": {
     "name": "#%% md\n"
    }
   }
  },
  {
   "cell_type": "code",
   "execution_count": 92,
   "outputs": [
    {
     "data": {
      "text/plain": "student_id\nS001    [83.0, 85.0, 75.0]\nS002    [84.0, 85.5, 91.0]\nS003    [89.0, 74.0, 91.0]\nName: marks, dtype: object"
     },
     "execution_count": 92,
     "metadata": {},
     "output_type": "execute_result"
    }
   ],
   "source": [
    "# 30\n",
    "df = pd.DataFrame({\n",
    "    'student_id': ['S001','S001','S002','S002','S003','S003'],\n",
    "    'marks': [[88,89,90],[78,81,60],[84,83,91],[84,88,91],[90,89,92],[88,59,90]]})\n",
    "\n",
    "df.set_index('student_id')['marks'].groupby('student_id').apply(list).apply(lambda x: np.mean(x,0))"
   ],
   "metadata": {
    "collapsed": false,
    "pycharm": {
     "name": "#%%\n"
    }
   }
  },
  {
   "cell_type": "markdown",
   "source": [
    "### Group by column and find first date for each group\n",
    "Write a Pandas program to split the following dataset using group by on 'salesman_id' and find the first order date for each group."
   ],
   "metadata": {
    "collapsed": false,
    "pycharm": {
     "name": "#%% md\n"
    }
   }
  },
  {
   "cell_type": "code",
   "source": [
    "# 31\n",
    "df = pd.DataFrame({\n",
    "    'ord_no':[70001,70009,70002,70004,70007,70005,70008,70010,70003,70012,70011,70013],\n",
    "    'purch_amt':[150.5,270.65,65.26,110.5,948.5,2400.6,5760,1983.43,2480.4,250.45, 75.29,3045.6],\n",
    "    'ord_date': ['2012-10-05','2012-09-10','2012-10-05','2012-08-17','2012-09-10','2012-07-27','2012-09-10','2012-10-10','2012-10-10','2012-06-27','2012-08-17','2012-04-25'],\n",
    "    'customer_id':[3005,3001,3002,3009,3005,3007,3002,3004,3009,3008,3003,3002],\n",
    "    'salesman_id': [5002,5005,5001,5003,5002,5001,5001,5004,5003,5002,5004,5001]})\n",
    "df.groupby('salesman_id')['ord_date'].min()"
   ],
   "metadata": {
    "collapsed": false,
    "pycharm": {
     "name": "#%%\n"
    }
   },
   "execution_count": 93,
   "outputs": [
    {
     "data": {
      "text/plain": "salesman_id\n5001    2012-04-25\n5002    2012-06-27\n5003    2012-08-17\n5004    2012-08-17\n5005    2012-09-10\nName: ord_date, dtype: object"
     },
     "execution_count": 93,
     "metadata": {},
     "output_type": "execute_result"
    }
   ]
  },
  {
   "cell_type": "markdown",
   "source": [
    "### Group by multiple columns and drop last n rows\n",
    "Write a Pandas program to split a given dataset using group by on multiple columns and drop last n rows of from each group."
   ],
   "metadata": {
    "collapsed": false,
    "pycharm": {
     "name": "#%% md\n"
    }
   }
  },
  {
   "cell_type": "code",
   "execution_count": 95,
   "outputs": [
    {
     "data": {
      "text/plain": "   ord_no  purch_amt    ord_date  customer_id  salesman_id\n0   70001     150.50  2012-10-05         3002         5002\n2   70002      65.26  2012-10-05         3001         5001\n3   70004     110.50  2012-08-17         3003         5003",
      "text/html": "<div>\n<style scoped>\n    .dataframe tbody tr th:only-of-type {\n        vertical-align: middle;\n    }\n\n    .dataframe tbody tr th {\n        vertical-align: top;\n    }\n\n    .dataframe thead th {\n        text-align: right;\n    }\n</style>\n<table border=\"1\" class=\"dataframe\">\n  <thead>\n    <tr style=\"text-align: right;\">\n      <th></th>\n      <th>ord_no</th>\n      <th>purch_amt</th>\n      <th>ord_date</th>\n      <th>customer_id</th>\n      <th>salesman_id</th>\n    </tr>\n  </thead>\n  <tbody>\n    <tr>\n      <th>0</th>\n      <td>70001</td>\n      <td>150.50</td>\n      <td>2012-10-05</td>\n      <td>3002</td>\n      <td>5002</td>\n    </tr>\n    <tr>\n      <th>2</th>\n      <td>70002</td>\n      <td>65.26</td>\n      <td>2012-10-05</td>\n      <td>3001</td>\n      <td>5001</td>\n    </tr>\n    <tr>\n      <th>3</th>\n      <td>70004</td>\n      <td>110.50</td>\n      <td>2012-08-17</td>\n      <td>3003</td>\n      <td>5003</td>\n    </tr>\n  </tbody>\n</table>\n</div>"
     },
     "execution_count": 95,
     "metadata": {},
     "output_type": "execute_result"
    }
   ],
   "source": [
    "# 32\n",
    "df = pd.DataFrame({\n",
    "    'ord_no':[70001,70009,70002,70004,70007,70005,70008,70010,70003,70012,70011,70013],\n",
    "    'purch_amt':[150.5,270.65,65.26,110.5,948.5,2400.6,5760,1983.43,2480.4,250.45, 75.29,3045.6],\n",
    "    'ord_date': ['2012-10-05','2012-09-10','2012-10-05','2012-08-17','2012-09-10','2012-07-27','2012-09-10','2012-10-10','2012-10-10','2012-06-27','2012-08-17','2012-04-25'],\n",
    "    'customer_id':[3002,3001,3001,3003,3002,3002,3001,3004,3003,3002,3003,3001],\n",
    "    'salesman_id':[5002,5003,5001,5003,5002,5001,5001,5003,5003,5002,5003,5001]})\n",
    "\n",
    "df.drop(df.groupby(['salesman_id', 'customer_id']).tail(2).index, axis=0)"
   ],
   "metadata": {
    "collapsed": false,
    "pycharm": {
     "name": "#%%\n"
    }
   }
  }
 ],
 "metadata": {
  "kernelspec": {
   "display_name": "Python 3",
   "language": "python",
   "name": "python3"
  },
  "language_info": {
   "codemirror_mode": {
    "name": "ipython",
    "version": 2
   },
   "file_extension": ".py",
   "mimetype": "text/x-python",
   "name": "python",
   "nbconvert_exporter": "python",
   "pygments_lexer": "ipython2",
   "version": "2.7.6"
  }
 },
 "nbformat": 4,
 "nbformat_minor": 0
}