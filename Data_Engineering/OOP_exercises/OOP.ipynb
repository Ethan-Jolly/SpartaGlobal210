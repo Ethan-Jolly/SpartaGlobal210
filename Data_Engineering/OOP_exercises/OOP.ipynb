{
 "cells": [
  {
   "cell_type": "code",
   "execution_count": 49,
   "metadata": {},
   "outputs": [],
   "source": [
    "class Car():\n",
    "    pass"
   ]
  },
  {
   "cell_type": "code",
   "execution_count": 50,
   "metadata": {},
   "outputs": [
    {
     "data": {
      "text/plain": [
       "<__main__.Car at 0x1e42c6e29a0>"
      ]
     },
     "execution_count": 50,
     "metadata": {},
     "output_type": "execute_result"
    }
   ],
   "source": [
    "car = Car()\n",
    "car"
   ]
  },
  {
   "cell_type": "code",
   "execution_count": 73,
   "metadata": {},
   "outputs": [],
   "source": [
    "class Dog():\n",
    "    \"\"\"\n",
    "    This is a Dog class.\n",
    "    \"\"\"\n",
    "    animal_kind = \"Canine\"\n",
    "\n",
    "    def __init__(self, name='Kenji', breed=\"Shiba Inu\"):\n",
    "        # Attributes\n",
    "        self.name = name\n",
    "        self.breed = breed\n",
    "    \n",
    "    def bark(self, age):\n",
    "        \"\"\"\n",
    "        This is a method that makes the dog bark.\n",
    "        \"\"\"\n",
    "        print(f\"Woof, my name is {self.name}, and I am {age} years old.\")"
   ]
  },
  {
   "cell_type": "code",
   "execution_count": 52,
   "metadata": {},
   "outputs": [],
   "source": [
    "my_dog = Dog('Kenji', \"Shiba Inu\")"
   ]
  },
  {
   "cell_type": "code",
   "execution_count": 53,
   "metadata": {},
   "outputs": [
    {
     "name": "stdout",
     "output_type": "stream",
     "text": [
      "Woof, my name is Kenji, and I am 5 years old.\n"
     ]
    }
   ],
   "source": [
    "my_dog2=Dog()\n",
    "my_dog2.bark(5)"
   ]
  },
  {
   "cell_type": "code",
   "execution_count": 89,
   "metadata": {},
   "outputs": [],
   "source": [
    "import math\n",
    "\n",
    "\n",
    "class Circle():\n",
    "\n",
    "    pi = math.pi\n",
    "\n",
    "    def __init__(self, radius):\n",
    "        self.__radius = radius\n",
    "\n",
    "    def calculate_area(self):\n",
    "        return Circle.pi*(self.__radius**2)\n",
    "    \n",
    "    def calculate_circumference(self):\n",
    "        return 2*Circle.pi*self.__radius\n",
    "    \n",
    "    def get_radius(self):\n",
    "        return self.__radius"
   ]
  },
  {
   "cell_type": "code",
   "execution_count": 90,
   "metadata": {},
   "outputs": [
    {
     "name": "stdout",
     "output_type": "stream",
     "text": [
      "314.1592653589793\n",
      "62.83185307179586\n",
      "10\n"
     ]
    }
   ],
   "source": [
    "c = Circle(10)\n",
    "print(c.calculate_area())\n",
    "print(c.calculate_circumference())\n",
    "print(c.get_radius())"
   ]
  },
  {
   "cell_type": "code",
   "execution_count": 105,
   "metadata": {},
   "outputs": [],
   "source": [
    "class Animal():\n",
    "    def __init__(self):\n",
    "        print(\"hey everyone, Animal created\")\n",
    "    \n",
    "    def who_am_i(self):\n",
    "        print('I am an animal')"
   ]
  },
  {
   "cell_type": "code",
   "execution_count": 106,
   "metadata": {},
   "outputs": [],
   "source": [
    "class Dog(Animal):\n",
    "    def __init__(self):\n",
    "        super().__init__()\n",
    "        print('Animal Dog created')\n",
    "    def who_am_i(self):\n",
    "        print('I am a dog')"
   ]
  },
  {
   "cell_type": "code",
   "execution_count": 107,
   "metadata": {},
   "outputs": [
    {
     "name": "stdout",
     "output_type": "stream",
     "text": [
      "hey everyone, Animal created\n",
      "Animal Dog created\n",
      "I am a dog\n"
     ]
    }
   ],
   "source": [
    "my_Dog=Dog()\n",
    "my_Dog.who_am_i()"
   ]
  },
  {
   "cell_type": "code",
   "execution_count": 109,
   "metadata": {},
   "outputs": [
    {
     "name": "stdout",
     "output_type": "stream",
     "text": [
      "Ethan Jolly\n"
     ]
    }
   ],
   "source": [
    "class Person:\n",
    "    def __init__(self, fname, lname):\n",
    "        self.firstname = fname\n",
    "        self.lastname = lname\n",
    "    def printname(self):\n",
    "        print(self.firstname, self.lastname)\n",
    "\n",
    "class Student(Person):\n",
    "    pass\n",
    "\n",
    "x = Student(\"Ethan\",\"Jolly\")\n",
    "x.printname()"
   ]
  },
  {
   "cell_type": "code",
   "execution_count": 110,
   "metadata": {},
   "outputs": [],
   "source": [
    "class Dog():\n",
    "    def __init__(self,name):\n",
    "        self.name = name\n",
    "    def speak(self):\n",
    "        return self.name + \" says Woof!\""
   ]
  },
  {
   "cell_type": "code",
   "execution_count": 113,
   "metadata": {},
   "outputs": [],
   "source": [
    "class Cat():\n",
    "    def __init__(self,name):\n",
    "        self.name = name\n",
    "    def speak(self):\n",
    "        return self.name + \" says Meow!\""
   ]
  },
  {
   "cell_type": "code",
   "execution_count": 114,
   "metadata": {},
   "outputs": [],
   "source": [
    "fluffy = Dog(\"Fluffy\")\n",
    "sushi = Cat(\"Sushi\")"
   ]
  },
  {
   "cell_type": "code",
   "execution_count": 116,
   "metadata": {},
   "outputs": [
    {
     "name": "stdout",
     "output_type": "stream",
     "text": [
      "Fluffy says Woof!\n",
      "Sushi says Meow!\n"
     ]
    }
   ],
   "source": [
    "print(fluffy.speak())\n",
    "print(sushi.speak())"
   ]
  },
  {
   "cell_type": "code",
   "execution_count": 117,
   "metadata": {},
   "outputs": [],
   "source": [
    "def pet_speak(pet):\n",
    "    print(pet.speak())"
   ]
  },
  {
   "cell_type": "code",
   "execution_count": 120,
   "metadata": {},
   "outputs": [
    {
     "name": "stdout",
     "output_type": "stream",
     "text": [
      "Fluffy says Woof!\n",
      "Sushi says Meow!\n"
     ]
    }
   ],
   "source": [
    "for pet in [fluffy, sushi]:\n",
    "    print(pet.speak())"
   ]
  }
 ],
 "metadata": {
  "kernelspec": {
   "display_name": "Python 3",
   "language": "python",
   "name": "python3"
  },
  "language_info": {
   "codemirror_mode": {
    "name": "ipython",
    "version": 3
   },
   "file_extension": ".py",
   "mimetype": "text/x-python",
   "name": "python",
   "nbconvert_exporter": "python",
   "pygments_lexer": "ipython3",
   "version": "3.9.6"
  },
  "orig_nbformat": 4,
  "vscode": {
   "interpreter": {
    "hash": "503cf8ae1d4d611f3c5eb0ea355119daf4678b4e9c6e37d2aa9157a19cc52b90"
   }
  }
 },
 "nbformat": 4,
 "nbformat_minor": 2
}
