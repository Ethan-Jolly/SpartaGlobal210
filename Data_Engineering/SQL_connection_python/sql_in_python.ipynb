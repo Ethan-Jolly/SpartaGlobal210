{
 "cells": [
  {
   "attachments": {},
   "cell_type": "markdown",
   "metadata": {},
   "source": [
    "# PYODBC"
   ]
  },
  {
   "cell_type": "code",
   "execution_count": 2,
   "metadata": {},
   "outputs": [],
   "source": [
    "import pyodbc"
   ]
  },
  {
   "cell_type": "code",
   "execution_count": 3,
   "metadata": {},
   "outputs": [
    {
     "name": "stdout",
     "output_type": "stream",
     "text": [
      "SQL Server\n",
      "PostgreSQL ANSI(x64)\n",
      "PostgreSQL Unicode(x64)\n",
      "Microsoft Access Driver (*.mdb, *.accdb)\n",
      "Microsoft Excel Driver (*.xls, *.xlsx, *.xlsm, *.xlsb)\n",
      "Microsoft Access Text Driver (*.txt, *.csv)\n",
      "ODBC Driver 18 for SQL Server\n",
      "ODBC Driver 17 for SQL Server\n"
     ]
    }
   ],
   "source": [
    "drivers = pyodbc.drivers()\n",
    "for driver in drivers:\n",
    "    print(driver)"
   ]
  },
  {
   "cell_type": "code",
   "execution_count": 7,
   "metadata": {},
   "outputs": [
    {
     "name": "stdout",
     "output_type": "stream",
     "text": [
      "('Microsoft Azure SQL Edge Developer (RTM) - 15.0.2000.1574 (X64) \\n\\tJan 25 2023 11:33:34 \\n\\tCopyright (C) 2019 Microsoft Corporation\\n\\tLinux (Ubuntu 18.04.6 LTS) <X64>', )\n"
     ]
    }
   ],
   "source": [
    "server = 'localhost,1433'\n",
    "database = 'Northwind'\n",
    "username = 'sa'\n",
    "password = 'yourStrong(!)Password'\n",
    "docker_Northwind = pyodbc.connect('DRIVER={ODBC Driver 17 for SQL Server};SERVER='+server+';DATABASE='+database+';UID='+username+';PWD='+ password)\n",
    "cursor = docker_Northwind.cursor()\n",
    "cursor.execute(\"SELECT @@version;\")  \n",
    "row = cursor.fetchone()\n",
    "print(row)"
   ]
  },
  {
   "attachments": {},
   "cell_type": "markdown",
   "metadata": {},
   "source": [
    "## CREATE Tables"
   ]
  },
  {
   "cell_type": "code",
   "execution_count": 26,
   "metadata": {},
   "outputs": [],
   "source": [
    "cursor.execute('''CREATE TABLE test_table(\n",
    "                    test_id int primary key,\n",
    "                    name varchar(25),\n",
    "                    number int)''')\n",
    "cursor.commit()"
   ]
  },
  {
   "attachments": {},
   "cell_type": "markdown",
   "metadata": {},
   "source": [
    "## DROP Tables"
   ]
  },
  {
   "cell_type": "code",
   "execution_count": 25,
   "metadata": {},
   "outputs": [],
   "source": [
    "cursor.execute('''DROP TABLE test_table''')\n",
    "cursor.commit()"
   ]
  },
  {
   "attachments": {},
   "cell_type": "markdown",
   "metadata": {},
   "source": [
    "## Simple SELECT Statement"
   ]
  },
  {
   "cell_type": "code",
   "execution_count": 34,
   "metadata": {},
   "outputs": [
    {
     "name": "stdout",
     "output_type": "stream",
     "text": [
      "[('Maria Anders', 'Berlin', 'Germany'), ('Ana Trujillo', 'México D.F.', 'Mexico'), ('Antonio Moreno', 'México D.F.', 'Mexico'), ('Thomas Hardy', 'London', 'UK'), ('Christina Berglund', 'Luleå', 'Sweden'), ('Hanna Moos', 'Mannheim', 'Germany'), ('Frédérique Citeaux', 'Strasbourg', 'France'), ('Martín Sommer', 'Madrid', 'Spain'), ('Laurence Lebihan', 'Marseille', 'France'), ('Elizabeth Lincoln', 'Tsawassen', 'Canada'), ('Victoria Ashworth', 'London', 'UK'), ('Patricio Simpson', 'Buenos Aires', 'Argentina'), ('Francisco Chang', 'México D.F.', 'Mexico'), ('Yang Wang', 'Bern', 'Switzerland'), ('Pedro Afonso', 'Sao Paulo', 'Brazil'), ('Elizabeth Brown', 'London', 'UK'), ('Sven Ottlieb', 'Aachen', 'Germany'), ('Janine Labrune', 'Nantes', 'France'), ('Ann Devon', 'London', 'UK'), ('Roland Mendel', 'Graz', 'Austria'), ('Aria Cruz', 'Sao Paulo', 'Brazil'), ('Diego Roel', 'Madrid', 'Spain'), ('Martine Rancé', 'Lille', 'France'), ('Maria Larsson', 'Bräcke', 'Sweden'), ('Peter Franken', 'München', 'Germany'), ('Carine Schmitt', 'Nantes', 'France'), ('Paolo Accorti', 'Torino', 'Italy'), ('Lino Rodriguez', 'Lisboa', 'Portugal'), ('Eduardo Saavedra', 'Barcelona', 'Spain'), ('José Pedro Freyre', 'Sevilla', 'Spain'), ('André Fonseca', 'Campinas', 'Brazil'), ('Howard Snyder', 'Eugene', 'USA'), ('Manuel Pereira', 'Caracas', 'Venezuela'), ('Mario Pontes', 'Rio de Janeiro', 'Brazil'), ('Carlos Hernández', 'San Cristóbal', 'Venezuela'), ('Yoshi Latimer', 'Elgin', 'USA'), ('Patricia McKenna', 'Cork', 'Ireland'), ('Helen Bennett', 'Cowes', 'UK'), ('Philip Cramer', 'Brandenburg', 'Germany'), ('Daniel Tonini', 'Versailles', 'France'), ('Annette Roulet', 'Toulouse', 'France'), ('Yoshi Tannamuri', 'Vancouver', 'Canada'), ('John Steel', 'Walla Walla', 'USA'), ('Renate Messner', 'Frankfurt a.M.', 'Germany'), ('Jaime Yorres', 'San Francisco', 'USA'), ('Carlos González', 'Barquisimeto', 'Venezuela'), ('Felipe Izquierdo', 'I. de Margarita', 'Venezuela'), ('Fran Wilson', 'Portland', 'USA'), ('Giovanni Rovelli', 'Bergamo', 'Italy'), ('Catherine Dewey', 'Bruxelles', 'Belgium'), ('Jean Fresnière', 'Montréal', 'Canada'), ('Alexander Feuer', 'Leipzig', 'Germany'), ('Simon Crowther', 'London', 'UK'), ('Yvonne Moncada', 'Buenos Aires', 'Argentina'), ('Rene Phillips', 'Anchorage', 'USA'), ('Henriette Pfalzheim', 'Köln', 'Germany'), ('Marie Bertrand', 'Paris', 'France'), ('Guillermo Fernández', 'México D.F.', 'Mexico'), ('Georg Pipps', 'Salzburg', 'Austria'), ('Isabel de Castro', 'Lisboa', 'Portugal'), ('Bernardo Batista', 'Rio de Janeiro', 'Brazil'), ('Lúcia Carvalho', 'Sao Paulo', 'Brazil'), ('Horst Kloss', 'Cunewalde', 'Germany'), ('Sergio Gutiérrez', 'Buenos Aires', 'Argentina'), ('Paula Wilson', 'Albuquerque', 'USA'), ('Maurizio Moroni', 'Reggio Emilia', 'Italy'), ('Janete Limeira', 'Rio de Janeiro', 'Brazil'), ('Michael Holz', 'Genève', 'Switzerland'), ('Alejandra Camino', 'Madrid', 'Spain'), ('Jonas Bergulfsen', 'Stavern', 'Norway'), ('Jose Pavarotti', 'Boise', 'USA'), ('Hari Kumar', 'London', 'UK'), ('Jytte Petersen', 'Kobenhavn', 'Denmark'), ('Dominique Perrier', 'Paris', 'France'), ('Art Braunschweiger', 'Lander', 'USA'), ('Pascale Cartrain', 'Charleroi', 'Belgium'), ('Liz Nixon', 'Portland', 'USA'), ('Liu Wong', 'Butte', 'USA'), ('Karin Josephs', 'Münster', 'Germany'), ('Miguel Angel Paolino', 'México D.F.', 'Mexico'), ('Anabela Domingues', 'Sao Paulo', 'Brazil'), ('Helvetius Nagy', 'Kirkland', 'USA'), ('Palle Ibsen', 'Århus', 'Denmark'), ('Mary Saveley', 'Lyon', 'France'), ('Paul Henriot', 'Reims', 'France'), ('Rita Müller', 'Stuttgart', 'Germany'), ('Pirkko Koskitalo', 'Oulu', 'Finland'), ('Paula Parente', 'Resende', 'Brazil'), ('Karl Jablonski', 'Seattle', 'USA'), ('Matti Karttunen', 'Helsinki', 'Finland'), ('Zbyszek Piestrzeniewicz', 'Warszawa', 'Poland')]\n",
      "('Maria Anders', 'Berlin', 'Germany')\n",
      "('Ana Trujillo', 'México D.F.', 'Mexico')\n",
      "('Antonio Moreno', 'México D.F.', 'Mexico')\n",
      "('Thomas Hardy', 'London', 'UK')\n",
      "('Christina Berglund', 'Luleå', 'Sweden')\n",
      "('Hanna Moos', 'Mannheim', 'Germany')\n",
      "('Frédérique Citeaux', 'Strasbourg', 'France')\n",
      "('Martín Sommer', 'Madrid', 'Spain')\n",
      "('Laurence Lebihan', 'Marseille', 'France')\n",
      "('Elizabeth Lincoln', 'Tsawassen', 'Canada')\n",
      "('Victoria Ashworth', 'London', 'UK')\n",
      "('Patricio Simpson', 'Buenos Aires', 'Argentina')\n",
      "('Francisco Chang', 'México D.F.', 'Mexico')\n",
      "('Yang Wang', 'Bern', 'Switzerland')\n",
      "('Pedro Afonso', 'Sao Paulo', 'Brazil')\n",
      "('Elizabeth Brown', 'London', 'UK')\n",
      "('Sven Ottlieb', 'Aachen', 'Germany')\n",
      "('Janine Labrune', 'Nantes', 'France')\n",
      "('Ann Devon', 'London', 'UK')\n",
      "('Roland Mendel', 'Graz', 'Austria')\n",
      "('Aria Cruz', 'Sao Paulo', 'Brazil')\n",
      "('Diego Roel', 'Madrid', 'Spain')\n",
      "('Martine Rancé', 'Lille', 'France')\n",
      "('Maria Larsson', 'Bräcke', 'Sweden')\n",
      "('Peter Franken', 'München', 'Germany')\n",
      "('Carine Schmitt', 'Nantes', 'France')\n",
      "('Paolo Accorti', 'Torino', 'Italy')\n",
      "('Lino Rodriguez', 'Lisboa', 'Portugal')\n",
      "('Eduardo Saavedra', 'Barcelona', 'Spain')\n",
      "('José Pedro Freyre', 'Sevilla', 'Spain')\n",
      "('André Fonseca', 'Campinas', 'Brazil')\n",
      "('Howard Snyder', 'Eugene', 'USA')\n",
      "('Manuel Pereira', 'Caracas', 'Venezuela')\n",
      "('Mario Pontes', 'Rio de Janeiro', 'Brazil')\n",
      "('Carlos Hernández', 'San Cristóbal', 'Venezuela')\n",
      "('Yoshi Latimer', 'Elgin', 'USA')\n",
      "('Patricia McKenna', 'Cork', 'Ireland')\n",
      "('Helen Bennett', 'Cowes', 'UK')\n",
      "('Philip Cramer', 'Brandenburg', 'Germany')\n",
      "('Daniel Tonini', 'Versailles', 'France')\n",
      "('Annette Roulet', 'Toulouse', 'France')\n",
      "('Yoshi Tannamuri', 'Vancouver', 'Canada')\n",
      "('John Steel', 'Walla Walla', 'USA')\n",
      "('Renate Messner', 'Frankfurt a.M.', 'Germany')\n",
      "('Jaime Yorres', 'San Francisco', 'USA')\n",
      "('Carlos González', 'Barquisimeto', 'Venezuela')\n",
      "('Felipe Izquierdo', 'I. de Margarita', 'Venezuela')\n",
      "('Fran Wilson', 'Portland', 'USA')\n",
      "('Giovanni Rovelli', 'Bergamo', 'Italy')\n",
      "('Catherine Dewey', 'Bruxelles', 'Belgium')\n",
      "('Jean Fresnière', 'Montréal', 'Canada')\n",
      "('Alexander Feuer', 'Leipzig', 'Germany')\n",
      "('Simon Crowther', 'London', 'UK')\n",
      "('Yvonne Moncada', 'Buenos Aires', 'Argentina')\n",
      "('Rene Phillips', 'Anchorage', 'USA')\n",
      "('Henriette Pfalzheim', 'Köln', 'Germany')\n",
      "('Marie Bertrand', 'Paris', 'France')\n",
      "('Guillermo Fernández', 'México D.F.', 'Mexico')\n",
      "('Georg Pipps', 'Salzburg', 'Austria')\n",
      "('Isabel de Castro', 'Lisboa', 'Portugal')\n",
      "('Bernardo Batista', 'Rio de Janeiro', 'Brazil')\n",
      "('Lúcia Carvalho', 'Sao Paulo', 'Brazil')\n",
      "('Horst Kloss', 'Cunewalde', 'Germany')\n",
      "('Sergio Gutiérrez', 'Buenos Aires', 'Argentina')\n",
      "('Paula Wilson', 'Albuquerque', 'USA')\n",
      "('Maurizio Moroni', 'Reggio Emilia', 'Italy')\n",
      "('Janete Limeira', 'Rio de Janeiro', 'Brazil')\n",
      "('Michael Holz', 'Genève', 'Switzerland')\n",
      "('Alejandra Camino', 'Madrid', 'Spain')\n",
      "('Jonas Bergulfsen', 'Stavern', 'Norway')\n",
      "('Jose Pavarotti', 'Boise', 'USA')\n",
      "('Hari Kumar', 'London', 'UK')\n",
      "('Jytte Petersen', 'Kobenhavn', 'Denmark')\n",
      "('Dominique Perrier', 'Paris', 'France')\n",
      "('Art Braunschweiger', 'Lander', 'USA')\n",
      "('Pascale Cartrain', 'Charleroi', 'Belgium')\n",
      "('Liz Nixon', 'Portland', 'USA')\n",
      "('Liu Wong', 'Butte', 'USA')\n",
      "('Karin Josephs', 'Münster', 'Germany')\n",
      "('Miguel Angel Paolino', 'México D.F.', 'Mexico')\n",
      "('Anabela Domingues', 'Sao Paulo', 'Brazil')\n",
      "('Helvetius Nagy', 'Kirkland', 'USA')\n",
      "('Palle Ibsen', 'Århus', 'Denmark')\n",
      "('Mary Saveley', 'Lyon', 'France')\n",
      "('Paul Henriot', 'Reims', 'France')\n",
      "('Rita Müller', 'Stuttgart', 'Germany')\n",
      "('Pirkko Koskitalo', 'Oulu', 'Finland')\n",
      "('Paula Parente', 'Resende', 'Brazil')\n",
      "('Karl Jablonski', 'Seattle', 'USA')\n",
      "('Matti Karttunen', 'Helsinki', 'Finland')\n",
      "('Zbyszek Piestrzeniewicz', 'Warszawa', 'Poland')\n"
     ]
    }
   ],
   "source": [
    "rows = cursor.execute('''SELECT ContactName, City, Country FROM Customers''').fetchall()\n",
    "cursor.commit()\n",
    "for r in rows:\n",
    "    print(r)"
   ]
  },
  {
   "attachments": {},
   "cell_type": "markdown",
   "metadata": {},
   "source": [
    "## Simple SELECT WHERE condition statement"
   ]
  },
  {
   "cell_type": "code",
   "execution_count": 36,
   "metadata": {},
   "outputs": [
    {
     "name": "stdout",
     "output_type": "stream",
     "text": [
      "[('Frédérique Citeaux', 'Strasbourg', 'France'), ('Laurence Lebihan', 'Marseille', 'France'), ('Janine Labrune', 'Nantes', 'France'), ('Martine Rancé', 'Lille', 'France'), ('Carine Schmitt', 'Nantes', 'France'), ('Daniel Tonini', 'Versailles', 'France'), ('Annette Roulet', 'Toulouse', 'France'), ('Marie Bertrand', 'Paris', 'France'), ('Dominique Perrier', 'Paris', 'France'), ('Mary Saveley', 'Lyon', 'France'), ('Paul Henriot', 'Reims', 'France')]\n",
      "('Frédérique Citeaux', 'Strasbourg', 'France')\n",
      "('Laurence Lebihan', 'Marseille', 'France')\n",
      "('Janine Labrune', 'Nantes', 'France')\n",
      "('Martine Rancé', 'Lille', 'France')\n",
      "('Carine Schmitt', 'Nantes', 'France')\n",
      "('Daniel Tonini', 'Versailles', 'France')\n",
      "('Annette Roulet', 'Toulouse', 'France')\n",
      "('Marie Bertrand', 'Paris', 'France')\n",
      "('Dominique Perrier', 'Paris', 'France')\n",
      "('Mary Saveley', 'Lyon', 'France')\n",
      "('Paul Henriot', 'Reims', 'France')\n"
     ]
    }
   ],
   "source": [
    "rows = cursor.execute(\"SELECT ContactName, City, Country FROM Customers WHERE Country = 'France'\").fetchall()\n",
    "cursor.commit()\n",
    "for r in rows:\n",
    "    print(r)"
   ]
  },
  {
   "attachments": {},
   "cell_type": "markdown",
   "metadata": {},
   "source": [
    "## Simple SELECT WHERE using IN multiple options"
   ]
  },
  {
   "cell_type": "code",
   "execution_count": 40,
   "metadata": {},
   "outputs": [
    {
     "name": "stdout",
     "output_type": "stream",
     "text": [
      "[('Frédérique Citeaux', 'Strasbourg', 'France'), ('Laurence Lebihan', 'Marseille', 'France'), ('Janine Labrune', 'Nantes', 'France'), ('Martine Rancé', 'Lille', 'France'), ('Carine Schmitt', 'Nantes', 'France'), ('Daniel Tonini', 'Versailles', 'France'), ('Annette Roulet', 'Toulouse', 'France'), ('Marie Bertrand', 'Paris', 'France'), ('Dominique Perrier', 'Paris', 'France'), ('Mary Saveley', 'Lyon', 'France'), ('Paul Henriot', 'Reims', 'France'), ('Zbyszek Piestrzeniewicz', 'Warszawa', 'Poland')]\n",
      "('Frédérique Citeaux', 'Strasbourg', 'France')\n",
      "('Laurence Lebihan', 'Marseille', 'France')\n",
      "('Janine Labrune', 'Nantes', 'France')\n",
      "('Martine Rancé', 'Lille', 'France')\n",
      "('Carine Schmitt', 'Nantes', 'France')\n",
      "('Daniel Tonini', 'Versailles', 'France')\n",
      "('Annette Roulet', 'Toulouse', 'France')\n",
      "('Marie Bertrand', 'Paris', 'France')\n",
      "('Dominique Perrier', 'Paris', 'France')\n",
      "('Mary Saveley', 'Lyon', 'France')\n",
      "('Paul Henriot', 'Reims', 'France')\n",
      "('Zbyszek Piestrzeniewicz', 'Warszawa', 'Poland')\n"
     ]
    }
   ],
   "source": [
    "rows = cursor.execute(\"SELECT ContactName, City, Country FROM Customers WHERE Country IN ('France','Poland')\").fetchall()\n",
    "cursor.commit()\n",
    "for r in rows:\n",
    "    print(r)"
   ]
  },
  {
   "attachments": {},
   "cell_type": "markdown",
   "metadata": {},
   "source": [
    "## SELECT WHERE using LIKE country starting with U"
   ]
  },
  {
   "cell_type": "code",
   "execution_count": 43,
   "metadata": {},
   "outputs": [
    {
     "name": "stdout",
     "output_type": "stream",
     "text": [
      "[('Thomas Hardy', 'London', 'UK'), ('Victoria Ashworth', 'London', 'UK'), ('Elizabeth Brown', 'London', 'UK'), ('Ann Devon', 'London', 'UK'), ('Howard Snyder', 'Eugene', 'USA'), ('Yoshi Latimer', 'Elgin', 'USA'), ('Helen Bennett', 'Cowes', 'UK'), ('John Steel', 'Walla Walla', 'USA'), ('Jaime Yorres', 'San Francisco', 'USA'), ('Fran Wilson', 'Portland', 'USA'), ('Simon Crowther', 'London', 'UK'), ('Rene Phillips', 'Anchorage', 'USA'), ('Paula Wilson', 'Albuquerque', 'USA'), ('Jose Pavarotti', 'Boise', 'USA'), ('Hari Kumar', 'London', 'UK'), ('Art Braunschweiger', 'Lander', 'USA'), ('Liz Nixon', 'Portland', 'USA'), ('Liu Wong', 'Butte', 'USA'), ('Helvetius Nagy', 'Kirkland', 'USA'), ('Karl Jablonski', 'Seattle', 'USA')]\n",
      "('Thomas Hardy', 'London', 'UK')\n",
      "('Victoria Ashworth', 'London', 'UK')\n",
      "('Elizabeth Brown', 'London', 'UK')\n",
      "('Ann Devon', 'London', 'UK')\n",
      "('Howard Snyder', 'Eugene', 'USA')\n",
      "('Yoshi Latimer', 'Elgin', 'USA')\n",
      "('Helen Bennett', 'Cowes', 'UK')\n",
      "('John Steel', 'Walla Walla', 'USA')\n",
      "('Jaime Yorres', 'San Francisco', 'USA')\n",
      "('Fran Wilson', 'Portland', 'USA')\n",
      "('Simon Crowther', 'London', 'UK')\n",
      "('Rene Phillips', 'Anchorage', 'USA')\n",
      "('Paula Wilson', 'Albuquerque', 'USA')\n",
      "('Jose Pavarotti', 'Boise', 'USA')\n",
      "('Hari Kumar', 'London', 'UK')\n",
      "('Art Braunschweiger', 'Lander', 'USA')\n",
      "('Liz Nixon', 'Portland', 'USA')\n",
      "('Liu Wong', 'Butte', 'USA')\n",
      "('Helvetius Nagy', 'Kirkland', 'USA')\n",
      "('Karl Jablonski', 'Seattle', 'USA')\n"
     ]
    }
   ],
   "source": [
    "rows = cursor.execute(\"SELECT ContactName, City, Country FROM Customers WHERE Country like 'U%'\").fetchall()\n",
    "cursor.commit()\n",
    "for r in rows:\n",
    "    print(r)"
   ]
  },
  {
   "attachments": {},
   "cell_type": "markdown",
   "metadata": {},
   "source": [
    "## SELECT WHERE BETWEEN two dates"
   ]
  },
  {
   "cell_type": "code",
   "execution_count": 44,
   "metadata": {},
   "outputs": [
    {
     "name": "stdout",
     "output_type": "stream",
     "text": [
      "[(10260, 'Köln', 'Germany'), (10261, 'Rio de Janeiro', 'Brazil'), (10262, 'Albuquerque', 'USA'), (10263, 'Graz', 'Austria'), (10264, 'Bräcke', 'Sweden'), (10265, 'Strasbourg', 'France'), (10266, 'Oulu', 'Finland'), (10267, 'München', 'Germany'), (10268, 'Caracas', 'Venezuela'), (10269, 'Seattle', 'USA'), (10270, 'Oulu', 'Finland'), (10271, 'Lander', 'USA'), (10272, 'Albuquerque', 'USA'), (10273, 'Cunewalde', 'Germany'), (10274, 'Reims', 'France'), (10275, 'Bergamo', 'Italy'), (10276, 'México D.F.', 'Mexico'), (10277, 'Leipzig', 'Germany'), (10278, 'Luleå', 'Sweden'), (10279, 'Frankfurt a.M.', 'Germany'), (10280, 'Luleå', 'Sweden'), (10281, 'Madrid', 'Spain'), (10282, 'Madrid', 'Spain'), (10283, 'Barquisimeto', 'Venezuela'), (10284, 'Frankfurt a.M.', 'Germany'), (10285, 'Cunewalde', 'Germany'), (10286, 'Cunewalde', 'Germany'), (10287, 'Rio de Janeiro', 'Brazil'), (10288, 'Reggio Emilia', 'Italy'), (10289, 'London', 'UK'), (10290, 'Sao Paulo', 'Brazil'), (10291, 'Rio de Janeiro', 'Brazil'), (10292, 'Sao Paulo', 'Brazil'), (10293, 'México D.F.', 'Mexico'), (10294, 'Albuquerque', 'USA'), (10295, 'Reims', 'France'), (10296, 'Barquisimeto', 'Venezuela'), (10297, 'Strasbourg', 'France'), (10298, 'Cork', 'Ireland'), (10299, 'Rio de Janeiro', 'Brazil'), (10300, 'Bergamo', 'Italy'), (10301, 'Stuttgart', 'Germany'), (10302, 'Charleroi', 'Belgium'), (10303, 'Sevilla', 'Spain'), (10304, 'México D.F.', 'Mexico'), (10305, 'Anchorage', 'USA'), (10306, 'Madrid', 'Spain'), (10307, 'Portland', 'USA'), (10308, 'México D.F.', 'Mexico'), (10309, 'Cork', 'Ireland'), (10310, 'Portland', 'USA'), (10311, 'Nantes', 'France'), (10312, 'Stuttgart', 'Germany'), (10313, 'Cunewalde', 'Germany'), (10314, 'Albuquerque', 'USA'), (10315, 'Cowes', 'UK'), (10316, 'Albuquerque', 'USA'), (10317, 'Portland', 'USA'), (10318, 'Cowes', 'UK'), (10319, 'México D.F.', 'Mexico'), (10320, 'Oulu', 'Finland'), (10321, 'Cowes', 'UK'), (10322, 'México D.F.', 'Mexico'), (10323, 'Brandenburg', 'Germany'), (10324, 'Boise', 'USA'), (10325, 'Brandenburg', 'Germany'), (10326, 'Madrid', 'Spain'), (10327, 'Bräcke', 'Sweden'), (10328, 'Lisboa', 'Portugal'), (10329, 'Lander', 'USA'), (10330, 'Barquisimeto', 'Venezuela'), (10331, 'Marseille', 'France'), (10332, 'Montréal', 'Canada'), (10333, 'Oulu', 'Finland'), (10334, 'Lyon', 'France'), (10335, 'Cork', 'Ireland'), (10336, 'Lisboa', 'Portugal'), (10337, 'München', 'Germany'), (10338, 'Anchorage', 'USA'), (10339, 'Montréal', 'Canada'), (10340, 'Marseille', 'France'), (10341, 'Kobenhavn', 'Denmark'), (10342, 'München', 'Germany'), (10343, 'Frankfurt a.M.', 'Germany'), (10344, 'Seattle', 'USA'), (10345, 'Cunewalde', 'Germany'), (10346, 'Albuquerque', 'USA'), (10347, 'Sao Paulo', 'Brazil'), (10348, 'Stuttgart', 'Germany'), (10349, 'Lander', 'USA'), (10350, 'Toulouse', 'France'), (10351, 'Graz', 'Austria')]\n",
      "(10260, 'Köln', 'Germany')\n",
      "(10261, 'Rio de Janeiro', 'Brazil')\n",
      "(10262, 'Albuquerque', 'USA')\n",
      "(10263, 'Graz', 'Austria')\n",
      "(10264, 'Bräcke', 'Sweden')\n",
      "(10265, 'Strasbourg', 'France')\n",
      "(10266, 'Oulu', 'Finland')\n",
      "(10267, 'München', 'Germany')\n",
      "(10268, 'Caracas', 'Venezuela')\n",
      "(10269, 'Seattle', 'USA')\n",
      "(10270, 'Oulu', 'Finland')\n",
      "(10271, 'Lander', 'USA')\n",
      "(10272, 'Albuquerque', 'USA')\n",
      "(10273, 'Cunewalde', 'Germany')\n",
      "(10274, 'Reims', 'France')\n",
      "(10275, 'Bergamo', 'Italy')\n",
      "(10276, 'México D.F.', 'Mexico')\n",
      "(10277, 'Leipzig', 'Germany')\n",
      "(10278, 'Luleå', 'Sweden')\n",
      "(10279, 'Frankfurt a.M.', 'Germany')\n",
      "(10280, 'Luleå', 'Sweden')\n",
      "(10281, 'Madrid', 'Spain')\n",
      "(10282, 'Madrid', 'Spain')\n",
      "(10283, 'Barquisimeto', 'Venezuela')\n",
      "(10284, 'Frankfurt a.M.', 'Germany')\n",
      "(10285, 'Cunewalde', 'Germany')\n",
      "(10286, 'Cunewalde', 'Germany')\n",
      "(10287, 'Rio de Janeiro', 'Brazil')\n",
      "(10288, 'Reggio Emilia', 'Italy')\n",
      "(10289, 'London', 'UK')\n",
      "(10290, 'Sao Paulo', 'Brazil')\n",
      "(10291, 'Rio de Janeiro', 'Brazil')\n",
      "(10292, 'Sao Paulo', 'Brazil')\n",
      "(10293, 'México D.F.', 'Mexico')\n",
      "(10294, 'Albuquerque', 'USA')\n",
      "(10295, 'Reims', 'France')\n",
      "(10296, 'Barquisimeto', 'Venezuela')\n",
      "(10297, 'Strasbourg', 'France')\n",
      "(10298, 'Cork', 'Ireland')\n",
      "(10299, 'Rio de Janeiro', 'Brazil')\n",
      "(10300, 'Bergamo', 'Italy')\n",
      "(10301, 'Stuttgart', 'Germany')\n",
      "(10302, 'Charleroi', 'Belgium')\n",
      "(10303, 'Sevilla', 'Spain')\n",
      "(10304, 'México D.F.', 'Mexico')\n",
      "(10305, 'Anchorage', 'USA')\n",
      "(10306, 'Madrid', 'Spain')\n",
      "(10307, 'Portland', 'USA')\n",
      "(10308, 'México D.F.', 'Mexico')\n",
      "(10309, 'Cork', 'Ireland')\n",
      "(10310, 'Portland', 'USA')\n",
      "(10311, 'Nantes', 'France')\n",
      "(10312, 'Stuttgart', 'Germany')\n",
      "(10313, 'Cunewalde', 'Germany')\n",
      "(10314, 'Albuquerque', 'USA')\n",
      "(10315, 'Cowes', 'UK')\n",
      "(10316, 'Albuquerque', 'USA')\n",
      "(10317, 'Portland', 'USA')\n",
      "(10318, 'Cowes', 'UK')\n",
      "(10319, 'México D.F.', 'Mexico')\n",
      "(10320, 'Oulu', 'Finland')\n",
      "(10321, 'Cowes', 'UK')\n",
      "(10322, 'México D.F.', 'Mexico')\n",
      "(10323, 'Brandenburg', 'Germany')\n",
      "(10324, 'Boise', 'USA')\n",
      "(10325, 'Brandenburg', 'Germany')\n",
      "(10326, 'Madrid', 'Spain')\n",
      "(10327, 'Bräcke', 'Sweden')\n",
      "(10328, 'Lisboa', 'Portugal')\n",
      "(10329, 'Lander', 'USA')\n",
      "(10330, 'Barquisimeto', 'Venezuela')\n",
      "(10331, 'Marseille', 'France')\n",
      "(10332, 'Montréal', 'Canada')\n",
      "(10333, 'Oulu', 'Finland')\n",
      "(10334, 'Lyon', 'France')\n",
      "(10335, 'Cork', 'Ireland')\n",
      "(10336, 'Lisboa', 'Portugal')\n",
      "(10337, 'München', 'Germany')\n",
      "(10338, 'Anchorage', 'USA')\n",
      "(10339, 'Montréal', 'Canada')\n",
      "(10340, 'Marseille', 'France')\n",
      "(10341, 'Kobenhavn', 'Denmark')\n",
      "(10342, 'München', 'Germany')\n",
      "(10343, 'Frankfurt a.M.', 'Germany')\n",
      "(10344, 'Seattle', 'USA')\n",
      "(10345, 'Cunewalde', 'Germany')\n",
      "(10346, 'Albuquerque', 'USA')\n",
      "(10347, 'Sao Paulo', 'Brazil')\n",
      "(10348, 'Stuttgart', 'Germany')\n",
      "(10349, 'Lander', 'USA')\n",
      "(10350, 'Toulouse', 'France')\n",
      "(10351, 'Graz', 'Austria')\n"
     ]
    }
   ],
   "source": [
    "rows = cursor.execute(\"SELECT OrderID, ShipCity, ShipCountry FROM Orders WHERE OrderDate BETWEEN '1996-07-19' AND '1996-11-11'\").fetchall()\n",
    "cursor.commit()\n",
    "for r in rows:\n",
    "    print(r)"
   ]
  },
  {
   "attachments": {},
   "cell_type": "markdown",
   "metadata": {},
   "source": [
    "## Using GROUP BY to count number of customers in each country"
   ]
  },
  {
   "cell_type": "code",
   "execution_count": 46,
   "metadata": {},
   "outputs": [
    {
     "name": "stdout",
     "output_type": "stream",
     "text": [
      "[('Argentina', 3), ('Austria', 2), ('Belgium', 2), ('Brazil', 9), ('Canada', 3), ('Denmark', 2), ('Finland', 2), ('France', 11), ('Germany', 11), ('Ireland', 1), ('Italy', 3), ('Mexico', 5), ('Norway', 1), ('Poland', 1), ('Portugal', 2), ('Spain', 5), ('Sweden', 2), ('Switzerland', 2), ('UK', 7), ('USA', 13), ('Venezuela', 4)]\n",
      "('Argentina', 3)\n",
      "('Austria', 2)\n",
      "('Belgium', 2)\n",
      "('Brazil', 9)\n",
      "('Canada', 3)\n",
      "('Denmark', 2)\n",
      "('Finland', 2)\n",
      "('France', 11)\n",
      "('Germany', 11)\n",
      "('Ireland', 1)\n",
      "('Italy', 3)\n",
      "('Mexico', 5)\n",
      "('Norway', 1)\n",
      "('Poland', 1)\n",
      "('Portugal', 2)\n",
      "('Spain', 5)\n",
      "('Sweden', 2)\n",
      "('Switzerland', 2)\n",
      "('UK', 7)\n",
      "('USA', 13)\n",
      "('Venezuela', 4)\n"
     ]
    }
   ],
   "source": [
    "rows = cursor.execute(\"SELECT Country, COUNT(*) FROM Customers GROUP BY (Country)\").fetchall()\n",
    "cursor.commit()\n",
    "for r in rows:\n",
    "    print(r)"
   ]
  },
  {
   "attachments": {},
   "cell_type": "markdown",
   "metadata": {},
   "source": [
    "## Joining multiple tables on IDs and using GROUP BY to check the average order quantity from each of the different customer countries"
   ]
  },
  {
   "cell_type": "code",
   "execution_count": 50,
   "metadata": {},
   "outputs": [
    {
     "name": "stdout",
     "output_type": "stream",
     "text": [
      "('Finland', 16)\n",
      "('USA', 26)\n",
      "('Italy', 15)\n",
      "('Brazil', 20)\n",
      "('Germany', 28)\n",
      "('Switzerland', 24)\n",
      "('Mexico', 14)\n",
      "('Sweden', 23)\n",
      "('Argentina', 9)\n",
      "('Austria', 41)\n",
      "('UK', 20)\n",
      "('Poland', 12)\n",
      "('Canada', 26)\n",
      "('Ireland', 30)\n",
      "('Norway', 10)\n",
      "('France', 17)\n",
      "('Belgium', 24)\n",
      "('Spain', 13)\n",
      "('Venezuela', 24)\n",
      "('Denmark', 25)\n",
      "('Portugal', 17)\n"
     ]
    }
   ],
   "source": [
    "rows = cursor.execute(\"SELECT c.Country, AVG(od.Quantity) FROM Customers c JOIN Orders o ON c.CustomerID = o.CustomerID JOIN [Order Details] od ON o.OrderID = od.OrderID JOIN Products p ON od.ProductID = p.ProductID GROUP BY (Country)\").fetchall()\n",
    "cursor.commit()\n",
    "for r in rows:\n",
    "    print(r)"
   ]
  },
  {
   "attachments": {},
   "cell_type": "markdown",
   "metadata": {},
   "source": [
    "## Joining multiple tables on IDs and using GROUP BY to check the average order quantity multiplied by the unit price of the products from each of the different customer countries"
   ]
  },
  {
   "cell_type": "code",
   "execution_count": 51,
   "metadata": {},
   "outputs": [
    {
     "name": "stdout",
     "output_type": "stream",
     "text": [
      "('Finland', Decimal('366.2675'))\n",
      "('USA', Decimal('748.7698'))\n",
      "('Italy', Decimal('315.1915'))\n",
      "('Brazil', Decimal('566.3471'))\n",
      "('Germany', Decimal('745.8555'))\n",
      "('Switzerland', Decimal('633.0673'))\n",
      "('Mexico', Decimal('334.3534'))\n",
      "('Sweden', Decimal('613.6463'))\n",
      "('Argentina', Decimal('238.7970'))\n",
      "('Austria', Decimal('1115.9730'))\n",
      "('UK', Decimal('449.0111'))\n",
      "('Poland', Decimal('220.7468'))\n",
      "('Canada', Decimal('737.7880'))\n",
      "('Ireland', Decimal('1042.1343'))\n",
      "('Norway', Decimal('358.4468'))\n",
      "('France', Decimal('464.6671'))\n",
      "('Belgium', Decimal('627.4103'))\n",
      "('Spain', Decimal('359.8498'))\n",
      "('Venezuela', Decimal('515.3804'))\n",
      "('Denmark', Decimal('756.1358'))\n",
      "('Portugal', Decimal('415.6216'))\n"
     ]
    }
   ],
   "source": [
    "rows = cursor.execute(\"SELECT c.Country, AVG(od.Quantity*od.UnitPrice) FROM Customers c JOIN Orders o ON c.CustomerID = o.CustomerID JOIN [Order Details] od ON o.OrderID = od.OrderID JOIN Products p ON od.ProductID = p.ProductID GROUP BY (Country)\").fetchall()\n",
    "cursor.commit()\n",
    "for r in rows:\n",
    "    print(r)"
   ]
  },
  {
   "cell_type": "code",
   "execution_count": null,
   "metadata": {},
   "outputs": [],
   "source": []
  }
 ],
 "metadata": {
  "kernelspec": {
   "display_name": "Python 3",
   "language": "python",
   "name": "python3"
  },
  "language_info": {
   "codemirror_mode": {
    "name": "ipython",
    "version": 3
   },
   "file_extension": ".py",
   "mimetype": "text/x-python",
   "name": "python",
   "nbconvert_exporter": "python",
   "pygments_lexer": "ipython3",
   "version": "3.9.6"
  },
  "orig_nbformat": 4
 },
 "nbformat": 4,
 "nbformat_minor": 2
}
