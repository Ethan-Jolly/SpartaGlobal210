{
 "cells": [
  {
   "cell_type": "markdown",
   "id": "bab8b24a",
   "metadata": {},
   "source": [
    "# Working with JSON in Python"
   ]
  },
  {
   "cell_type": "markdown",
   "id": "d7a7e9b0",
   "metadata": {},
   "source": [
    "* So the first thing we need to do to be able to use JSON files in python is import the JSON library"
   ]
  },
  {
   "cell_type": "code",
   "execution_count": 1,
   "id": "4c30369a",
   "metadata": {},
   "outputs": [],
   "source": [
    "import json"
   ]
  },
  {
   "cell_type": "markdown",
   "id": "02ad7fc4",
   "metadata": {},
   "source": [
    "* Next, I have created a example dictionary in python, containing key-value information. "
   ]
  },
  {
   "cell_type": "code",
   "execution_count": 2,
   "id": "d7db2b05",
   "metadata": {},
   "outputs": [],
   "source": [
    "info = {\"People\":\n",
    "        {\"Person1\":\n",
    "         {\"Name\":\"Ethan\",\n",
    "          \"Age\":22}\n",
    "        },\n",
    "        \"Person2\":\n",
    "         {\"Name\":\"Bill\",\n",
    "          \"Age\":52}\n",
    "            \n",
    "       }"
   ]
  },
  {
   "cell_type": "markdown",
   "id": "1ef2198f",
   "metadata": {},
   "source": [
    "### Writing to JSON"
   ]
  },
  {
   "cell_type": "markdown",
   "id": "22db844c",
   "metadata": {},
   "source": [
    "* Now we can save the dictionary as a JSON file by using ```json.dump(info, f)```, this takes our dictionary saved as ```info``` and writes it to file ```f```."
   ]
  },
  {
   "cell_type": "code",
   "execution_count": 3,
   "id": "a829ae82",
   "metadata": {},
   "outputs": [],
   "source": [
    "with open('name_data.json','w') as f:\n",
    "    json.dump(info, f)"
   ]
  },
  {
   "cell_type": "markdown",
   "id": "37aa590e",
   "metadata": {},
   "source": [
    "### Reading from JSON"
   ]
  },
  {
   "cell_type": "markdown",
   "id": "c1a70a9d",
   "metadata": {},
   "source": [
    "* Using a test file containing some quiz question data, we can read this json and load it in to a dictionary using ```json.load(f)```"
   ]
  },
  {
   "cell_type": "code",
   "execution_count": 4,
   "id": "47331c12",
   "metadata": {},
   "outputs": [
    {
     "name": "stdout",
     "output_type": "stream",
     "text": [
      "<class 'dict'>\n",
      "{'quiz': {'sport': {'q1': {'question': 'Which one is correct team name in NBA?', 'options': ['New York Bulls', 'Los Angeles Kings', 'Golden State Warriros', 'Huston Rocket'], 'answer': 'Huston Rocket'}}, 'maths': {'q1': {'question': '5 + 7 = ?', 'options': ['10', '11', '12', '13'], 'answer': '12'}, 'q2': {'question': '12 - 8 = ?', 'options': ['1', '2', '3', '4'], 'answer': '4'}}}}\n"
     ]
    }
   ],
   "source": [
    "with open ('test_json_file.json') as f:\n",
    "    data = json.load(f)\n",
    "\n",
    "print(type(data))\n",
    "print(data)"
   ]
  },
  {
   "cell_type": "markdown",
   "id": "c1463976",
   "metadata": {},
   "source": [
    "* With the output showing that the type of the data variable is a python dictionary"
   ]
  },
  {
   "cell_type": "markdown",
   "id": "d5529f8f",
   "metadata": {},
   "source": [
    "### Reading JSON from string"
   ]
  },
  {
   "cell_type": "markdown",
   "id": "3750c350",
   "metadata": {},
   "source": [
    "* Another option is if the JSON file is serialised as a string we can use ```json.loads()``` to deserialise a string containing a JSON document"
   ]
  },
  {
   "cell_type": "code",
   "execution_count": 18,
   "id": "3979f304",
   "metadata": {},
   "outputs": [],
   "source": [
    "info_string = '{\"People\":{\"Person1\":{\"Name\":\"Ethan\",\"Age\":22}},\"Person2\":{\"Name\":\"Bill\",\"Age\":52}}'"
   ]
  },
  {
   "cell_type": "code",
   "execution_count": 19,
   "id": "1c6d43bb",
   "metadata": {
    "scrolled": true
   },
   "outputs": [
    {
     "name": "stdout",
     "output_type": "stream",
     "text": [
      "<class 'dict'>\n",
      "{'People': {'Person1': {'Name': 'Ethan', 'Age': 22}}, 'Person2': {'Name': 'Bill', 'Age': 52}}\n"
     ]
    }
   ],
   "source": [
    "diction = json.loads(info_string)\n",
    "print(type(diction))\n",
    "print(diction)"
   ]
  },
  {
   "cell_type": "code",
   "execution_count": 6,
   "id": "e5e1d9f6",
   "metadata": {},
   "outputs": [
    {
     "name": "stdout",
     "output_type": "stream",
     "text": [
      "{\"name\": \"Ethan\", \"age\": 22}\n",
      "<class 'str'>\n"
     ]
    }
   ],
   "source": [
    "test = {'name':'Ethan','age':22}\n",
    "string_test = json.dumps(test)\n",
    "print(string_test)\n",
    "print(type(string_test))"
   ]
  }
 ],
 "metadata": {
  "kernelspec": {
   "display_name": "Python 3 (ipykernel)",
   "language": "python",
   "name": "python3"
  },
  "language_info": {
   "codemirror_mode": {
    "name": "ipython",
    "version": 3
   },
   "file_extension": ".py",
   "mimetype": "text/x-python",
   "name": "python",
   "nbconvert_exporter": "python",
   "pygments_lexer": "ipython3",
   "version": "3.9.6"
  }
 },
 "nbformat": 4,
 "nbformat_minor": 5
}
